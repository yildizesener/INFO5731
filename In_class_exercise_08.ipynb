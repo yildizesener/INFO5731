{
 "cells": [
  {
   "cell_type": "markdown",
   "metadata": {},
   "source": [
    "# **The eighth in-class-exercise (20 points in total, 10/29/2020)**"
   ]
  },
  {
   "cell_type": "markdown",
   "metadata": {},
   "source": [
    "The data for this exercise is from the dataset you created from assignment three. Please perform answer the following questions based on your data:"
   ]
  },
  {
   "cell_type": "markdown",
   "metadata": {},
   "source": [
    "## (1) (10 points) Write a python program to extract the sentiment related terms from the corpus. You may use python package such as polyglot or external lexicon resources in the question. Rank the sentiment related terms by frequency."
   ]
  },
  {
   "cell_type": "code",
   "execution_count": 1,
   "metadata": {
    "ExecuteTime": {
     "end_time": "2020-10-28T05:38:01.943014Z",
     "start_time": "2020-10-28T05:37:58.943973Z"
    },
    "scrolled": true
   },
   "outputs": [],
   "source": [
    "from nltk.util import ngrams \n",
    "import nltk, re, string, collections\n",
    "from nltk.corpus import stopwords\n",
    "import pandas as pd\n",
    "import glob\n",
    "import json\n",
    "import csv\n",
    "import pandas as pd\n",
    "import numpy as np\n",
    "from vaderSentiment.vaderSentiment import SentimentIntensityAnalyzer\n",
    "from wordcloud import WordCloud\n",
    "import nltk\n",
    "from nltk.corpus import stopwords\n",
    "from nltk.tokenize import sent_tokenize, word_tokenize\n",
    "from textblob import TextBlob\n",
    "from textblob.sentiments import NaiveBayesAnalyzer\n",
    "import string\n",
    "import matplotlib.pyplot as plt\n",
    "from nltk.stem import PorterStemmer\n",
    "import warnings\n",
    "warnings.filterwarnings(\"ignore\")\n"
   ]
  },
  {
   "cell_type": "code",
   "execution_count": 2,
   "metadata": {
    "ExecuteTime": {
     "end_time": "2020-10-28T05:38:01.975004Z",
     "start_time": "2020-10-28T05:38:01.947013Z"
    }
   },
   "outputs": [],
   "source": [
    "df = pd.read_csv('reviews.csv')"
   ]
  },
  {
   "cell_type": "code",
   "execution_count": 3,
   "metadata": {
    "ExecuteTime": {
     "end_time": "2020-10-28T05:38:02.101963Z",
     "start_time": "2020-10-28T05:38:01.980003Z"
    }
   },
   "outputs": [
    {
     "data": {
      "text/html": [
       "<div>\n",
       "<style scoped>\n",
       "    .dataframe tbody tr th:only-of-type {\n",
       "        vertical-align: middle;\n",
       "    }\n",
       "\n",
       "    .dataframe tbody tr th {\n",
       "        vertical-align: top;\n",
       "    }\n",
       "\n",
       "    .dataframe thead th {\n",
       "        text-align: right;\n",
       "    }\n",
       "</style>\n",
       "<table border=\"1\" class=\"dataframe\">\n",
       "  <thead>\n",
       "    <tr style=\"text-align: right;\">\n",
       "      <th></th>\n",
       "      <th>stars</th>\n",
       "      <th>comment</th>\n",
       "      <th>reviews_clean</th>\n",
       "    </tr>\n",
       "  </thead>\n",
       "  <tbody>\n",
       "    <tr>\n",
       "      <th>0</th>\n",
       "      <td>1.0 out of 5 stars</td>\n",
       "      <td>['\\n\\n\\n\\n\\n\\n\\n\\n\\n\\n  \\n  \\n    ', '\\n  I pu...</td>\n",
       "      <td>purchased laptop upgraded ram gb ssd tb arrive...</td>\n",
       "    </tr>\n",
       "    <tr>\n",
       "      <th>1</th>\n",
       "      <td>1.0 out of 5 stars</td>\n",
       "      <td>['\\n\\n\\n\\n\\n\\n\\n\\n\\n\\n  \\n  \\n    ', \"\\n  The ...</td>\n",
       "      <td>item came promptly beginning touch screen didn...</td>\n",
       "    </tr>\n",
       "    <tr>\n",
       "      <th>2</th>\n",
       "      <td>1.0 out of 5 stars</td>\n",
       "      <td>['\\n\\n\\n\\n\\n\\n\\n\\n\\n\\n  \\n  \\n    ', '\\n  It h...</td>\n",
       "      <td>already issues require repair beyond inhouse guy</td>\n",
       "    </tr>\n",
       "    <tr>\n",
       "      <th>3</th>\n",
       "      <td>4.0 out of 5 stars</td>\n",
       "      <td>['\\n\\n\\n\\n\\n\\n\\n\\n\\n\\n  \\n  \\n    ', \"\\n  Came...</td>\n",
       "      <td>came evening around pm thankful usps still wor...</td>\n",
       "    </tr>\n",
       "    <tr>\n",
       "      <th>4</th>\n",
       "      <td>2.0 out of 5 stars</td>\n",
       "      <td>['\\n\\n\\n\\n\\n\\n\\n\\n\\n\\n  \\n  \\n    ', '\\n  This...</td>\n",
       "      <td>laptop ok price lack usbc problem especially p...</td>\n",
       "    </tr>\n",
       "  </tbody>\n",
       "</table>\n",
       "</div>"
      ],
      "text/plain": [
       "                stars                                            comment  \\\n",
       "0  1.0 out of 5 stars  ['\\n\\n\\n\\n\\n\\n\\n\\n\\n\\n  \\n  \\n    ', '\\n  I pu...   \n",
       "1  1.0 out of 5 stars  ['\\n\\n\\n\\n\\n\\n\\n\\n\\n\\n  \\n  \\n    ', \"\\n  The ...   \n",
       "2  1.0 out of 5 stars  ['\\n\\n\\n\\n\\n\\n\\n\\n\\n\\n  \\n  \\n    ', '\\n  It h...   \n",
       "3  4.0 out of 5 stars  ['\\n\\n\\n\\n\\n\\n\\n\\n\\n\\n  \\n  \\n    ', \"\\n  Came...   \n",
       "4  2.0 out of 5 stars  ['\\n\\n\\n\\n\\n\\n\\n\\n\\n\\n  \\n  \\n    ', '\\n  This...   \n",
       "\n",
       "                                       reviews_clean  \n",
       "0  purchased laptop upgraded ram gb ssd tb arrive...  \n",
       "1  item came promptly beginning touch screen didn...  \n",
       "2   already issues require repair beyond inhouse guy  \n",
       "3  came evening around pm thankful usps still wor...  \n",
       "4  laptop ok price lack usbc problem especially p...  "
      ]
     },
     "execution_count": 3,
     "metadata": {},
     "output_type": "execute_result"
    }
   ],
   "source": [
    "# clean the comments\n",
    "stop = stopwords.words('english')\n",
    "df['reviews_clean'] = df['comment'].apply(lambda x: x.replace(r\"'\", ''))\n",
    "df['reviews_clean'] = df['reviews_clean'].apply(lambda x: x.replace(r'\"', ''))\n",
    "df['reviews_clean'] = df['reviews_clean'].apply(\n",
    "    lambda x: x.replace(r'[\\n\\n\\n\\n\\n\\n\\n\\n\\n\\n  \\n  \\n    , \\n  ', ''))\n",
    "df['reviews_clean'] = df['reviews_clean'].apply(\n",
    "    lambda x: x.replace(r'\\n, \\n  \\n]', ''))\n",
    "df['reviews_clean'] = df['reviews_clean'].apply(lambda x: x.lower())\n",
    "df.reviews_clean = df.reviews_clean.apply(lambda x: re.sub(r'\\w*\\d', '', x))\n",
    "df.reviews_clean = df.reviews_clean.str.replace('[^\\w\\s]', '')\n",
    "df.reviews_clean = df.reviews_clean.apply(\n",
    "    lambda x: ' '.join(x for x in x.split() if x not in stop))\n",
    "df.head()"
   ]
  },
  {
   "cell_type": "code",
   "execution_count": 4,
   "metadata": {
    "ExecuteTime": {
     "end_time": "2020-10-28T05:38:02.117960Z",
     "start_time": "2020-10-28T05:38:02.105963Z"
    }
   },
   "outputs": [
    {
     "data": {
      "text/html": [
       "<div>\n",
       "<style scoped>\n",
       "    .dataframe tbody tr th:only-of-type {\n",
       "        vertical-align: middle;\n",
       "    }\n",
       "\n",
       "    .dataframe tbody tr th {\n",
       "        vertical-align: top;\n",
       "    }\n",
       "\n",
       "    .dataframe thead th {\n",
       "        text-align: right;\n",
       "    }\n",
       "</style>\n",
       "<table border=\"1\" class=\"dataframe\">\n",
       "  <thead>\n",
       "    <tr style=\"text-align: right;\">\n",
       "      <th></th>\n",
       "      <th>reviews_clean</th>\n",
       "    </tr>\n",
       "  </thead>\n",
       "  <tbody>\n",
       "    <tr>\n",
       "      <th>0</th>\n",
       "      <td>purchased laptop upgraded ram gb ssd tb arrive...</td>\n",
       "    </tr>\n",
       "    <tr>\n",
       "      <th>1</th>\n",
       "      <td>item came promptly beginning touch screen didn...</td>\n",
       "    </tr>\n",
       "    <tr>\n",
       "      <th>2</th>\n",
       "      <td>already issues require repair beyond inhouse guy</td>\n",
       "    </tr>\n",
       "    <tr>\n",
       "      <th>3</th>\n",
       "      <td>came evening around pm thankful usps still wor...</td>\n",
       "    </tr>\n",
       "    <tr>\n",
       "      <th>4</th>\n",
       "      <td>laptop ok price lack usbc problem especially p...</td>\n",
       "    </tr>\n",
       "  </tbody>\n",
       "</table>\n",
       "</div>"
      ],
      "text/plain": [
       "                                       reviews_clean\n",
       "0  purchased laptop upgraded ram gb ssd tb arrive...\n",
       "1  item came promptly beginning touch screen didn...\n",
       "2   already issues require repair beyond inhouse guy\n",
       "3  came evening around pm thankful usps still wor...\n",
       "4  laptop ok price lack usbc problem especially p..."
      ]
     },
     "execution_count": 4,
     "metadata": {},
     "output_type": "execute_result"
    }
   ],
   "source": [
    "df.drop(['stars', 'comment'], axis=1, inplace=True)\n",
    "df.head()"
   ]
  },
  {
   "cell_type": "code",
   "execution_count": 5,
   "metadata": {},
   "outputs": [],
   "source": [
    "def sentimental_Score(sentence):\n",
    "    analyzer = SentimentIntensityAnalyzer()\n",
    "    vs = analyzer.polarity_scores(sentence)\n",
    "    score=vs['compound']\n",
    "    if score >= 0.5:\n",
    "        return 'pos'\n",
    "    elif (score > -0.5) and (score < 0.5):\n",
    "        return 'neu'\n",
    "    elif score <= -0.5:\n",
    "        return 'neg'"
   ]
  },
  {
   "cell_type": "code",
   "execution_count": 6,
   "metadata": {
    "scrolled": false
   },
   "outputs": [
    {
     "name": "stdout",
     "output_type": "stream",
     "text": [
      "                                         reviews_clean Sentiment_Score\n",
      "0    purchased laptop upgraded ram gb ssd tb arrive...             pos\n",
      "3    came evening around pm thankful usps still wor...             pos\n",
      "6    laptop month half love boots seconds multitask...             pos\n",
      "10   give sister cooks cleans takes trash loves fac...             pos\n",
      "12   far weeks use loving laptop spent lot time res...             pos\n",
      "14   bought computer looking computer wife ssd leas...             pos\n",
      "18   bought grown children absolutely love computer...             pos\n",
      "20                               great little computer             pos\n",
      "22                            good computer good price             pos\n",
      "23   laptop amazing fast display good definitely re...             pos\n",
      "24            sure time touch screen worthy extra cost             pos\n",
      "28   overall good laptop casual use fan backlit key...             pos\n",
      "32   review written non techie person good memory w...             pos\n",
      "33   good laptop ecxept ethernet speed specificatio...             pos\n",
      "34   boot time pretty long mins moderate usage star...             pos\n",
      "35   software developer using memory intensive prog...             pos\n",
      "37   purchased laptop collegebound engineering stud...             pos\n",
      "39   runs really fast turn back lit keyboard nice s...             pos\n",
      "40   great laptop fast quiet sure people say fan lo...             pos\n",
      "46   excited ordered new dell ive bought previous d...             pos\n",
      "47   going return first thought brand new computer ...             pos\n",
      "48   literally thing would say laptop wish touchscr...             pos\n",
      "49   wish didnt waste money buying budget acerasus ...             pos\n",
      "50   wasnt planning buying labtop wanted work home ...             pos\n",
      "51   bootup quite fast exceeds last laptop hands do...             pos\n",
      "54                                im happy performance             pos\n",
      "57                                      excellent item             pos\n",
      "59   works great right box adding microsoft office ...             pos\n",
      "63       excellent pc works perfectly fast worth money             pos\n",
      "66                                                love             pos\n",
      "69                used daughter go college works great             pos\n",
      "71   best money ever spentlove backlight keyboardwo...             pos\n",
      "72          like nice touchscreen make computer faster             pos\n",
      "73                                     works great far             pos\n",
      "75        nice laptop everything needed christmas gift             pos\n",
      "76                                            far love             pos\n",
      "79   dell best amazing one isnt even xps recipient ...             pos\n",
      "80                super fast shipping product expected             pos\n",
      "84   happy screens high density look new windows of...             pos\n",
      "85                                     absolutely love             pos\n",
      "86                               fast perfect computer             pos\n",
      "89   computer amazing processor fast yet reasonable...             pos\n",
      "90      worked expected really good value laptop nd hd             pos\n",
      "91                                       great product             pos\n",
      "92                                               great             pos\n",
      "93   got gift best friend went loading ram sata dri...             pos\n",
      "94   bought mine costco thankfully super easy retur...             pos\n",
      "95   really fast startups nice screen quality every...             pos\n",
      "96   warning avoid dell products event might need c...             pos\n",
      "97   screen quality good especially gaming movies k...             pos\n",
      "101                                     beautiful fast             pos\n",
      "104                             liked much issues good             pos\n",
      "105                                      happy product             pos\n",
      "106                                        best laptop             pos\n",
      "\n",
      "                                         reviews_clean Sentiment_Score\n",
      "7    product arrived damaged working seller refuses...             neg\n",
      "8    touch screen advertised nothing item advertise...             neg\n",
      "25   thing dont like even turning keyboard light co...             neg\n",
      "26   cannot open system desktop first used warranty...             neg\n",
      "38   came poorly packed usable screen dark even hig...             neg\n",
      "41   far looks best laptop ever owned fast using so...             neg\n",
      "42   scammed money dell dishonest incompetent lapto...             neg\n",
      "81   months using laptop started get blue screen de...             neg\n",
      "99       thing didnt like one screw screwed completely             neg\n",
      "100  disappointing short battery life goes withing ...             neg\n"
     ]
    }
   ],
   "source": [
    "# sentiment calculation by our data as input\n",
    "Selected_Rows=df.head(df.shape[0])\n",
    "Selected_Rows['Sentiment_Score']=Selected_Rows['reviews_clean'].apply(lambda x: sentimental_Score(x))\n",
    "pos = Selected_Rows.loc[Selected_Rows['Sentiment_Score'] == 'pos']\n",
    "print(pos, end='\\n\\n')\n",
    "neg = Selected_Rows.loc[Selected_Rows['Sentiment_Score'] == 'neg']\n",
    "print(neg)"
   ]
  },
  {
   "cell_type": "code",
   "execution_count": 7,
   "metadata": {},
   "outputs": [],
   "source": [
    "text = ' '.join(df.reviews_clean.values)"
   ]
  },
  {
   "cell_type": "code",
   "execution_count": 8,
   "metadata": {},
   "outputs": [],
   "source": [
    "count_sentiment = {}"
   ]
  },
  {
   "cell_type": "code",
   "execution_count": 9,
   "metadata": {},
   "outputs": [],
   "source": [
    "analyzer = SentimentIntensityAnalyzer()\n",
    "for word in text.split(' '):\n",
    "    vs = analyzer.polarity_scores(word)\n",
    "    score=vs['compound']\n",
    "    if score >= 0.5 or score <= -0.5:\n",
    "        count_sentiment[word] = count_sentiment.get(word, 0) + 1"
   ]
  },
  {
   "cell_type": "code",
   "execution_count": 10,
   "metadata": {},
   "outputs": [],
   "source": [
    "t = []\n",
    "for k, v in count_sentiment.items():\n",
    "    t.append((v, k))\n",
    "t.sort(reverse=True)"
   ]
  },
  {
   "cell_type": "code",
   "execution_count": 11,
   "metadata": {},
   "outputs": [
    {
     "name": "stdout",
     "output_type": "stream",
     "text": [
      "frequency sentiment_term\n",
      "13 great\n",
      "9 happy\n",
      "8 love\n",
      "7 best\n",
      "6 super\n",
      "4 negative\n",
      "3 excellent\n",
      "3 bad\n",
      "3 amazing\n",
      "2 perfectly\n",
      "2 kind\n",
      "2 horrible\n",
      "2 failed\n",
      "2 comfortable\n",
      "1 worst\n",
      "1 ugly\n",
      "1 thieves\n",
      "1 thankful\n",
      "1 praise\n",
      "1 perfect\n",
      "1 loving\n",
      "1 loves\n",
      "1 loved\n",
      "1 joy\n",
      "1 fearing\n",
      "1 failure\n",
      "1 enjoys\n",
      "1 dishonest\n",
      "1 died\n",
      "1 death\n",
      "1 curse\n",
      "1 beautiful\n",
      "1 awesome\n"
     ]
    }
   ],
   "source": [
    "print('frequency', 'sentiment_term')\n",
    "for freq, sentiment in t:\n",
    "    print(freq, sentiment)"
   ]
  },
  {
   "cell_type": "markdown",
   "metadata": {},
   "source": [
    "## (2) (10 points) Compare the performance of the following tools in sentiment identification: TextBlob (https://textblob.readthedocs.io/en/dev/), VADER (https://github.com/cjhutto/vaderSentiment), TFIDF-based Support Vector Machine (SVM) (Split your data into training and testing data). Take your own annotation as the standard answers. \n",
    "\n",
    "Reference code: https://towardsdatascience.com/fine-grained-sentiment-analysis-in-python-part-1-2697bb111ed4"
   ]
  },
  {
   "cell_type": "code",
   "execution_count": 12,
   "metadata": {},
   "outputs": [],
   "source": [
    "df1 = pd.read_csv('Sentiment_reviews_clean.csv')"
   ]
  },
  {
   "cell_type": "code",
   "execution_count": 13,
   "metadata": {},
   "outputs": [],
   "source": [
    "df1.drop(['Document_ID', 'Unnamed: 2'], axis=1, inplace=True)"
   ]
  },
  {
   "cell_type": "code",
   "execution_count": 14,
   "metadata": {},
   "outputs": [
    {
     "data": {
      "text/html": [
       "<div>\n",
       "<style scoped>\n",
       "    .dataframe tbody tr th:only-of-type {\n",
       "        vertical-align: middle;\n",
       "    }\n",
       "\n",
       "    .dataframe tbody tr th {\n",
       "        vertical-align: top;\n",
       "    }\n",
       "\n",
       "    .dataframe thead th {\n",
       "        text-align: right;\n",
       "    }\n",
       "</style>\n",
       "<table border=\"1\" class=\"dataframe\">\n",
       "  <thead>\n",
       "    <tr style=\"text-align: right;\">\n",
       "      <th></th>\n",
       "      <th>Clean_Text</th>\n",
       "      <th>Sentiment</th>\n",
       "      <th>numeric</th>\n",
       "    </tr>\n",
       "  </thead>\n",
       "  <tbody>\n",
       "    <tr>\n",
       "      <th>0</th>\n",
       "      <td>purchased laptop upgraded ram gb ssd tb arrive...</td>\n",
       "      <td>negative</td>\n",
       "      <td>1</td>\n",
       "    </tr>\n",
       "    <tr>\n",
       "      <th>1</th>\n",
       "      <td>item came promptly beginning touch screen didn...</td>\n",
       "      <td>negative</td>\n",
       "      <td>1</td>\n",
       "    </tr>\n",
       "    <tr>\n",
       "      <th>2</th>\n",
       "      <td>already issues require repair beyond inhouse guy</td>\n",
       "      <td>negative</td>\n",
       "      <td>1</td>\n",
       "    </tr>\n",
       "    <tr>\n",
       "      <th>3</th>\n",
       "      <td>came evening around pm thankful usps still wor...</td>\n",
       "      <td>neutral</td>\n",
       "      <td>0</td>\n",
       "    </tr>\n",
       "    <tr>\n",
       "      <th>4</th>\n",
       "      <td>laptop ok price lack usbc problem especially p...</td>\n",
       "      <td>negative</td>\n",
       "      <td>1</td>\n",
       "    </tr>\n",
       "  </tbody>\n",
       "</table>\n",
       "</div>"
      ],
      "text/plain": [
       "                                          Clean_Text Sentiment  numeric\n",
       "0  purchased laptop upgraded ram gb ssd tb arrive...  negative        1\n",
       "1  item came promptly beginning touch screen didn...  negative        1\n",
       "2   already issues require repair beyond inhouse guy  negative        1\n",
       "3  came evening around pm thankful usps still wor...   neutral        0\n",
       "4  laptop ok price lack usbc problem especially p...  negative        1"
      ]
     },
     "execution_count": 14,
     "metadata": {},
     "output_type": "execute_result"
    }
   ],
   "source": [
    "df1['numeric'] = df1.Sentiment.replace(to_replace=['negative', 'neutral', 'positive'],\n",
    "                                       value=[1, 0, 2])\n",
    "df1.head()"
   ]
  },
  {
   "cell_type": "code",
   "execution_count": 15,
   "metadata": {},
   "outputs": [],
   "source": [
    "def score_textblob(text):\n",
    "    from textblob import TextBlob\n",
    "    return TextBlob(text).sentiment.polarity"
   ]
  },
  {
   "cell_type": "code",
   "execution_count": 16,
   "metadata": {},
   "outputs": [
    {
     "data": {
      "text/html": [
       "<div>\n",
       "<style scoped>\n",
       "    .dataframe tbody tr th:only-of-type {\n",
       "        vertical-align: middle;\n",
       "    }\n",
       "\n",
       "    .dataframe tbody tr th {\n",
       "        vertical-align: top;\n",
       "    }\n",
       "\n",
       "    .dataframe thead th {\n",
       "        text-align: right;\n",
       "    }\n",
       "</style>\n",
       "<table border=\"1\" class=\"dataframe\">\n",
       "  <thead>\n",
       "    <tr style=\"text-align: right;\">\n",
       "      <th></th>\n",
       "      <th>Clean_Text</th>\n",
       "      <th>Sentiment</th>\n",
       "      <th>numeric</th>\n",
       "      <th>textblob</th>\n",
       "    </tr>\n",
       "  </thead>\n",
       "  <tbody>\n",
       "    <tr>\n",
       "      <th>0</th>\n",
       "      <td>purchased laptop upgraded ram gb ssd tb arrive...</td>\n",
       "      <td>negative</td>\n",
       "      <td>1</td>\n",
       "      <td>-0.100000</td>\n",
       "    </tr>\n",
       "    <tr>\n",
       "      <th>1</th>\n",
       "      <td>item came promptly beginning touch screen didn...</td>\n",
       "      <td>negative</td>\n",
       "      <td>1</td>\n",
       "      <td>0.268182</td>\n",
       "    </tr>\n",
       "    <tr>\n",
       "      <th>2</th>\n",
       "      <td>already issues require repair beyond inhouse guy</td>\n",
       "      <td>negative</td>\n",
       "      <td>1</td>\n",
       "      <td>0.000000</td>\n",
       "    </tr>\n",
       "    <tr>\n",
       "      <th>3</th>\n",
       "      <td>came evening around pm thankful usps still wor...</td>\n",
       "      <td>neutral</td>\n",
       "      <td>0</td>\n",
       "      <td>0.276894</td>\n",
       "    </tr>\n",
       "    <tr>\n",
       "      <th>4</th>\n",
       "      <td>laptop ok price lack usbc problem especially p...</td>\n",
       "      <td>negative</td>\n",
       "      <td>1</td>\n",
       "      <td>0.166667</td>\n",
       "    </tr>\n",
       "  </tbody>\n",
       "</table>\n",
       "</div>"
      ],
      "text/plain": [
       "                                          Clean_Text Sentiment  numeric  \\\n",
       "0  purchased laptop upgraded ram gb ssd tb arrive...  negative        1   \n",
       "1  item came promptly beginning touch screen didn...  negative        1   \n",
       "2   already issues require repair beyond inhouse guy  negative        1   \n",
       "3  came evening around pm thankful usps still wor...   neutral        0   \n",
       "4  laptop ok price lack usbc problem especially p...  negative        1   \n",
       "\n",
       "   textblob  \n",
       "0 -0.100000  \n",
       "1  0.268182  \n",
       "2  0.000000  \n",
       "3  0.276894  \n",
       "4  0.166667  "
      ]
     },
     "execution_count": 16,
     "metadata": {},
     "output_type": "execute_result"
    }
   ],
   "source": [
    "## Textblob\n",
    "df1['textblob'] = df1.Clean_Text.apply(score_textblob)\n",
    "df1.head()"
   ]
  },
  {
   "cell_type": "code",
   "execution_count": 17,
   "metadata": {},
   "outputs": [],
   "source": [
    "def score_vader(text):\n",
    "    from nltk.sentiment.vader import SentimentIntensityAnalyzer\n",
    "    vader = SentimentIntensityAnalyzer()\n",
    "    return vader.polarity_scores(text)['compound']"
   ]
  },
  {
   "cell_type": "code",
   "execution_count": 18,
   "metadata": {},
   "outputs": [
    {
     "data": {
      "text/html": [
       "<div>\n",
       "<style scoped>\n",
       "    .dataframe tbody tr th:only-of-type {\n",
       "        vertical-align: middle;\n",
       "    }\n",
       "\n",
       "    .dataframe tbody tr th {\n",
       "        vertical-align: top;\n",
       "    }\n",
       "\n",
       "    .dataframe thead th {\n",
       "        text-align: right;\n",
       "    }\n",
       "</style>\n",
       "<table border=\"1\" class=\"dataframe\">\n",
       "  <thead>\n",
       "    <tr style=\"text-align: right;\">\n",
       "      <th></th>\n",
       "      <th>Clean_Text</th>\n",
       "      <th>Sentiment</th>\n",
       "      <th>numeric</th>\n",
       "      <th>textblob</th>\n",
       "      <th>vader</th>\n",
       "    </tr>\n",
       "  </thead>\n",
       "  <tbody>\n",
       "    <tr>\n",
       "      <th>0</th>\n",
       "      <td>purchased laptop upgraded ram gb ssd tb arrive...</td>\n",
       "      <td>negative</td>\n",
       "      <td>1</td>\n",
       "      <td>-0.100000</td>\n",
       "      <td>0.7994</td>\n",
       "    </tr>\n",
       "    <tr>\n",
       "      <th>1</th>\n",
       "      <td>item came promptly beginning touch screen didn...</td>\n",
       "      <td>negative</td>\n",
       "      <td>1</td>\n",
       "      <td>0.268182</td>\n",
       "      <td>-0.0258</td>\n",
       "    </tr>\n",
       "    <tr>\n",
       "      <th>2</th>\n",
       "      <td>already issues require repair beyond inhouse guy</td>\n",
       "      <td>negative</td>\n",
       "      <td>1</td>\n",
       "      <td>0.000000</td>\n",
       "      <td>0.0000</td>\n",
       "    </tr>\n",
       "    <tr>\n",
       "      <th>3</th>\n",
       "      <td>came evening around pm thankful usps still wor...</td>\n",
       "      <td>neutral</td>\n",
       "      <td>0</td>\n",
       "      <td>0.276894</td>\n",
       "      <td>0.9408</td>\n",
       "    </tr>\n",
       "    <tr>\n",
       "      <th>4</th>\n",
       "      <td>laptop ok price lack usbc problem especially p...</td>\n",
       "      <td>negative</td>\n",
       "      <td>1</td>\n",
       "      <td>0.166667</td>\n",
       "      <td>0.2815</td>\n",
       "    </tr>\n",
       "  </tbody>\n",
       "</table>\n",
       "</div>"
      ],
      "text/plain": [
       "                                          Clean_Text Sentiment  numeric  \\\n",
       "0  purchased laptop upgraded ram gb ssd tb arrive...  negative        1   \n",
       "1  item came promptly beginning touch screen didn...  negative        1   \n",
       "2   already issues require repair beyond inhouse guy  negative        1   \n",
       "3  came evening around pm thankful usps still wor...   neutral        0   \n",
       "4  laptop ok price lack usbc problem especially p...  negative        1   \n",
       "\n",
       "   textblob   vader  \n",
       "0 -0.100000  0.7994  \n",
       "1  0.268182 -0.0258  \n",
       "2  0.000000  0.0000  \n",
       "3  0.276894  0.9408  \n",
       "4  0.166667  0.2815  "
      ]
     },
     "execution_count": 18,
     "metadata": {},
     "output_type": "execute_result"
    }
   ],
   "source": [
    "## vader\n",
    "df1['vader'] = df1.Clean_Text.apply(score_vader)\n",
    "df1.head()"
   ]
  },
  {
   "cell_type": "code",
   "execution_count": 19,
   "metadata": {},
   "outputs": [],
   "source": [
    "df1.textblob = np.where(df1.textblob <= -0.5, 1, df1.textblob)\n",
    "df1.textblob = np.where(df1.textblob >= 0.5, 2, df1.textblob)\n",
    "df1.textblob = np.where((df1.textblob > -0.5) & (df1.textblob < 0.5), 0, df1.textblob)"
   ]
  },
  {
   "cell_type": "code",
   "execution_count": 20,
   "metadata": {},
   "outputs": [],
   "source": [
    "df1.vader = np.where(df1.vader <= -0.5, 1, df1.vader)\n",
    "df1.vader = np.where(df1.vader >= 0.5, 2, df1.vader)\n",
    "df1.vader = np.where((df1.vader > -0.5) & (df1.vader < 0.5), 0, df1.vader)"
   ]
  },
  {
   "cell_type": "code",
   "execution_count": 21,
   "metadata": {},
   "outputs": [
    {
     "data": {
      "text/plain": [
       "Counter({0.0: 86, 2.0: 24})"
      ]
     },
     "metadata": {},
     "output_type": "display_data"
    },
    {
     "data": {
      "text/plain": [
       "Counter({2.0: 65, 0.0: 45})"
      ]
     },
     "metadata": {},
     "output_type": "display_data"
    }
   ],
   "source": [
    "display(collections.Counter(df1.textblob.values))\n",
    "display(collections.Counter(df1.vader.values))"
   ]
  },
  {
   "cell_type": "code",
   "execution_count": 22,
   "metadata": {},
   "outputs": [],
   "source": [
    "y_true = df1.numeric.values\n",
    "textblob_preds = df1.textblob.astype(int).values\n",
    "vader_preds = df1.vader.astype(int).values"
   ]
  },
  {
   "cell_type": "code",
   "execution_count": 23,
   "metadata": {},
   "outputs": [],
   "source": [
    "# split the data into training and test sets\n",
    "from random import sample\n",
    "n = df1.shape[0]\n",
    "training_shape = int(n * 0.7) #%70 training\n",
    "test_shape = n - training_shape\n",
    "training_idx = sample(range(df1.shape[0]), training_shape)\n",
    "test_idx = [i for i in range(df1.shape[0]) if i not in training_idx]"
   ]
  },
  {
   "cell_type": "code",
   "execution_count": 24,
   "metadata": {},
   "outputs": [
    {
     "data": {
      "text/html": [
       "<div>\n",
       "<style scoped>\n",
       "    .dataframe tbody tr th:only-of-type {\n",
       "        vertical-align: middle;\n",
       "    }\n",
       "\n",
       "    .dataframe tbody tr th {\n",
       "        vertical-align: top;\n",
       "    }\n",
       "\n",
       "    .dataframe thead th {\n",
       "        text-align: right;\n",
       "    }\n",
       "</style>\n",
       "<table border=\"1\" class=\"dataframe\">\n",
       "  <thead>\n",
       "    <tr style=\"text-align: right;\">\n",
       "      <th></th>\n",
       "      <th>Clean_Text</th>\n",
       "      <th>Sentiment</th>\n",
       "      <th>numeric</th>\n",
       "      <th>textblob</th>\n",
       "      <th>vader</th>\n",
       "    </tr>\n",
       "  </thead>\n",
       "  <tbody>\n",
       "    <tr>\n",
       "      <th>0</th>\n",
       "      <td>great</td>\n",
       "      <td>positive</td>\n",
       "      <td>2</td>\n",
       "      <td>2.0</td>\n",
       "      <td>2.0</td>\n",
       "    </tr>\n",
       "    <tr>\n",
       "      <th>1</th>\n",
       "      <td>good laptop ecxept ethernet speed specificatio...</td>\n",
       "      <td>positive</td>\n",
       "      <td>2</td>\n",
       "      <td>0.0</td>\n",
       "      <td>2.0</td>\n",
       "    </tr>\n",
       "    <tr>\n",
       "      <th>2</th>\n",
       "      <td>laptop month half love boots seconds multitask...</td>\n",
       "      <td>negative</td>\n",
       "      <td>1</td>\n",
       "      <td>0.0</td>\n",
       "      <td>2.0</td>\n",
       "    </tr>\n",
       "    <tr>\n",
       "      <th>3</th>\n",
       "      <td>runs really fast turn back lit keyboard nice s...</td>\n",
       "      <td>positive</td>\n",
       "      <td>2</td>\n",
       "      <td>0.0</td>\n",
       "      <td>2.0</td>\n",
       "    </tr>\n",
       "    <tr>\n",
       "      <th>4</th>\n",
       "      <td>son device snd liked silver keyboard hard see ...</td>\n",
       "      <td>positive</td>\n",
       "      <td>2</td>\n",
       "      <td>0.0</td>\n",
       "      <td>0.0</td>\n",
       "    </tr>\n",
       "  </tbody>\n",
       "</table>\n",
       "</div>"
      ],
      "text/plain": [
       "                                          Clean_Text Sentiment  numeric  \\\n",
       "0                                              great  positive        2   \n",
       "1  good laptop ecxept ethernet speed specificatio...  positive        2   \n",
       "2  laptop month half love boots seconds multitask...  negative        1   \n",
       "3  runs really fast turn back lit keyboard nice s...  positive        2   \n",
       "4  son device snd liked silver keyboard hard see ...  positive        2   \n",
       "\n",
       "   textblob  vader  \n",
       "0       2.0    2.0  \n",
       "1       0.0    2.0  \n",
       "2       0.0    2.0  \n",
       "3       0.0    2.0  \n",
       "4       0.0    0.0  "
      ]
     },
     "execution_count": 24,
     "metadata": {},
     "output_type": "execute_result"
    }
   ],
   "source": [
    "df_training = df1.iloc[training_idx]\n",
    "df_training.reset_index(drop=True, inplace=True)\n",
    "df_training.head()"
   ]
  },
  {
   "cell_type": "code",
   "execution_count": 25,
   "metadata": {},
   "outputs": [
    {
     "data": {
      "text/html": [
       "<div>\n",
       "<style scoped>\n",
       "    .dataframe tbody tr th:only-of-type {\n",
       "        vertical-align: middle;\n",
       "    }\n",
       "\n",
       "    .dataframe tbody tr th {\n",
       "        vertical-align: top;\n",
       "    }\n",
       "\n",
       "    .dataframe thead th {\n",
       "        text-align: right;\n",
       "    }\n",
       "</style>\n",
       "<table border=\"1\" class=\"dataframe\">\n",
       "  <thead>\n",
       "    <tr style=\"text-align: right;\">\n",
       "      <th></th>\n",
       "      <th>Clean_Text</th>\n",
       "      <th>Sentiment</th>\n",
       "      <th>numeric</th>\n",
       "      <th>textblob</th>\n",
       "      <th>vader</th>\n",
       "    </tr>\n",
       "  </thead>\n",
       "  <tbody>\n",
       "    <tr>\n",
       "      <th>0</th>\n",
       "      <td>item came promptly beginning touch screen didn...</td>\n",
       "      <td>negative</td>\n",
       "      <td>1</td>\n",
       "      <td>0.0</td>\n",
       "      <td>0.0</td>\n",
       "    </tr>\n",
       "    <tr>\n",
       "      <th>1</th>\n",
       "      <td>laptop ok price lack usbc problem especially p...</td>\n",
       "      <td>negative</td>\n",
       "      <td>1</td>\n",
       "      <td>0.0</td>\n",
       "      <td>0.0</td>\n",
       "    </tr>\n",
       "    <tr>\n",
       "      <th>2</th>\n",
       "      <td>ordered new recurved used one return</td>\n",
       "      <td>negative</td>\n",
       "      <td>1</td>\n",
       "      <td>0.0</td>\n",
       "      <td>0.0</td>\n",
       "    </tr>\n",
       "    <tr>\n",
       "      <th>3</th>\n",
       "      <td>laptop randomly shut would restart worked fine...</td>\n",
       "      <td>negative</td>\n",
       "      <td>1</td>\n",
       "      <td>0.0</td>\n",
       "      <td>0.0</td>\n",
       "    </tr>\n",
       "    <tr>\n",
       "      <th>4</th>\n",
       "      <td>far weeks use loving laptop spent lot time res...</td>\n",
       "      <td>negative</td>\n",
       "      <td>1</td>\n",
       "      <td>0.0</td>\n",
       "      <td>2.0</td>\n",
       "    </tr>\n",
       "  </tbody>\n",
       "</table>\n",
       "</div>"
      ],
      "text/plain": [
       "                                          Clean_Text Sentiment  numeric  \\\n",
       "0  item came promptly beginning touch screen didn...  negative        1   \n",
       "1  laptop ok price lack usbc problem especially p...  negative        1   \n",
       "2               ordered new recurved used one return  negative        1   \n",
       "3  laptop randomly shut would restart worked fine...  negative        1   \n",
       "4  far weeks use loving laptop spent lot time res...  negative        1   \n",
       "\n",
       "   textblob  vader  \n",
       "0       0.0    0.0  \n",
       "1       0.0    0.0  \n",
       "2       0.0    0.0  \n",
       "3       0.0    0.0  \n",
       "4       0.0    2.0  "
      ]
     },
     "execution_count": 25,
     "metadata": {},
     "output_type": "execute_result"
    }
   ],
   "source": [
    "df_test = df1.iloc[test_idx]\n",
    "df_test.reset_index(drop=True, inplace=True)\n",
    "df_test.head()"
   ]
  },
  {
   "cell_type": "code",
   "execution_count": 26,
   "metadata": {},
   "outputs": [],
   "source": [
    "X_train = df_training.Clean_Text.values\n",
    "y_train = df_training.numeric.values\n",
    "X_test = df_test.Clean_Text.values\n",
    "y_test = df_test.numeric.values"
   ]
  },
  {
   "cell_type": "code",
   "execution_count": 27,
   "metadata": {},
   "outputs": [],
   "source": [
    "from sklearn.feature_extraction.text import CountVectorizer, TfidfTransformer\n",
    "from sklearn.linear_model import SGDClassifier\n",
    "from sklearn.pipeline import Pipeline\n",
    "pipeline = Pipeline([('vect', CountVectorizer()),\n",
    "                     ('tfidf', TfidfTransformer()),\n",
    "                     ('clf', SGDClassifier(loss='hinge',\n",
    "                                           penalty='l2',\n",
    "                                           alpha=1e-3,\n",
    "                                           random_state=42,\n",
    "                                           max_iter=100,\n",
    "                                           learning_rate='optimal',\n",
    "                                           tol=None))\n",
    "                    ]\n",
    "                   )"
   ]
  },
  {
   "cell_type": "code",
   "execution_count": 28,
   "metadata": {},
   "outputs": [],
   "source": [
    "learner = pipeline.fit(X_train, y_train)\n",
    "# Predict class labels using the learner and output DataFrame\n",
    "preds = learner.predict(X_test)"
   ]
  },
  {
   "cell_type": "code",
   "execution_count": 29,
   "metadata": {},
   "outputs": [],
   "source": [
    "from sklearn.metrics import accuracy_score, f1_score"
   ]
  },
  {
   "cell_type": "code",
   "execution_count": 30,
   "metadata": {},
   "outputs": [],
   "source": [
    "textblob_accuracy = accuracy_score(y_true, textblob_preds)\n",
    "textblob_f1 = f1_score(y_true, textblob_preds, average='weighted')\n",
    "vader_accuracy = accuracy_score(y_true, vader_preds)\n",
    "vader_f1 = f1_score(y_true, vader_preds, average='weighted')\n",
    "svm_accuracy = accuracy_score(y_test, preds)\n",
    "svm_f1 = f1_score(y_test, preds)"
   ]
  },
  {
   "cell_type": "code",
   "execution_count": 31,
   "metadata": {
    "scrolled": true
   },
   "outputs": [
    {
     "data": {
      "text/html": [
       "<div>\n",
       "<style scoped>\n",
       "    .dataframe tbody tr th:only-of-type {\n",
       "        vertical-align: middle;\n",
       "    }\n",
       "\n",
       "    .dataframe tbody tr th {\n",
       "        vertical-align: top;\n",
       "    }\n",
       "\n",
       "    .dataframe thead th {\n",
       "        text-align: right;\n",
       "    }\n",
       "</style>\n",
       "<table border=\"1\" class=\"dataframe\">\n",
       "  <thead>\n",
       "    <tr style=\"text-align: right;\">\n",
       "      <th></th>\n",
       "      <th>TextBlob</th>\n",
       "      <th>Vader</th>\n",
       "      <th>SVM</th>\n",
       "    </tr>\n",
       "  </thead>\n",
       "  <tbody>\n",
       "    <tr>\n",
       "      <th>Accuracy</th>\n",
       "      <td>0.227273</td>\n",
       "      <td>0.418182</td>\n",
       "      <td>0.666667</td>\n",
       "    </tr>\n",
       "    <tr>\n",
       "      <th>F1 Score</th>\n",
       "      <td>0.331845</td>\n",
       "      <td>0.450806</td>\n",
       "      <td>0.153846</td>\n",
       "    </tr>\n",
       "  </tbody>\n",
       "</table>\n",
       "</div>"
      ],
      "text/plain": [
       "          TextBlob     Vader       SVM\n",
       "Accuracy  0.227273  0.418182  0.666667\n",
       "F1 Score  0.331845  0.450806  0.153846"
      ]
     },
     "execution_count": 31,
     "metadata": {},
     "output_type": "execute_result"
    }
   ],
   "source": [
    "pd.DataFrame({'TextBlob': [textblob_accuracy, textblob_f1],\n",
    "              'Vader': [vader_accuracy, vader_f1],\n",
    "              'SVM': [svm_accuracy, svm_f1]},\n",
    "             index = ['Accuracy', 'F1 Score'])"
   ]
  }
 ],
 "metadata": {
  "kernelspec": {
   "display_name": "Python 3",
   "language": "python",
   "name": "python3"
  },
  "language_info": {
   "codemirror_mode": {
    "name": "ipython",
    "version": 3
   },
   "file_extension": ".py",
   "mimetype": "text/x-python",
   "name": "python",
   "nbconvert_exporter": "python",
   "pygments_lexer": "ipython3",
   "version": "3.7.1"
  }
 },
 "nbformat": 4,
 "nbformat_minor": 2
}
