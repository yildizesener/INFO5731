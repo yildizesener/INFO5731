{
 "cells": [
  {
   "cell_type": "code",
   "execution_count": null,
   "metadata": {
    "ExecuteTime": {
     "end_time": "2020-09-29T22:03:25.657722Z",
     "start_time": "2020-09-29T22:03:24.708256Z"
    }
   },
   "outputs": [],
   "source": [
    "# scraping script modified according to amazon.com\n",
    "import scrapy\n",
    "# Creating a new class to implement Spide\n",
    "\n",
    "\n",
    "class AmazonReviewsSpider(scrapy.Spider):\n",
    "    # Spider name\n",
    "    name = 'amazon_reviews'\n",
    "    # Domain names to scrape\n",
    "    allowed_domains = ['amazon.com']\n",
    "    # Base URL for the MacBook air reviews\n",
    "    start_urls = []\n",
    "    start_urls.append(\n",
    "        'https://www.amazon.com/Dell-Inspiron-5000-5570-Laptop/product-reviews/B07N49F51N/ref=cm_cr_othr_d_show_all_btm?ie=UTF8&reviewerType=all_reviews'\n",
    "    )\n",
    "    myBaseUrl = 'https://www.amazon.com/Dell-Inspiron-5000-5570-Laptop/product-reviews/B07N49F51N/ref=cm_cr_getr_d_paging_btm_next_'\n",
    "    add_on = '?ie=UTF8&reviewerType=all_reviews&pageNumber='\n",
    "    # Creating list of urls to be scraped by appending page number a the end of base url\n",
    "    for i in range(2, 20):\n",
    "        start_urls.append(myBaseUrl + str(i) + add_on + str(i))\n",
    "    # Defining a Scrapy parser\n",
    "\n",
    "    def parse(self, response):\n",
    "        data = response.css('#cm_cr-review_list')\n",
    "        # Collecting product star ratings\n",
    "        star_rating = data.css('.review-rating')\n",
    "        # Collecting user reviews\n",
    "        comments = data.css('.review-text')\n",
    "        count = 0\n",
    "        # Combining the results\n",
    "        for review in star_rating:\n",
    "            yield {\n",
    "                'stars':\n",
    "                ''.join(review.xpath('.//text()').extract()),\n",
    "                'comment':\n",
    "                ''.join(str(comments[count].xpath(\".//text()\").extract()))\n",
    "            }\n",
    "            count = count + 1"
   ]
  },
  {
   "cell_type": "markdown",
   "metadata": {},
   "source": [
    "## Part1"
   ]
  },
  {
   "cell_type": "code",
   "execution_count": 1,
   "metadata": {
    "ExecuteTime": {
     "end_time": "2020-09-29T22:18:55.516134Z",
     "start_time": "2020-09-29T22:18:51.560504Z"
    }
   },
   "outputs": [],
   "source": [
    "import pandas as pd\n",
    "import numpy as np\n",
    "from nltk.corpus import stopwords\n",
    "from nltk.stem import PorterStemmer\n",
    "from textblob import Word\n",
    "import nltk\n",
    "# nltk.download('wordnet') # already downloaded\n",
    "import spacy\n",
    "# load spaCy model\n",
    "nlp = spacy.load(\"en_core_web_sm\")"
   ]
  },
  {
   "cell_type": "code",
   "execution_count": 2,
   "metadata": {
    "ExecuteTime": {
     "end_time": "2020-09-29T22:18:58.139955Z",
     "start_time": "2020-09-29T22:18:58.124325Z"
    }
   },
   "outputs": [],
   "source": [
    "df = pd.read_csv('reviews.csv')"
   ]
  },
  {
   "cell_type": "code",
   "execution_count": 3,
   "metadata": {
    "ExecuteTime": {
     "end_time": "2020-09-29T22:18:58.910782Z",
     "start_time": "2020-09-29T22:18:58.873015Z"
    }
   },
   "outputs": [
    {
     "name": "stdout",
     "output_type": "stream",
     "text": [
      "Number of duplicate reviews: 0\n"
     ]
    }
   ],
   "source": [
    "print('Number of duplicate reviews: ', end='')\n",
    "print('{}'.format(df[df.duplicated() == True].shape[0]))"
   ]
  },
  {
   "cell_type": "code",
   "execution_count": 4,
   "metadata": {
    "ExecuteTime": {
     "end_time": "2020-09-29T22:19:05.161971Z",
     "start_time": "2020-09-29T22:19:05.115100Z"
    }
   },
   "outputs": [],
   "source": [
    "# clean the comments\n",
    "df['comment_clean'] = df['comment'].apply(lambda x: x.replace(r\"'\", ''))\n",
    "df['comment_clean'] = df['comment_clean'].apply(lambda x: x.replace(r'\"', ''))\n",
    "df['comment_clean'] = df['comment_clean'].apply(\n",
    "    lambda x: x.replace(r'[\\n\\n\\n\\n\\n\\n\\n\\n\\n\\n  \\n  \\n    , \\n  ', ''))\n",
    "df['comment_clean'] = df['comment_clean'].apply(\n",
    "    lambda x: x.replace(r'\\n, \\n  \\n]', ''))\n",
    "# quantify the ratings\n",
    "df['stars'] = df['stars'].replace(df['stars'].unique(), value=np.arange(1, 6))\n",
    "# df clean\n",
    "df.drop('comment', axis=1, inplace=True)"
   ]
  },
  {
   "cell_type": "markdown",
   "metadata": {},
   "source": [
    "## Part2"
   ]
  },
  {
   "cell_type": "code",
   "execution_count": 5,
   "metadata": {
    "ExecuteTime": {
     "end_time": "2020-09-29T22:19:08.724495Z",
     "start_time": "2020-09-29T22:19:06.387202Z"
    }
   },
   "outputs": [],
   "source": [
    "# lowercase the comments\n",
    "df['comment_clean'] = df['comment_clean'].apply(\n",
    "    lambda x: ' '.join([x.lower() for x in x.split()]))\n",
    "# remove punctuations\n",
    "df['comment_clean'] = df['comment_clean'].str.replace('[^\\w\\s]', '')\n",
    "# remove stopwords\n",
    "stop = stopwords.words('english')\n",
    "df['comment_clean'] = df['comment_clean'].apply(\n",
    "    lambda x: ' '.join(x for x in x.split() if x not in stop))\n",
    "# remove numbers\n",
    "numbers = '0123456789'\n",
    "df['comment_clean'] = df['comment_clean'].apply(\n",
    "    lambda x: ''.join(x for x in list(x) if x not in numbers))\n",
    "# stemming\n",
    "st = PorterStemmer()\n",
    "df['comment_clean'] = df['comment_clean'].apply(\n",
    "    lambda x: \" \".join([st.stem(word) for word in x.split()]))\n",
    "# lemmatization\n",
    "df['comment_clean'] = df['comment_clean'].apply(\n",
    "    lambda x: \" \".join([Word(word).lemmatize() for word in x.split()]))"
   ]
  },
  {
   "cell_type": "markdown",
   "metadata": {},
   "source": [
    "## Part3"
   ]
  },
  {
   "cell_type": "code",
   "execution_count": 10,
   "metadata": {
    "ExecuteTime": {
     "end_time": "2020-09-29T22:24:16.046712Z",
     "start_time": "2020-09-29T22:24:14.036783Z"
    }
   },
   "outputs": [],
   "source": [
    "from collections import Counter\n",
    "total_counts = []\n",
    "for c in df['comment_clean']:\n",
    "    doc = nlp(c)\n",
    "    pos = []\n",
    "    for tok in doc:\n",
    "        pos.append(tok.pos_)\n",
    "    counts = Counter(pos)\n",
    "    total_counts.append(counts)"
   ]
  },
  {
   "cell_type": "code",
   "execution_count": 12,
   "metadata": {
    "ExecuteTime": {
     "end_time": "2020-09-29T22:25:53.389369Z",
     "start_time": "2020-09-29T22:25:53.358122Z"
    }
   },
   "outputs": [],
   "source": [
    "all_keys = []\n",
    "for d in total_counts:\n",
    "    for k, v in d.items():\n",
    "        if k not in all_keys:\n",
    "            all_keys.append(k)"
   ]
  },
  {
   "cell_type": "code",
   "execution_count": 14,
   "metadata": {
    "ExecuteTime": {
     "end_time": "2020-09-29T22:26:53.183135Z",
     "start_time": "2020-09-29T22:26:53.151888Z"
    }
   },
   "outputs": [],
   "source": [
    "for key in all_keys:\n",
    "    df[key] = 0"
   ]
  },
  {
   "cell_type": "code",
   "execution_count": 19,
   "metadata": {
    "ExecuteTime": {
     "end_time": "2020-09-29T22:30:41.334541Z",
     "start_time": "2020-09-29T22:30:41.055891Z"
    }
   },
   "outputs": [],
   "source": [
    "for i, d in enumerate(total_counts):\n",
    "    for k, v in d.items():\n",
    "        df.loc[i, k] = v\n",
    "    "
   ]
  },
  {
   "cell_type": "code",
   "execution_count": 21,
   "metadata": {
    "ExecuteTime": {
     "end_time": "2020-09-29T22:55:09.467745Z",
     "start_time": "2020-09-29T22:55:09.398749Z"
    }
   },
   "outputs": [
    {
     "data": {
      "text/html": [
       "<div>\n",
       "<style scoped>\n",
       "    .dataframe tbody tr th:only-of-type {\n",
       "        vertical-align: middle;\n",
       "    }\n",
       "\n",
       "    .dataframe tbody tr th {\n",
       "        vertical-align: top;\n",
       "    }\n",
       "\n",
       "    .dataframe thead th {\n",
       "        text-align: right;\n",
       "    }\n",
       "</style>\n",
       "<table border=\"1\" class=\"dataframe\">\n",
       "  <thead>\n",
       "    <tr style=\"text-align: right;\">\n",
       "      <th></th>\n",
       "      <th>stars</th>\n",
       "      <th>comment_clean</th>\n",
       "      <th>PROPN</th>\n",
       "      <th>SCONJ</th>\n",
       "      <th>NOUN</th>\n",
       "      <th>VERB</th>\n",
       "      <th>NUM</th>\n",
       "      <th>ADJ</th>\n",
       "      <th>ADV</th>\n",
       "      <th>ADP</th>\n",
       "      <th>AUX</th>\n",
       "      <th>PART</th>\n",
       "      <th>PRON</th>\n",
       "      <th>INTJ</th>\n",
       "      <th>X</th>\n",
       "      <th>DET</th>\n",
       "      <th>CCONJ</th>\n",
       "      <th>SYM</th>\n",
       "    </tr>\n",
       "  </thead>\n",
       "  <tbody>\n",
       "    <tr>\n",
       "      <th>0</th>\n",
       "      <td>1</td>\n",
       "      <td>purchas laptop upgrad ram gb ssd tb arriv near...</td>\n",
       "      <td>26</td>\n",
       "      <td>2</td>\n",
       "      <td>17</td>\n",
       "      <td>17</td>\n",
       "      <td>4</td>\n",
       "      <td>6</td>\n",
       "      <td>3</td>\n",
       "      <td>1</td>\n",
       "      <td>0</td>\n",
       "      <td>0</td>\n",
       "      <td>0</td>\n",
       "      <td>0</td>\n",
       "      <td>0</td>\n",
       "      <td>0</td>\n",
       "      <td>0</td>\n",
       "      <td>0</td>\n",
       "    </tr>\n",
       "    <tr>\n",
       "      <th>1</th>\n",
       "      <td>1</td>\n",
       "      <td>item came promptli begin touch screen didnt wo...</td>\n",
       "      <td>2</td>\n",
       "      <td>0</td>\n",
       "      <td>12</td>\n",
       "      <td>12</td>\n",
       "      <td>0</td>\n",
       "      <td>1</td>\n",
       "      <td>1</td>\n",
       "      <td>0</td>\n",
       "      <td>1</td>\n",
       "      <td>3</td>\n",
       "      <td>0</td>\n",
       "      <td>0</td>\n",
       "      <td>0</td>\n",
       "      <td>0</td>\n",
       "      <td>0</td>\n",
       "      <td>0</td>\n",
       "    </tr>\n",
       "    <tr>\n",
       "      <th>2</th>\n",
       "      <td>1</td>\n",
       "      <td>alreadi issu requir repair beyond inhous guy</td>\n",
       "      <td>2</td>\n",
       "      <td>0</td>\n",
       "      <td>3</td>\n",
       "      <td>0</td>\n",
       "      <td>0</td>\n",
       "      <td>1</td>\n",
       "      <td>0</td>\n",
       "      <td>1</td>\n",
       "      <td>0</td>\n",
       "      <td>0</td>\n",
       "      <td>0</td>\n",
       "      <td>0</td>\n",
       "      <td>0</td>\n",
       "      <td>0</td>\n",
       "      <td>0</td>\n",
       "      <td>0</td>\n",
       "    </tr>\n",
       "    <tr>\n",
       "      <th>3</th>\n",
       "      <td>2</td>\n",
       "      <td>came even around pm thank usp still work scrat...</td>\n",
       "      <td>3</td>\n",
       "      <td>1</td>\n",
       "      <td>18</td>\n",
       "      <td>14</td>\n",
       "      <td>0</td>\n",
       "      <td>7</td>\n",
       "      <td>5</td>\n",
       "      <td>2</td>\n",
       "      <td>1</td>\n",
       "      <td>1</td>\n",
       "      <td>1</td>\n",
       "      <td>0</td>\n",
       "      <td>0</td>\n",
       "      <td>0</td>\n",
       "      <td>0</td>\n",
       "      <td>0</td>\n",
       "    </tr>\n",
       "    <tr>\n",
       "      <th>4</th>\n",
       "      <td>3</td>\n",
       "      <td>laptop ok price lack usbc problem especi power...</td>\n",
       "      <td>7</td>\n",
       "      <td>0</td>\n",
       "      <td>8</td>\n",
       "      <td>2</td>\n",
       "      <td>0</td>\n",
       "      <td>3</td>\n",
       "      <td>1</td>\n",
       "      <td>0</td>\n",
       "      <td>0</td>\n",
       "      <td>0</td>\n",
       "      <td>0</td>\n",
       "      <td>0</td>\n",
       "      <td>0</td>\n",
       "      <td>0</td>\n",
       "      <td>0</td>\n",
       "      <td>0</td>\n",
       "    </tr>\n",
       "    <tr>\n",
       "      <th>...</th>\n",
       "      <td>...</td>\n",
       "      <td>...</td>\n",
       "      <td>...</td>\n",
       "      <td>...</td>\n",
       "      <td>...</td>\n",
       "      <td>...</td>\n",
       "      <td>...</td>\n",
       "      <td>...</td>\n",
       "      <td>...</td>\n",
       "      <td>...</td>\n",
       "      <td>...</td>\n",
       "      <td>...</td>\n",
       "      <td>...</td>\n",
       "      <td>...</td>\n",
       "      <td>...</td>\n",
       "      <td>...</td>\n",
       "      <td>...</td>\n",
       "      <td>...</td>\n",
       "    </tr>\n",
       "    <tr>\n",
       "      <th>105</th>\n",
       "      <td>4</td>\n",
       "      <td>happi product</td>\n",
       "      <td>1</td>\n",
       "      <td>0</td>\n",
       "      <td>1</td>\n",
       "      <td>0</td>\n",
       "      <td>0</td>\n",
       "      <td>0</td>\n",
       "      <td>0</td>\n",
       "      <td>0</td>\n",
       "      <td>0</td>\n",
       "      <td>0</td>\n",
       "      <td>0</td>\n",
       "      <td>0</td>\n",
       "      <td>0</td>\n",
       "      <td>0</td>\n",
       "      <td>0</td>\n",
       "      <td>0</td>\n",
       "    </tr>\n",
       "    <tr>\n",
       "      <th>106</th>\n",
       "      <td>4</td>\n",
       "      <td>best laptop</td>\n",
       "      <td>0</td>\n",
       "      <td>0</td>\n",
       "      <td>1</td>\n",
       "      <td>0</td>\n",
       "      <td>0</td>\n",
       "      <td>1</td>\n",
       "      <td>0</td>\n",
       "      <td>0</td>\n",
       "      <td>0</td>\n",
       "      <td>0</td>\n",
       "      <td>0</td>\n",
       "      <td>0</td>\n",
       "      <td>0</td>\n",
       "      <td>0</td>\n",
       "      <td>0</td>\n",
       "      <td>0</td>\n",
       "    </tr>\n",
       "    <tr>\n",
       "      <th>107</th>\n",
       "      <td>5</td>\n",
       "      <td>dc adapt plugin tight fit easili becom loo let...</td>\n",
       "      <td>13</td>\n",
       "      <td>0</td>\n",
       "      <td>11</td>\n",
       "      <td>7</td>\n",
       "      <td>1</td>\n",
       "      <td>7</td>\n",
       "      <td>2</td>\n",
       "      <td>0</td>\n",
       "      <td>0</td>\n",
       "      <td>0</td>\n",
       "      <td>0</td>\n",
       "      <td>0</td>\n",
       "      <td>0</td>\n",
       "      <td>0</td>\n",
       "      <td>0</td>\n",
       "      <td>0</td>\n",
       "    </tr>\n",
       "    <tr>\n",
       "      <th>108</th>\n",
       "      <td>3</td>\n",
       "      <td>second dell laptop first one great replac get ...</td>\n",
       "      <td>7</td>\n",
       "      <td>0</td>\n",
       "      <td>14</td>\n",
       "      <td>8</td>\n",
       "      <td>2</td>\n",
       "      <td>7</td>\n",
       "      <td>2</td>\n",
       "      <td>1</td>\n",
       "      <td>0</td>\n",
       "      <td>1</td>\n",
       "      <td>0</td>\n",
       "      <td>0</td>\n",
       "      <td>1</td>\n",
       "      <td>0</td>\n",
       "      <td>0</td>\n",
       "      <td>0</td>\n",
       "    </tr>\n",
       "    <tr>\n",
       "      <th>109</th>\n",
       "      <td>5</td>\n",
       "      <td>overal laptop ok dont love builtin wifi antenn...</td>\n",
       "      <td>9</td>\n",
       "      <td>1</td>\n",
       "      <td>10</td>\n",
       "      <td>6</td>\n",
       "      <td>0</td>\n",
       "      <td>8</td>\n",
       "      <td>2</td>\n",
       "      <td>1</td>\n",
       "      <td>2</td>\n",
       "      <td>2</td>\n",
       "      <td>0</td>\n",
       "      <td>1</td>\n",
       "      <td>0</td>\n",
       "      <td>1</td>\n",
       "      <td>0</td>\n",
       "      <td>0</td>\n",
       "    </tr>\n",
       "  </tbody>\n",
       "</table>\n",
       "<p>110 rows × 18 columns</p>\n",
       "</div>"
      ],
      "text/plain": [
       "     stars                                      comment_clean  PROPN  SCONJ  \\\n",
       "0        1  purchas laptop upgrad ram gb ssd tb arriv near...     26      2   \n",
       "1        1  item came promptli begin touch screen didnt wo...      2      0   \n",
       "2        1       alreadi issu requir repair beyond inhous guy      2      0   \n",
       "3        2  came even around pm thank usp still work scrat...      3      1   \n",
       "4        3  laptop ok price lack usbc problem especi power...      7      0   \n",
       "..     ...                                                ...    ...    ...   \n",
       "105      4                                      happi product      1      0   \n",
       "106      4                                        best laptop      0      0   \n",
       "107      5  dc adapt plugin tight fit easili becom loo let...     13      0   \n",
       "108      3  second dell laptop first one great replac get ...      7      0   \n",
       "109      5  overal laptop ok dont love builtin wifi antenn...      9      1   \n",
       "\n",
       "     NOUN  VERB  NUM  ADJ  ADV  ADP  AUX  PART  PRON  INTJ  X  DET  CCONJ  SYM  \n",
       "0      17    17    4    6    3    1    0     0     0     0  0    0      0    0  \n",
       "1      12    12    0    1    1    0    1     3     0     0  0    0      0    0  \n",
       "2       3     0    0    1    0    1    0     0     0     0  0    0      0    0  \n",
       "3      18    14    0    7    5    2    1     1     1     0  0    0      0    0  \n",
       "4       8     2    0    3    1    0    0     0     0     0  0    0      0    0  \n",
       "..    ...   ...  ...  ...  ...  ...  ...   ...   ...   ... ..  ...    ...  ...  \n",
       "105     1     0    0    0    0    0    0     0     0     0  0    0      0    0  \n",
       "106     1     0    0    1    0    0    0     0     0     0  0    0      0    0  \n",
       "107    11     7    1    7    2    0    0     0     0     0  0    0      0    0  \n",
       "108    14     8    2    7    2    1    0     1     0     0  1    0      0    0  \n",
       "109    10     6    0    8    2    1    2     2     0     1  0    1      0    0  \n",
       "\n",
       "[110 rows x 18 columns]"
      ]
     },
     "execution_count": 21,
     "metadata": {},
     "output_type": "execute_result"
    }
   ],
   "source": [
    "df"
   ]
  },
  {
   "cell_type": "code",
   "execution_count": null,
   "metadata": {},
   "outputs": [],
   "source": []
  }
 ],
 "metadata": {
  "hide_input": false,
  "kernelspec": {
   "display_name": "Python 3",
   "language": "python",
   "name": "python3"
  },
  "language_info": {
   "codemirror_mode": {
    "name": "ipython",
    "version": 3
   },
   "file_extension": ".py",
   "mimetype": "text/x-python",
   "name": "python",
   "nbconvert_exporter": "python",
   "pygments_lexer": "ipython3",
   "version": "3.7.1"
  },
  "toc": {
   "base_numbering": 1,
   "nav_menu": {},
   "number_sections": true,
   "sideBar": true,
   "skip_h1_title": false,
   "title_cell": "Table of Contents",
   "title_sidebar": "Contents",
   "toc_cell": false,
   "toc_position": {},
   "toc_section_display": true,
   "toc_window_display": false
  },
  "varInspector": {
   "cols": {
    "lenName": 16,
    "lenType": 16,
    "lenVar": 40
   },
   "kernels_config": {
    "python": {
     "delete_cmd_postfix": "",
     "delete_cmd_prefix": "del ",
     "library": "var_list.py",
     "varRefreshCmd": "print(var_dic_list())"
    },
    "r": {
     "delete_cmd_postfix": ") ",
     "delete_cmd_prefix": "rm(",
     "library": "var_list.r",
     "varRefreshCmd": "cat(var_dic_list()) "
    }
   },
   "types_to_exclude": [
    "module",
    "function",
    "builtin_function_or_method",
    "instance",
    "_Feature"
   ],
   "window_display": false
  }
 },
 "nbformat": 4,
 "nbformat_minor": 4
}
