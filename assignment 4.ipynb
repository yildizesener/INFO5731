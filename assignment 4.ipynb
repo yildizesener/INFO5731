{
 "cells": [
  {
   "cell_type": "markdown",
   "metadata": {},
   "source": [
    "# Question 1: Topic Modeling"
   ]
  },
  {
   "cell_type": "code",
   "execution_count": 1,
   "metadata": {},
   "outputs": [],
   "source": [
    "from zipfile import ZipFile\n",
    "import os\n",
    "import pandas as pd\n",
    "import numpy as np"
   ]
  },
  {
   "cell_type": "code",
   "execution_count": 2,
   "metadata": {},
   "outputs": [
    {
     "name": "stdout",
     "output_type": "stream",
     "text": [
      "Extracting all the files now...\n",
      "Done!\n"
     ]
    }
   ],
   "source": [
    "# importing required modules \n",
    "# specifying the zip file name \n",
    "data = \"Assignment four data Yelp (question 1 and 2).zip\"\n",
    "  \n",
    "# opening the zip file in READ mode \n",
    "with ZipFile(data, 'r') as zip: \n",
    "      \n",
    "    # extracting all the files \n",
    "    print('Extracting all the files now...') \n",
    "    zip.extractall() \n",
    "    print('Done!') "
   ]
  },
  {
   "cell_type": "code",
   "execution_count": 51,
   "metadata": {},
   "outputs": [],
   "source": [
    "foldername = 'Assignment four data Yelp (question 1 and 2)'\n",
    "columns = ['review_id', 'business_id', 'user_id', 'text', 'date', 'useful', 'cool', 'funny', 'stars']\n",
    "d = {key : [] for key in columns}\n",
    "for filename in os.listdir(os.path.join(os.getcwd(), foldername)):\n",
    "    with open(os.path.join(os.getcwd(), foldername, filename), 'r') as f: # open in readonly mode\n",
    "        data = pd.read_json(f)\n",
    "        for column in data.columns:\n",
    "            d[column].append(data[column].values)"
   ]
  },
  {
   "cell_type": "code",
   "execution_count": 52,
   "metadata": {},
   "outputs": [],
   "source": [
    "for key, value in d.items():\n",
    "    d[key] = np.array(value).flatten()\n",
    "yelp = pd.DataFrame(d)"
   ]
  },
  {
   "cell_type": "code",
   "execution_count": 4,
   "metadata": {},
   "outputs": [
    {
     "data": {
      "text/html": [
       "<div>\n",
       "<style scoped>\n",
       "    .dataframe tbody tr th:only-of-type {\n",
       "        vertical-align: middle;\n",
       "    }\n",
       "\n",
       "    .dataframe tbody tr th {\n",
       "        vertical-align: top;\n",
       "    }\n",
       "\n",
       "    .dataframe thead th {\n",
       "        text-align: right;\n",
       "    }\n",
       "</style>\n",
       "<table border=\"1\" class=\"dataframe\">\n",
       "  <thead>\n",
       "    <tr style=\"text-align: right;\">\n",
       "      <th></th>\n",
       "      <th>review_id</th>\n",
       "      <th>business_id</th>\n",
       "      <th>user_id</th>\n",
       "      <th>text</th>\n",
       "      <th>date</th>\n",
       "      <th>useful</th>\n",
       "      <th>cool</th>\n",
       "      <th>funny</th>\n",
       "      <th>stars</th>\n",
       "    </tr>\n",
       "  </thead>\n",
       "  <tbody>\n",
       "    <tr>\n",
       "      <th>0</th>\n",
       "      <td>SDR--ohHq1Llp_okVXL7XA</td>\n",
       "      <td>kICgNgVRkIh4doz0atyMMA</td>\n",
       "      <td>qynvfefLolj3khl52JpOMA</td>\n",
       "      <td>Food is nothing special - if one paid $7 a dis...</td>\n",
       "      <td>2013-07-21 07:38:43</td>\n",
       "      <td>2</td>\n",
       "      <td>0</td>\n",
       "      <td>0</td>\n",
       "      <td>2</td>\n",
       "    </tr>\n",
       "    <tr>\n",
       "      <th>1</th>\n",
       "      <td>yHpJ6-icJLe1f_DE-EGVgg</td>\n",
       "      <td>PRz-0bPh1FdszZqt9uq4sQ</td>\n",
       "      <td>dIIKEfOgo0KqUfGQvGikPg</td>\n",
       "      <td>Take me out to the ballgame, take me out to th...</td>\n",
       "      <td>2009-03-27 05:38:00</td>\n",
       "      <td>6</td>\n",
       "      <td>8</td>\n",
       "      <td>6</td>\n",
       "      <td>4</td>\n",
       "    </tr>\n",
       "    <tr>\n",
       "      <th>2</th>\n",
       "      <td>mgVgwKg6J_og9oJCO7Dqqg</td>\n",
       "      <td>l_kefVF1frmC0xRW2YkvUA</td>\n",
       "      <td>Ct77aBDwU0PwJyOhjPTKXQ</td>\n",
       "      <td>Slow service. Food didn't come out right and c...</td>\n",
       "      <td>2017-03-19 01:58:52</td>\n",
       "      <td>1</td>\n",
       "      <td>0</td>\n",
       "      <td>0</td>\n",
       "      <td>1</td>\n",
       "    </tr>\n",
       "    <tr>\n",
       "      <th>3</th>\n",
       "      <td>Dw3HFgMxzFz8Ac2hpqiLbw</td>\n",
       "      <td>YlVgpTsLGrzZNJ039psmIA</td>\n",
       "      <td>YRBvDNPiGCTbvKnGRSZ4ZQ</td>\n",
       "      <td>Food is good, service is unpredictable -- in t...</td>\n",
       "      <td>2014-01-03 19:02:01</td>\n",
       "      <td>0</td>\n",
       "      <td>0</td>\n",
       "      <td>0</td>\n",
       "      <td>2</td>\n",
       "    </tr>\n",
       "    <tr>\n",
       "      <th>4</th>\n",
       "      <td>JRBr5tEKUV-PyqMuegIJhQ</td>\n",
       "      <td>cth3pA7Mj_v2Ka9GeOd0Ng</td>\n",
       "      <td>ifmYEcu9jXiNY7TWW3fCvw</td>\n",
       "      <td>I took my boys to Gene Woods in December  ( we...</td>\n",
       "      <td>2016-07-28 19:03:54</td>\n",
       "      <td>2</td>\n",
       "      <td>3</td>\n",
       "      <td>0</td>\n",
       "      <td>5</td>\n",
       "    </tr>\n",
       "  </tbody>\n",
       "</table>\n",
       "</div>"
      ],
      "text/plain": [
       "                review_id             business_id                 user_id  \\\n",
       "0  SDR--ohHq1Llp_okVXL7XA  kICgNgVRkIh4doz0atyMMA  qynvfefLolj3khl52JpOMA   \n",
       "1  yHpJ6-icJLe1f_DE-EGVgg  PRz-0bPh1FdszZqt9uq4sQ  dIIKEfOgo0KqUfGQvGikPg   \n",
       "2  mgVgwKg6J_og9oJCO7Dqqg  l_kefVF1frmC0xRW2YkvUA  Ct77aBDwU0PwJyOhjPTKXQ   \n",
       "3  Dw3HFgMxzFz8Ac2hpqiLbw  YlVgpTsLGrzZNJ039psmIA  YRBvDNPiGCTbvKnGRSZ4ZQ   \n",
       "4  JRBr5tEKUV-PyqMuegIJhQ  cth3pA7Mj_v2Ka9GeOd0Ng  ifmYEcu9jXiNY7TWW3fCvw   \n",
       "\n",
       "                                                text                date  \\\n",
       "0  Food is nothing special - if one paid $7 a dis... 2013-07-21 07:38:43   \n",
       "1  Take me out to the ballgame, take me out to th... 2009-03-27 05:38:00   \n",
       "2  Slow service. Food didn't come out right and c... 2017-03-19 01:58:52   \n",
       "3  Food is good, service is unpredictable -- in t... 2014-01-03 19:02:01   \n",
       "4  I took my boys to Gene Woods in December  ( we... 2016-07-28 19:03:54   \n",
       "\n",
       "   useful  cool  funny  stars  \n",
       "0       2     0      0      2  \n",
       "1       6     8      6      4  \n",
       "2       1     0      0      1  \n",
       "3       0     0      0      2  \n",
       "4       2     3      0      5  "
      ]
     },
     "execution_count": 4,
     "metadata": {},
     "output_type": "execute_result"
    }
   ],
   "source": [
    "yelp.head()"
   ]
  },
  {
   "cell_type": "code",
   "execution_count": 5,
   "metadata": {},
   "outputs": [
    {
     "data": {
      "text/plain": [
       "(500000, 9)"
      ]
     },
     "execution_count": 5,
     "metadata": {},
     "output_type": "execute_result"
    }
   ],
   "source": [
    "yelp.shape"
   ]
  },
  {
   "cell_type": "code",
   "execution_count": 6,
   "metadata": {},
   "outputs": [
    {
     "name": "stdout",
     "output_type": "stream",
     "text": [
      "<class 'pandas.core.frame.DataFrame'>\n",
      "RangeIndex: 500000 entries, 0 to 499999\n",
      "Data columns (total 9 columns):\n",
      "review_id      500000 non-null object\n",
      "business_id    500000 non-null object\n",
      "user_id        500000 non-null object\n",
      "text           500000 non-null object\n",
      "date           500000 non-null datetime64[ns]\n",
      "useful         500000 non-null int64\n",
      "cool           500000 non-null int64\n",
      "funny          500000 non-null int64\n",
      "stars          500000 non-null int64\n",
      "dtypes: datetime64[ns](1), int64(4), object(4)\n",
      "memory usage: 34.3+ MB\n"
     ]
    }
   ],
   "source": [
    "yelp.info()"
   ]
  },
  {
   "cell_type": "code",
   "execution_count": 7,
   "metadata": {
    "scrolled": true
   },
   "outputs": [
    {
     "data": {
      "text/html": [
       "<div>\n",
       "<style scoped>\n",
       "    .dataframe tbody tr th:only-of-type {\n",
       "        vertical-align: middle;\n",
       "    }\n",
       "\n",
       "    .dataframe tbody tr th {\n",
       "        vertical-align: top;\n",
       "    }\n",
       "\n",
       "    .dataframe thead th {\n",
       "        text-align: right;\n",
       "    }\n",
       "</style>\n",
       "<table border=\"1\" class=\"dataframe\">\n",
       "  <thead>\n",
       "    <tr style=\"text-align: right;\">\n",
       "      <th></th>\n",
       "      <th>useful</th>\n",
       "      <th>cool</th>\n",
       "      <th>funny</th>\n",
       "      <th>stars</th>\n",
       "    </tr>\n",
       "  </thead>\n",
       "  <tbody>\n",
       "    <tr>\n",
       "      <th>count</th>\n",
       "      <td>500000.000000</td>\n",
       "      <td>500000.000000</td>\n",
       "      <td>500000.000000</td>\n",
       "      <td>500000.000000</td>\n",
       "    </tr>\n",
       "    <tr>\n",
       "      <th>mean</th>\n",
       "      <td>1.134950</td>\n",
       "      <td>0.466564</td>\n",
       "      <td>0.384414</td>\n",
       "      <td>3.744078</td>\n",
       "    </tr>\n",
       "    <tr>\n",
       "      <th>std</th>\n",
       "      <td>2.424665</td>\n",
       "      <td>1.495180</td>\n",
       "      <td>1.371608</td>\n",
       "      <td>1.442170</td>\n",
       "    </tr>\n",
       "    <tr>\n",
       "      <th>min</th>\n",
       "      <td>0.000000</td>\n",
       "      <td>0.000000</td>\n",
       "      <td>0.000000</td>\n",
       "      <td>1.000000</td>\n",
       "    </tr>\n",
       "    <tr>\n",
       "      <th>25%</th>\n",
       "      <td>0.000000</td>\n",
       "      <td>0.000000</td>\n",
       "      <td>0.000000</td>\n",
       "      <td>3.000000</td>\n",
       "    </tr>\n",
       "    <tr>\n",
       "      <th>50%</th>\n",
       "      <td>0.000000</td>\n",
       "      <td>0.000000</td>\n",
       "      <td>0.000000</td>\n",
       "      <td>4.000000</td>\n",
       "    </tr>\n",
       "    <tr>\n",
       "      <th>75%</th>\n",
       "      <td>1.000000</td>\n",
       "      <td>0.000000</td>\n",
       "      <td>0.000000</td>\n",
       "      <td>5.000000</td>\n",
       "    </tr>\n",
       "    <tr>\n",
       "      <th>max</th>\n",
       "      <td>151.000000</td>\n",
       "      <td>99.000000</td>\n",
       "      <td>93.000000</td>\n",
       "      <td>5.000000</td>\n",
       "    </tr>\n",
       "  </tbody>\n",
       "</table>\n",
       "</div>"
      ],
      "text/plain": [
       "              useful           cool          funny          stars\n",
       "count  500000.000000  500000.000000  500000.000000  500000.000000\n",
       "mean        1.134950       0.466564       0.384414       3.744078\n",
       "std         2.424665       1.495180       1.371608       1.442170\n",
       "min         0.000000       0.000000       0.000000       1.000000\n",
       "25%         0.000000       0.000000       0.000000       3.000000\n",
       "50%         0.000000       0.000000       0.000000       4.000000\n",
       "75%         1.000000       0.000000       0.000000       5.000000\n",
       "max       151.000000      99.000000      93.000000       5.000000"
      ]
     },
     "execution_count": 7,
     "metadata": {},
     "output_type": "execute_result"
    }
   ],
   "source": [
    "yelp.describe()"
   ]
  },
  {
   "cell_type": "code",
   "execution_count": 8,
   "metadata": {},
   "outputs": [
    {
     "data": {
      "text/html": [
       "<div>\n",
       "<style scoped>\n",
       "    .dataframe tbody tr th:only-of-type {\n",
       "        vertical-align: middle;\n",
       "    }\n",
       "\n",
       "    .dataframe tbody tr th {\n",
       "        vertical-align: top;\n",
       "    }\n",
       "\n",
       "    .dataframe thead th {\n",
       "        text-align: right;\n",
       "    }\n",
       "</style>\n",
       "<table border=\"1\" class=\"dataframe\">\n",
       "  <thead>\n",
       "    <tr style=\"text-align: right;\">\n",
       "      <th></th>\n",
       "      <th>review_id</th>\n",
       "      <th>business_id</th>\n",
       "      <th>user_id</th>\n",
       "      <th>text</th>\n",
       "      <th>date</th>\n",
       "      <th>useful</th>\n",
       "      <th>cool</th>\n",
       "      <th>funny</th>\n",
       "      <th>stars</th>\n",
       "      <th>text length</th>\n",
       "    </tr>\n",
       "  </thead>\n",
       "  <tbody>\n",
       "    <tr>\n",
       "      <th>0</th>\n",
       "      <td>SDR--ohHq1Llp_okVXL7XA</td>\n",
       "      <td>kICgNgVRkIh4doz0atyMMA</td>\n",
       "      <td>qynvfefLolj3khl52JpOMA</td>\n",
       "      <td>Food is nothing special - if one paid $7 a dis...</td>\n",
       "      <td>2013-07-21 07:38:43</td>\n",
       "      <td>2</td>\n",
       "      <td>0</td>\n",
       "      <td>0</td>\n",
       "      <td>2</td>\n",
       "      <td>260</td>\n",
       "    </tr>\n",
       "    <tr>\n",
       "      <th>1</th>\n",
       "      <td>yHpJ6-icJLe1f_DE-EGVgg</td>\n",
       "      <td>PRz-0bPh1FdszZqt9uq4sQ</td>\n",
       "      <td>dIIKEfOgo0KqUfGQvGikPg</td>\n",
       "      <td>Take me out to the ballgame, take me out to th...</td>\n",
       "      <td>2009-03-27 05:38:00</td>\n",
       "      <td>6</td>\n",
       "      <td>8</td>\n",
       "      <td>6</td>\n",
       "      <td>4</td>\n",
       "      <td>872</td>\n",
       "    </tr>\n",
       "    <tr>\n",
       "      <th>2</th>\n",
       "      <td>mgVgwKg6J_og9oJCO7Dqqg</td>\n",
       "      <td>l_kefVF1frmC0xRW2YkvUA</td>\n",
       "      <td>Ct77aBDwU0PwJyOhjPTKXQ</td>\n",
       "      <td>Slow service. Food didn't come out right and c...</td>\n",
       "      <td>2017-03-19 01:58:52</td>\n",
       "      <td>1</td>\n",
       "      <td>0</td>\n",
       "      <td>0</td>\n",
       "      <td>1</td>\n",
       "      <td>277</td>\n",
       "    </tr>\n",
       "    <tr>\n",
       "      <th>3</th>\n",
       "      <td>Dw3HFgMxzFz8Ac2hpqiLbw</td>\n",
       "      <td>YlVgpTsLGrzZNJ039psmIA</td>\n",
       "      <td>YRBvDNPiGCTbvKnGRSZ4ZQ</td>\n",
       "      <td>Food is good, service is unpredictable -- in t...</td>\n",
       "      <td>2014-01-03 19:02:01</td>\n",
       "      <td>0</td>\n",
       "      <td>0</td>\n",
       "      <td>0</td>\n",
       "      <td>2</td>\n",
       "      <td>310</td>\n",
       "    </tr>\n",
       "    <tr>\n",
       "      <th>4</th>\n",
       "      <td>JRBr5tEKUV-PyqMuegIJhQ</td>\n",
       "      <td>cth3pA7Mj_v2Ka9GeOd0Ng</td>\n",
       "      <td>ifmYEcu9jXiNY7TWW3fCvw</td>\n",
       "      <td>I took my boys to Gene Woods in December  ( we...</td>\n",
       "      <td>2016-07-28 19:03:54</td>\n",
       "      <td>2</td>\n",
       "      <td>3</td>\n",
       "      <td>0</td>\n",
       "      <td>5</td>\n",
       "      <td>827</td>\n",
       "    </tr>\n",
       "  </tbody>\n",
       "</table>\n",
       "</div>"
      ],
      "text/plain": [
       "                review_id             business_id                 user_id  \\\n",
       "0  SDR--ohHq1Llp_okVXL7XA  kICgNgVRkIh4doz0atyMMA  qynvfefLolj3khl52JpOMA   \n",
       "1  yHpJ6-icJLe1f_DE-EGVgg  PRz-0bPh1FdszZqt9uq4sQ  dIIKEfOgo0KqUfGQvGikPg   \n",
       "2  mgVgwKg6J_og9oJCO7Dqqg  l_kefVF1frmC0xRW2YkvUA  Ct77aBDwU0PwJyOhjPTKXQ   \n",
       "3  Dw3HFgMxzFz8Ac2hpqiLbw  YlVgpTsLGrzZNJ039psmIA  YRBvDNPiGCTbvKnGRSZ4ZQ   \n",
       "4  JRBr5tEKUV-PyqMuegIJhQ  cth3pA7Mj_v2Ka9GeOd0Ng  ifmYEcu9jXiNY7TWW3fCvw   \n",
       "\n",
       "                                                text                date  \\\n",
       "0  Food is nothing special - if one paid $7 a dis... 2013-07-21 07:38:43   \n",
       "1  Take me out to the ballgame, take me out to th... 2009-03-27 05:38:00   \n",
       "2  Slow service. Food didn't come out right and c... 2017-03-19 01:58:52   \n",
       "3  Food is good, service is unpredictable -- in t... 2014-01-03 19:02:01   \n",
       "4  I took my boys to Gene Woods in December  ( we... 2016-07-28 19:03:54   \n",
       "\n",
       "   useful  cool  funny  stars  text length  \n",
       "0       2     0      0      2          260  \n",
       "1       6     8      6      4          872  \n",
       "2       1     0      0      1          277  \n",
       "3       0     0      0      2          310  \n",
       "4       2     3      0      5          827  "
      ]
     },
     "execution_count": 8,
     "metadata": {},
     "output_type": "execute_result"
    }
   ],
   "source": [
    "yelp['text length'] = yelp['text'].apply(len)\n",
    "yelp.head()"
   ]
  },
  {
   "cell_type": "code",
   "execution_count": 9,
   "metadata": {},
   "outputs": [
    {
     "name": "stdout",
     "output_type": "stream",
     "text": [
      "Postive Reviews:  333,177\n",
      "Negative Reviews:  111,045\n"
     ]
    }
   ],
   "source": [
    "pos_reviews = yelp.text[yelp.stars>3].values\n",
    "neg_reviews = yelp.text[yelp.stars<3].values\n",
    "print('Postive Reviews:  {:,}'.format(len(pos_reviews)))\n",
    "print('Negative Reviews:  {:,}'.format(len(neg_reviews)))"
   ]
  },
  {
   "cell_type": "code",
   "execution_count": 10,
   "metadata": {},
   "outputs": [],
   "source": [
    "# additional stopwords\n",
    "from sklearn.feature_extraction import text \n",
    "extra_words = ['ve', 'like', 'got', 'Cleveland', 'just', \n",
    "               'don', 'really', 'said', 'told', 'ok',\n",
    "               'came', 'went', 'did', 'didn', 'good']\n",
    "stop_words = text.ENGLISH_STOP_WORDS.union(extra_words)"
   ]
  },
  {
   "cell_type": "code",
   "execution_count": 11,
   "metadata": {},
   "outputs": [
    {
     "name": "stderr",
     "output_type": "stream",
     "text": [
      "/Users/yildizesener/anaconda3/lib/python3.7/site-packages/sklearn/feature_extraction/text.py:300: UserWarning: Your stop_words may be inconsistent with your preprocessing. Tokenizing the stop words generated tokens ['cleveland'] not in stop_words.\n",
      "  'stop_words.' % sorted(inconsistent))\n",
      "/Users/yildizesener/anaconda3/lib/python3.7/site-packages/sklearn/feature_extraction/text.py:300: UserWarning: Your stop_words may be inconsistent with your preprocessing. Tokenizing the stop words generated tokens ['cleveland'] not in stop_words.\n",
      "  'stop_words.' % sorted(inconsistent))\n"
     ]
    }
   ],
   "source": [
    "from sklearn.feature_extraction.text import TfidfVectorizer\n",
    "\n",
    "# Create a vectorizer object to generate term document counts\n",
    "tfidf_pos = TfidfVectorizer(stop_words=stop_words, min_df=10, max_df=0.5, \n",
    "                        ngram_range=(1,1), token_pattern='[a-z][a-z]+')\n",
    "\n",
    "tfidf_neg = TfidfVectorizer(stop_words=stop_words, min_df=10, max_df=0.5, \n",
    "                        ngram_range=(1,1), token_pattern='[a-z][a-z]+')\n",
    "\n",
    "# Get random subset of reviews\n",
    "np.random.seed(38)\n",
    "num_reviews = 20000\n",
    "random_neg = np.random.choice(neg_reviews, size=num_reviews)\n",
    "random_pos = np.random.choice(pos_reviews, size=num_reviews)\n",
    "\n",
    "dicty = {'pizzas':'pizza', 'burgers':'burger', 'ordered':'order',\n",
    "         'prices':'price', 'topping':'toppings'}\n",
    "def replace_words(text, dicty):\n",
    "    '''Returns text with word substitutions made according\n",
    "       to the passed `dicty` dictionary'''\n",
    "    for i,j in dicty.items():\n",
    "        text = text.replace(i,j)\n",
    "    return text\n",
    "\n",
    "random_neg = [replace_words(w, dicty) for w in random_neg]\n",
    "random_pos = [replace_words(w, dicty) for w in random_pos]\n",
    "\n",
    "# Get the vectors\n",
    "neg_vectors = tfidf_neg.fit_transform(random_neg)\n",
    "pos_vectors = tfidf_pos.fit_transform(random_pos)"
   ]
  },
  {
   "cell_type": "code",
   "execution_count": 12,
   "metadata": {},
   "outputs": [],
   "source": [
    "# Store TFIDF vectors in a Pandas DataFrame to investigate further\n",
    "neg_df = pd.DataFrame(neg_vectors.todense(), columns=[tfidf_neg.get_feature_names()])\n",
    "pos_df = pd.DataFrame(pos_vectors.todense(), columns=[tfidf_pos.get_feature_names()])\n",
    "\n",
    "# get mean for each column (word): highest means are most important words\n",
    "col_means_neg = {}\n",
    "for col in neg_df:\n",
    "    col_means_neg[col] = neg_df[col].mean()\n",
    "\n",
    "col_means_pos = {}\n",
    "for col in pos_df:\n",
    "    col_means_pos[col] = pos_df[col].mean()"
   ]
  },
  {
   "cell_type": "code",
   "execution_count": 13,
   "metadata": {},
   "outputs": [
    {
     "name": "stdout",
     "output_type": "stream",
     "text": [
      "Top 20 words in POSITIVE reviews:[('great',), ('food',), ('place',), ('service',), ('time',), ('love',), ('best',), ('friendly',), ('amazing',), ('nice',), ('staff',), ('order',), ('delicious',), ('definitely',), ('price',), ('recommend',), ('try',), ('chicken',), ('restaurant',), ('come',)]\n",
      "Top 20 words in NEGATIVE reviews:[('food',), ('service',), ('place',), ('order',), ('time',), ('minutes',), ('bad',), ('people',), ('asked',), ('customer',), ('restaurant',), ('better',), ('come',), ('chicken',), ('great',), ('took',), ('going',), ('staff',), ('pizza',), ('way',)]\n"
     ]
    }
   ],
   "source": [
    "no_top_words = 20\n",
    "\n",
    "print('Top %d words in POSITIVE reviews:' %no_top_words, end='')\n",
    "print(sorted(col_means_pos, key=col_means_pos.get, reverse=True)[:no_top_words])\n",
    "\n",
    "print('Top %d words in NEGATIVE reviews:' %no_top_words, end='')\n",
    "print(sorted(col_means_neg, key=col_means_neg.get, reverse=True)[:no_top_words])"
   ]
  },
  {
   "cell_type": "markdown",
   "metadata": {},
   "source": [
    "# LSA"
   ]
  },
  {
   "cell_type": "code",
   "execution_count": 14,
   "metadata": {},
   "outputs": [],
   "source": [
    "\n",
    "import matplotlib.pyplot as plt\n",
    "%matplotlib inline\n",
    "import seaborn as sns\n",
    "from gensim import corpora, models, similarities, matutils\n",
    "\n",
    "# Convert sparse matrix of counts to a gensim corpus\n",
    "# Need to transpose it for gensim which wants terms by docs instead of docs by terms\n",
    "tfidf_pos_corpus = matutils.Sparse2Corpus(pos_vectors.transpose())\n",
    "tfidf_neg_corpus = matutils.Sparse2Corpus(neg_vectors.transpose())\n",
    "\n",
    "# Row indices\n",
    "id2word_pos = dict((v,k) for k,v in tfidf_pos.vocabulary_.items())\n",
    "id2word_neg = dict((v,k) for k,v in tfidf_neg.vocabulary_.items())\n",
    "\n",
    "# This is a hack for Python 3!\n",
    "id2word_pos = corpora.Dictionary.from_corpus(tfidf_pos_corpus, id2word=id2word_pos)\n",
    "id2word_neg = corpora.Dictionary.from_corpus(tfidf_neg_corpus, id2word=id2word_neg)\n",
    "\n",
    "# create LSA model\n",
    "num_topics = 20\n",
    "lsi_pos = models.LsiModel(tfidf_pos_corpus, id2word=id2word_pos, num_topics=num_topics)\n",
    "lsi_neg = models.LsiModel(tfidf_neg_corpus, id2word=id2word_neg, num_topics=num_topics)"
   ]
  },
  {
   "cell_type": "code",
   "execution_count": 15,
   "metadata": {},
   "outputs": [
    {
     "data": {
      "image/png": "[encoded data removed]",
      "text/plain": [
       "<Figure size 864x360 with 1 Axes>"
      ]
     },
     "metadata": {},
     "output_type": "display_data"
    }
   ],
   "source": [
    "# elbow plot\n",
    "singular_values_pos = lsi_pos.projection.s.tolist()\n",
    "singular_values_pos_rel = [sv/singular_values_pos[-1] for sv in singular_values_pos]\n",
    "singular_values_neg = lsi_neg.projection.s.tolist()\n",
    "singular_values_neg_rel = [sv/singular_values_neg[-1] for sv in singular_values_neg]\n",
    "\n",
    "plt.style.use('fivethirtyeight')\n",
    "plt.figure(figsize=(12,5))\n",
    "plt.plot(range(len(singular_values_pos)), singular_values_pos_rel, label='Positive Reviews', alpha=1.0)\n",
    "plt.plot(range(len(singular_values_neg)), singular_values_neg_rel, label='Negative Reviews', alpha=0.7)\n",
    "plt.xticks(range(len(singular_values_pos)), range(len(singular_values_pos)))\n",
    "plt.xlabel('Topic #')\n",
    "plt.ylabel('Relative Strength')\n",
    "plt.title('LSI Topic Strengths (Relative)')\n",
    "plt.legend(loc=0, fontsize='medium');"
   ]
  },
  {
   "cell_type": "code",
   "execution_count": 16,
   "metadata": {},
   "outputs": [],
   "source": [
    "from pprint import pprint\n",
    "topics_to_print = 20"
   ]
  },
  {
   "cell_type": "code",
   "execution_count": 17,
   "metadata": {},
   "outputs": [
    {
     "name": "stdout",
     "output_type": "stream",
     "text": [
      "Top 20 topics for POSITIVE reviews\n",
      "---------------------------------\n",
      "[(0,\n",
      "  '0.292*\"great\" + 0.278*\"food\" + 0.242*\"place\" + 0.198*\"service\" + '\n",
      "  '0.146*\"time\" + 0.137*\"love\" + 0.128*\"friendly\" + 0.127*\"best\" + '\n",
      "  '0.124*\"amazing\" + 0.124*\"order\"'),\n",
      " (1,\n",
      "  '0.474*\"great\" + -0.233*\"order\" + 0.219*\"service\" + -0.215*\"chicken\" + '\n",
      "  '0.170*\"staff\" + 0.157*\"friendly\" + -0.144*\"pizza\" + -0.131*\"delicious\" + '\n",
      "  '-0.126*\"sauce\" + -0.115*\"rice\"'),\n",
      " (2,\n",
      "  '-0.510*\"food\" + -0.304*\"great\" + -0.227*\"service\" + 0.163*\"time\" + '\n",
      "  '0.114*\"hair\" + 0.101*\"car\" + 0.101*\"work\" + -0.101*\"delicious\" + '\n",
      "  '-0.097*\"chicken\" + 0.096*\"day\"'),\n",
      " (3,\n",
      "  '-0.891*\"pizza\" + -0.205*\"great\" + 0.157*\"sushi\" + -0.122*\"crust\" + '\n",
      "  '-0.083*\"cheese\" + 0.069*\"food\" + -0.065*\"wings\" + 0.059*\"rice\" + '\n",
      "  '-0.054*\"beer\" + -0.054*\"slice\"'),\n",
      " (4,\n",
      "  '0.535*\"love\" + 0.480*\"place\" + 0.380*\"sushi\" + -0.166*\"service\" + '\n",
      "  '-0.117*\"order\" + 0.106*\"best\" + -0.103*\"experience\" + -0.096*\"time\" + '\n",
      "  '-0.091*\"food\" + 0.087*\"favorite\"'),\n",
      " (5,\n",
      "  '0.718*\"sushi\" + -0.259*\"love\" + -0.199*\"place\" + 0.180*\"service\" + '\n",
      "  '-0.162*\"food\" + 0.157*\"roll\" + -0.143*\"staff\" + 0.131*\"best\" + '\n",
      "  '0.129*\"pizza\" + 0.126*\"rolls\"'),\n",
      " (6,\n",
      "  '-0.525*\"great\" + 0.311*\"amazing\" + 0.298*\"food\" + 0.244*\"best\" + '\n",
      "  '0.170*\"service\" + 0.159*\"pizza\" + 0.150*\"recommend\" + -0.143*\"burger\" + '\n",
      "  '0.129*\"highly\" + -0.124*\"beer\"'),\n",
      " (7,\n",
      "  '0.433*\"friendly\" + 0.410*\"staff\" + -0.231*\"amazing\" + -0.212*\"great\" + '\n",
      "  '-0.211*\"burger\" + -0.205*\"love\" + 0.202*\"nice\" + 0.174*\"sushi\" + '\n",
      "  '-0.173*\"best\" + -0.145*\"time\"'),\n",
      " (8,\n",
      "  '0.340*\"food\" + -0.324*\"chicken\" + -0.276*\"friendly\" + -0.242*\"staff\" + '\n",
      "  '-0.216*\"great\" + 0.196*\"place\" + 0.153*\"bar\" + -0.133*\"love\" + 0.133*\"nice\" '\n",
      "  '+ -0.121*\"rice\"'),\n",
      " (9,\n",
      "  '-0.691*\"burger\" + -0.274*\"fries\" + -0.250*\"best\" + 0.198*\"chicken\" + '\n",
      "  '-0.189*\"friendly\" + -0.174*\"staff\" + 0.127*\"great\" + -0.120*\"sushi\" + '\n",
      "  '0.119*\"thai\" + 0.115*\"rice\"'),\n",
      " (10,\n",
      "  '0.468*\"amazing\" + -0.403*\"service\" + -0.231*\"love\" + 0.203*\"staff\" + '\n",
      "  '-0.201*\"customer\" + -0.174*\"price\" + -0.173*\"burger\" + -0.153*\"excellent\" + '\n",
      "  '0.149*\"recommend\" + -0.147*\"fast\"'),\n",
      " (11,\n",
      "  '0.393*\"love\" + 0.273*\"service\" + -0.267*\"place\" + -0.220*\"best\" + '\n",
      "  '-0.214*\"chicken\" + 0.191*\"excellent\" + 0.186*\"delicious\" + -0.170*\"price\" + '\n",
      "  '-0.164*\"food\" + -0.153*\"burger\"'),\n",
      " (12,\n",
      "  '-0.360*\"love\" + 0.342*\"place\" + -0.295*\"food\" + -0.261*\"time\" + '\n",
      "  '0.229*\"breakfast\" + 0.218*\"coffee\" + 0.216*\"best\" + 0.199*\"service\" + '\n",
      "  '0.155*\"amazing\" + 0.138*\"tea\"'),\n",
      " (13,\n",
      "  '-0.611*\"best\" + 0.348*\"place\" + 0.214*\"recommend\" + 0.176*\"burger\" + '\n",
      "  '-0.168*\"vegas\" + 0.161*\"definitely\" + -0.158*\"love\" + 0.149*\"highly\" + '\n",
      "  '-0.147*\"great\" + 0.125*\"amazing\"'),\n",
      " (14,\n",
      "  '-0.368*\"recommend\" + 0.325*\"time\" + -0.325*\"highly\" + -0.255*\"nice\" + '\n",
      "  '-0.228*\"love\" + -0.199*\"excellent\" + -0.147*\"burger\" + 0.143*\"coffee\" + '\n",
      "  '0.141*\"delicious\" + -0.138*\"restaurant\"'),\n",
      " (15,\n",
      "  '-0.413*\"amazing\" + 0.303*\"recommend\" + -0.292*\"nice\" + 0.274*\"highly\" + '\n",
      "  '-0.241*\"chicken\" + -0.189*\"service\" + -0.183*\"room\" + 0.175*\"coffee\" + '\n",
      "  '-0.168*\"hotel\" + 0.122*\"excellent\"'),\n",
      " (16,\n",
      "  '0.307*\"breakfast\" + -0.236*\"service\" + -0.223*\"awesome\" + -0.203*\"bar\" + '\n",
      "  '-0.197*\"tacos\" + -0.194*\"place\" + 0.179*\"food\" + 0.179*\"coffee\" + '\n",
      "  '-0.168*\"happy\" + 0.159*\"lunch\"'),\n",
      " (17,\n",
      "  '0.432*\"time\" + -0.405*\"amazing\" + -0.253*\"price\" + 0.181*\"vegas\" + '\n",
      "  '0.180*\"breakfast\" + 0.162*\"chicken\" + -0.161*\"tea\" + 0.154*\"place\" + '\n",
      "  '0.145*\"recommend\" + 0.130*\"highly\"'),\n",
      " (18,\n",
      "  '0.361*\"breakfast\" + -0.244*\"tea\" + -0.228*\"thai\" + 0.213*\"tacos\" + '\n",
      "  '0.212*\"chicken\" + -0.199*\"ice\" + -0.183*\"cream\" + -0.178*\"time\" + '\n",
      "  '-0.168*\"restaurant\" + 0.159*\"lunch\"'),\n",
      " (19,\n",
      "  '0.400*\"hair\" + 0.279*\"nice\" + -0.228*\"recommend\" + -0.190*\"highly\" + '\n",
      "  '0.186*\"salon\" + -0.166*\"awesome\" + 0.161*\"best\" + 0.148*\"excellent\" + '\n",
      "  '-0.138*\"tea\" + 0.136*\"cut\"')]\n"
     ]
    }
   ],
   "source": [
    "print('Top %d topics for POSITIVE reviews' %(topics_to_print))\n",
    "print('-'*33)\n",
    "pprint(lsi_pos.show_topics()[0:topics_to_print])"
   ]
  },
  {
   "cell_type": "code",
   "execution_count": 18,
   "metadata": {},
   "outputs": [
    {
     "name": "stdout",
     "output_type": "stream",
     "text": [
      "Top 20 topics for NEGATIVE reviews\n",
      "---------------------------------\n",
      "[(0,\n",
      "  '0.275*\"food\" + 0.221*\"order\" + 0.201*\"service\" + 0.191*\"place\" + '\n",
      "  '0.167*\"time\" + 0.131*\"minutes\" + 0.097*\"restaurant\" + 0.097*\"asked\" + '\n",
      "  '0.097*\"bad\" + 0.094*\"people\"'),\n",
      " (1,\n",
      "  '0.382*\"food\" + -0.234*\"car\" + 0.220*\"order\" + 0.195*\"chicken\" + '\n",
      "  '-0.183*\"room\" + -0.143*\"customer\" + -0.130*\"called\" + -0.120*\"hotel\" + '\n",
      "  '0.105*\"pizza\" + -0.100*\"phone\"'),\n",
      " (2,\n",
      "  '0.825*\"pizza\" + -0.282*\"food\" + 0.228*\"order\" + -0.167*\"service\" + '\n",
      "  '0.106*\"delivery\" + 0.104*\"cheese\" + 0.086*\"crust\" + 0.081*\"sauce\" + '\n",
      "  '0.068*\"wings\" + 0.063*\"called\"'),\n",
      " (3,\n",
      "  '0.345*\"minutes\" + 0.283*\"order\" + 0.225*\"service\" + -0.209*\"room\" + '\n",
      "  '-0.194*\"place\" + -0.179*\"chicken\" + 0.173*\"waited\" + 0.146*\"wait\" + '\n",
      "  '-0.144*\"hotel\" + 0.122*\"waiting\"'),\n",
      " (4,\n",
      "  '0.482*\"room\" + -0.329*\"car\" + 0.297*\"hotel\" + -0.187*\"customer\" + '\n",
      "  '-0.183*\"service\" + 0.182*\"minutes\" + 0.147*\"stay\" + 0.127*\"rooms\" + '\n",
      "  '0.121*\"night\" + 0.119*\"table\"'),\n",
      " (5,\n",
      "  '0.404*\"pizza\" + 0.396*\"service\" + -0.329*\"order\" + 0.315*\"food\" + '\n",
      "  '-0.244*\"chicken\" + 0.175*\"customer\" + -0.161*\"car\" + -0.134*\"minutes\" + '\n",
      "  '0.132*\"horrible\" + 0.119*\"place\"'),\n",
      " (6,\n",
      "  '-0.638*\"car\" + 0.264*\"customer\" + 0.217*\"order\" + 0.215*\"chicken\" + '\n",
      "  '-0.212*\"food\" + 0.151*\"service\" + 0.139*\"store\" + 0.136*\"rude\" + '\n",
      "  '-0.133*\"wash\" + -0.124*\"pizza\"'),\n",
      " (7,\n",
      "  '0.347*\"car\" + 0.263*\"order\" + -0.254*\"nails\" + -0.252*\"place\" + '\n",
      "  '0.249*\"room\" + 0.238*\"chicken\" + 0.210*\"service\" + 0.196*\"hotel\" + '\n",
      "  '0.163*\"food\" + -0.142*\"nail\"'),\n",
      " (8,\n",
      "  '0.400*\"food\" + -0.284*\"service\" + 0.233*\"place\" + 0.207*\"time\" + '\n",
      "  '-0.196*\"table\" + -0.194*\"customer\" + -0.183*\"bar\" + 0.172*\"order\" + '\n",
      "  '0.151*\"nails\" + -0.150*\"server\"'),\n",
      " (9,\n",
      "  '-0.465*\"place\" + 0.341*\"nails\" + -0.288*\"order\" + -0.259*\"sushi\" + '\n",
      "  '0.249*\"chicken\" + 0.200*\"food\" + 0.191*\"nail\" + 0.140*\"polish\" + '\n",
      "  '0.129*\"gel\" + 0.116*\"time\"'),\n",
      " (10,\n",
      "  '-0.439*\"burger\" + 0.419*\"sushi\" + -0.223*\"fries\" + -0.192*\"food\" + '\n",
      "  '0.191*\"place\" + 0.172*\"nails\" + 0.142*\"rice\" + 0.139*\"service\" + '\n",
      "  '0.134*\"order\" + -0.134*\"store\"'),\n",
      " (11,\n",
      "  '0.372*\"burger\" + 0.322*\"nails\" + 0.261*\"order\" + 0.216*\"place\" + '\n",
      "  '0.199*\"fries\" + 0.175*\"nail\" + 0.158*\"car\" + -0.147*\"restaurant\" + '\n",
      "  '0.140*\"service\" + -0.134*\"store\"'),\n",
      " (12,\n",
      "  '0.464*\"chicken\" + 0.296*\"minutes\" + -0.271*\"order\" + 0.213*\"wait\" + '\n",
      "  '0.204*\"place\" + -0.159*\"food\" + 0.156*\"line\" + 0.149*\"people\" + '\n",
      "  '0.139*\"waited\" + 0.137*\"staff\"'),\n",
      " (13,\n",
      "  '-0.459*\"sushi\" + -0.276*\"burger\" + -0.244*\"time\" + 0.225*\"place\" + '\n",
      "  '0.198*\"chicken\" + -0.178*\"wait\" + -0.157*\"minutes\" + -0.152*\"service\" + '\n",
      "  '0.139*\"order\" + 0.133*\"food\"'),\n",
      " (14,\n",
      "  '-0.290*\"burger\" + -0.287*\"place\" + 0.285*\"location\" + -0.234*\"called\" + '\n",
      "  '0.199*\"order\" + -0.182*\"chicken\" + 0.154*\"time\" + 0.152*\"line\" + '\n",
      "  '-0.151*\"fries\" + 0.145*\"staff\"'),\n",
      " (15,\n",
      "  '-0.557*\"time\" + 0.296*\"minutes\" + -0.254*\"bar\" + -0.171*\"chicken\" + '\n",
      "  '0.165*\"store\" + -0.135*\"location\" + 0.135*\"line\" + -0.128*\"staff\" + '\n",
      "  '0.127*\"price\" + -0.126*\"times\"'),\n",
      " (16,\n",
      "  '0.273*\"price\" + -0.243*\"worst\" + -0.221*\"horrible\" + 0.191*\"bar\" + '\n",
      "  '0.184*\"service\" + 0.170*\"drinks\" + -0.169*\"rude\" + 0.163*\"hour\" + '\n",
      "  '-0.163*\"table\" + -0.161*\"hair\"'),\n",
      " (17,\n",
      "  '-0.365*\"sushi\" + -0.257*\"burger\" + -0.238*\"chicken\" + 0.225*\"time\" + '\n",
      "  '0.221*\"place\" + -0.200*\"food\" + 0.200*\"steak\" + -0.185*\"bar\" + '\n",
      "  '-0.132*\"people\" + 0.123*\"restaurant\"'),\n",
      " (18,\n",
      "  '-0.385*\"restaurant\" + 0.300*\"hair\" + -0.296*\"staff\" + 0.218*\"bad\" + '\n",
      "  '-0.180*\"burger\" + -0.170*\"rude\" + 0.152*\"store\" + 0.146*\"sandwich\" + '\n",
      "  '-0.142*\"nails\" + -0.140*\"order\"'),\n",
      " (19,\n",
      "  '-0.378*\"bad\" + 0.306*\"time\" + 0.290*\"money\" + -0.287*\"location\" + '\n",
      "  '0.252*\"store\" + 0.205*\"waste\" + -0.187*\"appointment\" + -0.170*\"staff\" + '\n",
      "  '0.162*\"price\" + 0.120*\"worth\"')]\n"
     ]
    }
   ],
   "source": [
    "print('Top %d topics for NEGATIVE reviews' %(topics_to_print))\n",
    "print('-'*33)\n",
    "pprint(lsi_neg.show_topics()[0:topics_to_print])"
   ]
  },
  {
   "cell_type": "markdown",
   "metadata": {},
   "source": [
    "# LDA"
   ]
  },
  {
   "cell_type": "code",
   "execution_count": 19,
   "metadata": {},
   "outputs": [
    {
     "name": "stderr",
     "output_type": "stream",
     "text": [
      "/Users/yildizesener/anaconda3/lib/python3.7/site-packages/sklearn/feature_extraction/text.py:300: UserWarning: Your stop_words may be inconsistent with your preprocessing. Tokenizing the stop words generated tokens ['cleveland'] not in stop_words.\n",
      "  'stop_words.' % sorted(inconsistent))\n",
      "/Users/yildizesener/anaconda3/lib/python3.7/site-packages/sklearn/feature_extraction/text.py:300: UserWarning: Your stop_words may be inconsistent with your preprocessing. Tokenizing the stop words generated tokens ['cleveland'] not in stop_words.\n",
      "  'stop_words.' % sorted(inconsistent))\n"
     ]
    }
   ],
   "source": [
    "from sklearn.feature_extraction.text import CountVectorizer\n",
    "\n",
    "# Create a vectorizer object to generate term document counts\n",
    "cv_pos = CountVectorizer(stop_words=stop_words, min_df=10, max_df=0.5, \n",
    "                        ngram_range=(1,1), token_pattern='[a-z][a-z]+')\n",
    "\n",
    "cv_neg = CountVectorizer(stop_words=stop_words, min_df=10, max_df=0.5, \n",
    "                        ngram_range=(1,1), token_pattern='[a-z][a-z]+')\n",
    "\n",
    "# Get random subset of reviews\n",
    "np.random.seed(38)\n",
    "num_reviews = 15000\n",
    "cv_random_neg = np.random.choice(neg_reviews, size=num_reviews)\n",
    "cv_random_pos = np.random.choice(pos_reviews, size=num_reviews)\n",
    "\n",
    "# replace words from defined dictionary 'dicty'\n",
    "cv_random_neg = [replace_words(w, dicty) for w in cv_random_neg]\n",
    "cv_random_pos = [replace_words(w, dicty) for w in cv_random_pos]\n",
    "\n",
    "# Get the cv vectors\n",
    "cv_neg_vectors = cv_neg.fit_transform(cv_random_neg).transpose()\n",
    "cv_pos_vectors = cv_pos.fit_transform(cv_random_pos).transpose()"
   ]
  },
  {
   "cell_type": "code",
   "execution_count": 20,
   "metadata": {},
   "outputs": [],
   "source": [
    "# Convert sparse matrix of counts to a gensim corpus\n",
    "corpus_neg = matutils.Sparse2Corpus(cv_neg_vectors)\n",
    "corpus_pos = matutils.Sparse2Corpus(cv_pos_vectors)\n",
    "\n",
    "# save a mapping (dict) of row id to word (token) for later use by gensim \n",
    "id2word_cv_pos = dict((v, k) for k, v in cv_pos.vocabulary_.items())\n",
    "id2word_cv_neg = dict((v, k) for k, v in cv_neg.vocabulary_.items())"
   ]
  },
  {
   "cell_type": "code",
   "execution_count": 21,
   "metadata": {},
   "outputs": [],
   "source": [
    "# create lda multicore model\n",
    "lda_pos = models.ldamulticore.LdaMulticore(corpus=corpus_pos, num_topics=20, \n",
    "                                           id2word=id2word_cv_pos, passes=10, workers=15)\n",
    "lda_neg = models.ldamulticore.LdaMulticore(corpus=corpus_neg, num_topics=20, \n",
    "                                           id2word=id2word_cv_neg, passes=10, workers=15)"
   ]
  },
  {
   "cell_type": "code",
   "execution_count": 22,
   "metadata": {},
   "outputs": [
    {
     "name": "stdout",
     "output_type": "stream",
     "text": [
      "Top topics + words for POSITIVE reviews\n",
      "---------------------------------------\n",
      "[(0,\n",
      "  '0.021*\"store\" + 0.018*\"great\" + 0.014*\"service\" + 0.008*\"staff\" + '\n",
      "  '0.008*\"needed\" + 0.008*\"dr\" + 0.008*\"helpful\" + 0.008*\"care\" + '\n",
      "  '0.007*\"customer\" + 0.007*\"day\"'),\n",
      " (1,\n",
      "  '0.022*\"place\" + 0.016*\"great\" + 0.011*\"food\" + 0.009*\"time\" + '\n",
      "  '0.009*\"people\" + 0.007*\"nice\" + 0.007*\"service\" + 0.006*\"work\" + '\n",
      "  '0.006*\"dog\" + 0.005*\"day\"'),\n",
      " (2,\n",
      "  '0.011*\"time\" + 0.008*\"service\" + 0.008*\"order\" + 0.006*\"great\" + '\n",
      "  '0.006*\"best\" + 0.006*\"vegas\" + 0.005*\"place\" + 0.005*\"free\" + 0.005*\"stars\" '\n",
      "  '+ 0.005*\"day\"'),\n",
      " (3,\n",
      "  '0.020*\"food\" + 0.012*\"service\" + 0.011*\"place\" + 0.010*\"restaurant\" + '\n",
      "  '0.009*\"great\" + 0.008*\"time\" + 0.007*\"menu\" + 0.007*\"best\" + 0.006*\"price\" '\n",
      "  '+ 0.006*\"happy\"'),\n",
      " (4,\n",
      "  '0.036*\"great\" + 0.021*\"breakfast\" + 0.020*\"food\" + 0.016*\"place\" + '\n",
      "  '0.013*\"service\" + 0.010*\"brunch\" + 0.008*\"love\" + 0.007*\"staff\" + '\n",
      "  '0.007*\"eggs\" + 0.006*\"friendly\"'),\n",
      " (5,\n",
      "  '0.021*\"room\" + 0.017*\"hotel\" + 0.010*\"nice\" + 0.009*\"cream\" + 0.009*\"ice\" + '\n",
      "  '0.008*\"strip\" + 0.008*\"stay\" + 0.008*\"vegas\" + 0.008*\"place\" + '\n",
      "  '0.007*\"rooms\"'),\n",
      " (6,\n",
      "  '0.044*\"food\" + 0.026*\"place\" + 0.019*\"great\" + 0.015*\"service\" + '\n",
      "  '0.014*\"sushi\" + 0.014*\"order\" + 0.010*\"best\" + 0.009*\"delicious\" + '\n",
      "  '0.009*\"chicken\" + 0.009*\"love\"'),\n",
      " (7,\n",
      "  '0.014*\"great\" + 0.011*\"car\" + 0.010*\"time\" + 0.009*\"new\" + '\n",
      "  '0.008*\"recommend\" + 0.008*\"work\" + 0.008*\"price\" + 0.007*\"service\" + '\n",
      "  '0.006*\"love\" + 0.006*\"day\"'),\n",
      " (8,\n",
      "  '0.038*\"pizza\" + 0.015*\"place\" + 0.010*\"order\" + 0.009*\"great\" + '\n",
      "  '0.008*\"friendly\" + 0.008*\"time\" + 0.008*\"nice\" + 0.006*\"staff\" + '\n",
      "  '0.006*\"cheese\" + 0.006*\"food\"'),\n",
      " (9,\n",
      "  '0.011*\"great\" + 0.009*\"order\" + 0.008*\"delicious\" + 0.008*\"cheese\" + '\n",
      "  '0.008*\"sauce\" + 0.007*\"place\" + 0.007*\"nice\" + 0.007*\"food\" + '\n",
      "  '0.006*\"cooked\" + 0.006*\"try\"'),\n",
      " (10,\n",
      "  '0.015*\"time\" + 0.009*\"place\" + 0.007*\"great\" + 0.006*\"people\" + '\n",
      "  '0.005*\"massage\" + 0.005*\"best\" + 0.005*\"experience\" + 0.005*\"clean\" + '\n",
      "  '0.005*\"nice\" + 0.005*\"make\"'),\n",
      " (11,\n",
      "  '0.018*\"chicken\" + 0.012*\"food\" + 0.011*\"order\" + 0.010*\"sauce\" + '\n",
      "  '0.009*\"place\" + 0.008*\"soup\" + 0.008*\"beef\" + 0.008*\"rice\" + 0.007*\"lunch\" '\n",
      "  '+ 0.007*\"great\"'),\n",
      " (12,\n",
      "  '0.029*\"great\" + 0.026*\"food\" + 0.018*\"place\" + 0.013*\"service\" + '\n",
      "  '0.013*\"bar\" + 0.011*\"time\" + 0.011*\"nice\" + 0.009*\"tacos\" + 0.009*\"beer\" + '\n",
      "  '0.008*\"restaurant\"'),\n",
      " (13,\n",
      "  '0.028*\"tea\" + 0.019*\"place\" + 0.017*\"great\" + 0.012*\"boba\" + 0.011*\"milk\" + '\n",
      "  '0.011*\"love\" + 0.011*\"food\" + 0.010*\"service\" + 0.009*\"friendly\" + '\n",
      "  '0.009*\"staff\"'),\n",
      " (14,\n",
      "  '0.014*\"hair\" + 0.013*\"love\" + 0.013*\"great\" + 0.010*\"fries\" + '\n",
      "  '0.009*\"amazing\" + 0.009*\"best\" + 0.008*\"time\" + 0.008*\"place\" + '\n",
      "  '0.007*\"burger\" + 0.007*\"cut\"'),\n",
      " (15,\n",
      "  '0.039*\"great\" + 0.028*\"place\" + 0.022*\"service\" + 0.014*\"friendly\" + '\n",
      "  '0.012*\"staff\" + 0.010*\"best\" + 0.010*\"awesome\" + 0.009*\"amazing\" + '\n",
      "  '0.009*\"love\" + 0.008*\"clean\"'),\n",
      " (16,\n",
      "  '0.016*\"coffee\" + 0.014*\"place\" + 0.012*\"service\" + 0.012*\"food\" + '\n",
      "  '0.009*\"la\" + 0.009*\"et\" + 0.009*\"time\" + 0.009*\"le\" + 0.008*\"great\" + '\n",
      "  '0.007*\"friendly\"'),\n",
      " (17,\n",
      "  '0.011*\"time\" + 0.011*\"night\" + 0.007*\"know\" + 0.006*\"music\" + 0.006*\"best\" '\n",
      "  '+ 0.005*\"location\" + 0.005*\"right\" + 0.005*\"place\" + 0.005*\"day\" + '\n",
      "  '0.005*\"food\"'),\n",
      " (18,\n",
      "  '0.014*\"order\" + 0.012*\"burger\" + 0.011*\"delicious\" + 0.010*\"service\" + '\n",
      "  '0.009*\"place\" + 0.009*\"great\" + 0.009*\"fresh\" + 0.008*\"food\" + '\n",
      "  '0.008*\"fries\" + 0.007*\"sandwich\"'),\n",
      " (19,\n",
      "  '0.011*\"delicious\" + 0.011*\"order\" + 0.011*\"bread\" + 0.010*\"food\" + '\n",
      "  '0.009*\"restaurant\" + 0.008*\"dessert\" + 0.008*\"menu\" + 0.007*\"amazing\" + '\n",
      "  '0.007*\"great\" + 0.006*\"cheese\"')]\n",
      "\n",
      "Top topics + words for NEGATIVE reviews\n",
      "---------------------------------------\n",
      "[(0,\n",
      "  '0.031*\"car\" + 0.020*\"hair\" + 0.009*\"time\" + 0.008*\"wash\" + 0.007*\"cut\" + '\n",
      "  '0.006*\"oil\" + 0.006*\"people\" + 0.006*\"bus\" + 0.006*\"place\" + '\n",
      "  '0.005*\"wanted\"'),\n",
      " (1,\n",
      "  '0.026*\"food\" + 0.013*\"place\" + 0.013*\"order\" + 0.010*\"bad\" + 0.009*\"burger\" '\n",
      "  '+ 0.008*\"steak\" + 0.008*\"service\" + 0.008*\"fries\" + 0.007*\"eat\" + '\n",
      "  '0.007*\"meat\"'),\n",
      " (2,\n",
      "  '0.036*\"food\" + 0.027*\"service\" + 0.011*\"place\" + 0.010*\"slow\" + '\n",
      "  '0.008*\"night\" + 0.007*\"staff\" + 0.007*\"restaurant\" + 0.007*\"order\" + '\n",
      "  '0.007*\"time\" + 0.006*\"small\"'),\n",
      " (3,\n",
      "  '0.012*\"service\" + 0.009*\"worst\" + 0.009*\"thai\" + 0.008*\"airport\" + '\n",
      "  '0.008*\"people\" + 0.007*\"flight\" + 0.007*\"want\" + 0.006*\"better\" + '\n",
      "  '0.005*\"customer\" + 0.005*\"company\"'),\n",
      " (4,\n",
      "  '0.030*\"room\" + 0.023*\"hotel\" + 0.011*\"stay\" + 0.010*\"rooms\" + 0.008*\"place\" '\n",
      "  '+ 0.007*\"vegas\" + 0.006*\"night\" + 0.006*\"check\" + 0.005*\"time\" + '\n",
      "  '0.005*\"stayed\"'),\n",
      " (5,\n",
      "  '0.031*\"order\" + 0.021*\"food\" + 0.013*\"service\" + 0.012*\"time\" + '\n",
      "  '0.011*\"place\" + 0.011*\"restaurant\" + 0.007*\"minutes\" + 0.007*\"waiter\" + '\n",
      "  '0.007*\"asked\" + 0.007*\"sushi\"'),\n",
      " (6,\n",
      "  '0.018*\"food\" + 0.010*\"restaurant\" + 0.009*\"la\" + 0.008*\"time\" + 0.007*\"le\" '\n",
      "  '+ 0.007*\"est\" + 0.007*\"et\" + 0.006*\"service\" + 0.006*\"place\" + 0.006*\"pas\"'),\n",
      " (7,\n",
      "  '0.016*\"place\" + 0.014*\"nails\" + 0.010*\"time\" + 0.008*\"nail\" + '\n",
      "  '0.007*\"service\" + 0.006*\"order\" + 0.006*\"lady\" + 0.006*\"asked\" + '\n",
      "  '0.005*\"going\" + 0.005*\"polish\"'),\n",
      " (8,\n",
      "  '0.007*\"store\" + 0.007*\"time\" + 0.006*\"going\" + 0.005*\"asked\" + '\n",
      "  '0.005*\"right\" + 0.005*\"people\" + 0.005*\"new\" + 0.004*\"doctor\" + '\n",
      "  '0.004*\"know\" + 0.004*\"office\"'),\n",
      " (9,\n",
      "  '0.014*\"called\" + 0.013*\"time\" + 0.011*\"service\" + 0.010*\"phone\" + '\n",
      "  '0.008*\"day\" + 0.008*\"customer\" + 0.007*\"company\" + 0.006*\"card\" + '\n",
      "  '0.006*\"days\" + 0.005*\"manager\"'),\n",
      " (10,\n",
      "  '0.015*\"food\" + 0.011*\"place\" + 0.010*\"know\" + 0.009*\"order\" + '\n",
      "  '0.006*\"chicken\" + 0.006*\"bbq\" + 0.006*\"service\" + 0.006*\"time\" + '\n",
      "  '0.005*\"office\" + 0.005*\"asked\"'),\n",
      " (11,\n",
      "  '0.018*\"food\" + 0.014*\"chicken\" + 0.014*\"order\" + 0.013*\"place\" + '\n",
      "  '0.009*\"sauce\" + 0.007*\"rice\" + 0.006*\"taste\" + 0.006*\"better\" + '\n",
      "  '0.006*\"cheese\" + 0.006*\"service\"'),\n",
      " (12,\n",
      "  '0.027*\"food\" + 0.017*\"service\" + 0.016*\"table\" + 0.015*\"place\" + '\n",
      "  '0.012*\"server\" + 0.011*\"order\" + 0.009*\"minutes\" + 0.009*\"asked\" + '\n",
      "  '0.007*\"time\" + 0.007*\"tables\"'),\n",
      " (13,\n",
      "  '0.016*\"order\" + 0.015*\"food\" + 0.013*\"time\" + 0.013*\"minutes\" + 0.011*\"ice\" '\n",
      "  '+ 0.010*\"place\" + 0.008*\"wait\" + 0.008*\"people\" + 0.007*\"cream\" + '\n",
      "  '0.007*\"come\"'),\n",
      " (14,\n",
      "  '0.022*\"service\" + 0.019*\"customer\" + 0.018*\"car\" + 0.009*\"time\" + '\n",
      "  '0.007*\"store\" + 0.006*\"place\" + 0.006*\"manager\" + 0.006*\"rude\" + '\n",
      "  '0.005*\"asked\" + 0.005*\"people\"'),\n",
      " (15,\n",
      "  '0.018*\"room\" + 0.010*\"time\" + 0.009*\"minutes\" + 0.006*\"night\" + '\n",
      "  '0.006*\"asked\" + 0.006*\"people\" + 0.006*\"place\" + 0.006*\"desk\" + '\n",
      "  '0.006*\"staff\" + 0.006*\"going\"'),\n",
      " (16,\n",
      "  '0.018*\"food\" + 0.013*\"wait\" + 0.013*\"time\" + 0.012*\"order\" + '\n",
      "  '0.011*\"service\" + 0.010*\"place\" + 0.010*\"minutes\" + 0.009*\"people\" + '\n",
      "  '0.009*\"staff\" + 0.007*\"waiting\"'),\n",
      " (17,\n",
      "  '0.018*\"location\" + 0.017*\"place\" + 0.016*\"food\" + 0.011*\"order\" + '\n",
      "  '0.010*\"time\" + 0.008*\"service\" + 0.008*\"manager\" + 0.007*\"times\" + '\n",
      "  '0.006*\"open\" + 0.006*\"experience\"'),\n",
      " (18,\n",
      "  '0.010*\"time\" + 0.008*\"staff\" + 0.008*\"dog\" + 0.007*\"place\" + 0.006*\"care\" + '\n",
      "  '0.005*\"people\" + 0.005*\"office\" + 0.005*\"great\" + 0.005*\"make\" + '\n",
      "  '0.005*\"money\"'),\n",
      " (19,\n",
      "  '0.070*\"pizza\" + 0.030*\"order\" + 0.013*\"minutes\" + 0.012*\"delivery\" + '\n",
      "  '0.011*\"time\" + 0.008*\"place\" + 0.007*\"cheese\" + 0.007*\"crust\" + '\n",
      "  '0.007*\"called\" + 0.005*\"cold\"')]\n"
     ]
    }
   ],
   "source": [
    "print('Top topics + words for POSITIVE reviews')\n",
    "print('-'*39)\n",
    "pprint(lda_pos.print_topics(num_words=10))\n",
    "\n",
    "print('\\nTop topics + words for NEGATIVE reviews')\n",
    "print('-'*39)\n",
    "pprint(lda_neg.print_topics(num_words=10))"
   ]
  },
  {
   "cell_type": "markdown",
   "metadata": {},
   "source": [
    "# Question 2: Yelp Review Sentiment Analysis"
   ]
  },
  {
   "cell_type": "code",
   "execution_count": 53,
   "metadata": {},
   "outputs": [
    {
     "name": "stdout",
     "output_type": "stream",
     "text": [
      "(346621, 9)\n",
      "2     Slow service. Food didn't come out right and c...\n",
      "4     I took my boys to Gene Woods in December  ( we...\n",
      "6     If I ever get married again, I will definitely...\n",
      "9     I grew up in this area, but moved away over 20...\n",
      "10    Ladies if you want to go to a strip club with ...\n",
      "Name: text, dtype: object\n",
      "2     1\n",
      "4     5\n",
      "6     5\n",
      "9     5\n",
      "10    3\n",
      "Name: stars, dtype: int64\n"
     ]
    }
   ],
   "source": [
    "data_classes = yelp[(yelp['stars']==1) | (yelp['stars']==3) | (yelp['stars']==5)]\n",
    "data_classes.head()\n",
    "print(data_classes.shape)\n",
    "\n",
    "# Seperate the dataset into X and Y for prediction\n",
    "x = data_classes['text']\n",
    "y = data_classes['stars']\n",
    "print(x.head())\n",
    "print(y.head())"
   ]
  },
  {
   "cell_type": "code",
   "execution_count": 54,
   "metadata": {},
   "outputs": [],
   "source": [
    "def text_process(text):\n",
    "    nopunc = [char for char in text if char not in string.punctuation]\n",
    "    nopunc = ''.join(nopunc)\n",
    "    return [word for word in nopunc.split() if word.lower() not in stopwords.words('english')]"
   ]
  },
  {
   "cell_type": "code",
   "execution_count": 58,
   "metadata": {},
   "outputs": [],
   "source": [
    "import string\n",
    "from nltk.corpus import stopwords"
   ]
  },
  {
   "cell_type": "code",
   "execution_count": null,
   "metadata": {},
   "outputs": [],
   "source": [
    "vocab = CountVectorizer(analyzer=text_process).fit(x)\n",
    "print(len(vocab.vocabulary_))\n",
    "r0 = x[0]\n",
    "print(r0)\n",
    "vocab0 = vocab.transform([r0])\n",
    "print(vocab0)"
   ]
  },
  {
   "cell_type": "code",
   "execution_count": null,
   "metadata": {
    "scrolled": true
   },
   "outputs": [],
   "source": [
    "x = vocab.transform(x)\n",
    "\n",
    "print(\"Shape of the sparse matrix: \", x.shape)\n",
    "print(\"Non-Zero occurences: \",x.nnz)\n",
    "density = (x.nnz/(x.shape[0]*x.shape[1]))*100\n",
    "print(\"Density of the matrix = \",density)"
   ]
  },
  {
   "cell_type": "code",
   "execution_count": null,
   "metadata": {},
   "outputs": [],
   "source": [
    "from sklearn.feature_extraction.text import CountVectorizer\n",
    "from sklearn.model_selection import train_test_split, cross_val_score\n",
    "from sklearn.metrics import classification_report\n",
    "from sklearn.metrics import confusion_matrix, accuracy_score, roc_auc_score, roc_curve\n",
    "x_train,x_test,y_train,y_test = train_test_split(x,y,test_size=0.2,random_state=101)"
   ]
  },
  {
   "cell_type": "code",
   "execution_count": null,
   "metadata": {},
   "outputs": [],
   "source": [
    "#Naive Bayes\n",
    "from sklearn.naive_bayes import MultinomialNB\n",
    "mnb = MultinomialNB()\n",
    "mnb.fit(x_train,y_train)\n",
    "predmnb = mnb.predict(x_test)\n",
    "print(\"Confusion Matrix for Multinomial Naive Bayes:\")\n",
    "print(confusion_matrix(y_test,predmnb))\n",
    "print(\"Score:\",round(accuracy_score(y_test,predmnb)*100,2))\n",
    "print(\"Classification Report:\",classification_report(y_test,predmnb))"
   ]
  },
  {
   "cell_type": "code",
   "execution_count": null,
   "metadata": {},
   "outputs": [],
   "source": [
    "# Random Forest\n",
    "from sklearn.ensemble import RandomForestClassifier\n",
    "rmfr = RandomForestClassifier()\n",
    "rmfr.fit(x_train,y_train)\n",
    "predrmfr = rmfr.predict(x_test)\n",
    "print(\"Confusion Matrix for Random Forest Classifier:\")\n",
    "print(confusion_matrix(y_test,predrmfr))\n",
    "print(\"Score:\",round(accuracy_score(y_test,predrmfr)*100,2))\n",
    "print(\"Classification Report:\",classification_report(y_test,predrmfr))"
   ]
  },
  {
   "cell_type": "code",
   "execution_count": null,
   "metadata": {},
   "outputs": [],
   "source": [
    "# Decision Tree\n",
    "from sklearn.tree import DecisionTreeClassifier\n",
    "dt = DecisionTreeClassifier()\n",
    "dt.fit(x_train,y_train)\n",
    "preddt = dt.predict(x_test)\n",
    "print(\"Confusion Matrix for Decision Tree:\")\n",
    "print(confusion_matrix(y_test,preddt))\n",
    "print(\"Score:\",round(accuracy_score(y_test,preddt)*100,2))\n",
    "print(\"Classification Report:\",classification_report(y_test,preddt))"
   ]
  },
  {
   "cell_type": "code",
   "execution_count": null,
   "metadata": {},
   "outputs": [],
   "source": [
    "# Support Vector Machine\n",
    "from sklearn.svm import SVC\n",
    "svm = SVC(random_state=101)\n",
    "svm.fit(x_train,y_train)\n",
    "predsvm = svm.predict(x_test)\n",
    "print(\"Confusion Matrix for Support Vector Machines:\")\n",
    "print(confusion_matrix(y_test,predsvm))\n",
    "print(\"Score:\",round(accuracy_score(y_test,predsvm)*100,2))\n",
    "print(\"Classification Report:\",classification_report(y_test,predsvm))"
   ]
  },
  {
   "cell_type": "code",
   "execution_count": null,
   "metadata": {},
   "outputs": [],
   "source": [
    "# K Nearest Neighbour Algorithm\n",
    "from sklearn.neighbors import KNeighborsClassifier\n",
    "knn = KNeighborsClassifier(n_neighbors=10)\n",
    "knn.fit(x_train,y_train)\n",
    "predknn = knn.predict(x_test)\n",
    "print(\"Confusion Matrix for K Neighbors Classifier:\")\n",
    "print(confusion_matrix(y_test,predknn))\n",
    "print(\"Score: \",round(accuracy_score(y_test,predknn)*100,2))\n",
    "print(\"Classification Report:\")\n",
    "print(classification_report(y_test,predknn))"
   ]
  },
  {
   "cell_type": "code",
   "execution_count": null,
   "metadata": {},
   "outputs": [],
   "source": []
  },
  {
   "cell_type": "markdown",
   "metadata": {},
   "source": [
    "# Question 3: House price prediction"
   ]
  },
  {
   "cell_type": "code",
   "execution_count": 23,
   "metadata": {},
   "outputs": [],
   "source": [
    "train = pd.read_csv('train.csv')\n",
    "test= pd.read_csv('test.csv')"
   ]
  },
  {
   "cell_type": "code",
   "execution_count": 24,
   "metadata": {},
   "outputs": [
    {
     "data": {
      "text/html": [
       "<div>\n",
       "<style scoped>\n",
       "    .dataframe tbody tr th:only-of-type {\n",
       "        vertical-align: middle;\n",
       "    }\n",
       "\n",
       "    .dataframe tbody tr th {\n",
       "        vertical-align: top;\n",
       "    }\n",
       "\n",
       "    .dataframe thead th {\n",
       "        text-align: right;\n",
       "    }\n",
       "</style>\n",
       "<table border=\"1\" class=\"dataframe\">\n",
       "  <thead>\n",
       "    <tr style=\"text-align: right;\">\n",
       "      <th></th>\n",
       "      <th>Id</th>\n",
       "      <th>MSSubClass</th>\n",
       "      <th>MSZoning</th>\n",
       "      <th>LotFrontage</th>\n",
       "      <th>LotArea</th>\n",
       "      <th>Street</th>\n",
       "      <th>Alley</th>\n",
       "      <th>LotShape</th>\n",
       "      <th>LandContour</th>\n",
       "      <th>Utilities</th>\n",
       "      <th>...</th>\n",
       "      <th>PoolArea</th>\n",
       "      <th>PoolQC</th>\n",
       "      <th>Fence</th>\n",
       "      <th>MiscFeature</th>\n",
       "      <th>MiscVal</th>\n",
       "      <th>MoSold</th>\n",
       "      <th>YrSold</th>\n",
       "      <th>SaleType</th>\n",
       "      <th>SaleCondition</th>\n",
       "      <th>SalePrice</th>\n",
       "    </tr>\n",
       "  </thead>\n",
       "  <tbody>\n",
       "    <tr>\n",
       "      <th>0</th>\n",
       "      <td>1</td>\n",
       "      <td>60</td>\n",
       "      <td>RL</td>\n",
       "      <td>65.0</td>\n",
       "      <td>8450</td>\n",
       "      <td>Pave</td>\n",
       "      <td>NaN</td>\n",
       "      <td>Reg</td>\n",
       "      <td>Lvl</td>\n",
       "      <td>AllPub</td>\n",
       "      <td>...</td>\n",
       "      <td>0</td>\n",
       "      <td>NaN</td>\n",
       "      <td>NaN</td>\n",
       "      <td>NaN</td>\n",
       "      <td>0</td>\n",
       "      <td>2</td>\n",
       "      <td>2008</td>\n",
       "      <td>WD</td>\n",
       "      <td>Normal</td>\n",
       "      <td>208500</td>\n",
       "    </tr>\n",
       "    <tr>\n",
       "      <th>1</th>\n",
       "      <td>2</td>\n",
       "      <td>20</td>\n",
       "      <td>RL</td>\n",
       "      <td>80.0</td>\n",
       "      <td>9600</td>\n",
       "      <td>Pave</td>\n",
       "      <td>NaN</td>\n",
       "      <td>Reg</td>\n",
       "      <td>Lvl</td>\n",
       "      <td>AllPub</td>\n",
       "      <td>...</td>\n",
       "      <td>0</td>\n",
       "      <td>NaN</td>\n",
       "      <td>NaN</td>\n",
       "      <td>NaN</td>\n",
       "      <td>0</td>\n",
       "      <td>5</td>\n",
       "      <td>2007</td>\n",
       "      <td>WD</td>\n",
       "      <td>Normal</td>\n",
       "      <td>181500</td>\n",
       "    </tr>\n",
       "    <tr>\n",
       "      <th>2</th>\n",
       "      <td>3</td>\n",
       "      <td>60</td>\n",
       "      <td>RL</td>\n",
       "      <td>68.0</td>\n",
       "      <td>11250</td>\n",
       "      <td>Pave</td>\n",
       "      <td>NaN</td>\n",
       "      <td>IR1</td>\n",
       "      <td>Lvl</td>\n",
       "      <td>AllPub</td>\n",
       "      <td>...</td>\n",
       "      <td>0</td>\n",
       "      <td>NaN</td>\n",
       "      <td>NaN</td>\n",
       "      <td>NaN</td>\n",
       "      <td>0</td>\n",
       "      <td>9</td>\n",
       "      <td>2008</td>\n",
       "      <td>WD</td>\n",
       "      <td>Normal</td>\n",
       "      <td>223500</td>\n",
       "    </tr>\n",
       "    <tr>\n",
       "      <th>3</th>\n",
       "      <td>4</td>\n",
       "      <td>70</td>\n",
       "      <td>RL</td>\n",
       "      <td>60.0</td>\n",
       "      <td>9550</td>\n",
       "      <td>Pave</td>\n",
       "      <td>NaN</td>\n",
       "      <td>IR1</td>\n",
       "      <td>Lvl</td>\n",
       "      <td>AllPub</td>\n",
       "      <td>...</td>\n",
       "      <td>0</td>\n",
       "      <td>NaN</td>\n",
       "      <td>NaN</td>\n",
       "      <td>NaN</td>\n",
       "      <td>0</td>\n",
       "      <td>2</td>\n",
       "      <td>2006</td>\n",
       "      <td>WD</td>\n",
       "      <td>Abnorml</td>\n",
       "      <td>140000</td>\n",
       "    </tr>\n",
       "    <tr>\n",
       "      <th>4</th>\n",
       "      <td>5</td>\n",
       "      <td>60</td>\n",
       "      <td>RL</td>\n",
       "      <td>84.0</td>\n",
       "      <td>14260</td>\n",
       "      <td>Pave</td>\n",
       "      <td>NaN</td>\n",
       "      <td>IR1</td>\n",
       "      <td>Lvl</td>\n",
       "      <td>AllPub</td>\n",
       "      <td>...</td>\n",
       "      <td>0</td>\n",
       "      <td>NaN</td>\n",
       "      <td>NaN</td>\n",
       "      <td>NaN</td>\n",
       "      <td>0</td>\n",
       "      <td>12</td>\n",
       "      <td>2008</td>\n",
       "      <td>WD</td>\n",
       "      <td>Normal</td>\n",
       "      <td>250000</td>\n",
       "    </tr>\n",
       "  </tbody>\n",
       "</table>\n",
       "<p>5 rows × 81 columns</p>\n",
       "</div>"
      ],
      "text/plain": [
       "   Id  MSSubClass MSZoning  LotFrontage  LotArea Street Alley LotShape  \\\n",
       "0   1          60       RL         65.0     8450   Pave   NaN      Reg   \n",
       "1   2          20       RL         80.0     9600   Pave   NaN      Reg   \n",
       "2   3          60       RL         68.0    11250   Pave   NaN      IR1   \n",
       "3   4          70       RL         60.0     9550   Pave   NaN      IR1   \n",
       "4   5          60       RL         84.0    14260   Pave   NaN      IR1   \n",
       "\n",
       "  LandContour Utilities  ... PoolArea PoolQC Fence MiscFeature MiscVal MoSold  \\\n",
       "0         Lvl    AllPub  ...        0    NaN   NaN         NaN       0      2   \n",
       "1         Lvl    AllPub  ...        0    NaN   NaN         NaN       0      5   \n",
       "2         Lvl    AllPub  ...        0    NaN   NaN         NaN       0      9   \n",
       "3         Lvl    AllPub  ...        0    NaN   NaN         NaN       0      2   \n",
       "4         Lvl    AllPub  ...        0    NaN   NaN         NaN       0     12   \n",
       "\n",
       "  YrSold  SaleType  SaleCondition  SalePrice  \n",
       "0   2008        WD         Normal     208500  \n",
       "1   2007        WD         Normal     181500  \n",
       "2   2008        WD         Normal     223500  \n",
       "3   2006        WD        Abnorml     140000  \n",
       "4   2008        WD         Normal     250000  \n",
       "\n",
       "[5 rows x 81 columns]"
      ]
     },
     "execution_count": 24,
     "metadata": {},
     "output_type": "execute_result"
    }
   ],
   "source": [
    "train.head()"
   ]
  },
  {
   "cell_type": "code",
   "execution_count": 25,
   "metadata": {},
   "outputs": [
    {
     "data": {
      "text/html": [
       "<div>\n",
       "<style scoped>\n",
       "    .dataframe tbody tr th:only-of-type {\n",
       "        vertical-align: middle;\n",
       "    }\n",
       "\n",
       "    .dataframe tbody tr th {\n",
       "        vertical-align: top;\n",
       "    }\n",
       "\n",
       "    .dataframe thead th {\n",
       "        text-align: right;\n",
       "    }\n",
       "</style>\n",
       "<table border=\"1\" class=\"dataframe\">\n",
       "  <thead>\n",
       "    <tr style=\"text-align: right;\">\n",
       "      <th></th>\n",
       "      <th>Id</th>\n",
       "      <th>MSSubClass</th>\n",
       "      <th>MSZoning</th>\n",
       "      <th>LotFrontage</th>\n",
       "      <th>LotArea</th>\n",
       "      <th>Street</th>\n",
       "      <th>Alley</th>\n",
       "      <th>LotShape</th>\n",
       "      <th>LandContour</th>\n",
       "      <th>Utilities</th>\n",
       "      <th>...</th>\n",
       "      <th>ScreenPorch</th>\n",
       "      <th>PoolArea</th>\n",
       "      <th>PoolQC</th>\n",
       "      <th>Fence</th>\n",
       "      <th>MiscFeature</th>\n",
       "      <th>MiscVal</th>\n",
       "      <th>MoSold</th>\n",
       "      <th>YrSold</th>\n",
       "      <th>SaleType</th>\n",
       "      <th>SaleCondition</th>\n",
       "    </tr>\n",
       "  </thead>\n",
       "  <tbody>\n",
       "    <tr>\n",
       "      <th>0</th>\n",
       "      <td>1461</td>\n",
       "      <td>20</td>\n",
       "      <td>RH</td>\n",
       "      <td>80.0</td>\n",
       "      <td>11622</td>\n",
       "      <td>Pave</td>\n",
       "      <td>NaN</td>\n",
       "      <td>Reg</td>\n",
       "      <td>Lvl</td>\n",
       "      <td>AllPub</td>\n",
       "      <td>...</td>\n",
       "      <td>120</td>\n",
       "      <td>0</td>\n",
       "      <td>NaN</td>\n",
       "      <td>MnPrv</td>\n",
       "      <td>NaN</td>\n",
       "      <td>0</td>\n",
       "      <td>6</td>\n",
       "      <td>2010</td>\n",
       "      <td>WD</td>\n",
       "      <td>Normal</td>\n",
       "    </tr>\n",
       "    <tr>\n",
       "      <th>1</th>\n",
       "      <td>1462</td>\n",
       "      <td>20</td>\n",
       "      <td>RL</td>\n",
       "      <td>81.0</td>\n",
       "      <td>14267</td>\n",
       "      <td>Pave</td>\n",
       "      <td>NaN</td>\n",
       "      <td>IR1</td>\n",
       "      <td>Lvl</td>\n",
       "      <td>AllPub</td>\n",
       "      <td>...</td>\n",
       "      <td>0</td>\n",
       "      <td>0</td>\n",
       "      <td>NaN</td>\n",
       "      <td>NaN</td>\n",
       "      <td>Gar2</td>\n",
       "      <td>12500</td>\n",
       "      <td>6</td>\n",
       "      <td>2010</td>\n",
       "      <td>WD</td>\n",
       "      <td>Normal</td>\n",
       "    </tr>\n",
       "    <tr>\n",
       "      <th>2</th>\n",
       "      <td>1463</td>\n",
       "      <td>60</td>\n",
       "      <td>RL</td>\n",
       "      <td>74.0</td>\n",
       "      <td>13830</td>\n",
       "      <td>Pave</td>\n",
       "      <td>NaN</td>\n",
       "      <td>IR1</td>\n",
       "      <td>Lvl</td>\n",
       "      <td>AllPub</td>\n",
       "      <td>...</td>\n",
       "      <td>0</td>\n",
       "      <td>0</td>\n",
       "      <td>NaN</td>\n",
       "      <td>MnPrv</td>\n",
       "      <td>NaN</td>\n",
       "      <td>0</td>\n",
       "      <td>3</td>\n",
       "      <td>2010</td>\n",
       "      <td>WD</td>\n",
       "      <td>Normal</td>\n",
       "    </tr>\n",
       "    <tr>\n",
       "      <th>3</th>\n",
       "      <td>1464</td>\n",
       "      <td>60</td>\n",
       "      <td>RL</td>\n",
       "      <td>78.0</td>\n",
       "      <td>9978</td>\n",
       "      <td>Pave</td>\n",
       "      <td>NaN</td>\n",
       "      <td>IR1</td>\n",
       "      <td>Lvl</td>\n",
       "      <td>AllPub</td>\n",
       "      <td>...</td>\n",
       "      <td>0</td>\n",
       "      <td>0</td>\n",
       "      <td>NaN</td>\n",
       "      <td>NaN</td>\n",
       "      <td>NaN</td>\n",
       "      <td>0</td>\n",
       "      <td>6</td>\n",
       "      <td>2010</td>\n",
       "      <td>WD</td>\n",
       "      <td>Normal</td>\n",
       "    </tr>\n",
       "    <tr>\n",
       "      <th>4</th>\n",
       "      <td>1465</td>\n",
       "      <td>120</td>\n",
       "      <td>RL</td>\n",
       "      <td>43.0</td>\n",
       "      <td>5005</td>\n",
       "      <td>Pave</td>\n",
       "      <td>NaN</td>\n",
       "      <td>IR1</td>\n",
       "      <td>HLS</td>\n",
       "      <td>AllPub</td>\n",
       "      <td>...</td>\n",
       "      <td>144</td>\n",
       "      <td>0</td>\n",
       "      <td>NaN</td>\n",
       "      <td>NaN</td>\n",
       "      <td>NaN</td>\n",
       "      <td>0</td>\n",
       "      <td>1</td>\n",
       "      <td>2010</td>\n",
       "      <td>WD</td>\n",
       "      <td>Normal</td>\n",
       "    </tr>\n",
       "  </tbody>\n",
       "</table>\n",
       "<p>5 rows × 80 columns</p>\n",
       "</div>"
      ],
      "text/plain": [
       "     Id  MSSubClass MSZoning  LotFrontage  LotArea Street Alley LotShape  \\\n",
       "0  1461          20       RH         80.0    11622   Pave   NaN      Reg   \n",
       "1  1462          20       RL         81.0    14267   Pave   NaN      IR1   \n",
       "2  1463          60       RL         74.0    13830   Pave   NaN      IR1   \n",
       "3  1464          60       RL         78.0     9978   Pave   NaN      IR1   \n",
       "4  1465         120       RL         43.0     5005   Pave   NaN      IR1   \n",
       "\n",
       "  LandContour Utilities  ... ScreenPorch PoolArea PoolQC  Fence MiscFeature  \\\n",
       "0         Lvl    AllPub  ...         120        0    NaN  MnPrv         NaN   \n",
       "1         Lvl    AllPub  ...           0        0    NaN    NaN        Gar2   \n",
       "2         Lvl    AllPub  ...           0        0    NaN  MnPrv         NaN   \n",
       "3         Lvl    AllPub  ...           0        0    NaN    NaN         NaN   \n",
       "4         HLS    AllPub  ...         144        0    NaN    NaN         NaN   \n",
       "\n",
       "  MiscVal MoSold  YrSold  SaleType  SaleCondition  \n",
       "0       0      6    2010        WD         Normal  \n",
       "1   12500      6    2010        WD         Normal  \n",
       "2       0      3    2010        WD         Normal  \n",
       "3       0      6    2010        WD         Normal  \n",
       "4       0      1    2010        WD         Normal  \n",
       "\n",
       "[5 rows x 80 columns]"
      ]
     },
     "execution_count": 25,
     "metadata": {},
     "output_type": "execute_result"
    }
   ],
   "source": [
    "test.head()"
   ]
  },
  {
   "cell_type": "code",
   "execution_count": 26,
   "metadata": {},
   "outputs": [
    {
     "data": {
      "text/plain": [
       "count      1460.000000\n",
       "mean     180921.195890\n",
       "std       79442.502883\n",
       "min       34900.000000\n",
       "25%      129975.000000\n",
       "50%      163000.000000\n",
       "75%      214000.000000\n",
       "max      755000.000000\n",
       "Name: SalePrice, dtype: float64"
      ]
     },
     "execution_count": 26,
     "metadata": {},
     "output_type": "execute_result"
    }
   ],
   "source": [
    "train['SalePrice'].describe()"
   ]
  },
  {
   "cell_type": "code",
   "execution_count": 27,
   "metadata": {},
   "outputs": [
    {
     "name": "stdout",
     "output_type": "stream",
     "text": [
      "Skewness of the Saleprice target variable is: 1.882876\n",
      "Kurtosis of the Saleprice target variable is: 6.536282\n"
     ]
    }
   ],
   "source": [
    "print(\"Skewness of the Saleprice target variable is: %f\" %train['SalePrice'].skew())\n",
    "print(\"Kurtosis of the Saleprice target variable is: %f\" %train['SalePrice'].kurt())"
   ]
  },
  {
   "cell_type": "code",
   "execution_count": 28,
   "metadata": {},
   "outputs": [],
   "source": [
    "import matplotlib.pyplot as plt\n",
    "import seaborn as sns\n",
    "%matplotlib inline\n",
    "plt.style.use(style=\"ggplot\")\n",
    "plt.rcParams['figure.figsize']=(10,6)"
   ]
  },
  {
   "cell_type": "code",
   "execution_count": 29,
   "metadata": {},
   "outputs": [
    {
     "data": {
      "image/png": "[encoded data removed]",
      "text/plain": [
       "<Figure size 720x432 with 1 Axes>"
      ]
     },
     "metadata": {},
     "output_type": "display_data"
    },
    {
     "data": {
      "text/plain": [
       "<matplotlib.axes._subplots.AxesSubplot at 0x13cfd8470>"
      ]
     },
     "execution_count": 29,
     "metadata": {},
     "output_type": "execute_result"
    },
    {
     "data": {
      "image/png": "[encoded data removed]",
      "text/plain": [
       "<Figure size 720x432 with 1 Axes>"
      ]
     },
     "metadata": {},
     "output_type": "display_data"
    }
   ],
   "source": [
    "plt.hist(train['SalePrice'],color='blue')\n",
    "plt.show()\n",
    "sns.distplot(train['SalePrice'],color='blue')"
   ]
  },
  {
   "cell_type": "code",
   "execution_count": 30,
   "metadata": {},
   "outputs": [
    {
     "name": "stdout",
     "output_type": "stream",
     "text": [
      "Skewness of the Saleprice target variable is: 0.121335\n"
     ]
    },
    {
     "data": {
      "image/png": "[encoded data removed]",
      "text/plain": [
       "<Figure size 720x432 with 1 Axes>"
      ]
     },
     "metadata": {},
     "output_type": "display_data"
    }
   ],
   "source": [
    "target=np.log(train['SalePrice'])\n",
    "print(\"Skewness of the Saleprice target variable is: %f\" %target.skew())\n",
    "plt.hist(target,color=\"blue\")\n",
    "plt.show()"
   ]
  },
  {
   "cell_type": "code",
   "execution_count": 31,
   "metadata": {},
   "outputs": [
    {
     "name": "stdout",
     "output_type": "stream",
     "text": [
      "Id                 int64\n",
      "MSSubClass         int64\n",
      "LotFrontage      float64\n",
      "LotArea            int64\n",
      "OverallQual        int64\n",
      "OverallCond        int64\n",
      "YearBuilt          int64\n",
      "YearRemodAdd       int64\n",
      "MasVnrArea       float64\n",
      "BsmtFinSF1         int64\n",
      "BsmtFinSF2         int64\n",
      "BsmtUnfSF          int64\n",
      "TotalBsmtSF        int64\n",
      "1stFlrSF           int64\n",
      "2ndFlrSF           int64\n",
      "LowQualFinSF       int64\n",
      "GrLivArea          int64\n",
      "BsmtFullBath       int64\n",
      "BsmtHalfBath       int64\n",
      "FullBath           int64\n",
      "HalfBath           int64\n",
      "BedroomAbvGr       int64\n",
      "KitchenAbvGr       int64\n",
      "TotRmsAbvGrd       int64\n",
      "Fireplaces         int64\n",
      "GarageYrBlt      float64\n",
      "GarageCars         int64\n",
      "GarageArea         int64\n",
      "WoodDeckSF         int64\n",
      "OpenPorchSF        int64\n",
      "EnclosedPorch      int64\n",
      "3SsnPorch          int64\n",
      "ScreenPorch        int64\n",
      "PoolArea           int64\n",
      "MiscVal            int64\n",
      "MoSold             int64\n",
      "YrSold             int64\n",
      "SalePrice          int64\n",
      "dtype: object\n",
      "38\n"
     ]
    }
   ],
   "source": [
    "numeric_features=train.select_dtypes(include=[np.number])\n",
    "print(numeric_features.dtypes)\n",
    "print(len(numeric_features.dtypes))"
   ]
  },
  {
   "cell_type": "code",
   "execution_count": 32,
   "metadata": {},
   "outputs": [
    {
     "data": {
      "text/plain": [
       "Index(['MSZoning', 'Street', 'Alley', 'LotShape', 'LandContour', 'Utilities',\n",
       "       'LotConfig', 'LandSlope', 'Neighborhood', 'Condition1', 'Condition2',\n",
       "       'BldgType', 'HouseStyle', 'RoofStyle', 'RoofMatl', 'Exterior1st',\n",
       "       'Exterior2nd', 'MasVnrType', 'ExterQual', 'ExterCond', 'Foundation',\n",
       "       'BsmtQual', 'BsmtCond', 'BsmtExposure', 'BsmtFinType1', 'BsmtFinType2',\n",
       "       'Heating', 'HeatingQC', 'CentralAir', 'Electrical', 'KitchenQual',\n",
       "       'Functional', 'FireplaceQu', 'GarageType', 'GarageFinish', 'GarageQual',\n",
       "       'GarageCond', 'PavedDrive', 'PoolQC', 'Fence', 'MiscFeature',\n",
       "       'SaleType', 'SaleCondition'],\n",
       "      dtype='object')"
      ]
     },
     "execution_count": 32,
     "metadata": {},
     "output_type": "execute_result"
    }
   ],
   "source": [
    "objects=train.select_dtypes(exclude=[np.number])\n",
    "objects.columns"
   ]
  },
  {
   "cell_type": "code",
   "execution_count": 33,
   "metadata": {},
   "outputs": [
    {
     "name": "stdout",
     "output_type": "stream",
     "text": [
      "Pave    1454\n",
      "Grvl       6\n",
      "Name: Street, dtype: int64\n",
      "1    1454\n",
      "0       6\n",
      "Name: encode_street, dtype: int64\n"
     ]
    }
   ],
   "source": [
    "print(train['Street'].value_counts())\n",
    "train['encode_street']=pd.get_dummies(train['Street'],drop_first=True)\n",
    "test['encode_street']=pd.get_dummies(test['Street'],drop_first=True)\n",
    "print(train['encode_street'].value_counts())"
   ]
  },
  {
   "cell_type": "code",
   "execution_count": 34,
   "metadata": {},
   "outputs": [],
   "source": [
    "def encode(x):\n",
    "    return 1 if x=='Partial' else 0\n",
    "train['encode_salecondition']=train['SaleCondition'].apply(encode)\n",
    "test['encode_salecondition']=test['SaleCondition'].apply(encode)"
   ]
  },
  {
   "cell_type": "code",
   "execution_count": 35,
   "metadata": {},
   "outputs": [
    {
     "data": {
      "text/plain": [
       "<matplotlib.axes._subplots.AxesSubplot at 0x1c3a6dfd0>"
      ]
     },
     "execution_count": 35,
     "metadata": {},
     "output_type": "execute_result"
    },
    {
     "data": {
      "image/png": "[encoded data removed]",
      "text/plain": [
       "<Figure size 720x432 with 1 Axes>"
      ]
     },
     "metadata": {},
     "output_type": "display_data"
    }
   ],
   "source": [
    "sale_cond_pivot=train.pivot_table(index='encode_salecondition',values='SalePrice',aggfunc=np.median)\n",
    "sale_cond_pivot.plot(kind='bar',color='blue')"
   ]
  },
  {
   "cell_type": "code",
   "execution_count": 36,
   "metadata": {},
   "outputs": [],
   "source": [
    "data=train.select_dtypes(include=[np.number]).interpolate().dropna()"
   ]
  },
  {
   "cell_type": "code",
   "execution_count": 40,
   "metadata": {},
   "outputs": [],
   "source": [
    "y=np.log(data['SalePrice'])\n",
    "X=data.drop(['Id','SalePrice'],axis=1)"
   ]
  },
  {
   "cell_type": "code",
   "execution_count": 41,
   "metadata": {},
   "outputs": [],
   "source": [
    "from sklearn.model_selection import train_test_split\n",
    "X_train,X_test,y_train,y_test=train_test_split(X,y,test_size=0.33,random_state=42)"
   ]
  },
  {
   "cell_type": "code",
   "execution_count": 42,
   "metadata": {},
   "outputs": [
    {
     "data": {
      "text/plain": [
       "LinearRegression(copy_X=True, fit_intercept=True, n_jobs=None,\n",
       "         normalize=False)"
      ]
     },
     "execution_count": 42,
     "metadata": {},
     "output_type": "execute_result"
    }
   ],
   "source": [
    "from sklearn.linear_model import LinearRegression\n",
    "lr=LinearRegression()\n",
    "lr.fit(X_train,y_train)"
   ]
  },
  {
   "cell_type": "code",
   "execution_count": 43,
   "metadata": {},
   "outputs": [
    {
     "name": "stdout",
     "output_type": "stream",
     "text": [
      "0.8647463410578186\n"
     ]
    }
   ],
   "source": [
    "print(lr.score(X_test,y_test))"
   ]
  },
  {
   "cell_type": "code",
   "execution_count": 44,
   "metadata": {},
   "outputs": [
    {
     "data": {
      "text/plain": [
       "array([11.9279834 , 12.613182  , 11.68259543, 12.05987131, 12.63253959,\n",
       "       11.34017959, 12.36985395, 11.93306706, 11.33361845, 11.8873002 ,\n",
       "       11.90336699, 11.71321408, 11.32671299, 12.16460468, 12.08187177,\n",
       "       11.79864133, 12.22721937, 11.74929298, 11.63970466, 12.27110097,\n",
       "       12.03697898, 12.22741216, 12.12230909, 11.82231934, 12.2132387 ,\n",
       "       11.86591032, 12.19720539, 11.46528684, 12.07106423, 12.11747771,\n",
       "       11.67356399, 12.49781739, 12.14008396, 11.55127135, 12.49627395,\n",
       "       11.94978138, 11.83206113, 12.27481476, 12.76509994, 11.51734167,\n",
       "       11.83795841, 12.39362526, 11.6256284 , 12.62487596, 11.77115464,\n",
       "       11.60810673, 11.5989006 , 11.77156953, 12.86446838, 11.68121561,\n",
       "       11.63786656, 12.2088134 , 11.66507159, 12.70582127, 11.91615344,\n",
       "       12.33997515, 12.32311651, 11.90244966, 11.93379254, 11.70307523,\n",
       "       11.33490715, 11.91328669, 12.5678348 , 12.43842297, 12.58908428,\n",
       "       12.29753883, 11.52421386, 12.71334064, 11.62400915, 11.93456078,\n",
       "       11.78968637, 11.7187907 , 11.49893981, 11.35341803, 12.94507859,\n",
       "       12.04775739, 12.57983999, 12.56209496, 11.74621715, 11.67476228,\n",
       "       11.79152417, 11.3792479 , 11.62342706, 11.67913359, 11.99892527,\n",
       "       11.69442643, 12.55368574, 12.20992809, 11.92959091, 12.24340474,\n",
       "       11.90721598, 11.87679031, 11.72440704, 12.476165  , 11.55438507,\n",
       "       12.17569991, 12.08799772, 12.08571125, 12.24799311, 12.45114515,\n",
       "       12.08495433, 12.25932327, 12.47010856, 11.86851912, 12.05045103,\n",
       "       12.10374712, 12.0738312 , 12.33451364, 11.82945006, 12.14353771,\n",
       "       11.02586449, 11.60959343, 11.87216494, 11.79964036, 12.21399747,\n",
       "       11.78873498, 11.58028074, 11.75506449, 11.92198857, 12.5492933 ,\n",
       "       11.84964536, 11.91056284, 12.11106351, 12.13441067, 12.12766274,\n",
       "       11.72597409, 12.34307469, 11.49562916, 11.85958377, 12.23222275,\n",
       "       12.1379512 , 12.7462388 , 12.15140369, 11.66121646, 11.12320516,\n",
       "       12.73155627, 12.69343592, 11.76561424, 12.34535695, 13.24329132,\n",
       "       12.62861339, 11.74870457, 12.06669841, 11.96301951, 11.67534067,\n",
       "       11.70143329, 12.17846929, 12.14533451, 11.73299436, 11.14063965,\n",
       "       11.47011201, 11.8926277 , 12.34489812, 11.88203642, 11.33722895,\n",
       "       11.68673989, 11.73538264, 11.85661227, 11.42843895, 11.83093624,\n",
       "       12.19481838, 11.85837051, 12.61283631, 11.85992833, 11.58769612,\n",
       "       11.61378655, 12.28918165, 12.66008984, 12.89845112, 12.26534654,\n",
       "       12.80726664, 11.34995121, 11.59849426, 12.07996306, 12.53880616,\n",
       "       11.70346409, 11.70994047, 12.24907055, 11.7023075 , 11.86195715,\n",
       "       12.00191998, 11.5246963 , 11.70959951, 12.06162366, 12.46244754,\n",
       "       11.91047568, 12.60611225, 12.3916847 , 12.18180283, 11.4526644 ,\n",
       "       11.79194641, 11.53542239, 11.80536804, 11.53898617, 12.10415539,\n",
       "       12.08924532, 12.22144811, 11.37980012, 12.267373  , 11.68830168,\n",
       "       12.40008816, 12.22442885, 11.650579  , 12.62606815, 12.21223859,\n",
       "       11.63547916, 12.33240779, 11.81037881, 11.89046307, 11.55789964,\n",
       "       12.47789753, 11.98902995, 11.59363113, 11.89984855, 12.31180257,\n",
       "       12.37882094, 12.29653109, 11.77942993, 11.64566334, 11.81058716,\n",
       "       11.8592249 , 12.30308807, 12.10954435, 11.57373012, 12.35472941,\n",
       "       11.96117979, 11.42145649, 11.54643992, 12.0786501 , 11.42372808,\n",
       "       11.58349224, 12.05854523, 11.76668235, 11.6000878 , 12.3915213 ,\n",
       "       11.80471889, 12.26123037, 11.94818149, 12.40018491, 11.75006015,\n",
       "       11.76324885, 12.49923518, 12.33513268, 12.94863013, 12.09945519,\n",
       "       11.46427834, 11.76803456, 12.14401197, 11.90605464, 11.55223583,\n",
       "       12.10441232, 12.13993242, 11.72917345, 11.4273734 , 11.83040242,\n",
       "       11.88418175, 11.80340711, 11.7214576 , 12.01153402, 12.44618535,\n",
       "       12.60595476, 12.11137096, 11.78574842, 12.41779917, 12.65442257,\n",
       "       12.29802489, 11.98412801, 11.87821592, 11.62165873, 12.14304901,\n",
       "       12.88571966, 12.30029963, 12.28542937, 11.47995197, 11.54972813,\n",
       "       11.84754886, 12.06084423, 12.46086697, 12.25843764, 11.81010153,\n",
       "       12.23910724, 11.46322018, 12.19599575, 11.69135991, 12.57253385,\n",
       "       12.05883641, 12.2477145 , 11.66483831, 12.31948177, 12.27016132,\n",
       "       11.63467409, 11.65696158, 11.78861455, 12.14023904, 11.40530247,\n",
       "       11.97100848, 11.75237063, 11.90383139, 12.05462604, 11.68264066,\n",
       "       12.12567694, 12.32343122, 11.74865581, 11.77982172, 12.1405535 ,\n",
       "       12.38811767, 11.94930748, 12.23538405, 12.31278719, 11.8524939 ,\n",
       "       11.94713412, 12.26061927, 11.44751813, 12.32861355, 11.69716449,\n",
       "       12.1649094 , 12.16285147, 12.04154835, 12.47473202, 11.33702386,\n",
       "       12.22579141, 11.77600039, 11.76431156, 11.44989005, 12.27074939,\n",
       "       11.96882466, 11.76468023, 12.31564257, 11.95037741, 11.50072186,\n",
       "       11.99290723, 11.86274292, 11.90563743, 12.35701242, 11.96785941,\n",
       "       11.72077725, 11.79904214, 11.30983746, 11.45573417, 12.19056124,\n",
       "       12.17680872, 11.90529097, 11.62494398, 12.25469464, 12.46611162,\n",
       "       12.77365524, 12.65508136, 11.69952214, 12.48554614, 11.70649524,\n",
       "       12.5575115 , 12.72859127, 12.41089873, 12.11857934, 12.41550667,\n",
       "       11.65953825, 11.64790879, 11.41778706, 12.2219713 , 12.67073978,\n",
       "       12.12167785, 11.7611089 , 12.41756328, 12.30442886, 11.75100039,\n",
       "       12.15630258, 11.7160795 , 11.61950828, 11.74597993, 11.89809857,\n",
       "       11.64431472, 12.10799594, 11.72254423, 12.25064983, 12.08722317,\n",
       "       11.79946412, 12.16123912, 12.10392814, 11.58889742, 12.30930466,\n",
       "       11.93935586, 12.0252956 , 12.18248273, 11.94536456, 11.69619031,\n",
       "       12.33656356, 11.86000262, 11.64075893, 12.47494724, 12.13102385,\n",
       "       11.73327758, 11.92457245, 11.78089671, 12.73308532, 11.85807806,\n",
       "       12.92081244, 11.77925534, 12.09384094, 12.04814912, 11.807859  ,\n",
       "       12.06765743, 12.86605243, 11.54383523, 11.96110703, 11.79043259,\n",
       "       11.44897367, 12.23016337, 11.77141542, 12.33133401, 12.21703175,\n",
       "       12.31393509, 12.2875729 , 11.35033211, 12.59466773, 11.78526308,\n",
       "       12.74130786, 11.65010009, 12.69181144, 12.48542597, 11.69571641,\n",
       "       12.27993682, 12.39209965, 12.21276237, 12.08542542, 12.46643478,\n",
       "       11.54942962, 12.27872705, 12.16400815, 12.16704971, 12.3047177 ,\n",
       "       11.69671798, 11.90882039, 12.07116954, 11.7734229 , 11.7160555 ,\n",
       "       12.20850715, 11.8046823 , 12.95078057, 12.16884616, 11.79303133,\n",
       "       12.16833417, 12.55825759, 12.32797192, 11.934318  , 12.19579686,\n",
       "       11.75187803, 12.09727581, 12.25185991, 11.74254623, 12.1244957 ,\n",
       "       11.604276  , 11.95641518, 12.38130584, 11.87339366, 11.56278852,\n",
       "       12.2814133 , 12.68679617, 12.74476216, 12.41776588, 11.89353997,\n",
       "       11.68107145, 11.50971841, 11.99439536, 12.19154972, 12.04674705,\n",
       "       12.89255614, 12.3399873 , 12.15291287, 11.54457064, 12.4085732 ,\n",
       "       11.56714548, 11.71154296, 11.63419782, 11.70032504, 12.27514025,\n",
       "       12.48938356, 11.6375183 , 11.67371662, 11.67246807, 12.35642775,\n",
       "       11.80905605, 12.14293742])"
      ]
     },
     "execution_count": 44,
     "metadata": {},
     "output_type": "execute_result"
    }
   ],
   "source": [
    "predictions=lr.predict(X_test)\n",
    "predictions"
   ]
  },
  {
   "cell_type": "code",
   "execution_count": 45,
   "metadata": {},
   "outputs": [],
   "source": [
    "test_data=test.select_dtypes(include=[np.number]).drop(['Id'],axis=1).interpolate()"
   ]
  },
  {
   "cell_type": "code",
   "execution_count": 46,
   "metadata": {},
   "outputs": [
    {
     "data": {
      "text/plain": [
       "array([11.68856268, 11.71858472, 12.03237122, ..., 12.05801099,\n",
       "       11.59342239, 12.38664403])"
      ]
     },
     "execution_count": 46,
     "metadata": {},
     "output_type": "execute_result"
    }
   ],
   "source": [
    "pred=lr.predict(test_data)\n",
    "pred"
   ]
  },
  {
   "cell_type": "code",
   "execution_count": 47,
   "metadata": {},
   "outputs": [
    {
     "data": {
      "text/plain": [
       "array([119200.5537467 , 122833.45845104, 168109.56584158, ...,\n",
       "       172475.58815667, 108382.55137782, 239580.32672689])"
      ]
     },
     "execution_count": 47,
     "metadata": {},
     "output_type": "execute_result"
    }
   ],
   "source": [
    "final_predictions=np.exp(pred)\n",
    "final_predictions"
   ]
  },
  {
   "cell_type": "code",
   "execution_count": null,
   "metadata": {},
   "outputs": [],
   "source": []
  }
 ],
 "metadata": {
  "kernelspec": {
   "display_name": "Python 3",
   "language": "python",
   "name": "python3"
  },
  "language_info": {
   "codemirror_mode": {
    "name": "ipython",
    "version": 3
   },
   "file_extension": ".py",
   "mimetype": "text/x-python",
   "name": "python",
   "nbconvert_exporter": "python",
   "pygments_lexer": "ipython3",
   "version": "3.7.1"
  }
 },
 "nbformat": 4,
 "nbformat_minor": 2
}
