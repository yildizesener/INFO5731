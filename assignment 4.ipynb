{
 "cells": [
  {
   "cell_type": "markdown",
   "metadata": {},
   "source": [
    "# Question 1: Topic Modeling"
   ]
  },
  {
   "cell_type": "code",
   "execution_count": 1,
   "metadata": {},
   "outputs": [],
   "source": [
    "from zipfile import ZipFile\n",
    "import os\n",
    "import pandas as pd\n",
    "import numpy as np\n",
    "import codecs\n",
    "import seaborn as sns\n",
    "import matplotlib.pyplot as plt"
   ]
  },
  {
   "cell_type": "code",
   "execution_count": null,
   "metadata": {},
   "outputs": [],
   "source": [
    "# importing required modules \n",
    "# specifying the zip file name \n",
    "data = \"Assignment four data Yelp (question 1 and 2).zip\"\n",
    "  \n",
    "# opening the zip file in READ mode \n",
    "with ZipFile(data, 'r') as zip: \n",
    "      \n",
    "    # extracting all the files \n",
    "    print('Extracting all the files now...') \n",
    "    zip.extractall() \n",
    "    print('Done!') "
   ]
  },
  {
   "cell_type": "code",
   "execution_count": 2,
   "metadata": {},
   "outputs": [],
   "source": [
    "foldername = 'Assignment four data Yelp (question 1 and 2)'\n",
    "columns = ['review_id', 'business_id', 'user_id', 'text', 'date', 'useful', 'cool', 'funny', 'stars']\n",
    "d = {key : [] for key in columns}\n",
    "for filename in os.listdir(os.path.join(os.getcwd(), foldername)):\n",
    "    with codecs.open(os.path.join(os.getcwd(), foldername, filename), 'r',\n",
    "                     encoding='utf-8', errors='ignore') as f:\n",
    "        data = pd.read_json(f)\n",
    "        for column in data.columns:\n",
    "            d[column].append(data[column].values)"
   ]
  },
  {
   "cell_type": "code",
   "execution_count": 3,
   "metadata": {},
   "outputs": [],
   "source": [
    "for key, value in d.items():\n",
    "    d[key] = np.array(value).flatten()\n",
    "yelp = pd.DataFrame(d)"
   ]
  },
  {
   "cell_type": "code",
   "execution_count": 4,
   "metadata": {},
   "outputs": [
    {
     "data": {
      "text/html": [
       "<div>\n",
       "<style scoped>\n",
       "    .dataframe tbody tr th:only-of-type {\n",
       "        vertical-align: middle;\n",
       "    }\n",
       "\n",
       "    .dataframe tbody tr th {\n",
       "        vertical-align: top;\n",
       "    }\n",
       "\n",
       "    .dataframe thead th {\n",
       "        text-align: right;\n",
       "    }\n",
       "</style>\n",
       "<table border=\"1\" class=\"dataframe\">\n",
       "  <thead>\n",
       "    <tr style=\"text-align: right;\">\n",
       "      <th></th>\n",
       "      <th>review_id</th>\n",
       "      <th>business_id</th>\n",
       "      <th>user_id</th>\n",
       "      <th>text</th>\n",
       "      <th>date</th>\n",
       "      <th>useful</th>\n",
       "      <th>cool</th>\n",
       "      <th>funny</th>\n",
       "      <th>stars</th>\n",
       "    </tr>\n",
       "  </thead>\n",
       "  <tbody>\n",
       "    <tr>\n",
       "      <th>0</th>\n",
       "      <td>xQY8N_XvtGbearJ5X4QryQ</td>\n",
       "      <td>-MhfebM0QIsKt87iDN-FNw</td>\n",
       "      <td>OwjRMXRC0KyPrIlcjaXeFQ</td>\n",
       "      <td>As someone who has worked with many museums, I...</td>\n",
       "      <td>2015-04-15 05:21:16</td>\n",
       "      <td>5</td>\n",
       "      <td>0</td>\n",
       "      <td>0</td>\n",
       "      <td>2</td>\n",
       "    </tr>\n",
       "    <tr>\n",
       "      <th>1</th>\n",
       "      <td>UmFMZ8PyXZTY2QcwzsfQYA</td>\n",
       "      <td>lbrU8StCq3yDfr-QMnGrmQ</td>\n",
       "      <td>nIJD_7ZXHq-FX8byPMOkMQ</td>\n",
       "      <td>I am actually horrified this place is still in...</td>\n",
       "      <td>2013-12-07 03:16:52</td>\n",
       "      <td>1</td>\n",
       "      <td>0</td>\n",
       "      <td>1</td>\n",
       "      <td>1</td>\n",
       "    </tr>\n",
       "    <tr>\n",
       "      <th>2</th>\n",
       "      <td>LG2ZaYiOgpr2DK_90pYjNw</td>\n",
       "      <td>HQl28KMwrEKHqhFrrDqVNQ</td>\n",
       "      <td>V34qejxNsCbcgD8C0HVk-Q</td>\n",
       "      <td>I love Deagan's. I do. I really do. The atmosp...</td>\n",
       "      <td>2015-12-05 03:18:11</td>\n",
       "      <td>1</td>\n",
       "      <td>0</td>\n",
       "      <td>0</td>\n",
       "      <td>5</td>\n",
       "    </tr>\n",
       "    <tr>\n",
       "      <th>3</th>\n",
       "      <td>i6g_oA9Yf9Y31qt0wibXpw</td>\n",
       "      <td>5JxlZaqCnk1MnbgRirs40Q</td>\n",
       "      <td>ofKDkJKXSKZXu5xJNGiiBQ</td>\n",
       "      <td>Dismal, lukewarm, defrosted-tasting \"TexMex\" g...</td>\n",
       "      <td>2011-05-27 05:30:52</td>\n",
       "      <td>0</td>\n",
       "      <td>0</td>\n",
       "      <td>0</td>\n",
       "      <td>1</td>\n",
       "    </tr>\n",
       "    <tr>\n",
       "      <th>4</th>\n",
       "      <td>6TdNDKywdbjoTkizeMce8A</td>\n",
       "      <td>IS4cv902ykd8wj1TR0N3-A</td>\n",
       "      <td>UgMW8bLE0QMJDCkQ1Ax5Mg</td>\n",
       "      <td>Oh happy day, finally have a Canes near my cas...</td>\n",
       "      <td>2017-01-14 21:56:57</td>\n",
       "      <td>0</td>\n",
       "      <td>0</td>\n",
       "      <td>0</td>\n",
       "      <td>4</td>\n",
       "    </tr>\n",
       "  </tbody>\n",
       "</table>\n",
       "</div>"
      ],
      "text/plain": [
       "                review_id             business_id                 user_id  \\\n",
       "0  xQY8N_XvtGbearJ5X4QryQ  -MhfebM0QIsKt87iDN-FNw  OwjRMXRC0KyPrIlcjaXeFQ   \n",
       "1  UmFMZ8PyXZTY2QcwzsfQYA  lbrU8StCq3yDfr-QMnGrmQ  nIJD_7ZXHq-FX8byPMOkMQ   \n",
       "2  LG2ZaYiOgpr2DK_90pYjNw  HQl28KMwrEKHqhFrrDqVNQ  V34qejxNsCbcgD8C0HVk-Q   \n",
       "3  i6g_oA9Yf9Y31qt0wibXpw  5JxlZaqCnk1MnbgRirs40Q  ofKDkJKXSKZXu5xJNGiiBQ   \n",
       "4  6TdNDKywdbjoTkizeMce8A  IS4cv902ykd8wj1TR0N3-A  UgMW8bLE0QMJDCkQ1Ax5Mg   \n",
       "\n",
       "                                                text                date  \\\n",
       "0  As someone who has worked with many museums, I... 2015-04-15 05:21:16   \n",
       "1  I am actually horrified this place is still in... 2013-12-07 03:16:52   \n",
       "2  I love Deagan's. I do. I really do. The atmosp... 2015-12-05 03:18:11   \n",
       "3  Dismal, lukewarm, defrosted-tasting \"TexMex\" g... 2011-05-27 05:30:52   \n",
       "4  Oh happy day, finally have a Canes near my cas... 2017-01-14 21:56:57   \n",
       "\n",
       "   useful  cool  funny  stars  \n",
       "0       5     0      0      2  \n",
       "1       1     0      1      1  \n",
       "2       1     0      0      5  \n",
       "3       0     0      0      1  \n",
       "4       0     0      0      4  "
      ]
     },
     "execution_count": 4,
     "metadata": {},
     "output_type": "execute_result"
    }
   ],
   "source": [
    "yelp.head()"
   ]
  },
  {
   "cell_type": "code",
   "execution_count": 5,
   "metadata": {},
   "outputs": [
    {
     "name": "stdout",
     "output_type": "stream",
     "text": [
      "<class 'pandas.core.frame.DataFrame'>\n",
      "RangeIndex: 500000 entries, 0 to 499999\n",
      "Data columns (total 9 columns):\n",
      " #   Column       Non-Null Count   Dtype         \n",
      "---  ------       --------------   -----         \n",
      " 0   review_id    500000 non-null  object        \n",
      " 1   business_id  500000 non-null  object        \n",
      " 2   user_id      500000 non-null  object        \n",
      " 3   text         500000 non-null  object        \n",
      " 4   date         500000 non-null  datetime64[ns]\n",
      " 5   useful       500000 non-null  int64         \n",
      " 6   cool         500000 non-null  int64         \n",
      " 7   funny        500000 non-null  int64         \n",
      " 8   stars        500000 non-null  int64         \n",
      "dtypes: datetime64[ns](1), int64(4), object(4)\n",
      "memory usage: 34.3+ MB\n"
     ]
    }
   ],
   "source": [
    "yelp.info()"
   ]
  },
  {
   "cell_type": "code",
   "execution_count": 6,
   "metadata": {
    "scrolled": true
   },
   "outputs": [
    {
     "data": {
      "text/html": [
       "<div>\n",
       "<style scoped>\n",
       "    .dataframe tbody tr th:only-of-type {\n",
       "        vertical-align: middle;\n",
       "    }\n",
       "\n",
       "    .dataframe tbody tr th {\n",
       "        vertical-align: top;\n",
       "    }\n",
       "\n",
       "    .dataframe thead th {\n",
       "        text-align: right;\n",
       "    }\n",
       "</style>\n",
       "<table border=\"1\" class=\"dataframe\">\n",
       "  <thead>\n",
       "    <tr style=\"text-align: right;\">\n",
       "      <th></th>\n",
       "      <th>useful</th>\n",
       "      <th>cool</th>\n",
       "      <th>funny</th>\n",
       "      <th>stars</th>\n",
       "    </tr>\n",
       "  </thead>\n",
       "  <tbody>\n",
       "    <tr>\n",
       "      <th>count</th>\n",
       "      <td>500000.000000</td>\n",
       "      <td>500000.000000</td>\n",
       "      <td>500000.000000</td>\n",
       "      <td>500000.000000</td>\n",
       "    </tr>\n",
       "    <tr>\n",
       "      <th>mean</th>\n",
       "      <td>1.134950</td>\n",
       "      <td>0.466564</td>\n",
       "      <td>0.384414</td>\n",
       "      <td>3.744078</td>\n",
       "    </tr>\n",
       "    <tr>\n",
       "      <th>std</th>\n",
       "      <td>2.424665</td>\n",
       "      <td>1.495180</td>\n",
       "      <td>1.371608</td>\n",
       "      <td>1.442170</td>\n",
       "    </tr>\n",
       "    <tr>\n",
       "      <th>min</th>\n",
       "      <td>0.000000</td>\n",
       "      <td>0.000000</td>\n",
       "      <td>0.000000</td>\n",
       "      <td>1.000000</td>\n",
       "    </tr>\n",
       "    <tr>\n",
       "      <th>25%</th>\n",
       "      <td>0.000000</td>\n",
       "      <td>0.000000</td>\n",
       "      <td>0.000000</td>\n",
       "      <td>3.000000</td>\n",
       "    </tr>\n",
       "    <tr>\n",
       "      <th>50%</th>\n",
       "      <td>0.000000</td>\n",
       "      <td>0.000000</td>\n",
       "      <td>0.000000</td>\n",
       "      <td>4.000000</td>\n",
       "    </tr>\n",
       "    <tr>\n",
       "      <th>75%</th>\n",
       "      <td>1.000000</td>\n",
       "      <td>0.000000</td>\n",
       "      <td>0.000000</td>\n",
       "      <td>5.000000</td>\n",
       "    </tr>\n",
       "    <tr>\n",
       "      <th>max</th>\n",
       "      <td>151.000000</td>\n",
       "      <td>99.000000</td>\n",
       "      <td>93.000000</td>\n",
       "      <td>5.000000</td>\n",
       "    </tr>\n",
       "  </tbody>\n",
       "</table>\n",
       "</div>"
      ],
      "text/plain": [
       "              useful           cool          funny          stars\n",
       "count  500000.000000  500000.000000  500000.000000  500000.000000\n",
       "mean        1.134950       0.466564       0.384414       3.744078\n",
       "std         2.424665       1.495180       1.371608       1.442170\n",
       "min         0.000000       0.000000       0.000000       1.000000\n",
       "25%         0.000000       0.000000       0.000000       3.000000\n",
       "50%         0.000000       0.000000       0.000000       4.000000\n",
       "75%         1.000000       0.000000       0.000000       5.000000\n",
       "max       151.000000      99.000000      93.000000       5.000000"
      ]
     },
     "execution_count": 6,
     "metadata": {},
     "output_type": "execute_result"
    }
   ],
   "source": [
    "yelp.describe()"
   ]
  },
  {
   "cell_type": "code",
   "execution_count": 7,
   "metadata": {},
   "outputs": [
    {
     "data": {
      "text/html": [
       "<div>\n",
       "<style scoped>\n",
       "    .dataframe tbody tr th:only-of-type {\n",
       "        vertical-align: middle;\n",
       "    }\n",
       "\n",
       "    .dataframe tbody tr th {\n",
       "        vertical-align: top;\n",
       "    }\n",
       "\n",
       "    .dataframe thead th {\n",
       "        text-align: right;\n",
       "    }\n",
       "</style>\n",
       "<table border=\"1\" class=\"dataframe\">\n",
       "  <thead>\n",
       "    <tr style=\"text-align: right;\">\n",
       "      <th></th>\n",
       "      <th>review_id</th>\n",
       "      <th>business_id</th>\n",
       "      <th>user_id</th>\n",
       "      <th>text</th>\n",
       "      <th>date</th>\n",
       "      <th>useful</th>\n",
       "      <th>cool</th>\n",
       "      <th>funny</th>\n",
       "      <th>stars</th>\n",
       "      <th>text length</th>\n",
       "    </tr>\n",
       "  </thead>\n",
       "  <tbody>\n",
       "    <tr>\n",
       "      <th>0</th>\n",
       "      <td>xQY8N_XvtGbearJ5X4QryQ</td>\n",
       "      <td>-MhfebM0QIsKt87iDN-FNw</td>\n",
       "      <td>OwjRMXRC0KyPrIlcjaXeFQ</td>\n",
       "      <td>As someone who has worked with many museums, I...</td>\n",
       "      <td>2015-04-15 05:21:16</td>\n",
       "      <td>5</td>\n",
       "      <td>0</td>\n",
       "      <td>0</td>\n",
       "      <td>2</td>\n",
       "      <td>1373</td>\n",
       "    </tr>\n",
       "    <tr>\n",
       "      <th>1</th>\n",
       "      <td>UmFMZ8PyXZTY2QcwzsfQYA</td>\n",
       "      <td>lbrU8StCq3yDfr-QMnGrmQ</td>\n",
       "      <td>nIJD_7ZXHq-FX8byPMOkMQ</td>\n",
       "      <td>I am actually horrified this place is still in...</td>\n",
       "      <td>2013-12-07 03:16:52</td>\n",
       "      <td>1</td>\n",
       "      <td>0</td>\n",
       "      <td>1</td>\n",
       "      <td>1</td>\n",
       "      <td>1407</td>\n",
       "    </tr>\n",
       "    <tr>\n",
       "      <th>2</th>\n",
       "      <td>LG2ZaYiOgpr2DK_90pYjNw</td>\n",
       "      <td>HQl28KMwrEKHqhFrrDqVNQ</td>\n",
       "      <td>V34qejxNsCbcgD8C0HVk-Q</td>\n",
       "      <td>I love Deagan's. I do. I really do. The atmosp...</td>\n",
       "      <td>2015-12-05 03:18:11</td>\n",
       "      <td>1</td>\n",
       "      <td>0</td>\n",
       "      <td>0</td>\n",
       "      <td>5</td>\n",
       "      <td>431</td>\n",
       "    </tr>\n",
       "    <tr>\n",
       "      <th>3</th>\n",
       "      <td>i6g_oA9Yf9Y31qt0wibXpw</td>\n",
       "      <td>5JxlZaqCnk1MnbgRirs40Q</td>\n",
       "      <td>ofKDkJKXSKZXu5xJNGiiBQ</td>\n",
       "      <td>Dismal, lukewarm, defrosted-tasting \"TexMex\" g...</td>\n",
       "      <td>2011-05-27 05:30:52</td>\n",
       "      <td>0</td>\n",
       "      <td>0</td>\n",
       "      <td>0</td>\n",
       "      <td>1</td>\n",
       "      <td>401</td>\n",
       "    </tr>\n",
       "    <tr>\n",
       "      <th>4</th>\n",
       "      <td>6TdNDKywdbjoTkizeMce8A</td>\n",
       "      <td>IS4cv902ykd8wj1TR0N3-A</td>\n",
       "      <td>UgMW8bLE0QMJDCkQ1Ax5Mg</td>\n",
       "      <td>Oh happy day, finally have a Canes near my cas...</td>\n",
       "      <td>2017-01-14 21:56:57</td>\n",
       "      <td>0</td>\n",
       "      <td>0</td>\n",
       "      <td>0</td>\n",
       "      <td>4</td>\n",
       "      <td>841</td>\n",
       "    </tr>\n",
       "  </tbody>\n",
       "</table>\n",
       "</div>"
      ],
      "text/plain": [
       "                review_id             business_id                 user_id  \\\n",
       "0  xQY8N_XvtGbearJ5X4QryQ  -MhfebM0QIsKt87iDN-FNw  OwjRMXRC0KyPrIlcjaXeFQ   \n",
       "1  UmFMZ8PyXZTY2QcwzsfQYA  lbrU8StCq3yDfr-QMnGrmQ  nIJD_7ZXHq-FX8byPMOkMQ   \n",
       "2  LG2ZaYiOgpr2DK_90pYjNw  HQl28KMwrEKHqhFrrDqVNQ  V34qejxNsCbcgD8C0HVk-Q   \n",
       "3  i6g_oA9Yf9Y31qt0wibXpw  5JxlZaqCnk1MnbgRirs40Q  ofKDkJKXSKZXu5xJNGiiBQ   \n",
       "4  6TdNDKywdbjoTkizeMce8A  IS4cv902ykd8wj1TR0N3-A  UgMW8bLE0QMJDCkQ1Ax5Mg   \n",
       "\n",
       "                                                text                date  \\\n",
       "0  As someone who has worked with many museums, I... 2015-04-15 05:21:16   \n",
       "1  I am actually horrified this place is still in... 2013-12-07 03:16:52   \n",
       "2  I love Deagan's. I do. I really do. The atmosp... 2015-12-05 03:18:11   \n",
       "3  Dismal, lukewarm, defrosted-tasting \"TexMex\" g... 2011-05-27 05:30:52   \n",
       "4  Oh happy day, finally have a Canes near my cas... 2017-01-14 21:56:57   \n",
       "\n",
       "   useful  cool  funny  stars  text length  \n",
       "0       5     0      0      2         1373  \n",
       "1       1     0      1      1         1407  \n",
       "2       1     0      0      5          431  \n",
       "3       0     0      0      1          401  \n",
       "4       0     0      0      4          841  "
      ]
     },
     "execution_count": 7,
     "metadata": {},
     "output_type": "execute_result"
    }
   ],
   "source": [
    "yelp['text length'] = yelp['text'].apply(len)\n",
    "yelp.head()"
   ]
  },
  {
   "cell_type": "code",
   "execution_count": 8,
   "metadata": {
    "scrolled": true
   },
   "outputs": [
    {
     "data": {
      "image/png": "[encoded data removed]",
      "text/plain": [
       "<Figure size 1080x216 with 5 Axes>"
      ]
     },
     "metadata": {
      "needs_background": "light"
     },
     "output_type": "display_data"
    }
   ],
   "source": [
    "graph = sns.FacetGrid(data=yelp,col='stars')\n",
    "graph.map(plt.hist,'text length',bins=50,color='gray')\n",
    "plt.tight_layout()\n",
    "plt.show()"
   ]
  },
  {
   "cell_type": "code",
   "execution_count": 9,
   "metadata": {},
   "outputs": [
    {
     "data": {
      "image/png": "[encoded data removed]",
      "text/plain": [
       "<Figure size 432x288 with 1 Axes>"
      ]
     },
     "metadata": {
      "needs_background": "light"
     },
     "output_type": "display_data"
    }
   ],
   "source": [
    "sns.boxplot(x='stars', y='text length', data=yelp)\n",
    "plt.show()"
   ]
  },
  {
   "cell_type": "code",
   "execution_count": 10,
   "metadata": {},
   "outputs": [
    {
     "data": {
      "text/html": [
       "<div>\n",
       "<style scoped>\n",
       "    .dataframe tbody tr th:only-of-type {\n",
       "        vertical-align: middle;\n",
       "    }\n",
       "\n",
       "    .dataframe tbody tr th {\n",
       "        vertical-align: top;\n",
       "    }\n",
       "\n",
       "    .dataframe thead th {\n",
       "        text-align: right;\n",
       "    }\n",
       "</style>\n",
       "<table border=\"1\" class=\"dataframe\">\n",
       "  <thead>\n",
       "    <tr style=\"text-align: right;\">\n",
       "      <th></th>\n",
       "      <th>useful</th>\n",
       "      <th>cool</th>\n",
       "      <th>funny</th>\n",
       "      <th>text length</th>\n",
       "    </tr>\n",
       "  </thead>\n",
       "  <tbody>\n",
       "    <tr>\n",
       "      <th>useful</th>\n",
       "      <td>1.000000</td>\n",
       "      <td>-0.777701</td>\n",
       "      <td>0.830127</td>\n",
       "      <td>0.771346</td>\n",
       "    </tr>\n",
       "    <tr>\n",
       "      <th>cool</th>\n",
       "      <td>-0.777701</td>\n",
       "      <td>1.000000</td>\n",
       "      <td>-0.492541</td>\n",
       "      <td>-0.506086</td>\n",
       "    </tr>\n",
       "    <tr>\n",
       "      <th>funny</th>\n",
       "      <td>0.830127</td>\n",
       "      <td>-0.492541</td>\n",
       "      <td>1.000000</td>\n",
       "      <td>0.986781</td>\n",
       "    </tr>\n",
       "    <tr>\n",
       "      <th>text length</th>\n",
       "      <td>0.771346</td>\n",
       "      <td>-0.506086</td>\n",
       "      <td>0.986781</td>\n",
       "      <td>1.000000</td>\n",
       "    </tr>\n",
       "  </tbody>\n",
       "</table>\n",
       "</div>"
      ],
      "text/plain": [
       "               useful      cool     funny  text length\n",
       "useful       1.000000 -0.777701  0.830127     0.771346\n",
       "cool        -0.777701  1.000000 -0.492541    -0.506086\n",
       "funny        0.830127 -0.492541  1.000000     0.986781\n",
       "text length  0.771346 -0.506086  0.986781     1.000000"
      ]
     },
     "execution_count": 10,
     "metadata": {},
     "output_type": "execute_result"
    }
   ],
   "source": [
    "stars = yelp.groupby('stars').mean()\n",
    "stars.corr()"
   ]
  },
  {
   "cell_type": "code",
   "execution_count": 11,
   "metadata": {},
   "outputs": [
    {
     "data": {
      "image/png": "[encoded data removed]",
      "text/plain": [
       "<Figure size 432x288 with 2 Axes>"
      ]
     },
     "metadata": {
      "needs_background": "light"
     },
     "output_type": "display_data"
    }
   ],
   "source": [
    "sns.heatmap(data=stars.corr(), annot=True)\n",
    "plt.show()"
   ]
  },
  {
   "cell_type": "code",
   "execution_count": 12,
   "metadata": {},
   "outputs": [
    {
     "name": "stdout",
     "output_type": "stream",
     "text": [
      "Postive Reviews:  333,177\n",
      "Negative Reviews:  111,045\n"
     ]
    }
   ],
   "source": [
    "pos_reviews = yelp.text[yelp.stars>3].values\n",
    "neg_reviews = yelp.text[yelp.stars<3].values\n",
    "print('Postive Reviews:  {:,}'.format(len(pos_reviews)))\n",
    "print('Negative Reviews:  {:,}'.format(len(neg_reviews)))"
   ]
  },
  {
   "cell_type": "code",
   "execution_count": 13,
   "metadata": {},
   "outputs": [],
   "source": [
    "# additional stopwords\n",
    "from sklearn.feature_extraction import text \n",
    "stop_words = text.ENGLISH_STOP_WORDS"
   ]
  },
  {
   "cell_type": "code",
   "execution_count": 14,
   "metadata": {},
   "outputs": [],
   "source": [
    "from sklearn.feature_extraction.text import TfidfVectorizer\n",
    "\n",
    "# Create a vectorizer object to generate term document counts\n",
    "tfidf_pos = TfidfVectorizer(stop_words=stop_words, min_df=10, max_df=0.5, \n",
    "                        ngram_range=(1,1), token_pattern='[a-z][a-z]+')\n",
    "\n",
    "tfidf_neg = TfidfVectorizer(stop_words=stop_words, min_df=10, max_df=0.5, \n",
    "                        ngram_range=(1,1), token_pattern='[a-z][a-z]+')\n",
    "\n",
    "# Get random subset of reviews\n",
    "np.random.seed(38)\n",
    "num_reviews = 20000\n",
    "random_neg = np.random.choice(neg_reviews, size=num_reviews)\n",
    "random_pos = np.random.choice(pos_reviews, size=num_reviews)\n",
    "\n",
    "# Get the vectors\n",
    "neg_vectors = tfidf_neg.fit_transform(random_neg)\n",
    "pos_vectors = tfidf_pos.fit_transform(random_pos)"
   ]
  },
  {
   "cell_type": "code",
   "execution_count": 15,
   "metadata": {},
   "outputs": [],
   "source": [
    "# Store TFIDF vectors in a Pandas DataFrame to investigate further\n",
    "neg_df = pd.DataFrame(neg_vectors.todense(), columns=[tfidf_neg.get_feature_names()])\n",
    "pos_df = pd.DataFrame(pos_vectors.todense(), columns=[tfidf_pos.get_feature_names()])\n",
    "\n",
    "# get mean for each column (word): highest means are most important words\n",
    "col_means_neg = {}\n",
    "for col in neg_df:\n",
    "    col_means_neg[col] = neg_df[col].mean()\n",
    "\n",
    "col_means_pos = {}\n",
    "for col in pos_df:\n",
    "    col_means_pos[col] = pos_df[col].mean()"
   ]
  },
  {
   "cell_type": "code",
   "execution_count": 16,
   "metadata": {},
   "outputs": [
    {
     "name": "stdout",
     "output_type": "stream",
     "text": [
      "Top 8 words in POSITIVE reviews:[('great',), ('food',), ('place',), ('good',), ('service',), ('time',), ('love',), ('best',)]\n",
      "Top 8 words in NEGATIVE reviews:[('food',), ('service',), ('place',), ('just',), ('time',), ('like',), ('good',), ('order',)]\n"
     ]
    }
   ],
   "source": [
    "no_top_words = 8\n",
    "\n",
    "print('Top %d words in POSITIVE reviews:' %no_top_words, end='')\n",
    "print(sorted(col_means_pos, key=col_means_pos.get, reverse=True)[:no_top_words])\n",
    "\n",
    "print('Top %d words in NEGATIVE reviews:' %no_top_words, end='')\n",
    "print(sorted(col_means_neg, key=col_means_neg.get, reverse=True)[:no_top_words])"
   ]
  },
  {
   "cell_type": "markdown",
   "metadata": {},
   "source": [
    "# LSA"
   ]
  },
  {
   "cell_type": "code",
   "execution_count": 17,
   "metadata": {},
   "outputs": [],
   "source": [
    "# import sys\n",
    "# !{sys.executable} -m pip install gensim"
   ]
  },
  {
   "cell_type": "code",
   "execution_count": 17,
   "metadata": {},
   "outputs": [],
   "source": [
    "from gensim import corpora, models, similarities, matutils\n",
    "\n",
    "# Convert sparse matrix of counts to a gensim corpus\n",
    "# Need to transpose it for gensim which wants terms by docs instead of docs by terms\n",
    "tfidf_pos_corpus = matutils.Sparse2Corpus(pos_vectors.transpose())\n",
    "tfidf_neg_corpus = matutils.Sparse2Corpus(neg_vectors.transpose())\n",
    "\n",
    "# Row indices\n",
    "id2word_pos = dict((v,k) for k,v in tfidf_pos.vocabulary_.items())\n",
    "id2word_neg = dict((v,k) for k,v in tfidf_neg.vocabulary_.items())\n",
    "\n",
    "# This is a hack for Python 3!\n",
    "id2word_pos = corpora.Dictionary.from_corpus(tfidf_pos_corpus, id2word=id2word_pos)\n",
    "id2word_neg = corpora.Dictionary.from_corpus(tfidf_neg_corpus, id2word=id2word_neg)\n",
    "\n",
    "# create LSA model\n",
    "num_topics = 20\n",
    "lsi_pos = models.LsiModel(tfidf_pos_corpus, id2word=id2word_pos, num_topics=num_topics)\n",
    "lsi_neg = models.LsiModel(tfidf_neg_corpus, id2word=id2word_neg, num_topics=num_topics)"
   ]
  },
  {
   "cell_type": "code",
   "execution_count": 18,
   "metadata": {},
   "outputs": [
    {
     "data": {
      "image/png": "[encoded data removed]",
      "text/plain": [
       "<Figure size 864x360 with 1 Axes>"
      ]
     },
     "metadata": {
      "needs_background": "light"
     },
     "output_type": "display_data"
    }
   ],
   "source": [
    "# elbow plot\n",
    "singular_values_pos = lsi_pos.projection.s.tolist()\n",
    "singular_values_pos_rel = [sv/singular_values_pos[-1] for sv in singular_values_pos]\n",
    "singular_values_neg = lsi_neg.projection.s.tolist()\n",
    "singular_values_neg_rel = [sv/singular_values_neg[-1] for sv in singular_values_neg]\n",
    "\n",
    "plt.figure(figsize=(12,5))\n",
    "plt.plot(range(len(singular_values_pos)), singular_values_pos_rel, label='Positive Reviews', alpha=1.0)\n",
    "plt.plot(range(len(singular_values_neg)), singular_values_neg_rel, label='Negative Reviews', alpha=0.7)\n",
    "plt.xticks(range(len(singular_values_pos)), range(len(singular_values_pos)))\n",
    "plt.xlabel('Topic #')\n",
    "plt.ylabel('Relative Strength')\n",
    "plt.title('LSI Topic Strengths (Relative)')\n",
    "plt.legend(loc=0, fontsize='medium');"
   ]
  },
  {
   "cell_type": "code",
   "execution_count": 19,
   "metadata": {},
   "outputs": [],
   "source": [
    "from pprint import pprint\n",
    "topics_to_print = 20"
   ]
  },
  {
   "cell_type": "code",
   "execution_count": 20,
   "metadata": {},
   "outputs": [
    {
     "name": "stdout",
     "output_type": "stream",
     "text": [
      "Top 20 topics for POSITIVE reviews\n",
      "---------------------------------\n",
      "[(0,\n",
      "  '0.267*\"great\" + 0.257*\"food\" + 0.226*\"place\" + 0.222*\"good\" + '\n",
      "  '0.183*\"service\" + 0.138*\"time\" + 0.126*\"really\" + 0.124*\"love\" + '\n",
      "  '0.119*\"friendly\" + 0.117*\"like\"'),\n",
      " (1,\n",
      "  '0.560*\"great\" + 0.222*\"service\" + -0.213*\"good\" + -0.162*\"chicken\" + '\n",
      "  '0.160*\"friendly\" + 0.149*\"staff\" + 0.140*\"food\" + -0.126*\"ordered\" + '\n",
      "  '-0.120*\"like\" + -0.110*\"sauce\"'),\n",
      " (2,\n",
      "  '-0.469*\"food\" + -0.205*\"good\" + -0.192*\"great\" + -0.178*\"service\" + '\n",
      "  '0.158*\"time\" + 0.128*\"hair\" + -0.124*\"chicken\" + -0.121*\"delicious\" + '\n",
      "  '0.114*\"did\" + 0.114*\"work\"'),\n",
      " (3,\n",
      "  '0.526*\"love\" + 0.398*\"place\" + 0.395*\"pizza\" + -0.180*\"service\" + '\n",
      "  '0.167*\"sushi\" + 0.153*\"best\" + -0.149*\"good\" + -0.134*\"food\" + '\n",
      "  '0.108*\"favorite\" + -0.103*\"got\"'),\n",
      " (4,\n",
      "  '-0.777*\"pizza\" + -0.238*\"great\" + 0.217*\"love\" + 0.190*\"sushi\" + '\n",
      "  '0.181*\"place\" + -0.146*\"good\" + -0.126*\"crust\" + 0.100*\"food\" + '\n",
      "  '-0.099*\"service\" + 0.091*\"staff\"'),\n",
      " (5,\n",
      "  '-0.516*\"good\" + 0.277*\"amazing\" + 0.246*\"best\" + -0.226*\"nice\" + '\n",
      "  '-0.223*\"place\" + 0.188*\"delicious\" + -0.164*\"really\" + 0.131*\"ve\" + '\n",
      "  '-0.127*\"coffee\" + 0.126*\"pizza\"'),\n",
      " (6,\n",
      "  '0.530*\"great\" + -0.347*\"staff\" + -0.342*\"friendly\" + -0.246*\"food\" + '\n",
      "  '-0.196*\"pizza\" + -0.195*\"good\" + -0.140*\"best\" + -0.132*\"recommend\" + '\n",
      "  '-0.107*\"highly\" + -0.104*\"excellent\"'),\n",
      " (7,\n",
      "  '0.452*\"sushi\" + 0.344*\"good\" + -0.297*\"staff\" + -0.280*\"friendly\" + '\n",
      "  '0.233*\"service\" + -0.210*\"delicious\" + 0.187*\"best\" + 0.139*\"ve\" + '\n",
      "  '-0.136*\"coffee\" + -0.115*\"chicken\"'),\n",
      " (8,\n",
      "  '-0.603*\"sushi\" + 0.381*\"love\" + -0.235*\"staff\" + -0.219*\"friendly\" + '\n",
      "  '0.209*\"food\" + -0.148*\"rolls\" + -0.146*\"great\" + -0.146*\"roll\" + '\n",
      "  '-0.127*\"fresh\" + 0.123*\"good\"'),\n",
      " (9,\n",
      "  '-0.306*\"recommend\" + 0.282*\"best\" + -0.255*\"highly\" + 0.251*\"food\" + '\n",
      "  '0.246*\"ve\" + -0.215*\"chicken\" + -0.201*\"good\" + 0.200*\"vegas\" + '\n",
      "  '-0.193*\"love\" + -0.149*\"place\"'),\n",
      " (10,\n",
      "  '-0.422*\"amazing\" + -0.377*\"place\" + 0.314*\"love\" + 0.216*\"service\" + '\n",
      "  '-0.207*\"recommend\" + 0.207*\"friendly\" + -0.151*\"highly\" + 0.145*\"chicken\" + '\n",
      "  '-0.134*\"definitely\" + -0.127*\"food\"'),\n",
      " (11,\n",
      "  '0.409*\"best\" + -0.319*\"love\" + -0.311*\"food\" + 0.295*\"coffee\" + 0.230*\"ve\" '\n",
      "  '+ 0.185*\"good\" + 0.178*\"burger\" + 0.167*\"breakfast\" + -0.129*\"time\" + '\n",
      "  '-0.126*\"pizza\"'),\n",
      " (12,\n",
      "  '-0.391*\"service\" + -0.298*\"coffee\" + -0.271*\"excellent\" + 0.231*\"great\" + '\n",
      "  '0.212*\"staff\" + 0.191*\"ve\" + -0.172*\"customer\" + -0.169*\"breakfast\" + '\n",
      "  '0.165*\"hair\" + -0.163*\"delicious\"'),\n",
      " (13,\n",
      "  '0.395*\"amazing\" + -0.386*\"place\" + 0.334*\"love\" + 0.212*\"good\" + '\n",
      "  '-0.171*\"thai\" + 0.162*\"sushi\" + -0.143*\"chicken\" + -0.130*\"food\" + '\n",
      "  '-0.128*\"recommend\" + 0.115*\"service\"'),\n",
      " (14,\n",
      "  '-0.256*\"nice\" + -0.254*\"recommend\" + 0.248*\"amazing\" + -0.231*\"excellent\" + '\n",
      "  '0.228*\"food\" + -0.227*\"highly\" + -0.202*\"best\" + -0.173*\"vegas\" + '\n",
      "  '0.158*\"coffee\" + -0.156*\"hotel\"'),\n",
      " (15,\n",
      "  '-0.328*\"amazing\" + -0.281*\"nice\" + 0.257*\"time\" + -0.250*\"really\" + '\n",
      "  '0.248*\"burger\" + -0.179*\"hair\" + -0.170*\"chicken\" + 0.168*\"recommend\" + '\n",
      "  '-0.160*\"clean\" + -0.149*\"thai\"'),\n",
      " (16,\n",
      "  '-0.339*\"hair\" + -0.311*\"coffee\" + 0.251*\"place\" + 0.234*\"awesome\" + '\n",
      "  '0.217*\"service\" + -0.209*\"highly\" + -0.202*\"recommend\" + -0.184*\"breakfast\" '\n",
      "  '+ 0.172*\"chicken\" + -0.150*\"restaurant\"'),\n",
      " (17,\n",
      "  '0.429*\"time\" + -0.274*\"amazing\" + 0.230*\"definitely\" + -0.211*\"highly\" + '\n",
      "  '-0.194*\"like\" + -0.176*\"recommend\" + 0.169*\"delicious\" + 0.165*\"hair\" + '\n",
      "  '-0.161*\"burger\" + 0.152*\"vegas\"'),\n",
      " (18,\n",
      "  '-0.323*\"hair\" + -0.286*\"nice\" + -0.254*\"burger\" + 0.220*\"good\" + '\n",
      "  '0.215*\"time\" + 0.192*\"vegas\" + 0.179*\"coffee\" + -0.179*\"really\" + '\n",
      "  '-0.160*\"fries\" + 0.156*\"thai\"'),\n",
      " (19,\n",
      "  '-0.309*\"breakfast\" + 0.236*\"really\" + -0.208*\"time\" + -0.206*\"amazing\" + '\n",
      "  '0.182*\"tea\" + -0.182*\"burger\" + -0.165*\"lunch\" + 0.153*\"like\" + 0.153*\"ice\" '\n",
      "  '+ 0.150*\"excellent\"')]\n"
     ]
    }
   ],
   "source": [
    "print('Top %d topics for POSITIVE reviews' %(topics_to_print))\n",
    "print('-'*33)\n",
    "pprint(lsi_pos.show_topics()[0:topics_to_print])"
   ]
  },
  {
   "cell_type": "code",
   "execution_count": 21,
   "metadata": {},
   "outputs": [
    {
     "name": "stdout",
     "output_type": "stream",
     "text": [
      "Top 20 topics for NEGATIVE reviews\n",
      "---------------------------------\n",
      "[(0,\n",
      "  '0.248*\"food\" + 0.180*\"service\" + 0.171*\"place\" + 0.156*\"just\" + '\n",
      "  '0.152*\"time\" + 0.146*\"good\" + 0.142*\"like\" + 0.138*\"order\" + '\n",
      "  '0.118*\"minutes\" + 0.113*\"got\"'),\n",
      " (1,\n",
      "  '-0.367*\"food\" + -0.202*\"chicken\" + 0.197*\"car\" + 0.177*\"room\" + '\n",
      "  '0.161*\"told\" + -0.159*\"good\" + -0.148*\"ordered\" + 0.142*\"called\" + '\n",
      "  '0.135*\"customer\" + 0.129*\"said\"'),\n",
      " (2,\n",
      "  '0.320*\"minutes\" + 0.307*\"order\" + -0.261*\"room\" + 0.210*\"food\" + '\n",
      "  '0.207*\"service\" + -0.175*\"like\" + 0.168*\"waited\" + -0.167*\"hotel\" + '\n",
      "  '-0.138*\"place\" + 0.135*\"table\"'),\n",
      " (3,\n",
      "  '-0.695*\"pizza\" + 0.305*\"food\" + 0.200*\"service\" + -0.185*\"order\" + '\n",
      "  '0.177*\"room\" + -0.168*\"ordered\" + -0.122*\"cheese\" + 0.118*\"hotel\" + '\n",
      "  '-0.118*\"chicken\" + -0.112*\"delivery\"'),\n",
      " (4,\n",
      "  '0.490*\"room\" + 0.286*\"hotel\" + -0.225*\"car\" + -0.216*\"service\" + '\n",
      "  '0.200*\"minutes\" + -0.196*\"customer\" + 0.128*\"table\" + 0.120*\"stay\" + '\n",
      "  '-0.112*\"store\" + 0.111*\"check\"'),\n",
      " (5,\n",
      "  '-0.556*\"pizza\" + -0.304*\"service\" + 0.227*\"chicken\" + -0.204*\"food\" + '\n",
      "  '0.173*\"car\" + -0.166*\"room\" + -0.156*\"customer\" + 0.129*\"said\" + '\n",
      "  '-0.124*\"hotel\" + 0.117*\"came\"'),\n",
      " (6,\n",
      "  '0.387*\"chicken\" + 0.281*\"order\" + -0.241*\"place\" + 0.211*\"room\" + '\n",
      "  '0.203*\"service\" + -0.201*\"bar\" + 0.199*\"customer\" + -0.171*\"table\" + '\n",
      "  '0.151*\"hotel\" + -0.145*\"pizza\"'),\n",
      " (7,\n",
      "  '-0.760*\"car\" + -0.248*\"food\" + -0.174*\"wash\" + -0.163*\"pizza\" + '\n",
      "  '0.140*\"store\" + 0.135*\"order\" + 0.118*\"customer\" + 0.117*\"rude\" + '\n",
      "  '0.094*\"nails\" + -0.078*\"oil\"'),\n",
      " (8,\n",
      "  '-0.355*\"service\" + 0.334*\"order\" + 0.236*\"place\" + 0.231*\"time\" + '\n",
      "  '-0.214*\"customer\" + -0.163*\"table\" + 0.160*\"minutes\" + 0.156*\"wait\" + '\n",
      "  '0.156*\"drive\" + -0.138*\"server\"'),\n",
      " (9,\n",
      "  '0.493*\"food\" + -0.222*\"car\" + -0.205*\"service\" + 0.192*\"called\" + '\n",
      "  '0.165*\"told\" + 0.160*\"said\" + -0.158*\"location\" + -0.149*\"bar\" + '\n",
      "  '-0.141*\"customer\" + 0.132*\"appointment\"'),\n",
      " (10,\n",
      "  '0.444*\"order\" + -0.400*\"chicken\" + -0.241*\"time\" + -0.228*\"minutes\" + '\n",
      "  '-0.208*\"wait\" + -0.180*\"appointment\" + -0.171*\"nails\" + -0.146*\"hour\" + '\n",
      "  '-0.144*\"waited\" + -0.126*\"worst\"'),\n",
      " (11,\n",
      "  '-0.397*\"place\" + -0.308*\"nails\" + -0.260*\"order\" + 0.208*\"store\" + '\n",
      "  '0.166*\"location\" + -0.154*\"worst\" + -0.150*\"hair\" + -0.143*\"nail\" + '\n",
      "  '0.140*\"time\" + -0.135*\"horrible\"'),\n",
      " (12,\n",
      "  '-0.340*\"place\" + 0.295*\"nails\" + -0.260*\"chicken\" + 0.248*\"good\" + '\n",
      "  '0.170*\"time\" + 0.167*\"hair\" + -0.162*\"bar\" + 0.149*\"service\" + '\n",
      "  '0.140*\"burger\" + 0.139*\"nail\"'),\n",
      " (13,\n",
      "  '0.505*\"sushi\" + -0.281*\"food\" + 0.187*\"order\" + 0.168*\"good\" + '\n",
      "  '-0.160*\"chicken\" + 0.157*\"rolls\" + -0.146*\"rude\" + 0.143*\"service\" + '\n",
      "  '0.137*\"roll\" + -0.134*\"like\"'),\n",
      " (14,\n",
      "  '-0.345*\"place\" + -0.262*\"burger\" + -0.229*\"good\" + -0.210*\"fries\" + '\n",
      "  '-0.206*\"called\" + 0.189*\"restaurant\" + 0.186*\"sushi\" + 0.175*\"location\" + '\n",
      "  '0.161*\"hair\" + 0.161*\"ve\"'),\n",
      " (15,\n",
      "  '0.272*\"time\" + 0.246*\"burger\" + -0.229*\"good\" + -0.218*\"nails\" + '\n",
      "  '0.215*\"worst\" + 0.214*\"fries\" + -0.208*\"chicken\" + -0.196*\"store\" + '\n",
      "  '0.189*\"don\" + 0.164*\"money\"'),\n",
      " (16,\n",
      "  '0.322*\"chicken\" + 0.272*\"bar\" + -0.234*\"minutes\" + -0.223*\"sushi\" + '\n",
      "  '-0.202*\"store\" + -0.185*\"like\" + -0.171*\"waited\" + 0.169*\"time\" + '\n",
      "  '0.167*\"drinks\" + 0.153*\"order\"'),\n",
      " (17,\n",
      "  '0.490*\"hair\" + -0.351*\"nails\" + -0.210*\"ve\" + 0.173*\"don\" + 0.164*\"really\" '\n",
      "  '+ 0.162*\"good\" + -0.149*\"worst\" + -0.145*\"nail\" + -0.140*\"store\" + '\n",
      "  '0.130*\"cut\"'),\n",
      " (18,\n",
      "  '-0.364*\"hair\" + -0.273*\"rude\" + 0.272*\"just\" + -0.250*\"staff\" + 0.240*\"don\" '\n",
      "  '+ -0.207*\"sushi\" + -0.192*\"good\" + 0.185*\"bad\" + -0.163*\"burger\" + '\n",
      "  '0.157*\"like\"'),\n",
      " (19,\n",
      "  '-0.263*\"store\" + -0.245*\"bar\" + 0.242*\"rude\" + 0.241*\"good\" + 0.229*\"staff\" '\n",
      "  '+ -0.228*\"burger\" + -0.222*\"hair\" + -0.176*\"chicken\" + -0.176*\"sushi\" + '\n",
      "  '0.163*\"place\"')]\n"
     ]
    }
   ],
   "source": [
    "print('Top %d topics for NEGATIVE reviews' %(topics_to_print))\n",
    "print('-'*33)\n",
    "pprint(lsi_neg.show_topics()[0:topics_to_print])"
   ]
  },
  {
   "cell_type": "markdown",
   "metadata": {},
   "source": [
    "# LDA"
   ]
  },
  {
   "cell_type": "code",
   "execution_count": 22,
   "metadata": {},
   "outputs": [],
   "source": [
    "from sklearn.feature_extraction.text import CountVectorizer\n",
    "\n",
    "# Create a vectorizer object to generate term document counts\n",
    "cv_pos = CountVectorizer(stop_words=stop_words, min_df=10, max_df=0.5, \n",
    "                        ngram_range=(1,1), token_pattern='[a-z][a-z]+')\n",
    "\n",
    "cv_neg = CountVectorizer(stop_words=stop_words, min_df=10, max_df=0.5, \n",
    "                        ngram_range=(1,1), token_pattern='[a-z][a-z]+')\n",
    "\n",
    "# Get random subset of reviews\n",
    "np.random.seed(38)\n",
    "num_reviews = 15000\n",
    "cv_random_neg = np.random.choice(neg_reviews, size=num_reviews)\n",
    "cv_random_pos = np.random.choice(pos_reviews, size=num_reviews)\n",
    "\n",
    "# Get the cv vectors\n",
    "cv_neg_vectors = cv_neg.fit_transform(cv_random_neg).transpose()\n",
    "cv_pos_vectors = cv_pos.fit_transform(cv_random_pos).transpose()"
   ]
  },
  {
   "cell_type": "code",
   "execution_count": 23,
   "metadata": {},
   "outputs": [],
   "source": [
    "# Convert sparse matrix of counts to a gensim corpus\n",
    "corpus_neg = matutils.Sparse2Corpus(cv_neg_vectors)\n",
    "corpus_pos = matutils.Sparse2Corpus(cv_pos_vectors)\n",
    "\n",
    "# save a mapping (dict) of row id to word (token) for later use by gensim \n",
    "id2word_cv_pos = dict((v, k) for k, v in cv_pos.vocabulary_.items())\n",
    "id2word_cv_neg = dict((v, k) for k, v in cv_neg.vocabulary_.items())"
   ]
  },
  {
   "cell_type": "code",
   "execution_count": 24,
   "metadata": {},
   "outputs": [],
   "source": [
    "# create lda multicore model\n",
    "lda_pos = models.ldamulticore.LdaMulticore(corpus=corpus_pos, num_topics=20, \n",
    "                                           id2word=id2word_cv_pos, passes=10, workers=15)\n",
    "lda_neg = models.ldamulticore.LdaMulticore(corpus=corpus_neg, num_topics=20, \n",
    "                                           id2word=id2word_cv_neg, passes=10, workers=15)"
   ]
  },
  {
   "cell_type": "code",
   "execution_count": 25,
   "metadata": {
    "scrolled": false
   },
   "outputs": [
    {
     "name": "stdout",
     "output_type": "stream",
     "text": [
      "Top topics + words for POSITIVE reviews\n",
      "---------------------------------------\n",
      "[(0,\n",
      "  '0.014*\"store\" + 0.013*\"place\" + 0.011*\"love\" + 0.011*\"time\" + 0.011*\"great\" '\n",
      "  '+ 0.010*\"friendly\" + 0.010*\"staff\" + 0.010*\"like\" + 0.008*\"don\" + '\n",
      "  '0.007*\"just\"'),\n",
      " (1,\n",
      "  '0.022*\"food\" + 0.017*\"great\" + 0.011*\"service\" + 0.011*\"place\" + '\n",
      "  '0.009*\"breakfast\" + 0.009*\"just\" + 0.008*\"like\" + 0.007*\"good\" + '\n",
      "  '0.007*\"don\" + 0.006*\"fresh\"'),\n",
      " (2,\n",
      "  '0.030*\"place\" + 0.016*\"just\" + 0.014*\"sushi\" + 0.013*\"tea\" + 0.013*\"good\" + '\n",
      "  '0.009*\"like\" + 0.008*\"definitely\" + 0.008*\"love\" + 0.008*\"great\" + '\n",
      "  '0.007*\"drink\"'),\n",
      " (3,\n",
      "  '0.014*\"great\" + 0.012*\"dr\" + 0.010*\"time\" + 0.009*\"staff\" + 0.008*\"best\" + '\n",
      "  '0.008*\"ve\" + 0.007*\"experience\" + 0.007*\"office\" + 0.006*\"just\" + '\n",
      "  '0.006*\"visit\"'),\n",
      " (4,\n",
      "  '0.019*\"hair\" + 0.018*\"great\" + 0.012*\"did\" + 0.011*\"amazing\" + 0.010*\"time\" '\n",
      "  '+ 0.009*\"salon\" + 0.009*\"job\" + 0.009*\"massage\" + 0.008*\"place\" + '\n",
      "  '0.008*\"cut\"'),\n",
      " (5,\n",
      "  '0.020*\"good\" + 0.019*\"place\" + 0.016*\"great\" + 0.013*\"food\" + 0.008*\"fries\" '\n",
      "  '+ 0.008*\"like\" + 0.008*\"nice\" + 0.007*\"time\" + 0.007*\"delicious\" + '\n",
      "  '0.007*\"just\"'),\n",
      " (6,\n",
      "  '0.032*\"place\" + 0.014*\"great\" + 0.011*\"food\" + 0.010*\"staff\" + '\n",
      "  '0.010*\"friendly\" + 0.007*\"like\" + 0.007*\"thai\" + 0.006*\"time\" + '\n",
      "  '0.006*\"delicious\" + 0.006*\"local\"'),\n",
      " (7,\n",
      "  '0.018*\"food\" + 0.017*\"good\" + 0.011*\"chicken\" + 0.010*\"like\" + '\n",
      "  '0.009*\"place\" + 0.009*\"restaurant\" + 0.008*\"rice\" + 0.008*\"sauce\" + '\n",
      "  '0.008*\"really\" + 0.008*\"beef\"'),\n",
      " (8,\n",
      "  '0.023*\"room\" + 0.018*\"hotel\" + 0.015*\"great\" + 0.010*\"nice\" + 0.009*\"stay\" '\n",
      "  '+ 0.009*\"place\" + 0.008*\"good\" + 0.008*\"staff\" + 0.008*\"strip\" + '\n",
      "  '0.007*\"service\"'),\n",
      " (9,\n",
      "  '0.018*\"la\" + 0.016*\"le\" + 0.016*\"et\" + 0.011*\"love\" + 0.011*\"place\" + '\n",
      "  '0.009*\"les\" + 0.008*\"est\" + 0.008*\"free\" + 0.007*\"food\" + 0.007*\"pour\"'),\n",
      " (10,\n",
      "  '0.013*\"service\" + 0.012*\"car\" + 0.012*\"great\" + 0.009*\"work\" + 0.009*\"time\" '\n",
      "  '+ 0.008*\"did\" + 0.007*\"day\" + 0.007*\"new\" + 0.007*\"recommend\" + '\n",
      "  '0.006*\"just\"'),\n",
      " (11,\n",
      "  '0.017*\"time\" + 0.014*\"like\" + 0.011*\"good\" + 0.010*\"just\" + 0.010*\"great\" + '\n",
      "  '0.008*\"place\" + 0.007*\"really\" + 0.006*\"free\" + 0.005*\"nice\" + '\n",
      "  '0.005*\"didn\"'),\n",
      " (12,\n",
      "  '0.027*\"pizza\" + 0.024*\"great\" + 0.020*\"food\" + 0.017*\"place\" + '\n",
      "  '0.016*\"service\" + 0.016*\"good\" + 0.012*\"love\" + 0.011*\"ve\" + 0.008*\"really\" '\n",
      "  '+ 0.008*\"location\"'),\n",
      " (13,\n",
      "  '0.029*\"food\" + 0.020*\"service\" + 0.017*\"chicken\" + 0.017*\"good\" + '\n",
      "  '0.013*\"great\" + 0.010*\"delicious\" + 0.010*\"amazing\" + 0.009*\"best\" + '\n",
      "  '0.008*\"excellent\" + 0.008*\"really\"'),\n",
      " (14,\n",
      "  '0.018*\"cream\" + 0.014*\"ice\" + 0.011*\"like\" + 0.010*\"place\" + '\n",
      "  '0.010*\"chocolate\" + 0.010*\"coffee\" + 0.009*\"love\" + 0.008*\"pizza\" + '\n",
      "  '0.008*\"ve\" + 0.007*\"best\"'),\n",
      " (15,\n",
      "  '0.038*\"great\" + 0.030*\"food\" + 0.025*\"good\" + 0.024*\"service\" + '\n",
      "  '0.018*\"place\" + 0.012*\"recommend\" + 0.011*\"atmosphere\" + 0.010*\"delicious\" '\n",
      "  '+ 0.010*\"friendly\" + 0.009*\"time\"'),\n",
      " (16,\n",
      "  '0.017*\"staff\" + 0.016*\"great\" + 0.015*\"place\" + 0.013*\"food\" + '\n",
      "  '0.012*\"friendly\" + 0.012*\"like\" + 0.009*\"nice\" + 0.008*\"time\" + '\n",
      "  '0.008*\"really\" + 0.007*\"love\"'),\n",
      " (17,\n",
      "  '0.008*\"good\" + 0.008*\"dinner\" + 0.007*\"steak\" + 0.007*\"best\" + '\n",
      "  '0.007*\"service\" + 0.006*\"great\" + 0.006*\"restaurant\" + 0.006*\"delicious\" + '\n",
      "  '0.006*\"just\" + 0.006*\"time\"'),\n",
      " (18,\n",
      "  '0.024*\"good\" + 0.021*\"great\" + 0.018*\"food\" + 0.017*\"place\" + '\n",
      "  '0.010*\"service\" + 0.008*\"menu\" + 0.008*\"just\" + 0.008*\"really\" + '\n",
      "  '0.007*\"delicious\" + 0.007*\"time\"'),\n",
      " (19,\n",
      "  '0.018*\"food\" + 0.017*\"tacos\" + 0.017*\"place\" + 0.012*\"good\" + 0.011*\"great\" '\n",
      "  '+ 0.009*\"best\" + 0.009*\"mexican\" + 0.009*\"time\" + 0.009*\"taco\" + '\n",
      "  '0.007*\"try\"')]\n",
      "\n",
      "Top topics + words for NEGATIVE reviews\n",
      "---------------------------------------\n",
      "[(0,\n",
      "  '0.011*\"office\" + 0.010*\"time\" + 0.009*\"told\" + 0.009*\"just\" + 0.007*\"don\" + '\n",
      "  '0.006*\"insurance\" + 0.005*\"like\" + 0.005*\"ve\" + 0.005*\"did\" + '\n",
      "  '0.005*\"pizza\"'),\n",
      " (1,\n",
      "  '0.016*\"place\" + 0.013*\"like\" + 0.011*\"food\" + 0.010*\"service\" + '\n",
      "  '0.009*\"good\" + 0.009*\"time\" + 0.009*\"just\" + 0.009*\"location\" + '\n",
      "  '0.007*\"staff\" + 0.007*\"people\"'),\n",
      " (2,\n",
      "  '0.013*\"car\" + 0.012*\"wash\" + 0.011*\"place\" + 0.010*\"service\" + '\n",
      "  '0.009*\"minutes\" + 0.009*\"time\" + 0.007*\"store\" + 0.007*\"just\" + '\n",
      "  '0.006*\"going\" + 0.005*\"got\"'),\n",
      " (3,\n",
      "  '0.018*\"car\" + 0.015*\"room\" + 0.011*\"told\" + 0.010*\"said\" + 0.010*\"service\" '\n",
      "  '+ 0.009*\"hotel\" + 0.008*\"called\" + 0.007*\"time\" + 0.007*\"just\" + '\n",
      "  '0.007*\"check\"'),\n",
      " (4,\n",
      "  '0.015*\"service\" + 0.013*\"minutes\" + 0.013*\"table\" + 0.013*\"place\" + '\n",
      "  '0.012*\"time\" + 0.011*\"food\" + 0.011*\"just\" + 0.009*\"didn\" + 0.009*\"came\" + '\n",
      "  '0.008*\"nails\"'),\n",
      " (5,\n",
      "  '0.013*\"hair\" + 0.009*\"just\" + 0.009*\"said\" + 0.008*\"time\" + 0.008*\"like\" + '\n",
      "  '0.007*\"did\" + 0.007*\"told\" + 0.006*\"ve\" + 0.006*\"going\" + 0.005*\"went\"'),\n",
      " (6,\n",
      "  '0.021*\"chicken\" + 0.015*\"food\" + 0.015*\"place\" + 0.012*\"rice\" + '\n",
      "  '0.012*\"ordered\" + 0.012*\"like\" + 0.011*\"soup\" + 0.010*\"good\" + 0.009*\"just\" '\n",
      "  '+ 0.009*\"really\"'),\n",
      " (7,\n",
      "  '0.017*\"pizza\" + 0.016*\"place\" + 0.013*\"order\" + 0.012*\"time\" + 0.010*\"don\" '\n",
      "  '+ 0.010*\"like\" + 0.008*\"ordered\" + 0.008*\"good\" + 0.007*\"just\" + '\n",
      "  '0.006*\"cheese\"'),\n",
      " (8,\n",
      "  '0.024*\"food\" + 0.014*\"sushi\" + 0.012*\"good\" + 0.012*\"place\" + '\n",
      "  '0.011*\"service\" + 0.010*\"like\" + 0.010*\"burger\" + 0.010*\"better\" + '\n",
      "  '0.009*\"bad\" + 0.007*\"way\"'),\n",
      " (9,\n",
      "  '0.022*\"food\" + 0.016*\"good\" + 0.014*\"like\" + 0.011*\"ordered\" + '\n",
      "  '0.010*\"place\" + 0.010*\"just\" + 0.009*\"chicken\" + 0.007*\"cheese\" + '\n",
      "  '0.007*\"service\" + 0.006*\"salad\"'),\n",
      " (10,\n",
      "  '0.022*\"bar\" + 0.014*\"place\" + 0.013*\"service\" + 0.011*\"time\" + 0.010*\"just\" '\n",
      "  '+ 0.009*\"drinks\" + 0.009*\"like\" + 0.008*\"food\" + 0.008*\"bartender\" + '\n",
      "  '0.008*\"good\"'),\n",
      " (11,\n",
      "  '0.017*\"told\" + 0.010*\"called\" + 0.009*\"office\" + 0.009*\"phone\" + '\n",
      "  '0.008*\"went\" + 0.008*\"got\" + 0.007*\"did\" + 0.007*\"time\" + 0.006*\"dr\" + '\n",
      "  '0.006*\"just\"'),\n",
      " (12,\n",
      "  '0.035*\"food\" + 0.014*\"place\" + 0.014*\"just\" + 0.010*\"good\" + '\n",
      "  '0.009*\"restaurant\" + 0.009*\"service\" + 0.008*\"came\" + 0.007*\"got\" + '\n",
      "  '0.007*\"asked\" + 0.007*\"server\"'),\n",
      " (13,\n",
      "  '0.022*\"service\" + 0.013*\"customer\" + 0.010*\"time\" + 0.008*\"just\" + '\n",
      "  '0.007*\"store\" + 0.007*\"don\" + 0.007*\"experience\" + 0.007*\"new\" + '\n",
      "  '0.006*\"did\" + 0.006*\"good\"'),\n",
      " (14,\n",
      "  '0.016*\"like\" + 0.014*\"place\" + 0.012*\"just\" + 0.010*\"store\" + 0.009*\"order\" '\n",
      "  '+ 0.009*\"food\" + 0.008*\"really\" + 0.007*\"ve\" + 0.007*\"pizza\" + '\n",
      "  '0.007*\"fries\"'),\n",
      " (15,\n",
      "  '0.018*\"order\" + 0.014*\"came\" + 0.013*\"minutes\" + 0.013*\"food\" + '\n",
      "  '0.013*\"ordered\" + 0.012*\"time\" + 0.011*\"said\" + 0.009*\"asked\" + '\n",
      "  '0.009*\"didn\" + 0.009*\"just\"'),\n",
      " (16,\n",
      "  '0.026*\"food\" + 0.012*\"waitress\" + 0.011*\"order\" + 0.010*\"service\" + '\n",
      "  '0.009*\"time\" + 0.009*\"like\" + 0.009*\"just\" + 0.008*\"really\" + '\n",
      "  '0.008*\"ordered\" + 0.007*\"good\"'),\n",
      " (17,\n",
      "  '0.019*\"room\" + 0.012*\"place\" + 0.011*\"hotel\" + 0.009*\"like\" + 0.008*\"just\" '\n",
      "  '+ 0.008*\"time\" + 0.007*\"ice\" + 0.006*\"bathroom\" + 0.006*\"good\" + '\n",
      "  '0.006*\"cream\"'),\n",
      " (18,\n",
      "  '0.010*\"service\" + 0.009*\"said\" + 0.009*\"pizza\" + 0.009*\"card\" + '\n",
      "  '0.009*\"called\" + 0.008*\"delivery\" + 0.007*\"order\" + 0.007*\"just\" + '\n",
      "  '0.007*\"don\" + 0.007*\"asked\"'),\n",
      " (19,\n",
      "  '0.012*\"time\" + 0.012*\"just\" + 0.011*\"store\" + 0.011*\"service\" + '\n",
      "  '0.010*\"customer\" + 0.009*\"said\" + 0.008*\"like\" + 0.008*\"didn\" + '\n",
      "  '0.008*\"told\" + 0.007*\"don\"')]\n"
     ]
    }
   ],
   "source": [
    "print('Top topics + words for POSITIVE reviews')\n",
    "print('-'*39)\n",
    "pprint(lda_pos.print_topics(num_words=10))\n",
    "\n",
    "print('\\nTop topics + words for NEGATIVE reviews')\n",
    "print('-'*39)\n",
    "pprint(lda_neg.print_topics(num_words=10))"
   ]
  },
  {
   "cell_type": "markdown",
   "metadata": {},
   "source": [
    "# Question 2: Yelp Review Sentiment Analysis"
   ]
  },
  {
   "cell_type": "code",
   "execution_count": 26,
   "metadata": {
    "scrolled": true
   },
   "outputs": [],
   "source": [
    "import string\n",
    "import nltk\n",
    "from nltk.corpus import stopwords\n",
    "# nltk.download('stopwords')\n",
    "# nltk.download('punkt')\n",
    "stop_words = stopwords.words('english')"
   ]
  },
  {
   "cell_type": "code",
   "execution_count": 27,
   "metadata": {
    "scrolled": false
   },
   "outputs": [
    {
     "data": {
      "text/html": [
       "<div>\n",
       "<style scoped>\n",
       "    .dataframe tbody tr th:only-of-type {\n",
       "        vertical-align: middle;\n",
       "    }\n",
       "\n",
       "    .dataframe tbody tr th {\n",
       "        vertical-align: top;\n",
       "    }\n",
       "\n",
       "    .dataframe thead th {\n",
       "        text-align: right;\n",
       "    }\n",
       "</style>\n",
       "<table border=\"1\" class=\"dataframe\">\n",
       "  <thead>\n",
       "    <tr style=\"text-align: right;\">\n",
       "      <th></th>\n",
       "      <th>review_id</th>\n",
       "      <th>business_id</th>\n",
       "      <th>user_id</th>\n",
       "      <th>text</th>\n",
       "      <th>date</th>\n",
       "      <th>useful</th>\n",
       "      <th>cool</th>\n",
       "      <th>funny</th>\n",
       "      <th>stars</th>\n",
       "      <th>text length</th>\n",
       "      <th>text_clean</th>\n",
       "    </tr>\n",
       "  </thead>\n",
       "  <tbody>\n",
       "    <tr>\n",
       "      <th>0</th>\n",
       "      <td>xQY8N_XvtGbearJ5X4QryQ</td>\n",
       "      <td>-MhfebM0QIsKt87iDN-FNw</td>\n",
       "      <td>OwjRMXRC0KyPrIlcjaXeFQ</td>\n",
       "      <td>As someone who has worked with many museums, I...</td>\n",
       "      <td>2015-04-15 05:21:16</td>\n",
       "      <td>5</td>\n",
       "      <td>0</td>\n",
       "      <td>0</td>\n",
       "      <td>2</td>\n",
       "      <td>1373</td>\n",
       "      <td>someone worked many museums eager visit galler...</td>\n",
       "    </tr>\n",
       "    <tr>\n",
       "      <th>1</th>\n",
       "      <td>UmFMZ8PyXZTY2QcwzsfQYA</td>\n",
       "      <td>lbrU8StCq3yDfr-QMnGrmQ</td>\n",
       "      <td>nIJD_7ZXHq-FX8byPMOkMQ</td>\n",
       "      <td>I am actually horrified this place is still in...</td>\n",
       "      <td>2013-12-07 03:16:52</td>\n",
       "      <td>1</td>\n",
       "      <td>0</td>\n",
       "      <td>1</td>\n",
       "      <td>1</td>\n",
       "      <td>1407</td>\n",
       "      <td>actually horrified place still business 3 year...</td>\n",
       "    </tr>\n",
       "    <tr>\n",
       "      <th>2</th>\n",
       "      <td>LG2ZaYiOgpr2DK_90pYjNw</td>\n",
       "      <td>HQl28KMwrEKHqhFrrDqVNQ</td>\n",
       "      <td>V34qejxNsCbcgD8C0HVk-Q</td>\n",
       "      <td>I love Deagan's. I do. I really do. The atmosp...</td>\n",
       "      <td>2015-12-05 03:18:11</td>\n",
       "      <td>1</td>\n",
       "      <td>0</td>\n",
       "      <td>0</td>\n",
       "      <td>5</td>\n",
       "      <td>431</td>\n",
       "      <td>love deagans really atmosphere cozy festive sh...</td>\n",
       "    </tr>\n",
       "    <tr>\n",
       "      <th>3</th>\n",
       "      <td>i6g_oA9Yf9Y31qt0wibXpw</td>\n",
       "      <td>5JxlZaqCnk1MnbgRirs40Q</td>\n",
       "      <td>ofKDkJKXSKZXu5xJNGiiBQ</td>\n",
       "      <td>Dismal, lukewarm, defrosted-tasting \"TexMex\" g...</td>\n",
       "      <td>2011-05-27 05:30:52</td>\n",
       "      <td>0</td>\n",
       "      <td>0</td>\n",
       "      <td>0</td>\n",
       "      <td>1</td>\n",
       "      <td>401</td>\n",
       "      <td>dismal lukewarm defrostedtasting texmex glop m...</td>\n",
       "    </tr>\n",
       "    <tr>\n",
       "      <th>4</th>\n",
       "      <td>6TdNDKywdbjoTkizeMce8A</td>\n",
       "      <td>IS4cv902ykd8wj1TR0N3-A</td>\n",
       "      <td>UgMW8bLE0QMJDCkQ1Ax5Mg</td>\n",
       "      <td>Oh happy day, finally have a Canes near my cas...</td>\n",
       "      <td>2017-01-14 21:56:57</td>\n",
       "      <td>0</td>\n",
       "      <td>0</td>\n",
       "      <td>0</td>\n",
       "      <td>4</td>\n",
       "      <td>841</td>\n",
       "      <td>oh happy day finally canes near casa yes other...</td>\n",
       "    </tr>\n",
       "  </tbody>\n",
       "</table>\n",
       "</div>"
      ],
      "text/plain": [
       "                review_id             business_id                 user_id  \\\n",
       "0  xQY8N_XvtGbearJ5X4QryQ  -MhfebM0QIsKt87iDN-FNw  OwjRMXRC0KyPrIlcjaXeFQ   \n",
       "1  UmFMZ8PyXZTY2QcwzsfQYA  lbrU8StCq3yDfr-QMnGrmQ  nIJD_7ZXHq-FX8byPMOkMQ   \n",
       "2  LG2ZaYiOgpr2DK_90pYjNw  HQl28KMwrEKHqhFrrDqVNQ  V34qejxNsCbcgD8C0HVk-Q   \n",
       "3  i6g_oA9Yf9Y31qt0wibXpw  5JxlZaqCnk1MnbgRirs40Q  ofKDkJKXSKZXu5xJNGiiBQ   \n",
       "4  6TdNDKywdbjoTkizeMce8A  IS4cv902ykd8wj1TR0N3-A  UgMW8bLE0QMJDCkQ1Ax5Mg   \n",
       "\n",
       "                                                text                date  \\\n",
       "0  As someone who has worked with many museums, I... 2015-04-15 05:21:16   \n",
       "1  I am actually horrified this place is still in... 2013-12-07 03:16:52   \n",
       "2  I love Deagan's. I do. I really do. The atmosp... 2015-12-05 03:18:11   \n",
       "3  Dismal, lukewarm, defrosted-tasting \"TexMex\" g... 2011-05-27 05:30:52   \n",
       "4  Oh happy day, finally have a Canes near my cas... 2017-01-14 21:56:57   \n",
       "\n",
       "   useful  cool  funny  stars  text length  \\\n",
       "0       5     0      0      2         1373   \n",
       "1       1     0      1      1         1407   \n",
       "2       1     0      0      5          431   \n",
       "3       0     0      0      1          401   \n",
       "4       0     0      0      4          841   \n",
       "\n",
       "                                          text_clean  \n",
       "0  someone worked many museums eager visit galler...  \n",
       "1  actually horrified place still business 3 year...  \n",
       "2  love deagans really atmosphere cozy festive sh...  \n",
       "3  dismal lukewarm defrostedtasting texmex glop m...  \n",
       "4  oh happy day finally canes near casa yes other...  "
      ]
     },
     "execution_count": 27,
     "metadata": {},
     "output_type": "execute_result"
    }
   ],
   "source": [
    "yelp['text_clean'] = yelp.text.apply(\n",
    "    lambda x: ''.join([char for char in x if char not in string.punctuation]))\n",
    "yelp['text_clean'] = yelp.text_clean.apply(\n",
    "    lambda x: ' '.join([w.lower() for w in nltk.tokenize.word_tokenize(x) if w.lower() not in stop_words]))\n",
    "yelp.head()"
   ]
  },
  {
   "cell_type": "code",
   "execution_count": 28,
   "metadata": {},
   "outputs": [
    {
     "data": {
      "text/plain": [
       "(346621, 11)"
      ]
     },
     "metadata": {},
     "output_type": "display_data"
    }
   ],
   "source": [
    "yelp = yelp.loc[yelp.stars.isin([1, 3, 5]), :]\n",
    "display(yelp.shape)"
   ]
  },
  {
   "cell_type": "code",
   "execution_count": 29,
   "metadata": {
    "scrolled": false
   },
   "outputs": [],
   "source": [
    "x = yelp.text_clean.values\n",
    "y = yelp.stars.values"
   ]
  },
  {
   "cell_type": "code",
   "execution_count": 30,
   "metadata": {},
   "outputs": [
    {
     "name": "stdout",
     "output_type": "stream",
     "text": [
      "231774\n",
      "actually horrified place still business 3 year old son needed haircut past summer lure 7 kids cut signs got door wait minutes stylists working people decor place total garbage tacky sofa time pleather sofa giant holes son noticed ants crawling floor furniture disgusting walked actually turned around walked upon entering didnt older black male stylist finishes haircut turn tell want 2 clipper around back sides hand cut top standard boys cut really freaking simple right wrong rather use clippers go actually cut hair went using moving downward doesnt cut hair rubs man alleged cosmetology license know use set freaking clippers realized almost immediately idea idea 10 minutes watching guy stumble said know thats fine paid left wanted get scummy joint take son real haircut place bottom line go run way\n",
      "  (0, 442)\t1\n",
      "  (0, 13674)\t3\n",
      "  (0, 16478)\t1\n",
      "  (0, 16895)\t1\n",
      "  (0, 19341)\t1\n",
      "  (0, 21367)\t2\n",
      "  (0, 24941)\t1\n",
      "  (0, 31702)\t1\n",
      "  (0, 33978)\t1\n",
      "  (0, 34479)\t1\n",
      "  (0, 38002)\t1\n",
      "  (0, 48827)\t1\n",
      "  (0, 48828)\t2\n",
      "  (0, 54261)\t1\n",
      "  (0, 55649)\t1\n",
      "  (0, 58065)\t5\n",
      "  (0, 60532)\t1\n",
      "  (0, 63614)\t1\n",
      "  (0, 65229)\t1\n",
      "  (0, 66353)\t1\n",
      "  (0, 67120)\t1\n",
      "  (0, 67831)\t1\n",
      "  (0, 73666)\t1\n",
      "  (0, 80896)\t1\n",
      "  (0, 81048)\t1\n",
      "  :\t:\n",
      "  (0, 196697)\t1\n",
      "  (0, 196713)\t1\n",
      "  (0, 197567)\t1\n",
      "  (0, 200062)\t1\n",
      "  (0, 200443)\t1\n",
      "  (0, 202521)\t1\n",
      "  (0, 203743)\t1\n",
      "  (0, 206060)\t1\n",
      "  (0, 208125)\t1\n",
      "  (0, 208639)\t1\n",
      "  (0, 211397)\t1\n",
      "  (0, 211407)\t1\n",
      "  (0, 215108)\t1\n",
      "  (0, 215519)\t2\n",
      "  (0, 215625)\t1\n",
      "  (0, 219599)\t1\n",
      "  (0, 220021)\t2\n",
      "  (0, 220302)\t1\n",
      "  (0, 220314)\t1\n",
      "  (0, 220971)\t1\n",
      "  (0, 221319)\t1\n",
      "  (0, 222733)\t1\n",
      "  (0, 225753)\t1\n",
      "  (0, 226574)\t1\n",
      "  (0, 227749)\t1\n",
      "Getting the words back:\n",
      "0102\n",
      "01032019\n"
     ]
    }
   ],
   "source": [
    "vocab = CountVectorizer().fit(x)\n",
    "print(len(vocab.vocabulary_))\n",
    "r0 = x[0]\n",
    "print(r0)\n",
    "vocab0 = vocab.transform([r0])\n",
    "print(vocab0)\n",
    "print(\"Getting the words back:\")\n",
    "print(vocab.get_feature_names()[29])\n",
    "print(vocab.get_feature_names()[33])"
   ]
  },
  {
   "cell_type": "code",
   "execution_count": 31,
   "metadata": {
    "scrolled": true
   },
   "outputs": [
    {
     "name": "stdout",
     "output_type": "stream",
     "text": [
      "Shape of the sparse matrix:  (346621, 231774)\n",
      "Non-Zero occurences:  15489802\n",
      "Density of the matrix =  0.019280854599526873\n"
     ]
    }
   ],
   "source": [
    "x = vocab.transform(x)\n",
    "\n",
    "print(\"Shape of the sparse matrix: \", x.shape)\n",
    "print(\"Non-Zero occurences: \",x.nnz)\n",
    "density = (x.nnz/(x.shape[0]*x.shape[1]))*100\n",
    "print(\"Density of the matrix = \",density)"
   ]
  },
  {
   "cell_type": "code",
   "execution_count": 32,
   "metadata": {},
   "outputs": [],
   "source": [
    "from sklearn.model_selection import train_test_split, cross_val_score\n",
    "from sklearn.metrics import classification_report\n",
    "from sklearn.metrics import confusion_matrix, accuracy_score, roc_auc_score, roc_curve\n",
    "x_train,x_test,y_train,y_test = train_test_split(x,y,test_size=0.2,random_state=101)"
   ]
  },
  {
   "cell_type": "code",
   "execution_count": 33,
   "metadata": {},
   "outputs": [
    {
     "name": "stdout",
     "output_type": "stream",
     "text": [
      "Confusion Matrix for Multinomial Naive Bayes:\n",
      "[[11284  2397   429]\n",
      " [ 1516  7677  1909]\n",
      " [ 2007  3123 38983]]\n",
      "Score: 83.58\n",
      "Classification Report:               precision    recall  f1-score   support\n",
      "\n",
      "           1       0.76      0.80      0.78     14110\n",
      "           3       0.58      0.69      0.63     11102\n",
      "           5       0.94      0.88      0.91     44113\n",
      "\n",
      "    accuracy                           0.84     69325\n",
      "   macro avg       0.76      0.79      0.77     69325\n",
      "weighted avg       0.85      0.84      0.84     69325\n",
      "\n"
     ]
    }
   ],
   "source": [
    "#Naive Bayes\n",
    "from sklearn.naive_bayes import MultinomialNB\n",
    "mnb = MultinomialNB()\n",
    "mnb.fit(x_train,y_train)\n",
    "predmnb = mnb.predict(x_test)\n",
    "print(\"Confusion Matrix for Multinomial Naive Bayes:\")\n",
    "print(confusion_matrix(y_test,predmnb))\n",
    "print(\"Score:\",round(accuracy_score(y_test,predmnb)*100,2))\n",
    "print(\"Classification Report:\",classification_report(y_test,predmnb))"
   ]
  },
  {
   "cell_type": "code",
   "execution_count": 34,
   "metadata": {},
   "outputs": [
    {
     "name": "stdout",
     "output_type": "stream",
     "text": [
      "Confusion Matrix for Random Forest Classifier:\n",
      "[[10759   287  3064]\n",
      " [ 1167  2068  7867]\n",
      " [  382   117 43614]]\n",
      "Score: 81.42\n",
      "Classification Report:               precision    recall  f1-score   support\n",
      "\n",
      "           1       0.87      0.76      0.81     14110\n",
      "           3       0.84      0.19      0.30     11102\n",
      "           5       0.80      0.99      0.88     44113\n",
      "\n",
      "    accuracy                           0.81     69325\n",
      "   macro avg       0.84      0.65      0.67     69325\n",
      "weighted avg       0.82      0.81      0.78     69325\n",
      "\n"
     ]
    }
   ],
   "source": [
    "# Random Forest\n",
    "from sklearn.ensemble import RandomForestClassifier\n",
    "rmfr = RandomForestClassifier(n_jobs=-1)\n",
    "rmfr.fit(x_train,y_train)\n",
    "predrmfr = rmfr.predict(x_test)\n",
    "print(\"Confusion Matrix for Random Forest Classifier:\")\n",
    "print(confusion_matrix(y_test,predrmfr))\n",
    "print(\"Score:\",round(accuracy_score(y_test,predrmfr)*100,2))\n",
    "print(\"Classification Report:\",classification_report(y_test,predrmfr))"
   ]
  },
  {
   "cell_type": "code",
   "execution_count": null,
   "metadata": {},
   "outputs": [],
   "source": [
    "# # Decision Tree\n",
    "# from sklearn.tree import DecisionTreeClassifier\n",
    "# dt = DecisionTreeClassifier()\n",
    "# dt.fit(x_train,y_train)\n",
    "# preddt = dt.predict(x_test)\n",
    "# print(\"Confusion Matrix for Decision Tree:\")\n",
    "# print(confusion_matrix(y_test,preddt))\n",
    "# print(\"Score:\",round(accuracy_score(y_test,preddt)*100,2))\n",
    "# print(\"Classification Report:\",classification_report(y_test,preddt))"
   ]
  },
  {
   "cell_type": "code",
   "execution_count": null,
   "metadata": {},
   "outputs": [],
   "source": [
    "# # Support Vector Machine\n",
    "# from sklearn.svm import SVC\n",
    "# svm = SVC(random_state=101)\n",
    "# svm.fit(x_train,y_train)\n",
    "# predsvm = svm.predict(x_test)\n",
    "# print(\"Confusion Matrix for Support Vector Machines:\")\n",
    "# print(confusion_matrix(y_test,predsvm))\n",
    "# print(\"Score:\",round(accuracy_score(y_test,predsvm)*100,2))\n",
    "# print(\"Classification Report:\",classification_report(y_test,predsvm))"
   ]
  },
  {
   "cell_type": "code",
   "execution_count": null,
   "metadata": {},
   "outputs": [],
   "source": [
    "# # Gradient Boosting Classifier\n",
    "# from sklearn.ensemble import GradientBoostingClassifier\n",
    "# #Boosting\n",
    "# gbi = GradientBoostingClassifier(learning_rate=0.1,max_depth=5,max_features=0.5,random_state=999999)\n",
    "# gbi.fit(x_train,y_train)\n",
    "# predgbi = gbi.predict(x_test)\n",
    "# print(\"Confusion Matrix for Gradient Boosting Classifier:\")\n",
    "# print(confusion_matrix(y_test,predgbi))\n",
    "# print(\"Score:\",round(accuracy_score(y_test,predgbi)*100,2))\n",
    "# print(\"Classification Report:\",classification_report(y_test,predgbi))"
   ]
  },
  {
   "cell_type": "code",
   "execution_count": null,
   "metadata": {},
   "outputs": [],
   "source": [
    "# # K Nearest Neighbour Algorithm\n",
    "# from sklearn.neighbors import KNeighborsClassifier\n",
    "# knn = KNeighborsClassifier(n_jobs=-1)\n",
    "# knn.fit(x_train,y_train)\n",
    "# predknn = knn.predict(x_test)\n",
    "# print(\"Confusion Matrix for K Neighbors Classifier:\")\n",
    "# print(confusion_matrix(y_test,predknn))\n",
    "# print(\"Score: \",round(accuracy_score(y_test,predknn)*100,2))\n",
    "# print(\"Classification Report:\")\n",
    "# print(classification_report(y_test,predknn))"
   ]
  },
  {
   "cell_type": "code",
   "execution_count": null,
   "metadata": {},
   "outputs": [],
   "source": [
    "# # MULTILAYER PERCEPTRON CLASSIFIER\n",
    "# from sklearn.neural_network import MLPClassifier\n",
    "# mlp = MLPClassifier()\n",
    "# mlp.fit(x_train,y_train)\n",
    "# predmlp = mlp.predict(x_test)\n",
    "# print(\"Confusion Matrix for Multilayer Perceptron Classifier:\")\n",
    "# print(confusion_matrix(y_test,predmlp))\n",
    "# print(\"Score:\",round(accuracy_score(y_test,predmlp)*100,2))\n",
    "# print(\"Classification Report:\")\n",
    "# print(classification_report(y_test,predmlp))"
   ]
  },
  {
   "cell_type": "markdown",
   "metadata": {},
   "source": [
    "# Question 3: House price prediction"
   ]
  },
  {
   "cell_type": "code",
   "execution_count": 36,
   "metadata": {},
   "outputs": [],
   "source": [
    "train = pd.read_csv('train.csv')\n",
    "test= pd.read_csv('test.csv')"
   ]
  },
  {
   "cell_type": "code",
   "execution_count": 37,
   "metadata": {},
   "outputs": [
    {
     "data": {
      "text/html": [
       "<div>\n",
       "<style scoped>\n",
       "    .dataframe tbody tr th:only-of-type {\n",
       "        vertical-align: middle;\n",
       "    }\n",
       "\n",
       "    .dataframe tbody tr th {\n",
       "        vertical-align: top;\n",
       "    }\n",
       "\n",
       "    .dataframe thead th {\n",
       "        text-align: right;\n",
       "    }\n",
       "</style>\n",
       "<table border=\"1\" class=\"dataframe\">\n",
       "  <thead>\n",
       "    <tr style=\"text-align: right;\">\n",
       "      <th></th>\n",
       "      <th>Id</th>\n",
       "      <th>MSSubClass</th>\n",
       "      <th>MSZoning</th>\n",
       "      <th>LotFrontage</th>\n",
       "      <th>LotArea</th>\n",
       "      <th>Street</th>\n",
       "      <th>Alley</th>\n",
       "      <th>LotShape</th>\n",
       "      <th>LandContour</th>\n",
       "      <th>Utilities</th>\n",
       "      <th>...</th>\n",
       "      <th>PoolArea</th>\n",
       "      <th>PoolQC</th>\n",
       "      <th>Fence</th>\n",
       "      <th>MiscFeature</th>\n",
       "      <th>MiscVal</th>\n",
       "      <th>MoSold</th>\n",
       "      <th>YrSold</th>\n",
       "      <th>SaleType</th>\n",
       "      <th>SaleCondition</th>\n",
       "      <th>SalePrice</th>\n",
       "    </tr>\n",
       "  </thead>\n",
       "  <tbody>\n",
       "    <tr>\n",
       "      <th>0</th>\n",
       "      <td>1</td>\n",
       "      <td>60</td>\n",
       "      <td>RL</td>\n",
       "      <td>65.0</td>\n",
       "      <td>8450</td>\n",
       "      <td>Pave</td>\n",
       "      <td>NaN</td>\n",
       "      <td>Reg</td>\n",
       "      <td>Lvl</td>\n",
       "      <td>AllPub</td>\n",
       "      <td>...</td>\n",
       "      <td>0</td>\n",
       "      <td>NaN</td>\n",
       "      <td>NaN</td>\n",
       "      <td>NaN</td>\n",
       "      <td>0</td>\n",
       "      <td>2</td>\n",
       "      <td>2008</td>\n",
       "      <td>WD</td>\n",
       "      <td>Normal</td>\n",
       "      <td>208500</td>\n",
       "    </tr>\n",
       "    <tr>\n",
       "      <th>1</th>\n",
       "      <td>2</td>\n",
       "      <td>20</td>\n",
       "      <td>RL</td>\n",
       "      <td>80.0</td>\n",
       "      <td>9600</td>\n",
       "      <td>Pave</td>\n",
       "      <td>NaN</td>\n",
       "      <td>Reg</td>\n",
       "      <td>Lvl</td>\n",
       "      <td>AllPub</td>\n",
       "      <td>...</td>\n",
       "      <td>0</td>\n",
       "      <td>NaN</td>\n",
       "      <td>NaN</td>\n",
       "      <td>NaN</td>\n",
       "      <td>0</td>\n",
       "      <td>5</td>\n",
       "      <td>2007</td>\n",
       "      <td>WD</td>\n",
       "      <td>Normal</td>\n",
       "      <td>181500</td>\n",
       "    </tr>\n",
       "    <tr>\n",
       "      <th>2</th>\n",
       "      <td>3</td>\n",
       "      <td>60</td>\n",
       "      <td>RL</td>\n",
       "      <td>68.0</td>\n",
       "      <td>11250</td>\n",
       "      <td>Pave</td>\n",
       "      <td>NaN</td>\n",
       "      <td>IR1</td>\n",
       "      <td>Lvl</td>\n",
       "      <td>AllPub</td>\n",
       "      <td>...</td>\n",
       "      <td>0</td>\n",
       "      <td>NaN</td>\n",
       "      <td>NaN</td>\n",
       "      <td>NaN</td>\n",
       "      <td>0</td>\n",
       "      <td>9</td>\n",
       "      <td>2008</td>\n",
       "      <td>WD</td>\n",
       "      <td>Normal</td>\n",
       "      <td>223500</td>\n",
       "    </tr>\n",
       "    <tr>\n",
       "      <th>3</th>\n",
       "      <td>4</td>\n",
       "      <td>70</td>\n",
       "      <td>RL</td>\n",
       "      <td>60.0</td>\n",
       "      <td>9550</td>\n",
       "      <td>Pave</td>\n",
       "      <td>NaN</td>\n",
       "      <td>IR1</td>\n",
       "      <td>Lvl</td>\n",
       "      <td>AllPub</td>\n",
       "      <td>...</td>\n",
       "      <td>0</td>\n",
       "      <td>NaN</td>\n",
       "      <td>NaN</td>\n",
       "      <td>NaN</td>\n",
       "      <td>0</td>\n",
       "      <td>2</td>\n",
       "      <td>2006</td>\n",
       "      <td>WD</td>\n",
       "      <td>Abnorml</td>\n",
       "      <td>140000</td>\n",
       "    </tr>\n",
       "    <tr>\n",
       "      <th>4</th>\n",
       "      <td>5</td>\n",
       "      <td>60</td>\n",
       "      <td>RL</td>\n",
       "      <td>84.0</td>\n",
       "      <td>14260</td>\n",
       "      <td>Pave</td>\n",
       "      <td>NaN</td>\n",
       "      <td>IR1</td>\n",
       "      <td>Lvl</td>\n",
       "      <td>AllPub</td>\n",
       "      <td>...</td>\n",
       "      <td>0</td>\n",
       "      <td>NaN</td>\n",
       "      <td>NaN</td>\n",
       "      <td>NaN</td>\n",
       "      <td>0</td>\n",
       "      <td>12</td>\n",
       "      <td>2008</td>\n",
       "      <td>WD</td>\n",
       "      <td>Normal</td>\n",
       "      <td>250000</td>\n",
       "    </tr>\n",
       "  </tbody>\n",
       "</table>\n",
       "<p>5 rows × 81 columns</p>\n",
       "</div>"
      ],
      "text/plain": [
       "   Id  MSSubClass MSZoning  LotFrontage  LotArea Street Alley LotShape  \\\n",
       "0   1          60       RL         65.0     8450   Pave   NaN      Reg   \n",
       "1   2          20       RL         80.0     9600   Pave   NaN      Reg   \n",
       "2   3          60       RL         68.0    11250   Pave   NaN      IR1   \n",
       "3   4          70       RL         60.0     9550   Pave   NaN      IR1   \n",
       "4   5          60       RL         84.0    14260   Pave   NaN      IR1   \n",
       "\n",
       "  LandContour Utilities  ... PoolArea PoolQC Fence MiscFeature MiscVal MoSold  \\\n",
       "0         Lvl    AllPub  ...        0    NaN   NaN         NaN       0      2   \n",
       "1         Lvl    AllPub  ...        0    NaN   NaN         NaN       0      5   \n",
       "2         Lvl    AllPub  ...        0    NaN   NaN         NaN       0      9   \n",
       "3         Lvl    AllPub  ...        0    NaN   NaN         NaN       0      2   \n",
       "4         Lvl    AllPub  ...        0    NaN   NaN         NaN       0     12   \n",
       "\n",
       "  YrSold  SaleType  SaleCondition  SalePrice  \n",
       "0   2008        WD         Normal     208500  \n",
       "1   2007        WD         Normal     181500  \n",
       "2   2008        WD         Normal     223500  \n",
       "3   2006        WD        Abnorml     140000  \n",
       "4   2008        WD         Normal     250000  \n",
       "\n",
       "[5 rows x 81 columns]"
      ]
     },
     "execution_count": 37,
     "metadata": {},
     "output_type": "execute_result"
    }
   ],
   "source": [
    "train.head()"
   ]
  },
  {
   "cell_type": "code",
   "execution_count": 38,
   "metadata": {},
   "outputs": [
    {
     "data": {
      "text/html": [
       "<div>\n",
       "<style scoped>\n",
       "    .dataframe tbody tr th:only-of-type {\n",
       "        vertical-align: middle;\n",
       "    }\n",
       "\n",
       "    .dataframe tbody tr th {\n",
       "        vertical-align: top;\n",
       "    }\n",
       "\n",
       "    .dataframe thead th {\n",
       "        text-align: right;\n",
       "    }\n",
       "</style>\n",
       "<table border=\"1\" class=\"dataframe\">\n",
       "  <thead>\n",
       "    <tr style=\"text-align: right;\">\n",
       "      <th></th>\n",
       "      <th>Id</th>\n",
       "      <th>MSSubClass</th>\n",
       "      <th>MSZoning</th>\n",
       "      <th>LotFrontage</th>\n",
       "      <th>LotArea</th>\n",
       "      <th>Street</th>\n",
       "      <th>Alley</th>\n",
       "      <th>LotShape</th>\n",
       "      <th>LandContour</th>\n",
       "      <th>Utilities</th>\n",
       "      <th>...</th>\n",
       "      <th>ScreenPorch</th>\n",
       "      <th>PoolArea</th>\n",
       "      <th>PoolQC</th>\n",
       "      <th>Fence</th>\n",
       "      <th>MiscFeature</th>\n",
       "      <th>MiscVal</th>\n",
       "      <th>MoSold</th>\n",
       "      <th>YrSold</th>\n",
       "      <th>SaleType</th>\n",
       "      <th>SaleCondition</th>\n",
       "    </tr>\n",
       "  </thead>\n",
       "  <tbody>\n",
       "    <tr>\n",
       "      <th>0</th>\n",
       "      <td>1461</td>\n",
       "      <td>20</td>\n",
       "      <td>RH</td>\n",
       "      <td>80.0</td>\n",
       "      <td>11622</td>\n",
       "      <td>Pave</td>\n",
       "      <td>NaN</td>\n",
       "      <td>Reg</td>\n",
       "      <td>Lvl</td>\n",
       "      <td>AllPub</td>\n",
       "      <td>...</td>\n",
       "      <td>120</td>\n",
       "      <td>0</td>\n",
       "      <td>NaN</td>\n",
       "      <td>MnPrv</td>\n",
       "      <td>NaN</td>\n",
       "      <td>0</td>\n",
       "      <td>6</td>\n",
       "      <td>2010</td>\n",
       "      <td>WD</td>\n",
       "      <td>Normal</td>\n",
       "    </tr>\n",
       "    <tr>\n",
       "      <th>1</th>\n",
       "      <td>1462</td>\n",
       "      <td>20</td>\n",
       "      <td>RL</td>\n",
       "      <td>81.0</td>\n",
       "      <td>14267</td>\n",
       "      <td>Pave</td>\n",
       "      <td>NaN</td>\n",
       "      <td>IR1</td>\n",
       "      <td>Lvl</td>\n",
       "      <td>AllPub</td>\n",
       "      <td>...</td>\n",
       "      <td>0</td>\n",
       "      <td>0</td>\n",
       "      <td>NaN</td>\n",
       "      <td>NaN</td>\n",
       "      <td>Gar2</td>\n",
       "      <td>12500</td>\n",
       "      <td>6</td>\n",
       "      <td>2010</td>\n",
       "      <td>WD</td>\n",
       "      <td>Normal</td>\n",
       "    </tr>\n",
       "    <tr>\n",
       "      <th>2</th>\n",
       "      <td>1463</td>\n",
       "      <td>60</td>\n",
       "      <td>RL</td>\n",
       "      <td>74.0</td>\n",
       "      <td>13830</td>\n",
       "      <td>Pave</td>\n",
       "      <td>NaN</td>\n",
       "      <td>IR1</td>\n",
       "      <td>Lvl</td>\n",
       "      <td>AllPub</td>\n",
       "      <td>...</td>\n",
       "      <td>0</td>\n",
       "      <td>0</td>\n",
       "      <td>NaN</td>\n",
       "      <td>MnPrv</td>\n",
       "      <td>NaN</td>\n",
       "      <td>0</td>\n",
       "      <td>3</td>\n",
       "      <td>2010</td>\n",
       "      <td>WD</td>\n",
       "      <td>Normal</td>\n",
       "    </tr>\n",
       "    <tr>\n",
       "      <th>3</th>\n",
       "      <td>1464</td>\n",
       "      <td>60</td>\n",
       "      <td>RL</td>\n",
       "      <td>78.0</td>\n",
       "      <td>9978</td>\n",
       "      <td>Pave</td>\n",
       "      <td>NaN</td>\n",
       "      <td>IR1</td>\n",
       "      <td>Lvl</td>\n",
       "      <td>AllPub</td>\n",
       "      <td>...</td>\n",
       "      <td>0</td>\n",
       "      <td>0</td>\n",
       "      <td>NaN</td>\n",
       "      <td>NaN</td>\n",
       "      <td>NaN</td>\n",
       "      <td>0</td>\n",
       "      <td>6</td>\n",
       "      <td>2010</td>\n",
       "      <td>WD</td>\n",
       "      <td>Normal</td>\n",
       "    </tr>\n",
       "    <tr>\n",
       "      <th>4</th>\n",
       "      <td>1465</td>\n",
       "      <td>120</td>\n",
       "      <td>RL</td>\n",
       "      <td>43.0</td>\n",
       "      <td>5005</td>\n",
       "      <td>Pave</td>\n",
       "      <td>NaN</td>\n",
       "      <td>IR1</td>\n",
       "      <td>HLS</td>\n",
       "      <td>AllPub</td>\n",
       "      <td>...</td>\n",
       "      <td>144</td>\n",
       "      <td>0</td>\n",
       "      <td>NaN</td>\n",
       "      <td>NaN</td>\n",
       "      <td>NaN</td>\n",
       "      <td>0</td>\n",
       "      <td>1</td>\n",
       "      <td>2010</td>\n",
       "      <td>WD</td>\n",
       "      <td>Normal</td>\n",
       "    </tr>\n",
       "  </tbody>\n",
       "</table>\n",
       "<p>5 rows × 80 columns</p>\n",
       "</div>"
      ],
      "text/plain": [
       "     Id  MSSubClass MSZoning  LotFrontage  LotArea Street Alley LotShape  \\\n",
       "0  1461          20       RH         80.0    11622   Pave   NaN      Reg   \n",
       "1  1462          20       RL         81.0    14267   Pave   NaN      IR1   \n",
       "2  1463          60       RL         74.0    13830   Pave   NaN      IR1   \n",
       "3  1464          60       RL         78.0     9978   Pave   NaN      IR1   \n",
       "4  1465         120       RL         43.0     5005   Pave   NaN      IR1   \n",
       "\n",
       "  LandContour Utilities  ... ScreenPorch PoolArea PoolQC  Fence MiscFeature  \\\n",
       "0         Lvl    AllPub  ...         120        0    NaN  MnPrv         NaN   \n",
       "1         Lvl    AllPub  ...           0        0    NaN    NaN        Gar2   \n",
       "2         Lvl    AllPub  ...           0        0    NaN  MnPrv         NaN   \n",
       "3         Lvl    AllPub  ...           0        0    NaN    NaN         NaN   \n",
       "4         HLS    AllPub  ...         144        0    NaN    NaN         NaN   \n",
       "\n",
       "  MiscVal MoSold  YrSold  SaleType  SaleCondition  \n",
       "0       0      6    2010        WD         Normal  \n",
       "1   12500      6    2010        WD         Normal  \n",
       "2       0      3    2010        WD         Normal  \n",
       "3       0      6    2010        WD         Normal  \n",
       "4       0      1    2010        WD         Normal  \n",
       "\n",
       "[5 rows x 80 columns]"
      ]
     },
     "execution_count": 38,
     "metadata": {},
     "output_type": "execute_result"
    }
   ],
   "source": [
    "test.head()"
   ]
  },
  {
   "cell_type": "code",
   "execution_count": 39,
   "metadata": {},
   "outputs": [
    {
     "data": {
      "text/plain": [
       "count      1460.000000\n",
       "mean     180921.195890\n",
       "std       79442.502883\n",
       "min       34900.000000\n",
       "25%      129975.000000\n",
       "50%      163000.000000\n",
       "75%      214000.000000\n",
       "max      755000.000000\n",
       "Name: SalePrice, dtype: float64"
      ]
     },
     "execution_count": 39,
     "metadata": {},
     "output_type": "execute_result"
    }
   ],
   "source": [
    "train['SalePrice'].describe()"
   ]
  },
  {
   "cell_type": "code",
   "execution_count": 40,
   "metadata": {},
   "outputs": [
    {
     "name": "stdout",
     "output_type": "stream",
     "text": [
      "Skewness of the Saleprice target variable is: 1.882876\n",
      "Kurtosis of the Saleprice target variable is: 6.536282\n"
     ]
    }
   ],
   "source": [
    "print(\"Skewness of the Saleprice target variable is: %f\" %train['SalePrice'].skew())\n",
    "print(\"Kurtosis of the Saleprice target variable is: %f\" %train['SalePrice'].kurt())"
   ]
  },
  {
   "cell_type": "code",
   "execution_count": 43,
   "metadata": {},
   "outputs": [],
   "source": [
    "import matplotlib.pyplot as plt\n",
    "import seaborn as sns\n",
    "%matplotlib inline\n",
    "plt.style.use(style=\"ggplot\")\n",
    "plt.rcParams['figure.figsize']=(10,6)\n",
    "import warnings\n",
    "warnings.filterwarnings('ignore')"
   ]
  },
  {
   "cell_type": "code",
   "execution_count": 45,
   "metadata": {},
   "outputs": [
    {
     "data": {
      "image/png": "[encoded data removed]",
      "text/plain": [
       "<Figure size 720x432 with 1 Axes>"
      ]
     },
     "metadata": {},
     "output_type": "display_data"
    },
    {
     "data": {
      "image/png": "[encoded data removed]",
      "text/plain": [
       "<Figure size 720x432 with 1 Axes>"
      ]
     },
     "metadata": {},
     "output_type": "display_data"
    }
   ],
   "source": [
    "plt.hist(train['SalePrice'],color='blue')\n",
    "plt.show()\n",
    "sns.distplot(train['SalePrice'],color='blue')\n",
    "plt.show()"
   ]
  },
  {
   "cell_type": "code",
   "execution_count": 46,
   "metadata": {},
   "outputs": [
    {
     "name": "stdout",
     "output_type": "stream",
     "text": [
      "Skewness of the Saleprice target variable is: 0.121335\n"
     ]
    },
    {
     "data": {
      "image/png": "[encoded data removed]",
      "text/plain": [
       "<Figure size 720x432 with 1 Axes>"
      ]
     },
     "metadata": {},
     "output_type": "display_data"
    }
   ],
   "source": [
    "target=np.log(train['SalePrice'])\n",
    "print(\"Skewness of the Saleprice target variable is: %f\" %target.skew())\n",
    "plt.hist(target,color=\"blue\")\n",
    "plt.show()"
   ]
  },
  {
   "cell_type": "code",
   "execution_count": 47,
   "metadata": {},
   "outputs": [
    {
     "name": "stdout",
     "output_type": "stream",
     "text": [
      "Id                 int64\n",
      "MSSubClass         int64\n",
      "LotFrontage      float64\n",
      "LotArea            int64\n",
      "OverallQual        int64\n",
      "OverallCond        int64\n",
      "YearBuilt          int64\n",
      "YearRemodAdd       int64\n",
      "MasVnrArea       float64\n",
      "BsmtFinSF1         int64\n",
      "BsmtFinSF2         int64\n",
      "BsmtUnfSF          int64\n",
      "TotalBsmtSF        int64\n",
      "1stFlrSF           int64\n",
      "2ndFlrSF           int64\n",
      "LowQualFinSF       int64\n",
      "GrLivArea          int64\n",
      "BsmtFullBath       int64\n",
      "BsmtHalfBath       int64\n",
      "FullBath           int64\n",
      "HalfBath           int64\n",
      "BedroomAbvGr       int64\n",
      "KitchenAbvGr       int64\n",
      "TotRmsAbvGrd       int64\n",
      "Fireplaces         int64\n",
      "GarageYrBlt      float64\n",
      "GarageCars         int64\n",
      "GarageArea         int64\n",
      "WoodDeckSF         int64\n",
      "OpenPorchSF        int64\n",
      "EnclosedPorch      int64\n",
      "3SsnPorch          int64\n",
      "ScreenPorch        int64\n",
      "PoolArea           int64\n",
      "MiscVal            int64\n",
      "MoSold             int64\n",
      "YrSold             int64\n",
      "SalePrice          int64\n",
      "dtype: object\n",
      "38\n"
     ]
    }
   ],
   "source": [
    "numeric_features=train.select_dtypes(include=[np.number])\n",
    "print(numeric_features.dtypes)\n",
    "print(len(numeric_features.dtypes))"
   ]
  },
  {
   "cell_type": "code",
   "execution_count": 48,
   "metadata": {},
   "outputs": [
    {
     "data": {
      "text/plain": [
       "Index(['MSZoning', 'Street', 'Alley', 'LotShape', 'LandContour', 'Utilities',\n",
       "       'LotConfig', 'LandSlope', 'Neighborhood', 'Condition1', 'Condition2',\n",
       "       'BldgType', 'HouseStyle', 'RoofStyle', 'RoofMatl', 'Exterior1st',\n",
       "       'Exterior2nd', 'MasVnrType', 'ExterQual', 'ExterCond', 'Foundation',\n",
       "       'BsmtQual', 'BsmtCond', 'BsmtExposure', 'BsmtFinType1', 'BsmtFinType2',\n",
       "       'Heating', 'HeatingQC', 'CentralAir', 'Electrical', 'KitchenQual',\n",
       "       'Functional', 'FireplaceQu', 'GarageType', 'GarageFinish', 'GarageQual',\n",
       "       'GarageCond', 'PavedDrive', 'PoolQC', 'Fence', 'MiscFeature',\n",
       "       'SaleType', 'SaleCondition'],\n",
       "      dtype='object')"
      ]
     },
     "execution_count": 48,
     "metadata": {},
     "output_type": "execute_result"
    }
   ],
   "source": [
    "objects=train.select_dtypes(exclude=[np.number])\n",
    "objects.columns"
   ]
  },
  {
   "cell_type": "code",
   "execution_count": 49,
   "metadata": {},
   "outputs": [
    {
     "name": "stdout",
     "output_type": "stream",
     "text": [
      "Pave    1454\n",
      "Grvl       6\n",
      "Name: Street, dtype: int64\n",
      "1    1454\n",
      "0       6\n",
      "Name: encode_street, dtype: int64\n"
     ]
    }
   ],
   "source": [
    "print(train['Street'].value_counts())\n",
    "train['encode_street']=pd.get_dummies(train['Street'],drop_first=True)\n",
    "test['encode_street']=pd.get_dummies(test['Street'],drop_first=True)\n",
    "print(train['encode_street'].value_counts())"
   ]
  },
  {
   "cell_type": "code",
   "execution_count": 50,
   "metadata": {},
   "outputs": [],
   "source": [
    "def encode(x):\n",
    "    return 1 if x=='Partial' else 0\n",
    "train['encode_salecondition']=train['SaleCondition'].apply(encode)\n",
    "test['encode_salecondition']=test['SaleCondition'].apply(encode)"
   ]
  },
  {
   "cell_type": "code",
   "execution_count": 51,
   "metadata": {},
   "outputs": [
    {
     "data": {
      "text/plain": [
       "<AxesSubplot:xlabel='encode_salecondition'>"
      ]
     },
     "execution_count": 51,
     "metadata": {},
     "output_type": "execute_result"
    },
    {
     "data": {
      "image/png": "[encoded data removed]",
      "text/plain": [
       "<Figure size 720x432 with 1 Axes>"
      ]
     },
     "metadata": {},
     "output_type": "display_data"
    }
   ],
   "source": [
    "sale_cond_pivot=train.pivot_table(index='encode_salecondition',values='SalePrice',aggfunc=np.median)\n",
    "sale_cond_pivot.plot(kind='bar',color='blue')"
   ]
  },
  {
   "cell_type": "code",
   "execution_count": 52,
   "metadata": {},
   "outputs": [],
   "source": [
    "data=train.select_dtypes(include=[np.number]).interpolate().dropna()"
   ]
  },
  {
   "cell_type": "code",
   "execution_count": 54,
   "metadata": {},
   "outputs": [],
   "source": [
    "y=np.log(data['SalePrice'])\n",
    "X=data.drop(['Id','SalePrice'],axis=1)"
   ]
  },
  {
   "cell_type": "code",
   "execution_count": 55,
   "metadata": {},
   "outputs": [],
   "source": [
    "from sklearn.model_selection import train_test_split\n",
    "X_train,X_test,y_train,y_test=train_test_split(X,y,test_size=0.33,random_state=42)"
   ]
  },
  {
   "cell_type": "code",
   "execution_count": 56,
   "metadata": {},
   "outputs": [
    {
     "data": {
      "text/plain": [
       "LinearRegression()"
      ]
     },
     "execution_count": 56,
     "metadata": {},
     "output_type": "execute_result"
    }
   ],
   "source": [
    "from sklearn.linear_model import LinearRegression\n",
    "lr=LinearRegression()\n",
    "lr.fit(X_train,y_train)"
   ]
  },
  {
   "cell_type": "code",
   "execution_count": 57,
   "metadata": {},
   "outputs": [
    {
     "name": "stdout",
     "output_type": "stream",
     "text": [
      "0.8647463410578131\n"
     ]
    }
   ],
   "source": [
    "print(lr.score(X_test,y_test))"
   ]
  },
  {
   "cell_type": "code",
   "execution_count": 58,
   "metadata": {},
   "outputs": [
    {
     "data": {
      "text/plain": [
       "array([11.9279834 , 12.613182  , 11.68259543, 12.05987131, 12.63253959,\n",
       "       11.34017959, 12.36985395, 11.93306706, 11.33361845, 11.8873002 ,\n",
       "       11.90336699, 11.71321408, 11.32671299, 12.16460468, 12.08187177,\n",
       "       11.79864133, 12.22721937, 11.74929298, 11.63970466, 12.27110097,\n",
       "       12.03697898, 12.22741216, 12.12230909, 11.82231934, 12.2132387 ,\n",
       "       11.86591032, 12.19720539, 11.46528684, 12.07106423, 12.11747771,\n",
       "       11.67356399, 12.49781739, 12.14008396, 11.55127135, 12.49627395,\n",
       "       11.94978138, 11.83206113, 12.27481476, 12.76509994, 11.51734167,\n",
       "       11.83795841, 12.39362526, 11.6256284 , 12.62487596, 11.77115464,\n",
       "       11.60810673, 11.5989006 , 11.77156953, 12.86446838, 11.68121561,\n",
       "       11.63786656, 12.2088134 , 11.66507159, 12.70582127, 11.91615344,\n",
       "       12.33997515, 12.32311651, 11.90244966, 11.93379254, 11.70307523,\n",
       "       11.33490715, 11.91328669, 12.5678348 , 12.43842297, 12.58908428,\n",
       "       12.29753883, 11.52421386, 12.71334064, 11.62400915, 11.93456078,\n",
       "       11.78968637, 11.7187907 , 11.49893981, 11.35341803, 12.94507859,\n",
       "       12.04775739, 12.57983999, 12.56209496, 11.74621715, 11.67476228,\n",
       "       11.79152417, 11.3792479 , 11.62342706, 11.67913359, 11.99892527,\n",
       "       11.69442643, 12.55368574, 12.20992809, 11.92959091, 12.24340474,\n",
       "       11.90721598, 11.87679031, 11.72440704, 12.476165  , 11.55438507,\n",
       "       12.17569991, 12.08799772, 12.08571125, 12.24799311, 12.45114515,\n",
       "       12.08495433, 12.25932327, 12.47010856, 11.86851912, 12.05045103,\n",
       "       12.10374712, 12.0738312 , 12.33451364, 11.82945006, 12.14353771,\n",
       "       11.02586449, 11.60959343, 11.87216494, 11.79964036, 12.21399747,\n",
       "       11.78873498, 11.58028074, 11.75506449, 11.92198857, 12.5492933 ,\n",
       "       11.84964536, 11.91056284, 12.11106351, 12.13441067, 12.12766274,\n",
       "       11.72597409, 12.34307469, 11.49562916, 11.85958377, 12.23222275,\n",
       "       12.1379512 , 12.7462388 , 12.15140369, 11.66121646, 11.12320516,\n",
       "       12.73155627, 12.69343592, 11.76561424, 12.34535695, 13.24329132,\n",
       "       12.62861339, 11.74870457, 12.06669841, 11.96301951, 11.67534067,\n",
       "       11.70143329, 12.17846929, 12.14533451, 11.73299436, 11.14063965,\n",
       "       11.47011201, 11.8926277 , 12.34489812, 11.88203642, 11.33722895,\n",
       "       11.68673989, 11.73538264, 11.85661227, 11.42843895, 11.83093624,\n",
       "       12.19481838, 11.85837051, 12.61283631, 11.85992833, 11.58769612,\n",
       "       11.61378655, 12.28918165, 12.66008984, 12.89845112, 12.26534654,\n",
       "       12.80726664, 11.34995121, 11.59849426, 12.07996306, 12.53880616,\n",
       "       11.70346409, 11.70994047, 12.24907055, 11.7023075 , 11.86195715,\n",
       "       12.00191998, 11.5246963 , 11.70959951, 12.06162366, 12.46244754,\n",
       "       11.91047568, 12.60611225, 12.3916847 , 12.18180283, 11.4526644 ,\n",
       "       11.79194641, 11.53542239, 11.80536804, 11.53898617, 12.10415539,\n",
       "       12.08924532, 12.22144811, 11.37980012, 12.267373  , 11.68830168,\n",
       "       12.40008816, 12.22442885, 11.650579  , 12.62606815, 12.21223859,\n",
       "       11.63547916, 12.33240779, 11.81037881, 11.89046307, 11.55789964,\n",
       "       12.47789753, 11.98902995, 11.59363113, 11.89984855, 12.31180257,\n",
       "       12.37882094, 12.29653109, 11.77942993, 11.64566334, 11.81058716,\n",
       "       11.8592249 , 12.30308807, 12.10954435, 11.57373012, 12.35472941,\n",
       "       11.96117979, 11.42145649, 11.54643992, 12.0786501 , 11.42372808,\n",
       "       11.58349224, 12.05854523, 11.76668235, 11.6000878 , 12.3915213 ,\n",
       "       11.80471889, 12.26123037, 11.94818149, 12.40018491, 11.75006015,\n",
       "       11.76324885, 12.49923518, 12.33513268, 12.94863013, 12.09945519,\n",
       "       11.46427834, 11.76803456, 12.14401197, 11.90605464, 11.55223583,\n",
       "       12.10441232, 12.13993242, 11.72917345, 11.4273734 , 11.83040242,\n",
       "       11.88418175, 11.80340711, 11.7214576 , 12.01153402, 12.44618535,\n",
       "       12.60595476, 12.11137096, 11.78574842, 12.41779917, 12.65442257,\n",
       "       12.29802489, 11.98412801, 11.87821592, 11.62165873, 12.14304901,\n",
       "       12.88571966, 12.30029963, 12.28542937, 11.47995197, 11.54972813,\n",
       "       11.84754886, 12.06084423, 12.46086697, 12.25843764, 11.81010153,\n",
       "       12.23910724, 11.46322018, 12.19599575, 11.69135991, 12.57253385,\n",
       "       12.05883641, 12.2477145 , 11.66483831, 12.31948177, 12.27016132,\n",
       "       11.63467409, 11.65696158, 11.78861455, 12.14023904, 11.40530247,\n",
       "       11.97100848, 11.75237063, 11.90383139, 12.05462604, 11.68264066,\n",
       "       12.12567694, 12.32343122, 11.74865581, 11.77982172, 12.1405535 ,\n",
       "       12.38811767, 11.94930748, 12.23538405, 12.31278719, 11.8524939 ,\n",
       "       11.94713412, 12.26061927, 11.44751813, 12.32861355, 11.69716449,\n",
       "       12.1649094 , 12.16285147, 12.04154835, 12.47473202, 11.33702386,\n",
       "       12.22579141, 11.77600039, 11.76431156, 11.44989005, 12.27074939,\n",
       "       11.96882466, 11.76468023, 12.31564257, 11.95037741, 11.50072186,\n",
       "       11.99290723, 11.86274292, 11.90563743, 12.35701242, 11.96785941,\n",
       "       11.72077725, 11.79904214, 11.30983746, 11.45573417, 12.19056124,\n",
       "       12.17680872, 11.90529097, 11.62494398, 12.25469464, 12.46611162,\n",
       "       12.77365524, 12.65508136, 11.69952214, 12.48554614, 11.70649524,\n",
       "       12.5575115 , 12.72859127, 12.41089873, 12.11857934, 12.41550667,\n",
       "       11.65953825, 11.64790879, 11.41778706, 12.2219713 , 12.67073978,\n",
       "       12.12167785, 11.7611089 , 12.41756328, 12.30442886, 11.75100039,\n",
       "       12.15630258, 11.7160795 , 11.61950828, 11.74597993, 11.89809857,\n",
       "       11.64431472, 12.10799594, 11.72254423, 12.25064983, 12.08722317,\n",
       "       11.79946412, 12.16123912, 12.10392814, 11.58889742, 12.30930466,\n",
       "       11.93935586, 12.0252956 , 12.18248273, 11.94536456, 11.69619031,\n",
       "       12.33656356, 11.86000262, 11.64075893, 12.47494724, 12.13102385,\n",
       "       11.73327758, 11.92457245, 11.78089671, 12.73308532, 11.85807806,\n",
       "       12.92081244, 11.77925534, 12.09384094, 12.04814912, 11.807859  ,\n",
       "       12.06765743, 12.86605243, 11.54383523, 11.96110703, 11.79043259,\n",
       "       11.44897367, 12.23016337, 11.77141542, 12.33133401, 12.21703175,\n",
       "       12.31393509, 12.2875729 , 11.35033211, 12.59466773, 11.78526308,\n",
       "       12.74130786, 11.65010009, 12.69181144, 12.48542597, 11.69571641,\n",
       "       12.27993682, 12.39209965, 12.21276237, 12.08542542, 12.46643478,\n",
       "       11.54942962, 12.27872705, 12.16400815, 12.16704971, 12.3047177 ,\n",
       "       11.69671798, 11.90882039, 12.07116954, 11.7734229 , 11.7160555 ,\n",
       "       12.20850715, 11.8046823 , 12.95078057, 12.16884616, 11.79303133,\n",
       "       12.16833417, 12.55825759, 12.32797192, 11.934318  , 12.19579686,\n",
       "       11.75187803, 12.09727581, 12.25185991, 11.74254623, 12.1244957 ,\n",
       "       11.604276  , 11.95641518, 12.38130584, 11.87339366, 11.56278852,\n",
       "       12.2814133 , 12.68679617, 12.74476216, 12.41776588, 11.89353997,\n",
       "       11.68107145, 11.50971841, 11.99439536, 12.19154972, 12.04674705,\n",
       "       12.89255614, 12.3399873 , 12.15291287, 11.54457064, 12.4085732 ,\n",
       "       11.56714548, 11.71154296, 11.63419782, 11.70032504, 12.27514025,\n",
       "       12.48938356, 11.6375183 , 11.67371662, 11.67246807, 12.35642775,\n",
       "       11.80905605, 12.14293742])"
      ]
     },
     "execution_count": 58,
     "metadata": {},
     "output_type": "execute_result"
    }
   ],
   "source": [
    "predictions=lr.predict(X_test)\n",
    "predictions"
   ]
  },
  {
   "cell_type": "code",
   "execution_count": 59,
   "metadata": {},
   "outputs": [],
   "source": [
    "test_data=test.select_dtypes(include=[np.number]).drop(['Id'],axis=1).interpolate()"
   ]
  },
  {
   "cell_type": "code",
   "execution_count": 60,
   "metadata": {},
   "outputs": [
    {
     "data": {
      "text/plain": [
       "array([11.68856268, 11.71858472, 12.03237122, ..., 12.05801099,\n",
       "       11.59342239, 12.38664403])"
      ]
     },
     "execution_count": 60,
     "metadata": {},
     "output_type": "execute_result"
    }
   ],
   "source": [
    "pred=lr.predict(test_data)\n",
    "pred"
   ]
  },
  {
   "cell_type": "code",
   "execution_count": 61,
   "metadata": {},
   "outputs": [
    {
     "data": {
      "text/plain": [
       "array([119200.5537467 , 122833.45845104, 168109.56584157, ...,\n",
       "       172475.58815667, 108382.55137782, 239580.32672689])"
      ]
     },
     "execution_count": 61,
     "metadata": {},
     "output_type": "execute_result"
    }
   ],
   "source": [
    "final_predictions=np.exp(pred)\n",
    "final_predictions"
   ]
  }
 ],
 "metadata": {
  "kernelspec": {
   "display_name": "Python 3",
   "language": "python",
   "name": "python3"
  },
  "language_info": {
   "codemirror_mode": {
    "name": "ipython",
    "version": 3
   },
   "file_extension": ".py",
   "mimetype": "text/x-python",
   "name": "python",
   "nbconvert_exporter": "python",
   "pygments_lexer": "ipython3",
   "version": "3.8.5"
  }
 },
 "nbformat": 4,
 "nbformat_minor": 2
}
