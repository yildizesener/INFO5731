{
 "cells": [
  {
   "cell_type": "markdown",
   "metadata": {
    "colab_type": "text",
    "id": "view-in-github"
   },
   "source": [
    "<a href=\"https://colab.research.google.com/github/unt-iialab/INFO5731_Spring2020/blob/master/In_class_exercise/In_class_exercise_05.ipynb\" target=\"_parent\"><img src=\"https://colab.research.google.com/assets/colab-badge.svg\" alt=\"Open In Colab\"/></a>"
   ]
  },
  {
   "cell_type": "markdown",
   "metadata": {
    "colab_type": "text",
    "id": "z7TahL04sVvR"
   },
   "source": [
    "# **The sixth in-class-exercise (20 points in total, 10/14/2020)**"
   ]
  },
  {
   "cell_type": "markdown",
   "metadata": {
    "colab_type": "text",
    "id": "ejyZITr8sjnh"
   },
   "source": [
    "## **1. Rule-based information extraction (10 points)**\n",
    "\n",
    "Use any keywords related to data science, natural language processing, machine learning to search from google scholar, get the **titles** of 100 articles (either by web scraping or manually) about this topic, define a set of patterns to extract the research questions/problems, methods/algorithms/models, datasets, applications, or any other important information about this topic. "
   ]
  },
  {
   "cell_type": "markdown",
   "metadata": {},
   "source": [
    "### Acquire Data"
   ]
  },
  {
   "cell_type": "code",
   "execution_count": 1,
   "metadata": {
    "ExecuteTime": {
     "end_time": "2020-10-16T03:00:18.680276Z",
     "start_time": "2020-10-16T03:00:18.649086Z"
    }
   },
   "outputs": [
    {
     "data": {
      "text/html": [
       "<style>.container { width:80% !important; }</style>"
      ],
      "text/plain": [
       "<IPython.core.display.HTML object>"
      ]
     },
     "metadata": {},
     "output_type": "display_data"
    }
   ],
   "source": [
    "from IPython.core.display import display, HTML\n",
    "display(HTML('<style>.container { width:80% !important; }</style>'))"
   ]
  },
  {
   "cell_type": "code",
   "execution_count": 2,
   "metadata": {
    "ExecuteTime": {
     "end_time": "2020-10-16T03:00:20.115268Z",
     "start_time": "2020-10-16T03:00:19.181615Z"
    }
   },
   "outputs": [],
   "source": [
    "from bs4 import BeautifulSoup\n",
    "import requests\n",
    "import pandas as pd\n",
    "import numpy as np"
   ]
  },
  {
   "cell_type": "code",
   "execution_count": 3,
   "metadata": {
    "ExecuteTime": {
     "end_time": "2020-10-16T03:00:23.725382Z",
     "start_time": "2020-10-16T03:00:20.654370Z"
    }
   },
   "outputs": [
    {
     "name": "stdout",
     "output_type": "stream",
     "text": [
      "10 titles being extracted\n",
      "Everything is fine. Continue to scrap ...\n",
      "20 titles being extracted\n",
      "Everything is fine. Continue to scrap ...\n",
      "30 titles being extracted\n",
      "Everything is fine. Continue to scrap ...\n",
      "40 titles being extracted\n",
      "Everything is fine. Continue to scrap ...\n",
      "50 titles being extracted\n",
      "Everything is fine. Continue to scrap ...\n",
      "60 titles being extracted\n",
      "Everything is fine. Continue to scrap ...\n",
      "70 titles being extracted\n",
      "Everything is fine. Continue to scrap ...\n",
      "80 titles being extracted\n",
      "Everything is fine. Continue to scrap ...\n",
      "90 titles being extracted\n",
      "Everything is fine. Continue to scrap ...\n",
      "100 titles being extracted\n",
      "Everything is fine. Continue to scrap ...\n"
     ]
    }
   ],
   "source": [
    "headers = [{'User-Agent' : 'Mozilla/5.0 (Windows NT 10.0; Win64; x64; rv:81.0) Gecko/20100101 Firefox/81.0'},\n",
    "           {'User-Agent' : 'Mozilla/5.0 (Windows NT 10.0; Win64; x64) AppleWebKit/537.36 (KHTML, like Gecko) Chrome/86.0.4240.75 Safari/537.36 Vivaldi/3.3'},\n",
    "           {'User-Agent' : 'Mozilla/5.0 (Windows NT 10.0) AppleWebKit/537.36 (KHTML, like Gecko) Chrome/86.0.4240.75 Safari/537.36'},\n",
    "           {'User-Agent' : 'Mozilla/5.0 (Windows NT 10.0; Win64; x64) AppleWebKit/537.36 (KHTML, like Gecko) Chrome/86.0.4240.75 Safari/537.36 Edg/86.0.622.38'}]\n",
    "\n",
    "pages = np.arange(1, 11) * 10 \n",
    "\n",
    "responses = []\n",
    "for page in pages:\n",
    "    url = 'https://scholar.google.com/scholar?start=' + str(page) + '&q=natural+language+processing&hl=en&as_sdt=0,44'\n",
    "    print(f'{page} titles being extracted')\n",
    "    random_index = np.random.randint(0, 4)\n",
    "    header = headers[random_index]\n",
    "    response = requests.get(url, headers=header)\n",
    "    if response.status_code == 200:\n",
    "        print('Everything is fine. Continue to scrap ...')\n",
    "    else:\n",
    "        print('Something went wrong!')\n",
    "    soup=BeautifulSoup(response.content,'lxml')\n",
    "    responses.append(soup)"
   ]
  },
  {
   "cell_type": "code",
   "execution_count": 4,
   "metadata": {
    "ExecuteTime": {
     "end_time": "2020-10-16T03:00:24.998145Z",
     "start_time": "2020-10-16T03:00:24.728586Z"
    }
   },
   "outputs": [
    {
     "name": "stdout",
     "output_type": "stream",
     "text": [
      "-----------1-----------------------------\n",
      "-----------2-----------------------------\n",
      "-----------3-----------------------------\n",
      "-----------4-----------------------------\n",
      "-----------5-----------------------------\n",
      "-----------6-----------------------------\n",
      "-----------7-----------------------------\n",
      "-----------8-----------------------------\n",
      "-----------9-----------------------------\n",
      "-----------10-----------------------------\n",
      "-----------11-----------------------------\n",
      "-----------12-----------------------------\n",
      "-----------13-----------------------------\n",
      "-----------14-----------------------------\n",
      "-----------15-----------------------------\n",
      "-----------16-----------------------------\n",
      "-----------17-----------------------------\n",
      "-----------18-----------------------------\n",
      "-----------19-----------------------------\n",
      "-----------20-----------------------------\n",
      "-----------21-----------------------------\n",
      "-----------22-----------------------------\n",
      "-----------23-----------------------------\n",
      "-----------24-----------------------------\n",
      "-----------25-----------------------------\n",
      "-----------26-----------------------------\n",
      "-----------27-----------------------------\n",
      "-----------28-----------------------------\n",
      "-----------29-----------------------------\n",
      "-----------30-----------------------------\n",
      "-----------31-----------------------------\n",
      "-----------32-----------------------------\n",
      "-----------33-----------------------------\n",
      "-----------34-----------------------------\n",
      "-----------35-----------------------------\n",
      "-----------36-----------------------------\n",
      "-----------37-----------------------------\n",
      "-----------38-----------------------------\n",
      "-----------39-----------------------------\n",
      "-----------40-----------------------------\n",
      "-----------41-----------------------------\n",
      "-----------42-----------------------------\n",
      "-----------43-----------------------------\n",
      "-----------44-----------------------------\n",
      "-----------45-----------------------------\n",
      "-----------46-----------------------------\n",
      "-----------47-----------------------------\n",
      "-----------48-----------------------------\n",
      "-----------49-----------------------------\n",
      "-----------50-----------------------------\n",
      "-----------51-----------------------------\n",
      "-----------52-----------------------------\n",
      "-----------53-----------------------------\n",
      "-----------54-----------------------------\n",
      "-----------55-----------------------------\n",
      "-----------56-----------------------------\n",
      "-----------57-----------------------------\n",
      "-----------58-----------------------------\n",
      "-----------59-----------------------------\n",
      "-----------60-----------------------------\n",
      "-----------61-----------------------------\n",
      "-----------62-----------------------------\n",
      "-----------63-----------------------------\n",
      "-----------64-----------------------------\n",
      "-----------65-----------------------------\n",
      "-----------66-----------------------------\n",
      "-----------67-----------------------------\n",
      "-----------68-----------------------------\n",
      "-----------69-----------------------------\n",
      "-----------70-----------------------------\n",
      "-----------71-----------------------------\n",
      "-----------72-----------------------------\n",
      "-----------73-----------------------------\n",
      "-----------74-----------------------------\n",
      "-----------75-----------------------------\n",
      "-----------76-----------------------------\n",
      "-----------77-----------------------------\n",
      "-----------78-----------------------------\n",
      "-----------79-----------------------------\n",
      "-----------80-----------------------------\n",
      "-----------81-----------------------------\n",
      "-----------82-----------------------------\n",
      "-----------83-----------------------------\n",
      "-----------84-----------------------------\n",
      "-----------85-----------------------------\n",
      "-----------86-----------------------------\n",
      "-----------87-----------------------------\n",
      "-----------88-----------------------------\n",
      "-----------89-----------------------------\n",
      "-----------90-----------------------------\n",
      "-----------91-----------------------------\n",
      "-----------92-----------------------------\n",
      "-----------93-----------------------------\n",
      "-----------94-----------------------------\n",
      "-----------95-----------------------------\n",
      "-----------96-----------------------------\n",
      "-----------97-----------------------------\n",
      "-----------98-----------------------------\n",
      "-----------99-----------------------------\n",
      "-----------100-----------------------------\n"
     ]
    }
   ],
   "source": [
    "titles = []\n",
    "count = 1\n",
    "for response in responses:\n",
    "    for item in response.select('[data-lid]'):\n",
    "        try:\n",
    "            print('-----------' + str(count) + '-----------------------------')\n",
    "            titles.append(item.select('h3')[0].get_text())\n",
    "        except Exception as error:\n",
    "            print('Something went wrong!')\n",
    "        count += 1"
   ]
  },
  {
   "cell_type": "code",
   "execution_count": 5,
   "metadata": {
    "ExecuteTime": {
     "end_time": "2020-10-16T03:00:28.476056Z",
     "start_time": "2020-10-16T03:00:28.438293Z"
    },
    "scrolled": false
   },
   "outputs": [
    {
     "data": {
      "text/html": [
       "<div>\n",
       "<style scoped>\n",
       "    .dataframe tbody tr th:only-of-type {\n",
       "        vertical-align: middle;\n",
       "    }\n",
       "\n",
       "    .dataframe tbody tr th {\n",
       "        vertical-align: top;\n",
       "    }\n",
       "\n",
       "    .dataframe thead th {\n",
       "        text-align: right;\n",
       "    }\n",
       "</style>\n",
       "<table border=\"1\" class=\"dataframe\">\n",
       "  <thead>\n",
       "    <tr style=\"text-align: right;\">\n",
       "      <th></th>\n",
       "      <th>titles</th>\n",
       "    </tr>\n",
       "  </thead>\n",
       "  <tbody>\n",
       "    <tr>\n",
       "      <th>0</th>\n",
       "      <td>[PDF][PDF] Natural language processing</td>\n",
       "    </tr>\n",
       "    <tr>\n",
       "      <th>1</th>\n",
       "      <td>Allennlp: A deep semantic natural language pro...</td>\n",
       "    </tr>\n",
       "    <tr>\n",
       "      <th>2</th>\n",
       "      <td>Sentiment analysis: Capturing favorability usi...</td>\n",
       "    </tr>\n",
       "    <tr>\n",
       "      <th>3</th>\n",
       "      <td>Natural language processing: an introduction</td>\n",
       "    </tr>\n",
       "    <tr>\n",
       "      <th>4</th>\n",
       "      <td>Introduction to Arabic natural language proces...</td>\n",
       "    </tr>\n",
       "  </tbody>\n",
       "</table>\n",
       "</div>"
      ],
      "text/plain": [
       "                                              titles\n",
       "0             [PDF][PDF] Natural language processing\n",
       "1  Allennlp: A deep semantic natural language pro...\n",
       "2  Sentiment analysis: Capturing favorability usi...\n",
       "3       Natural language processing: an introduction\n",
       "4  Introduction to Arabic natural language proces..."
      ]
     },
     "execution_count": 5,
     "metadata": {},
     "output_type": "execute_result"
    }
   ],
   "source": [
    "df = pd.DataFrame({'titles' : titles})\n",
    "df.head()"
   ]
  },
  {
   "cell_type": "code",
   "execution_count": 6,
   "metadata": {
    "ExecuteTime": {
     "end_time": "2020-10-16T03:00:30.077955Z",
     "start_time": "2020-10-16T03:00:30.046710Z"
    }
   },
   "outputs": [],
   "source": [
    "df.to_csv('titles.csv')"
   ]
  },
  {
   "cell_type": "markdown",
   "metadata": {},
   "source": [
    "### Data Preprocessing"
   ]
  },
  {
   "cell_type": "code",
   "execution_count": 7,
   "metadata": {
    "ExecuteTime": {
     "end_time": "2020-10-16T03:00:35.536989Z",
     "start_time": "2020-10-16T03:00:32.383896Z"
    }
   },
   "outputs": [],
   "source": [
    "import pandas as pd\n",
    "import numpy as np\n",
    "import spacy\n",
    "nlp = spacy.load('en_core_web_sm')\n",
    "pd.set_option('display.max_colwidth', 200)"
   ]
  },
  {
   "cell_type": "code",
   "execution_count": 8,
   "metadata": {
    "ExecuteTime": {
     "end_time": "2020-10-16T03:00:36.855947Z",
     "start_time": "2020-10-16T03:00:36.818181Z"
    }
   },
   "outputs": [],
   "source": [
    "df = pd.read_csv('titles.csv')"
   ]
  },
  {
   "cell_type": "code",
   "execution_count": 9,
   "metadata": {
    "ExecuteTime": {
     "end_time": "2020-10-16T03:00:38.237420Z",
     "start_time": "2020-10-16T03:00:38.206171Z"
    }
   },
   "outputs": [
    {
     "data": {
      "text/plain": [
       "array(['[PDF][PDF] Natural language processing',\n",
       "       'Allennlp: A deep semantic natural language processing platform',\n",
       "       'Sentiment analysis: Capturing favorability using natural language processing',\n",
       "       'Natural language processing: an introduction',\n",
       "       'Introduction to Arabic natural language processing',\n",
       "       'Advances in natural language processing',\n",
       "       '[PDF][PDF] Ask me anything: Dynamic memory networks for natural language processing',\n",
       "       'Transformation-based error-driven learning and natural language processing: A case study in part-of-speech tagging',\n",
       "       'A primer on neural network models for natural language processing',\n",
       "       '[BOOK][B] Handbook of natural language processing',\n",
       "       'Jumping NLP curves: A review of natural language processing research',\n",
       "       'Detection of duplicate defect reports using natural language processing',\n",
       "       'Sentiment analyzer: Extracting sentiments about a given topic using natural language processing techniques',\n",
       "       'Neural network methods for natural language processing',\n",
       "       '[BOOK][B] Natural language processing for Prolog programmers',\n",
       "       '[BOOK][B] Natural language processing and text mining',\n",
       "       '[PDF][PDF] A survey on hate speech detection using natural language processing',\n",
       "       'Arabic natural language processing: Challenges and solutions',\n",
       "       '[PDF][PDF] Natural language processing for information retrieval',\n",
       "       'Ontology-based parser for natural language processing',\n",
       "       'Natural-language processing system',\n",
       "       '[PDF][PDF] Human engineering fcr applied natural language processing',\n",
       "       'Comparative study of cnn and rnn for natural language processing',\n",
       "       'Automated encoding of clinical documents based on natural language processing',\n",
       "       'Object interactive user interface using speech recognition and natural language processing',\n",
       "       'Wikipedia-based semantic interpretation for natural language processing',\n",
       "       '[BOOK][B] Spotting and discovering terms through natural language processing',\n",
       "       'Using natural-language processing to produce weather forecasts',\n",
       "       '[HTML][HTML] What can natural language processing do for clinical decision support?',\n",
       "       '[BOOK][B] Strategies for natural language processing',\n",
       "       'Unlocking clinical data from narrative reports: a study of natural language processing',\n",
       "       '[BOOK][B] Natural language processing: a Paninian perspective',\n",
       "       'System for processing textual inputs using natural language processing techniques',\n",
       "       '[PDF][PDF] GENIES: a natural-language processing system for the extraction of molecular pathways from journal articles',\n",
       "       'Interactive user interface using speech recognition and natural language processing',\n",
       "       'Network interactive user interface using speech recognition and natural language processing',\n",
       "       'Natural language processing interface',\n",
       "       'Automatically assigning medical codes using natural language processing',\n",
       "       '[BOOK][B] Evaluating natural language processing systems: An analysis and review',\n",
       "       '[BOOK][B] Graph-based natural language processing and information retrieval',\n",
       "       '[BOOK][B] Natural language processing for online applications: Text retrieval, extraction and categorization',\n",
       "       'A broad-coverage natural language processing system.',\n",
       "       '[PDF][PDF] A simple introduction to maximum entropy models for natural language processing',\n",
       "       '[CITATION][C] Practical Natural-Language Processing by Computer',\n",
       "       '[BOOK][B] Subsymbolic natural language processing: An integrated model of scripts, lexicon, and memory',\n",
       "       'Natural language processing system for semantic vector representation which accounts for lexical ambiguity',\n",
       "       'Apparatus and methods for an information retrieval system that employs natural language processing of search results to improve overall precision',\n",
       "       'Natural language processing and information retrieval',\n",
       "       'Natural language processing of disfluent sentences',\n",
       "       'Natural language processing system and method for processing input information by predicting kind thereof',\n",
       "       '[BOOK][B] The handbook of computational linguistics and natural language processing',\n",
       "       '[PDF][PDF] Natural language processing and its future in medicine',\n",
       "       'Lexical semantic relatedness and its application in natural language processing',\n",
       "       'Natural language processing with modular PDP networks and distributed lexicon',\n",
       "       'Lexical knowledge representation and natural language processing',\n",
       "       'Automated identification of postoperative complications within an electronic medical record using natural language processing',\n",
       "       '[PDF][PDF] Chinese whispers-an efficient graph clustering algorithm and its application to natural language processing problems',\n",
       "       'System and method for natural language processing of query answers',\n",
       "       'NL-OOPS: from natural language to object oriented requirements using the natural language processing system LOLITA',\n",
       "       '[PDF][PDF] Natural language processing in medicine: an overview',\n",
       "       '[HTML][HTML] The interaction of domain knowledge and linguistic structure in natural language processing: interpreting hypernymic propositions in biomedical text',\n",
       "       '[HTML][HTML] A linguistic ontology of space for natural language processing',\n",
       "       'Web-based models for natural language processing',\n",
       "       'Natural language processing and semantical representation of medical texts',\n",
       "       'Genomics and natural language processing',\n",
       "       'A review of natural language processing techniques for opinion mining systems',\n",
       "       'Natural language processing and the representation of clinical data',\n",
       "       '[PDF][PDF] Very deep convolutional networks for natural language processing',\n",
       "       'MedScan, a natural language processing engine for MEDLINE abstracts',\n",
       "       '[BOOK][B] Deep learning in natural language processing',\n",
       "       'Systems for natural language processing of sentence based queries',\n",
       "       'Natural language processing for a location-based services system',\n",
       "       '[PDF][PDF] Self-organizing maps in natural language processing',\n",
       "       'System and method for selecting and presenting advertisements based on natural language processing of voice-based input',\n",
       "       '[BOOK][B] Natural language processing: the PLNLP approach',\n",
       "       'Natural language processing',\n",
       "       '[PDF][PDF] Neural transfer learning for natural language processing',\n",
       "       'Parsing method and system for natural language processing',\n",
       "       '[PDF][PDF] Natural Language Processing to the Rescue? Extracting\" Situational Awareness\" Tweets During Mass Emergency.',\n",
       "       'Natural language processing in radiology: a systematic review',\n",
       "       'Syntactic n-grams as machine learning features for natural language processing',\n",
       "       'Automated detection of adverse events using natural language processing of discharge summaries',\n",
       "       'System and method for natural language processing of sentence based queries',\n",
       "       '[BOOK][B] The semantics of prepositions: From mental processing to natural language processing',\n",
       "       'Inheritance in natural language processing',\n",
       "       'Learning to rank for information retrieval and natural language processing',\n",
       "       '[PDF][PDF] Integrating plot, character and natural language processing in the interactive drama Façade',\n",
       "       '[PDF][PDF] On some applications of finite-state automata theory to natural language processing',\n",
       "       '[HTML][HTML] A comparison of word embeddings for the biomedical natural language processing',\n",
       "       'An overview of empirical natural language processing',\n",
       "       'Natural language processing',\n",
       "       'CLAMP–a toolkit for efficiently building customized clinical natural language processing pipelines',\n",
       "       '[BOOK][B] Connectionist approaches to natural language processing',\n",
       "       '[HTML][HTML] Natural language processing systems for capturing and standardizing unstructured clinical information: a systematic review',\n",
       "       'System and method for selecting and presenting advertisements based on natural language processing of voice-based input',\n",
       "       'Prediction and substantiation: A new approach to natural language processing',\n",
       "       '[BOOK][B] Lexical functions in lexicography and natural language processing',\n",
       "       'Suicide note classification using natural language processing: A content analysis',\n",
       "       '[HTML][HTML] A pattern dictionary for natural language processing',\n",
       "       'Natural language processing method by analyzing primitive sentences, logical clauses, clause types and verbal blocks'],\n",
       "      dtype=object)"
      ]
     },
     "execution_count": 9,
     "metadata": {},
     "output_type": "execute_result"
    }
   ],
   "source": [
    "df.titles.values"
   ]
  },
  {
   "cell_type": "code",
   "execution_count": 10,
   "metadata": {
    "ExecuteTime": {
     "end_time": "2020-10-16T03:00:39.663215Z",
     "start_time": "2020-10-16T03:00:39.641078Z"
    }
   },
   "outputs": [],
   "source": [
    "def clean_title(s):\n",
    "    discards = ['[PDF][PDF] ', '[BOOK][B] ', '[HTML][HTML] ', '[CITATION][C] ']\n",
    "    for discard in discards:\n",
    "        if discard in s:\n",
    "            s = s.replace(discard, '')\n",
    "    return s"
   ]
  },
  {
   "cell_type": "code",
   "execution_count": 11,
   "metadata": {
    "ExecuteTime": {
     "end_time": "2020-10-16T03:00:42.995158Z",
     "start_time": "2020-10-16T03:00:42.979540Z"
    },
    "scrolled": true
   },
   "outputs": [],
   "source": [
    "df.titles = df.titles.apply(clean_title)"
   ]
  },
  {
   "cell_type": "code",
   "execution_count": 12,
   "metadata": {
    "ExecuteTime": {
     "end_time": "2020-10-16T03:00:44.129059Z",
     "start_time": "2020-10-16T03:00:44.097812Z"
    }
   },
   "outputs": [
    {
     "data": {
      "text/plain": [
       "0                                                                                                    Natural language processing\n",
       "1                                                                 Allennlp: A deep semantic natural language processing platform\n",
       "2                                                   Sentiment analysis: Capturing favorability using natural language processing\n",
       "3                                                                                   Natural language processing: an introduction\n",
       "4                                                                             Introduction to Arabic natural language processing\n",
       "5                                                                                        Advances in natural language processing\n",
       "6                                                       Ask me anything: Dynamic memory networks for natural language processing\n",
       "7             Transformation-based error-driven learning and natural language processing: A case study in part-of-speech tagging\n",
       "8                                                              A primer on neural network models for natural language processing\n",
       "9                                                                                        Handbook of natural language processing\n",
       "10                                                          Jumping NLP curves: A review of natural language processing research\n",
       "11                                                       Detection of duplicate defect reports using natural language processing\n",
       "12                    Sentiment analyzer: Extracting sentiments about a given topic using natural language processing techniques\n",
       "13                                                                        Neural network methods for natural language processing\n",
       "14                                                                            Natural language processing for Prolog programmers\n",
       "15                                                                                   Natural language processing and text mining\n",
       "16                                                           A survey on hate speech detection using natural language processing\n",
       "17                                                                  Arabic natural language processing: Challenges and solutions\n",
       "18                                                                         Natural language processing for information retrieval\n",
       "19                                                                         Ontology-based parser for natural language processing\n",
       "20                                                                                            Natural-language processing system\n",
       "21                                                                     Human engineering fcr applied natural language processing\n",
       "22                                                              Comparative study of cnn and rnn for natural language processing\n",
       "23                                                 Automated encoding of clinical documents based on natural language processing\n",
       "24                                    Object interactive user interface using speech recognition and natural language processing\n",
       "25                                                       Wikipedia-based semantic interpretation for natural language processing\n",
       "26                                                            Spotting and discovering terms through natural language processing\n",
       "27                                                                Using natural-language processing to produce weather forecasts\n",
       "28                                                        What can natural language processing do for clinical decision support?\n",
       "29                                                                                    Strategies for natural language processing\n",
       "                                                                 ...                                                            \n",
       "70                                                             Systems for natural language processing of sentence based queries\n",
       "71                                                              Natural language processing for a location-based services system\n",
       "72                                                                           Self-organizing maps in natural language processing\n",
       "73       System and method for selecting and presenting advertisements based on natural language processing of voice-based input\n",
       "74                                                                               Natural language processing: the PLNLP approach\n",
       "75                                                                                                   Natural language processing\n",
       "76                                                                      Neural transfer learning for natural language processing\n",
       "77                                                                     Parsing method and system for natural language processing\n",
       "78                   Natural Language Processing to the Rescue? Extracting\" Situational Awareness\" Tweets During Mass Emergency.\n",
       "79                                                                 Natural language processing in radiology: a systematic review\n",
       "80                                                Syntactic n-grams as machine learning features for natural language processing\n",
       "81                                Automated detection of adverse events using natural language processing of discharge summaries\n",
       "82                                                   System and method for natural language processing of sentence based queries\n",
       "83                                          The semantics of prepositions: From mental processing to natural language processing\n",
       "84                                                                                    Inheritance in natural language processing\n",
       "85                                                    Learning to rank for information retrieval and natural language processing\n",
       "86                                   Integrating plot, character and natural language processing in the interactive drama Façade\n",
       "87                                           On some applications of finite-state automata theory to natural language processing\n",
       "88                                                A comparison of word embeddings for the biomedical natural language processing\n",
       "89                                                                          An overview of empirical natural language processing\n",
       "90                                                                                                   Natural language processing\n",
       "91                            CLAMP–a toolkit for efficiently building customized clinical natural language processing pipelines\n",
       "92                                                                       Connectionist approaches to natural language processing\n",
       "93    Natural language processing systems for capturing and standardizing unstructured clinical information: a systematic review\n",
       "94       System and method for selecting and presenting advertisements based on natural language processing of voice-based input\n",
       "95                                                  Prediction and substantiation: A new approach to natural language processing\n",
       "96                                                             Lexical functions in lexicography and natural language processing\n",
       "97                                             Suicide note classification using natural language processing: A content analysis\n",
       "98                                                                          A pattern dictionary for natural language processing\n",
       "99          Natural language processing method by analyzing primitive sentences, logical clauses, clause types and verbal blocks\n",
       "Name: titles, Length: 100, dtype: object"
      ]
     },
     "execution_count": 12,
     "metadata": {},
     "output_type": "execute_result"
    }
   ],
   "source": [
    "df.titles"
   ]
  },
  {
   "cell_type": "code",
   "execution_count": 13,
   "metadata": {
    "ExecuteTime": {
     "end_time": "2020-10-16T03:00:46.889894Z",
     "start_time": "2020-10-16T03:00:46.874287Z"
    }
   },
   "outputs": [],
   "source": [
    "def clean_text(text):\n",
    "    import re\n",
    "    # removing apostrophes\n",
    "    text = re.sub(\"'s\",'',str(text))\n",
    "    # removing hyphens\n",
    "    text = re.sub(\"-\",' ',str(text))\n",
    "    text = re.sub(\"— \",'',str(text))\n",
    "    # removing quotation marks\n",
    "    text = re.sub('\\\"','',str(text))\n",
    "    # removing any reference to outside text\n",
    "    text = re.sub('[^\\w\\s]','', str(text))\n",
    "    return text"
   ]
  },
  {
   "cell_type": "code",
   "execution_count": 14,
   "metadata": {
    "ExecuteTime": {
     "end_time": "2020-10-16T03:00:48.678441Z",
     "start_time": "2020-10-16T03:00:48.640655Z"
    }
   },
   "outputs": [
    {
     "data": {
      "text/plain": [
       "0                                                                                                   Natural language processing\n",
       "1                                                                 Allennlp A deep semantic natural language processing platform\n",
       "2                                                   Sentiment analysis Capturing favorability using natural language processing\n",
       "3                                                                                   Natural language processing an introduction\n",
       "4                                                                            Introduction to Arabic natural language processing\n",
       "5                                                                                       Advances in natural language processing\n",
       "6                                                       Ask me anything Dynamic memory networks for natural language processing\n",
       "7             Transformation based error driven learning and natural language processing A case study in part of speech tagging\n",
       "8                                                             A primer on neural network models for natural language processing\n",
       "9                                                                                       Handbook of natural language processing\n",
       "10                                                          Jumping NLP curves A review of natural language processing research\n",
       "11                                                      Detection of duplicate defect reports using natural language processing\n",
       "12                    Sentiment analyzer Extracting sentiments about a given topic using natural language processing techniques\n",
       "13                                                                       Neural network methods for natural language processing\n",
       "14                                                                           Natural language processing for Prolog programmers\n",
       "15                                                                                  Natural language processing and text mining\n",
       "16                                                          A survey on hate speech detection using natural language processing\n",
       "17                                                                  Arabic natural language processing Challenges and solutions\n",
       "18                                                                        Natural language processing for information retrieval\n",
       "19                                                                        Ontology based parser for natural language processing\n",
       "20                                                                                           Natural language processing system\n",
       "21                                                                    Human engineering fcr applied natural language processing\n",
       "22                                                             Comparative study of cnn and rnn for natural language processing\n",
       "23                                                Automated encoding of clinical documents based on natural language processing\n",
       "24                                   Object interactive user interface using speech recognition and natural language processing\n",
       "25                                                      Wikipedia based semantic interpretation for natural language processing\n",
       "26                                                           Spotting and discovering terms through natural language processing\n",
       "27                                                               Using natural language processing to produce weather forecasts\n",
       "28                                                        What can natural language processing do for clinical decision support\n",
       "29                                                                                   Strategies for natural language processing\n",
       "                                                                ...                                                            \n",
       "70                                                            Systems for natural language processing of sentence based queries\n",
       "71                                                             Natural language processing for a location based services system\n",
       "72                                                                          Self organizing maps in natural language processing\n",
       "73      System and method for selecting and presenting advertisements based on natural language processing of voice based input\n",
       "74                                                                               Natural language processing the PLNLP approach\n",
       "75                                                                                                  Natural language processing\n",
       "76                                                                     Neural transfer learning for natural language processing\n",
       "77                                                                    Parsing method and system for natural language processing\n",
       "78                      Natural Language Processing to the Rescue Extracting Situational Awareness Tweets During Mass Emergency\n",
       "79                                                                 Natural language processing in radiology a systematic review\n",
       "80                                               Syntactic n grams as machine learning features for natural language processing\n",
       "81                               Automated detection of adverse events using natural language processing of discharge summaries\n",
       "82                                                  System and method for natural language processing of sentence based queries\n",
       "83                                          The semantics of prepositions From mental processing to natural language processing\n",
       "84                                                                                   Inheritance in natural language processing\n",
       "85                                                   Learning to rank for information retrieval and natural language processing\n",
       "86                                   Integrating plot character and natural language processing in the interactive drama Façade\n",
       "87                                          On some applications of finite state automata theory to natural language processing\n",
       "88                                               A comparison of word embeddings for the biomedical natural language processing\n",
       "89                                                                         An overview of empirical natural language processing\n",
       "90                                                                                                  Natural language processing\n",
       "91                            CLAMPa toolkit for efficiently building customized clinical natural language processing pipelines\n",
       "92                                                                      Connectionist approaches to natural language processing\n",
       "93    Natural language processing systems for capturing and standardizing unstructured clinical information a systematic review\n",
       "94      System and method for selecting and presenting advertisements based on natural language processing of voice based input\n",
       "95                                                  Prediction and substantiation A new approach to natural language processing\n",
       "96                                                            Lexical functions in lexicography and natural language processing\n",
       "97                                             Suicide note classification using natural language processing A content analysis\n",
       "98                                                                         A pattern dictionary for natural language processing\n",
       "99           Natural language processing method by analyzing primitive sentences logical clauses clause types and verbal blocks\n",
       "Name: titles, Length: 100, dtype: object"
      ]
     },
     "execution_count": 14,
     "metadata": {},
     "output_type": "execute_result"
    }
   ],
   "source": [
    "df.titles.apply(clean_text)"
   ]
  },
  {
   "cell_type": "code",
   "execution_count": 15,
   "metadata": {
    "ExecuteTime": {
     "end_time": "2020-10-16T03:00:50.762925Z",
     "start_time": "2020-10-16T03:00:50.747304Z"
    }
   },
   "outputs": [],
   "source": [
    "df.titles = df.titles.apply(clean_text)"
   ]
  },
  {
   "cell_type": "code",
   "execution_count": 16,
   "metadata": {
    "ExecuteTime": {
     "end_time": "2020-10-16T03:00:54.495310Z",
     "start_time": "2020-10-16T03:00:54.457542Z"
    }
   },
   "outputs": [],
   "source": [
    "def words(text):\n",
    "    from spacy.matcher import Matcher\n",
    "    word_ = []\n",
    "    doc = nlp(text)\n",
    "    patterns = [[{'LOWER':'new'},\n",
    "                 {'POS':'NOUN'}],\n",
    "              [{'LOWER':'lexical'},\n",
    "              {'POS':'NOUN'}],\n",
    "              [{'LOWER':'pattern'},\n",
    "              {'POS':'NOUN'}],\n",
    "              [{'LOWER':'system'},\n",
    "              {'POS':'NOUN'}],\n",
    "              [{'LOWER':'using'},\n",
    "              {'POS':'NOUN'}]]\n",
    "    matcher = Matcher(nlp.vocab)\n",
    "    for pattern in patterns:\n",
    "        matcher.add(\"matching\", None, pattern)\n",
    "        matches = matcher(doc)\n",
    "        for i in range(0,len(matches)):\n",
    "            token = doc[matches[i][1]:matches[i][2]]\n",
    "            word_.append(str(token))\n",
    "        for word in word_:\n",
    "            print(word)\n",
    "    return word_"
   ]
  },
  {
   "cell_type": "code",
   "execution_count": 17,
   "metadata": {
    "ExecuteTime": {
     "end_time": "2020-10-16T03:00:57.759760Z",
     "start_time": "2020-10-16T03:00:55.845572Z"
    },
    "scrolled": false
   },
   "outputs": [
    {
     "name": "stdout",
     "output_type": "stream",
     "text": [
      "using speech\n",
      "using speech\n",
      "using speech\n",
      "lexical ambiguity\n",
      "lexical ambiguity\n",
      "lexical ambiguity\n",
      "lexical ambiguity\n",
      "lexical ambiguity\n",
      "lexical ambiguity\n",
      "lexical ambiguity\n",
      "lexical ambiguity\n",
      "lexical ambiguity\n",
      "lexical ambiguity\n",
      "Lexical knowledge\n",
      "Lexical knowledge\n",
      "Lexical knowledge\n",
      "Lexical knowledge\n",
      "Lexical knowledge\n",
      "Lexical knowledge\n",
      "Lexical knowledge\n",
      "Lexical knowledge\n",
      "Lexical knowledge\n",
      "Lexical knowledge\n",
      "new approach\n",
      "new approach\n",
      "new approach\n",
      "new approach\n",
      "new approach\n",
      "new approach\n",
      "new approach\n",
      "new approach\n",
      "new approach\n",
      "new approach\n",
      "new approach\n",
      "new approach\n",
      "new approach\n",
      "new approach\n",
      "new approach\n",
      "Lexical functions\n",
      "Lexical functions\n",
      "Lexical functions\n",
      "Lexical functions\n",
      "Lexical functions\n",
      "Lexical functions\n",
      "Lexical functions\n",
      "Lexical functions\n",
      "Lexical functions\n",
      "Lexical functions\n"
     ]
    },
    {
     "data": {
      "text/plain": [
       "array([list([]), list([]), list([]), list([]), list([]), list([]),\n",
       "       list([]), list([]), list([]), list([]), list([]), list([]),\n",
       "       list([]), list([]), list([]), list([]), list([]), list([]),\n",
       "       list([]), list([]), list([]), list([]), list([]), list([]),\n",
       "       list(['using speech']), list([]), list([]), list([]), list([]),\n",
       "       list([]), list([]), list([]), list([]), list([]),\n",
       "       list(['using speech']), list(['using speech']), list([]), list([]),\n",
       "       list([]), list([]), list([]), list([]), list([]), list([]),\n",
       "       list([]),\n",
       "       list(['lexical ambiguity', 'lexical ambiguity', 'lexical ambiguity', 'lexical ambiguity']),\n",
       "       list([]), list([]), list([]), list([]), list([]), list([]),\n",
       "       list([]), list([]),\n",
       "       list(['Lexical knowledge', 'Lexical knowledge', 'Lexical knowledge', 'Lexical knowledge']),\n",
       "       list([]), list([]), list([]), list([]), list([]), list([]),\n",
       "       list([]), list([]), list([]), list([]), list([]), list([]),\n",
       "       list([]), list([]), list([]), list([]), list([]), list([]),\n",
       "       list([]), list([]), list([]), list([]), list([]), list([]),\n",
       "       list([]), list([]), list([]), list([]), list([]), list([]),\n",
       "       list([]), list([]), list([]), list([]), list([]), list([]),\n",
       "       list([]), list([]), list([]), list([]),\n",
       "       list(['new approach', 'new approach', 'new approach', 'new approach', 'new approach']),\n",
       "       list(['Lexical functions', 'Lexical functions', 'Lexical functions', 'Lexical functions']),\n",
       "       list([]), list([]), list([])], dtype=object)"
      ]
     },
     "execution_count": 17,
     "metadata": {},
     "output_type": "execute_result"
    }
   ],
   "source": [
    "df.titles.apply(words).values"
   ]
  },
  {
   "cell_type": "code",
   "execution_count": 18,
   "metadata": {
    "ExecuteTime": {
     "end_time": "2020-10-16T03:00:59.392866Z",
     "start_time": "2020-10-16T03:00:59.361619Z"
    }
   },
   "outputs": [],
   "source": [
    "def pattern(text):\n",
    "    from spacy.matcher import Matcher\n",
    "    patterns_ = []\n",
    "    doc = nlp(text)\n",
    "    prog_list = ['method', 'approach','analysis',\n",
    "                 'techniques','research']\n",
    "    patterns = [[{'LOWER':{'IN':prog_list},'OP':'+'}],\n",
    "               [{'POS': 'NOUN'}, {'LOWER': 'of'}, {'POS':'NOUN'}],\n",
    "               [{'POS': 'VERB'}, {'LOWER': 'for'}, {'POS':'NOUN'}]]\n",
    "    matcher = Matcher(nlp.vocab) \n",
    "    for pattern in patterns:\n",
    "        matcher.add(\"matching\", None, pattern) \n",
    "        matches = matcher(doc)\n",
    "        for i in range(0,len(matches)):\n",
    "            start, end = matches[i][1], matches[i][2]\n",
    "            if doc[start].pos_=='DET':\n",
    "                start = start+1\n",
    "            span = str(doc[start:end])\n",
    "            if (len(patterns_)!=0) and (patterns_[-1] in span):\n",
    "                patterns_[-1] = span\n",
    "            else:\n",
    "                patterns_.append(span)\n",
    "    return patterns_"
   ]
  },
  {
   "cell_type": "code",
   "execution_count": 19,
   "metadata": {
    "ExecuteTime": {
     "end_time": "2020-10-16T03:01:01.967937Z",
     "start_time": "2020-10-16T03:01:00.664585Z"
    }
   },
   "outputs": [
    {
     "data": {
      "text/plain": [
       "array([list([]), list([]), list(['analysis']), list([]), list([]),\n",
       "       list([]), list([]), list(['part of speech']), list([]), list([]),\n",
       "       list(['research']), list([]), list(['techniques']), list([]),\n",
       "       list([]), list([]), list([]), list([]), list([]), list([]),\n",
       "       list([]), list([]), list([]), list([]), list([]), list([]),\n",
       "       list([]), list([]), list([]), list([]), list([]), list([]),\n",
       "       list(['techniques']), list([]), list([]), list([]), list([]),\n",
       "       list([]), list(['analysis']), list([]), list([]), list([]),\n",
       "       list([]), list([]), list(['model of scripts']), list([]),\n",
       "       list(['processing of search']), list([]), list([]),\n",
       "       list(['method']), list([]), list([]), list([]), list([]), list([]),\n",
       "       list([]), list([]),\n",
       "       list(['method', 'processing of query', 'method', 'processing of query']),\n",
       "       list([]), list([]), list(['interaction of domain']),\n",
       "       list(['ontology of space']), list([]), list([]), list([]),\n",
       "       list(['techniques']), list([]), list([]), list([]), list([]),\n",
       "       list(['processing of sentence']), list([]), list([]),\n",
       "       list(['method', 'processing of voice', 'method', 'processing of voice']),\n",
       "       list(['approach']), list([]), list([]), list(['method']), list([]),\n",
       "       list([]), list([]), list(['processing of discharge']),\n",
       "       list(['method', 'processing of sentence', 'method', 'processing of sentence']),\n",
       "       list(['semantics of prepositions']), list([]),\n",
       "       list(['rank for information']), list([]), list([]),\n",
       "       list(['comparison of word']), list([]), list([]), list([]),\n",
       "       list([]), list([]),\n",
       "       list(['method', 'processing of voice', 'method', 'processing of voice']),\n",
       "       list(['approach']), list([]), list(['analysis']), list([]),\n",
       "       list(['method'])], dtype=object)"
      ]
     },
     "execution_count": 19,
     "metadata": {},
     "output_type": "execute_result"
    }
   ],
   "source": [
    "df.titles.apply(pattern).values"
   ]
  },
  {
   "cell_type": "markdown",
   "metadata": {
    "colab_type": "text",
    "id": "Dq_7VGmrsum4"
   },
   "source": [
    "## **2. Domain-specific information extraction (10 points)**\n",
    "\n",
    "For the legal case used in the data cleaning exercise: [01-05-1 Adams v Tanner.txt](https://github.com/unt-iialab/INFO5731_FALL2020/blob/master/In_class_exercise/01-05-1%20%20Adams%20v%20Tanner.txt), use [legalNLP](https://lexpredict-lexnlp.readthedocs.io/en/latest/modules/extract/extract.html#nlp-based-extraction-methods) to extract the following inforation from the text (if the information is not exist, just print None):\n",
    "\n",
    "(1) acts, e.g., “section 1 of the Advancing Hope Act, 1986”\n",
    "\n",
    "(2) amounts, e.g., “ten pounds” or “5.8 megawatts”\n",
    "\n",
    "(3) citations, e.g., “10 U.S. 100” or “1998 S. Ct. 1”\n",
    "\n",
    "(4) companies, e.g., “Lexpredict LLC”\n",
    "\n",
    "(5) conditions, e.g., “subject to …” or “unless and until …”\n",
    "\n",
    "(6) constraints, e.g., “no more than”\n",
    "\n",
    "(7) copyright, e.g., “(C) Copyright 2000 Acme”\n",
    "\n",
    "(8) courts, e.g., “Supreme Court of New York”\n",
    "\n",
    "(9) CUSIP, e.g., “392690QT3”\n",
    "\n",
    "(10) dates, e.g., “June 1, 2017” or “2018-01-01”\n",
    "\n",
    "(11) definitions, e.g., “Term shall mean …”\n",
    "\n",
    "(12) distances, e.g., “fifteen miles”\n",
    "\n",
    "(13) durations, e.g., “ten years” or “thirty days”\n",
    "\n",
    "(14) geographic and geopolitical entities, e.g., “New York” or “Norway”\n",
    "\n",
    "(15) money and currency usages, e.g., “$5” or “10 Euro”\n",
    "\n",
    "(16) percents and rates, e.g., “10%” or “50 bps”\n",
    "\n",
    "(17) PII, e.g., “212-212-2121” or “999-999-9999”\n",
    "\n",
    "(18) ratios, e.g.,” 3:1” or “four to three”\n",
    "\n",
    "(19) regulations, e.g., “32 CFR 170”\n",
    "\n",
    "(20) trademarks, e.g., “MyApp (TM)”\n",
    "\n",
    "(21) URLs, e.g., “http://acme.com/”\n",
    "\n",
    "(22) addresses, e.g., “1999 Mount Read Blvd, Rochester, NY, USA, 14615”\n",
    "\n",
    "(23) persons, e.g., “John Doe"
   ]
  },
  {
   "cell_type": "code",
   "execution_count": 45,
   "metadata": {
    "ExecuteTime": {
     "end_time": "2020-10-16T03:13:35.568135Z",
     "start_time": "2020-10-16T03:13:35.536904Z"
    }
   },
   "outputs": [],
   "source": [
    "import lexnlp\n",
    "import re"
   ]
  },
  {
   "cell_type": "code",
   "execution_count": 50,
   "metadata": {
    "ExecuteTime": {
     "end_time": "2020-10-16T03:15:11.153939Z",
     "start_time": "2020-10-16T03:15:11.122691Z"
    },
    "colab": {},
    "colab_type": "code",
    "id": "qc7NtJrLx5tS"
   },
   "outputs": [],
   "source": [
    "with open('01-05-1  Adams v Tanner.txt', 'r', encoding=\"utf8\") as file:\n",
    "    text = file.read()"
   ]
  },
  {
   "cell_type": "code",
   "execution_count": 51,
   "metadata": {
    "ExecuteTime": {
     "end_time": "2020-10-16T03:15:16.377882Z",
     "start_time": "2020-10-16T03:15:16.362258Z"
    }
   },
   "outputs": [],
   "source": [
    "text = re.sub(r'\\n',' ', str(text))"
   ]
  },
  {
   "cell_type": "code",
   "execution_count": 53,
   "metadata": {
    "ExecuteTime": {
     "end_time": "2020-10-16T03:15:26.068886Z",
     "start_time": "2020-10-16T03:15:26.053264Z"
    }
   },
   "outputs": [
    {
     "data": {
      "text/plain": [
       "[]"
      ]
     },
     "execution_count": 53,
     "metadata": {},
     "output_type": "execute_result"
    }
   ],
   "source": [
    "#acts\n",
    "import lexnlp.extract.en.acts\n",
    "lexnlp.extract.en.acts.get_act_list(text)"
   ]
  },
  {
   "cell_type": "code",
   "execution_count": 56,
   "metadata": {
    "ExecuteTime": {
     "end_time": "2020-10-16T03:20:24.112603Z",
     "start_time": "2020-10-16T03:19:51.340051Z"
    }
   },
   "outputs": [
    {
     "name": "stdout",
     "output_type": "stream",
     "text": [
      "5.0, 740.0, 1843.0, 2.0, 1.0, 4.0, 2.0, 1821.0, 5.0, 1.0, 1840.0, 3777, 80.0, 100.0, 30, 1839.0, 741.0, 22, 1840.0, 14000, 120, 1, 1840.0, 3, 4, 1, 1.0, 1840.0, 2.0, 1.0, 361.0, 1.0, 307.0, 6.0, 604.0, 1.0, 2.0, 418.0, 422.0, 7.0, 34.0, 41.0, 167.0, 742.0, 3.0, 112.0, 207.0, 3.0, 338.0, 424.0, 5.0, 26.0, 13.0, 235.0, 8.0, 693.0, 4.0, 1821.0, 167.0, 2.0, 2.0, 216.0, 3.0, 66.0, 4.0, 130.0, 29.0, 2.0, 241.0, 2.0, 332.0, 2.0, 422.0, 9.0, 112.0, 743.0, 9.0, 39.0, 14000, 1840.0, 744.0, 5.0, 182.0, 3.0, 368.0, 1.0, 397.0, 6.0, 604.0, 1, 1821.0, 167.0, 745.0, 4.0, 746.0, 4.0, 210.0, 46.0, 747.0, 5.0, 5.0, 740.0, 1843.0, 284.0, 2019.0, 9.0, 1.0, 55.0, 266.0, 271.0, 1876.0, 2.0, 47.0, 362.0, 376.0, 1872.0, 3.0, 45.0, 329.0, 334.0, 1871.0, 4.0, 31.0, 526.0, 527.0, 1858.0, 5.0, 21.0, 333.0, 335.0, 1852.0, 6.0, 8.0, 145.0, 147.0, 1857.0, 7.0, 65.0, 256.0, 258.0, 3, 1880.0, 8.0, 4.0, 913.0, 914.0, 1887.0, 9.0, 103.0, 464.0, 1936.0, 3.0, 1.0, 9.0, 39.0, 1828.0, 2.0, 2.0, 5.0, 182.0, 1837.0, 2.0, 3.0, 9.0, 108.0, 1812.0, 6, 1, 2.0, "
     ]
    }
   ],
   "source": [
    "# amounts\n",
    "import lexnlp.extract.en.amounts\n",
    "for amount in list(lexnlp.extract.en.amounts.get_amounts(text)):\n",
    "    print(amount, end=', ')"
   ]
  },
  {
   "cell_type": "code",
   "execution_count": 57,
   "metadata": {
    "ExecuteTime": {
     "end_time": "2020-10-16T03:20:37.776845Z",
     "start_time": "2020-10-16T03:20:37.523003Z"
    }
   },
   "outputs": [
    {
     "name": "stdout",
     "output_type": "stream",
     "text": [
      "(5, 'Ala.', 'Alabama Reports', 740, None, None, None)\n",
      "(5, 'Ala.', 'Alabama Reports', 740, '1843', None, None)\n",
      "(55, 'Ala.', 'Alabama Reports', 266, '271', None, None)\n",
      "(47, 'Ala.', 'Alabama Reports', 362, '376', None, None)\n",
      "(45, 'Ala.', 'Alabama Reports', 329, '334', None, None)\n",
      "(31, 'Ala.', 'Alabama Reports', 526, '527', None, None)\n",
      "(21, 'Ala.', 'Alabama Reports', 333, '335', None, None)\n",
      "(8, 'Cal.', 'California Reports', 145, '147', None, None)\n",
      "(65, 'Ala.', 'Alabama Reports', 256, '258', None, None)\n",
      "(4, 'S.W.', 'South Western Reporter', 913, '914', None, None)\n",
      "(103, 'A.L.R.', 'American Law Reports', 464, None, None, None)\n",
      "(9, 'Cow.', \"Cowen's Reports\", 39, None, None, None)\n",
      "(5, 'Port.', 'Alabama Reports, Porter', 182, None, None, None)\n",
      "(9, 'Johns.', \"Johnson's Reports\", 108, None, None, None)\n"
     ]
    }
   ],
   "source": [
    "import lexnlp.extract.en.citations\n",
    "_ = [print(citation) for citation in list(lexnlp.extract.en.citations.get_citations(text))]"
   ]
  },
  {
   "cell_type": "code",
   "execution_count": 61,
   "metadata": {
    "ExecuteTime": {
     "end_time": "2020-10-16T03:23:17.650097Z",
     "start_time": "2020-10-16T03:23:17.387089Z"
    }
   },
   "outputs": [
    {
     "name": "stdout",
     "output_type": "stream",
     "text": [
      "Lehman, Durr Co, (17983, 18001)\n"
     ]
    }
   ],
   "source": [
    "# companies\n",
    "import lexnlp.extract.en.entities.nltk_re\n",
    "_ = [print(company) for company in list(lexnlp.extract.en.entities.nltk_re.get_companies(text))]"
   ]
  },
  {
   "cell_type": "code",
   "execution_count": 62,
   "metadata": {
    "ExecuteTime": {
     "end_time": "2020-10-16T03:24:01.969211Z",
     "start_time": "2020-10-16T03:24:01.583802Z"
    }
   },
   "outputs": [
    {
     "name": "stdout",
     "output_type": "stream",
     "text": [
      "('until', '4 Cases that cite this headnote  [2] Creditors’ Remedies Lien and Priority Under St.1821, prohibiting a levy on a crop', '')\n",
      "('until', 'on a growing crop, nor does such lien attach', '')\n",
      "('if', 'It was proved by the claimants, by the production of a written contract, that Harrison, on the twenty-second of May, 1840, in consideration that the claimants were involved, as indorsers for Burton & Harrison of Sumter county, and were then exposed to an execution, amounting to upwards of fourteen thousand dollars, bargained and sold to the claimants all his growing crop of cotton &c., consisting of one hundred and twenty acres, &c. Allen Harrison promised and obliged himself to give up his crop to the use of the claimants at any time to save them from suffering as his indorsers;', '')\n",
      "('when', 'The claimants came from Tennessee, (where they resided) about the first of September, 1840, bringing with them three or four white laborers, and took possession of the crop and slaves, and with the latter, and white laborers, gathered the cotton, prepared it for market, and', '')\n",
      "('if', 'The court charged the jury, that the plaintiff had no lien by virtue of his judgment, and execution on the growing crop; that Harrison had a right to convey it, without being in any manner restrained by them; that the writing adduced, was a sale of the crop, but', '')\n",
      "('when', 'it was not, and the lien of the fieri facias would have attached upon it,', '')\n",
      "('if', 'gathered, yet', '')\n",
      "('not subject to', 'the claimants obtained possession on the first of September, and controlled the gathering of the crop, then no lien attached, and it was', '')\n",
      "('until', 'Rep, 693;] and', '')\n",
      "('until', '167,] which declares it to be lawful to levy an execution on a planted crop,', '')\n",
      "('if', 'It is admitted that the contract between the defendant in execution, and the claimants, was in good faith,', '')\n",
      "('when', 'The defendant in execution might at any time have divested the interest which the contract vested in the claimants, by discharging their liability as his indorsers, or a judgment creditor might have satisfied the lien, and', '')\n",
      "('unless', 'We will then consider the writing under which the claimants assert a right, as a mortgage with a power to take possession any time during the year,', '')\n",
      "('if', 'Conceding the truth of the facts stated in the bill of exceptions, and we think it will not follow, that the possession of the claimants is a nullity, and that the case must be considered as', '')\n",
      "('if', 'The contract contains an express undertaking to give up the crop at any time the claimants might require it for their indemnity, and', '')\n",
      "('if', 'they took possession of it in the absence of the grantor, (though without his consent,)', '')\n",
      "('if', 'he subsequently acquiesced in it, the inference would be,', '')\n",
      "('subject to', 'Mr. Dane, in remarking upon this point, says, “The American editor of Bacon’s Abridgment, says, ‘Wheat growing in the ground is a chattel, and', '')\n",
      "('until', 'The first section of the act of 1821, “To prevent sheriffs and other officers from levying executions in certain cases, enacts, that “It shall not be lawful for any sheriff or other officer, to levy a writ of fieri facias or other execution on the planted crop of a debtor, or person against whom an execution may issue,', '')\n",
      "('until', 'Now here is an express inhibition to levy an execution on a crop while it remains on, or in the ground, and', '')\n",
      "('until', 'If so, the act cited, will only have the effect of keeping the right to levy it in abeyance', '')\n",
      "('if', 'The lien and the right to levy are intimately connected, and', '')\n",
      "('until', 'That it was competent for the legislature to have made it unlawful to levy an execution on particular property,', '')\n",
      "('until', 'If the object was merely to suspend the sale,', '')\n",
      "('as soon as', 'The idea that the lien attached upon the planted crop', '')\n",
      "('until', 'the execution was delivered to the sheriff, though the right to levy it was postponed', '')\n",
      "('if', 'They do not refer to the lien,', '')\n",
      "('until', 'they did they would postpone it', '')\n",
      "('until', 'the crop was gathered; but it is the levy they relate to and postpone', '')\n",
      "('until', '**4 The right to levy an execution on a planted crop, then, being expressly taken away by the statute, the lien which is connected with and consequent upon that right, never attaches', '')\n",
      "('if', 'The circuit judge may have mistaken the law in supposing that the contract was a sale, but', '')\n",
      "('when', 'There is no assumption of any material fact in the charge; but the possession of the claimant, the time', '')\n",
      "('if', 'acquired, the gathering of the crop, &c., are all referred to the determination of the jury; who are instructed,', '')\n",
      "('until', '**4 The statute which presents the question before the court is, that “it shall not be lawful for any sheriff or other officer to levy a writ of fieei facias or other execution, on the planted crop of a debtor, or person against whom an execution may issue,', '')\n",
      "('subject to', 'The policy of the State, as indicated by these statutes, is undeniably that all the property of a debtor, real and personal, to which he has a legal title, shall be', '')\n",
      "('until', 'The mischief which the statute designed to remedy was, the sacrifice which would be necessarily made by the sale of an immature crop: the statute enables the debtor to retain it', '')\n",
      "('if', '**5', '')\n",
      "('until', 'The sheriff is forbidden to levy on a “planted crop”', '')\n",
      "('if', 'Now,', '')\n",
      "('until', 'This, I feel a thorough conviction, was not the intention of the legislature; but that it was to secure him from loss, by prohibiting a levy and sale of the crop,', '')\n",
      "('when', 'it was gathered,', '')\n",
      "('subject to', 'Growing crops as', '')\n",
      "('subject to', '464 Generally, at common law, growing crops raised by annual planting, while still attached to the soil, are regarded as personal chattels,', '')\n",
      "('where', 'And', '')\n"
     ]
    }
   ],
   "source": [
    "# conditions\n",
    "import lexnlp.extract.en.conditions\n",
    "_ = [print(condition) for condition in list(lexnlp.extract.en.conditions.get_conditions(text))]"
   ]
  },
  {
   "cell_type": "code",
   "execution_count": 63,
   "metadata": {
    "ExecuteTime": {
     "end_time": "2020-10-16T03:24:50.971583Z",
     "start_time": "2020-10-16T03:24:50.138288Z"
    }
   },
   "outputs": [
    {
     "name": "stdout",
     "output_type": "stream",
     "text": [
      "('after', 'on a growing crop, nor does such lien attach until', '')\n",
      "('after', '', ' and that alias and pluries fieri facias’, issued regularly up to the time levy was made; that the cotton levied on was growed on the plantation of harrison, and cultivated by the hands in his service.')\n",
      "('first of', 'the claimants came from tennessee, (where they resided) about the', '')\n",
      "('first of', 'the court charged the jury, that the plaintiff had no lien by virtue of his judgment, and execution on the growing crop; that harrison had a right to convey it, without being in any manner restrained by them; that the writing adduced, was a sale of the crop, but if it was not, and the lien of the fieri facias would have attached upon it, when gathered, yet if the claimants obtained possession on the', '')\n",
      "('after', 'it merely inhibits the levy, but the lien attaches, and a levy and sale may be made', '')\n",
      "('more than', 'taking this to be clear *744 law, and it will be seen, that the defendant in execution at the time of the levy had nothing', '')\n",
      "('before', 'it has been frequently mooted whether, at common law, corn, &c.,', '')\n",
      "('before', '**4 the statute which presents the question', '')\n",
      "('after', 'now, if the view taken by the majority of the court, is correct, the right secured to the plaintiff in execution, of levying on the crop', '')\n",
      "('before', 'tried', '')\n",
      "('before', 'tried', '')\n",
      "('before', 'tried', '')\n",
      "('before', 'tried', '')\n",
      "('before', 'tried', '')\n",
      "('before', 'tried', '')\n"
     ]
    }
   ],
   "source": [
    "# constraints\n",
    "import lexnlp.extract.en.constraints\n",
    "_ = [print(constraint) for constraint in list(lexnlp.extract.en.constraints.get_constraints(text))]"
   ]
  },
  {
   "cell_type": "code",
   "execution_count": 64,
   "metadata": {
    "ExecuteTime": {
     "end_time": "2020-10-16T03:25:43.648969Z",
     "start_time": "2020-10-16T03:25:43.132062Z"
    }
   },
   "outputs": [
    {
     "name": "stdout",
     "output_type": "stream",
     "text": [
      "('©', '2019', 'Thomson Reuters. No')\n"
     ]
    }
   ],
   "source": [
    "# copyrights\n",
    "import lexnlp.extract.en.copyright\n",
    "_ = [print(copyright) for copyright in list(lexnlp.extract.en.copyright.get_copyright(text))]"
   ]
  },
  {
   "cell_type": "code",
   "execution_count": 88,
   "metadata": {
    "ExecuteTime": {
     "end_time": "2020-10-16T03:45:13.490866Z",
     "start_time": "2020-10-16T03:45:13.437478Z"
    },
    "scrolled": true
   },
   "outputs": [
    {
     "ename": "ImportError",
     "evalue": "cannot import name 'entity_config' from 'lexnlp.extract.en.dict_entities' (C:\\anaconda3\\lib\\site-packages\\lexnlp\\extract\\en\\dict_entities.py)",
     "output_type": "error",
     "traceback": [
      "\u001b[1;31m---------------------------------------------------------------------------\u001b[0m",
      "\u001b[1;31mImportError\u001b[0m                               Traceback (most recent call last)",
      "\u001b[1;32m<ipython-input-88-5654b53030c7>\u001b[0m in \u001b[0;36m<module>\u001b[1;34m\u001b[0m\n\u001b[1;32m----> 1\u001b[1;33m \u001b[1;32mfrom\u001b[0m \u001b[0mlexnlp\u001b[0m\u001b[1;33m.\u001b[0m\u001b[0mextract\u001b[0m\u001b[1;33m.\u001b[0m\u001b[0men\u001b[0m\u001b[1;33m.\u001b[0m\u001b[0mdict_entities\u001b[0m \u001b[1;32mimport\u001b[0m \u001b[0mentity_config\u001b[0m\u001b[1;33m\u001b[0m\u001b[1;33m\u001b[0m\u001b[0m\n\u001b[0m",
      "\u001b[1;31mImportError\u001b[0m: cannot import name 'entity_config' from 'lexnlp.extract.en.dict_entities' (C:\\anaconda3\\lib\\site-packages\\lexnlp\\extract\\en\\dict_entities.py)"
     ]
    }
   ],
   "source": [
    "from lexnlp.extract.en.dict_entities import entity_config"
   ]
  },
  {
   "cell_type": "code",
   "execution_count": 92,
   "metadata": {
    "ExecuteTime": {
     "end_time": "2020-10-16T03:52:30.852509Z",
     "start_time": "2020-10-16T03:52:30.273073Z"
    }
   },
   "outputs": [
    {
     "ename": "AttributeError",
     "evalue": "'tuple' object has no attribute 'aliases'",
     "output_type": "error",
     "traceback": [
      "\u001b[1;31m---------------------------------------------------------------------------\u001b[0m",
      "\u001b[1;31mAttributeError\u001b[0m                            Traceback (most recent call last)",
      "\u001b[1;32m<ipython-input-92-61de125b209c>\u001b[0m in \u001b[0;36m<module>\u001b[1;34m\u001b[0m\n\u001b[0;32m      8\u001b[0m     \u001b[0mc\u001b[0m \u001b[1;33m=\u001b[0m \u001b[1;33m(\u001b[0m\u001b[0mrow\u001b[0m\u001b[1;33m[\u001b[0m\u001b[1;34m\"Court ID\"\u001b[0m\u001b[1;33m]\u001b[0m\u001b[1;33m,\u001b[0m \u001b[0mrow\u001b[0m\u001b[1;33m[\u001b[0m\u001b[1;34m\"Court Name\"\u001b[0m\u001b[1;33m]\u001b[0m\u001b[1;33m,\u001b[0m \u001b[1;36m0\u001b[0m\u001b[1;33m,\u001b[0m \u001b[0mrow\u001b[0m\u001b[1;33m[\u001b[0m\u001b[1;34m\"Alias\"\u001b[0m\u001b[1;33m]\u001b[0m\u001b[1;33m.\u001b[0m\u001b[0msplit\u001b[0m\u001b[1;33m(\u001b[0m\u001b[1;34m\";\"\u001b[0m\u001b[1;33m)\u001b[0m \u001b[1;32mif\u001b[0m \u001b[1;32mnot\u001b[0m \u001b[0mpandas\u001b[0m\u001b[1;33m.\u001b[0m\u001b[0misnull\u001b[0m\u001b[1;33m(\u001b[0m\u001b[0mrow\u001b[0m\u001b[1;33m[\u001b[0m\u001b[1;34m\"Alias\"\u001b[0m\u001b[1;33m]\u001b[0m\u001b[1;33m)\u001b[0m \u001b[1;32melse\u001b[0m \u001b[1;33m[\u001b[0m\u001b[1;33m]\u001b[0m\u001b[1;33m)\u001b[0m\u001b[1;33m\u001b[0m\u001b[1;33m\u001b[0m\u001b[0m\n\u001b[0;32m      9\u001b[0m     \u001b[0mcourt_config_data\u001b[0m\u001b[1;33m.\u001b[0m\u001b[0mappend\u001b[0m\u001b[1;33m(\u001b[0m\u001b[0mc\u001b[0m\u001b[1;33m)\u001b[0m\u001b[1;33m\u001b[0m\u001b[1;33m\u001b[0m\u001b[0m\n\u001b[1;32m---> 10\u001b[1;33m \u001b[1;32mfor\u001b[0m \u001b[0mentity\u001b[0m\u001b[1;33m,\u001b[0m \u001b[0malias\u001b[0m \u001b[1;32min\u001b[0m \u001b[0mlexnlp\u001b[0m\u001b[1;33m.\u001b[0m\u001b[0mextract\u001b[0m\u001b[1;33m.\u001b[0m\u001b[0men\u001b[0m\u001b[1;33m.\u001b[0m\u001b[0mcourts\u001b[0m\u001b[1;33m.\u001b[0m\u001b[0mget_courts\u001b[0m\u001b[1;33m(\u001b[0m\u001b[0mtext\u001b[0m\u001b[1;33m,\u001b[0m \u001b[0mcourt_config_data\u001b[0m\u001b[1;33m)\u001b[0m\u001b[1;33m:\u001b[0m\u001b[1;33m\u001b[0m\u001b[1;33m\u001b[0m\u001b[0m\n\u001b[0m\u001b[0;32m     11\u001b[0m     \u001b[0mprint\u001b[0m\u001b[1;33m(\u001b[0m\u001b[1;34m\"entity=\"\u001b[0m\u001b[1;33m,\u001b[0m \u001b[0mentity\u001b[0m\u001b[1;33m)\u001b[0m\u001b[1;33m\u001b[0m\u001b[1;33m\u001b[0m\u001b[0m\n\u001b[0;32m     12\u001b[0m     \u001b[0mprint\u001b[0m\u001b[1;33m(\u001b[0m\u001b[1;34m\"alias=\"\u001b[0m\u001b[1;33m,\u001b[0m \u001b[0malias\u001b[0m\u001b[1;33m)\u001b[0m\u001b[1;33m\u001b[0m\u001b[1;33m\u001b[0m\u001b[0m\n",
      "\u001b[1;32mC:\\anaconda3\\lib\\site-packages\\lexnlp\\extract\\en\\courts.py\u001b[0m in \u001b[0;36mget_courts\u001b[1;34m(text, court_config_list, priority, text_languages)\u001b[0m\n\u001b[0;32m     54\u001b[0m     \u001b[1;33m:\u001b[0m\u001b[1;32mreturn\u001b[0m\u001b[1;33m:\u001b[0m \u001b[0mGenerates\u001b[0m \u001b[0mtuples\u001b[0m\u001b[1;33m:\u001b[0m \u001b[1;33m(\u001b[0m\u001b[0mcourt\u001b[0m \u001b[0mentity\u001b[0m\u001b[1;33m,\u001b[0m \u001b[0mcourt\u001b[0m \u001b[0malias\u001b[0m\u001b[1;33m)\u001b[0m\u001b[1;33m\u001b[0m\u001b[1;33m\u001b[0m\u001b[0m\n\u001b[0;32m     55\u001b[0m     \"\"\"\n\u001b[1;32m---> 56\u001b[1;33m     for ent in find_dict_entities(text, court_config_list,\n\u001b[0m\u001b[0;32m     57\u001b[0m                                   \u001b[0mconflict_resolving_func\u001b[0m\u001b[1;33m=\u001b[0m\u001b[0mconflicts_take_first_by_id\u001b[0m \u001b[1;32mif\u001b[0m \u001b[0mpriority\u001b[0m \u001b[1;32melse\u001b[0m \u001b[1;32mNone\u001b[0m\u001b[1;33m,\u001b[0m\u001b[1;33m\u001b[0m\u001b[1;33m\u001b[0m\u001b[0m\n\u001b[0;32m     58\u001b[0m                                   text_languages=text_languages):\n",
      "\u001b[1;32mC:\\anaconda3\\lib\\site-packages\\lexnlp\\extract\\en\\dict_entities.py\u001b[0m in \u001b[0;36mfind_dict_entities\u001b[1;34m(text, all_possible_entities, text_languages, conflict_resolving_func, use_stemmer, remove_time_am_pm, min_alias_len, prepared_alias_ban_list)\u001b[0m\n\u001b[0;32m    438\u001b[0m     \u001b[1;31m# Search for each DictEntity occurrence adding them into the shared search context.\u001b[0m\u001b[1;33m\u001b[0m\u001b[1;33m\u001b[0m\u001b[1;33m\u001b[0m\u001b[0m\n\u001b[0;32m    439\u001b[0m     \u001b[1;32mfor\u001b[0m \u001b[0mdict_entity\u001b[0m \u001b[1;32min\u001b[0m \u001b[0mall_possible_entities\u001b[0m\u001b[1;33m:\u001b[0m\u001b[1;33m\u001b[0m\u001b[1;33m\u001b[0m\u001b[0m\n\u001b[1;32m--> 440\u001b[1;33m         _find_entity_positions(normalized_text, normalized_text_lowercase,\n\u001b[0m\u001b[0;32m    441\u001b[0m                                \u001b[0mdict_entity\u001b[0m\u001b[1;33m,\u001b[0m \u001b[0mtext_languages\u001b[0m\u001b[1;33m,\u001b[0m \u001b[0msearch_context\u001b[0m\u001b[1;33m,\u001b[0m\u001b[1;33m\u001b[0m\u001b[1;33m\u001b[0m\u001b[0m\n\u001b[0;32m    442\u001b[0m                                \u001b[0muse_stemmer\u001b[0m\u001b[1;33m=\u001b[0m\u001b[0muse_stemmer\u001b[0m\u001b[1;33m,\u001b[0m \u001b[0mmin_alias_len\u001b[0m\u001b[1;33m=\u001b[0m\u001b[0mmin_alias_len\u001b[0m\u001b[1;33m,\u001b[0m\u001b[1;33m\u001b[0m\u001b[1;33m\u001b[0m\u001b[0m\n",
      "\u001b[1;32mC:\\anaconda3\\lib\\site-packages\\lexnlp\\extract\\en\\dict_entities.py\u001b[0m in \u001b[0;36m_find_entity_positions\u001b[1;34m(normalized_text, normalized_text_lowercase, entity, text_languages, context, use_stemmer, abbrev_uppercase_check_range, min_alias_len, alias_ban_list)\u001b[0m\n\u001b[0;32m    299\u001b[0m         \u001b[0mcontext\u001b[0m \u001b[1;33m=\u001b[0m \u001b[0mdict\u001b[0m\u001b[1;33m(\u001b[0m\u001b[1;33m)\u001b[0m\u001b[1;33m\u001b[0m\u001b[1;33m\u001b[0m\u001b[0m\n\u001b[0;32m    300\u001b[0m \u001b[1;33m\u001b[0m\u001b[0m\n\u001b[1;32m--> 301\u001b[1;33m     \u001b[1;32mif\u001b[0m \u001b[0mentity\u001b[0m\u001b[1;33m.\u001b[0m\u001b[0maliases\u001b[0m\u001b[1;33m:\u001b[0m\u001b[1;33m\u001b[0m\u001b[1;33m\u001b[0m\u001b[0m\n\u001b[0m\u001b[0;32m    302\u001b[0m         \u001b[1;32mfor\u001b[0m \u001b[0mea\u001b[0m \u001b[1;32min\u001b[0m \u001b[0mentity\u001b[0m\u001b[1;33m.\u001b[0m\u001b[0maliases\u001b[0m\u001b[1;33m:\u001b[0m\u001b[1;33m\u001b[0m\u001b[1;33m\u001b[0m\u001b[0m\n\u001b[0;32m    303\u001b[0m             \u001b[0malias_text\u001b[0m \u001b[1;33m=\u001b[0m \u001b[0mea\u001b[0m\u001b[1;33m.\u001b[0m\u001b[0malias\u001b[0m\u001b[1;33m\u001b[0m\u001b[1;33m\u001b[0m\u001b[0m\n",
      "\u001b[1;31mAttributeError\u001b[0m: 'tuple' object has no attribute 'aliases'"
     ]
    }
   ],
   "source": [
    "#courts\n",
    "import pandas\n",
    "import lexnlp.extract.en.dict_entities\n",
    "court_df = pandas.read_csv(\"https://raw.githubusercontent.com/LexPredict/lexpredict-legal-dictionary/1.0.5/en/legal/us_courts.csv\")\n",
    "# Create config objects\n",
    "court_config_data = []\n",
    "for _, row in court_df.iterrows():\n",
    "    c = (row[\"Court ID\"], row[\"Court Name\"], 0, row[\"Alias\"].split(\";\") if not pandas.isnull(row[\"Alias\"]) else [])\n",
    "    court_config_data.append(c)\n",
    "for entity, alias in lexnlp.extract.en.courts.get_courts(text, court_config_data):\n",
    "    print(\"entity=\", entity)\n",
    "    print(\"alias=\", alias)\n",
    "entity= (98, 'Eastern District of Virginia', 0, [('Eastern District of Virginia', None, False, None), ('E.D. Va.', None, False, None)])\n",
    "alias= ('E.D. Va.', None, False, None)\n",
    "entity= (70, 'Southern District of New York', 0, [('Southern District of New York', None, False, None), ('S.D.N.Y.', None, False, None)])\n",
    "alias= ('S.D.N.Y.', None, False, None)"
   ]
  },
  {
   "cell_type": "code",
   "execution_count": 69,
   "metadata": {
    "ExecuteTime": {
     "end_time": "2020-10-16T03:31:59.548596Z",
     "start_time": "2020-10-16T03:31:59.532966Z"
    }
   },
   "outputs": [
    {
     "data": {
      "text/plain": [
       "[]"
      ]
     },
     "execution_count": 69,
     "metadata": {},
     "output_type": "execute_result"
    }
   ],
   "source": [
    "# CUSIP\n",
    "import lexnlp.extract.en.cusip\n",
    "list(lexnlp.extract.en.cusip.get_cusip(text))"
   ]
  },
  {
   "cell_type": "code",
   "execution_count": 70,
   "metadata": {
    "ExecuteTime": {
     "end_time": "2020-10-16T03:32:44.100818Z",
     "start_time": "2020-10-16T03:32:39.946180Z"
    }
   },
   "outputs": [
    {
     "name": "stdout",
     "output_type": "stream",
     "text": [
      "2020-06-01\n",
      "1840-11-01\n",
      "1839-10-01\n",
      "1840-09-01\n",
      "1840-05-01\n",
      "1840-05-01\n",
      "2020-12-01\n",
      "2020-12-01\n",
      "2020-01-01\n",
      "2020-01-01\n",
      "2020-01-01\n",
      "2020-03-21\n",
      "2020-06-01\n",
      "2020-07-01\n",
      "2020-11-01\n"
     ]
    }
   ],
   "source": [
    "# dates\n",
    "import lexnlp.extract.en.dates\n",
    "_ = [print(date) for date in list(lexnlp.extract.en.dates.get_dates(text))]"
   ]
  },
  {
   "cell_type": "code",
   "execution_count": 73,
   "metadata": {
    "ExecuteTime": {
     "end_time": "2020-10-16T03:33:42.232535Z",
     "start_time": "2020-10-16T03:33:42.095436Z"
    }
   },
   "outputs": [
    {
     "data": {
      "text/plain": [
       "[]"
      ]
     },
     "execution_count": 73,
     "metadata": {},
     "output_type": "execute_result"
    }
   ],
   "source": [
    "# definitions\n",
    "import lexnlp.extract.en.definitions\n",
    "list(lexnlp.extract.en.definitions.get_definitions(text))"
   ]
  },
  {
   "cell_type": "code",
   "execution_count": 74,
   "metadata": {
    "ExecuteTime": {
     "end_time": "2020-10-16T03:34:16.458860Z",
     "start_time": "2020-10-16T03:34:16.396357Z"
    }
   },
   "outputs": [
    {
     "data": {
      "text/plain": [
       "[]"
      ]
     },
     "execution_count": 74,
     "metadata": {},
     "output_type": "execute_result"
    }
   ],
   "source": [
    "# distances\n",
    "import lexnlp.extract.en.distances\n",
    "list(lexnlp.extract.en.distances.get_distances(text))"
   ]
  },
  {
   "cell_type": "code",
   "execution_count": 75,
   "metadata": {
    "ExecuteTime": {
     "end_time": "2020-10-16T03:34:45.647665Z",
     "start_time": "2020-10-16T03:34:45.547411Z"
    }
   },
   "outputs": [
    {
     "data": {
      "text/plain": [
       "[('second', 20.0, 0.00023148148148148146), ('year', 6.0, 2190.0)]"
      ]
     },
     "execution_count": 75,
     "metadata": {},
     "output_type": "execute_result"
    }
   ],
   "source": [
    "#durations\n",
    "import lexnlp.extract.en.durations\n",
    "list(lexnlp.extract.en.durations.get_durations(text))"
   ]
  },
  {
   "cell_type": "code",
   "execution_count": 94,
   "metadata": {
    "ExecuteTime": {
     "end_time": "2020-10-16T03:57:42.355452Z",
     "start_time": "2020-10-16T03:57:42.302065Z"
    }
   },
   "outputs": [
    {
     "ename": "TypeError",
     "evalue": "get_geoentities() missing 1 required positional argument: 'geo_config_list'",
     "output_type": "error",
     "traceback": [
      "\u001b[1;31m---------------------------------------------------------------------------\u001b[0m",
      "\u001b[1;31mTypeError\u001b[0m                                 Traceback (most recent call last)",
      "\u001b[1;32m<ipython-input-94-632ef6cb4c8f>\u001b[0m in \u001b[0;36m<module>\u001b[1;34m\u001b[0m\n\u001b[0;32m      1\u001b[0m \u001b[1;32mimport\u001b[0m \u001b[0mlexnlp\u001b[0m\u001b[1;33m.\u001b[0m\u001b[0mextract\u001b[0m\u001b[1;33m.\u001b[0m\u001b[0men\u001b[0m\u001b[1;33m.\u001b[0m\u001b[0mgeoentities\u001b[0m\u001b[1;33m\u001b[0m\u001b[1;33m\u001b[0m\u001b[0m\n\u001b[1;32m----> 2\u001b[1;33m \u001b[0mlexnlp\u001b[0m\u001b[1;33m.\u001b[0m\u001b[0mextract\u001b[0m\u001b[1;33m.\u001b[0m\u001b[0men\u001b[0m\u001b[1;33m.\u001b[0m\u001b[0mgeoentities\u001b[0m\u001b[1;33m.\u001b[0m\u001b[0mget_geoentities\u001b[0m\u001b[1;33m(\u001b[0m\u001b[0mtext\u001b[0m\u001b[1;33m)\u001b[0m\u001b[1;33m\u001b[0m\u001b[1;33m\u001b[0m\u001b[0m\n\u001b[0m",
      "\u001b[1;31mTypeError\u001b[0m: get_geoentities() missing 1 required positional argument: 'geo_config_list'"
     ]
    }
   ],
   "source": [
    "# geoentities\n",
    "import lexnlp.extract.en.geoentities\n",
    "lexnlp.extract.en.geoentities.get_geoentities(text)"
   ]
  },
  {
   "cell_type": "code",
   "execution_count": 76,
   "metadata": {
    "ExecuteTime": {
     "end_time": "2020-10-16T03:35:42.183169Z",
     "start_time": "2020-10-16T03:35:42.060767Z"
    }
   },
   "outputs": [
    {
     "data": {
      "text/plain": [
       "[(100.0, 'USD'), (14000, 'USD'), (14000, 'USD')]"
      ]
     },
     "execution_count": 76,
     "metadata": {},
     "output_type": "execute_result"
    }
   ],
   "source": [
    "#money\n",
    "import lexnlp.extract.en.money\n",
    "list(lexnlp.extract.en.money.get_money(text))"
   ]
  },
  {
   "cell_type": "code",
   "execution_count": 77,
   "metadata": {
    "ExecuteTime": {
     "end_time": "2020-10-16T03:36:12.485139Z",
     "start_time": "2020-10-16T03:36:12.331559Z"
    }
   },
   "outputs": [
    {
     "data": {
      "text/plain": [
       "[]"
      ]
     },
     "execution_count": 77,
     "metadata": {},
     "output_type": "execute_result"
    }
   ],
   "source": [
    "#percents\n",
    "import lexnlp.extract.en.percents\n",
    "list(lexnlp.extract.en.percents.get_percents(text))"
   ]
  },
  {
   "cell_type": "code",
   "execution_count": 78,
   "metadata": {
    "ExecuteTime": {
     "end_time": "2020-10-16T03:36:39.921818Z",
     "start_time": "2020-10-16T03:36:39.868473Z"
    }
   },
   "outputs": [
    {
     "data": {
      "text/plain": [
       "[]"
      ]
     },
     "execution_count": 78,
     "metadata": {},
     "output_type": "execute_result"
    }
   ],
   "source": [
    "#pii \n",
    "import lexnlp.extract.en.pii\n",
    "list(lexnlp.extract.en.pii.get_pii(text))"
   ]
  },
  {
   "cell_type": "code",
   "execution_count": 79,
   "metadata": {
    "ExecuteTime": {
     "end_time": "2020-10-16T03:37:20.691094Z",
     "start_time": "2020-10-16T03:37:20.622077Z"
    }
   },
   "outputs": [
    {
     "data": {
      "text/plain": [
       "[]"
      ]
     },
     "execution_count": 79,
     "metadata": {},
     "output_type": "execute_result"
    }
   ],
   "source": [
    "#ratios\n",
    "import lexnlp.extract.en.ratios\n",
    "list(lexnlp.extract.en.ratios.get_ratios(text))"
   ]
  },
  {
   "cell_type": "code",
   "execution_count": 80,
   "metadata": {
    "ExecuteTime": {
     "end_time": "2020-10-16T03:37:50.554841Z",
     "start_time": "2020-10-16T03:37:50.501465Z"
    }
   },
   "outputs": [
    {
     "data": {
      "text/plain": [
       "[]"
      ]
     },
     "execution_count": 80,
     "metadata": {},
     "output_type": "execute_result"
    }
   ],
   "source": [
    "#regulations\n",
    "import lexnlp.extract.en.regulations\n",
    "list(lexnlp.extract.en.regulations.get_regulations(text))"
   ]
  },
  {
   "cell_type": "code",
   "execution_count": 81,
   "metadata": {
    "ExecuteTime": {
     "end_time": "2020-10-16T03:38:20.651028Z",
     "start_time": "2020-10-16T03:38:20.397092Z"
    }
   },
   "outputs": [
    {
     "data": {
      "text/plain": [
       "[]"
      ]
     },
     "execution_count": 81,
     "metadata": {},
     "output_type": "execute_result"
    }
   ],
   "source": [
    "# trademarks\n",
    "import lexnlp.extract.en.trademarks\n",
    "list(lexnlp.extract.en.trademarks.get_trademarks(text))"
   ]
  },
  {
   "cell_type": "code",
   "execution_count": 82,
   "metadata": {
    "ExecuteTime": {
     "end_time": "2020-10-16T03:38:46.477993Z",
     "start_time": "2020-10-16T03:38:46.431098Z"
    }
   },
   "outputs": [
    {
     "data": {
      "text/plain": [
       "[]"
      ]
     },
     "execution_count": 82,
     "metadata": {},
     "output_type": "execute_result"
    }
   ],
   "source": [
    "#urls\n",
    "import lexnlp.extract.en.urls\n",
    "list(lexnlp.extract.en.urls.get_urls(text))"
   ]
  }
 ],
 "metadata": {
  "colab": {
   "authorship_tag": "ABX9TyOAs8kIQ1wq7/rcR1WavISL",
   "collapsed_sections": [],
   "include_colab_link": true,
   "name": "In_class_exercise_05.ipynb",
   "provenance": []
  },
  "hide_input": false,
  "kernelspec": {
   "display_name": "Python 3",
   "language": "python",
   "name": "python3"
  },
  "language_info": {
   "codemirror_mode": {
    "name": "ipython",
    "version": 3
   },
   "file_extension": ".py",
   "mimetype": "text/x-python",
   "name": "python",
   "nbconvert_exporter": "python",
   "pygments_lexer": "ipython3",
   "version": "3.7.1"
  },
  "toc": {
   "base_numbering": 1,
   "nav_menu": {},
   "number_sections": true,
   "sideBar": true,
   "skip_h1_title": false,
   "title_cell": "Table of Contents",
   "title_sidebar": "Contents",
   "toc_cell": false,
   "toc_position": {},
   "toc_section_display": true,
   "toc_window_display": false
  },
  "varInspector": {
   "cols": {
    "lenName": 16,
    "lenType": 16,
    "lenVar": 40
   },
   "kernels_config": {
    "python": {
     "delete_cmd_postfix": "",
     "delete_cmd_prefix": "del ",
     "library": "var_list.py",
     "varRefreshCmd": "print(var_dic_list())"
    },
    "r": {
     "delete_cmd_postfix": ") ",
     "delete_cmd_prefix": "rm(",
     "library": "var_list.r",
     "varRefreshCmd": "cat(var_dic_list()) "
    }
   },
   "types_to_exclude": [
    "module",
    "function",
    "builtin_function_or_method",
    "instance",
    "_Feature"
   ],
   "window_display": false
  }
 },
 "nbformat": 4,
 "nbformat_minor": 1
}
