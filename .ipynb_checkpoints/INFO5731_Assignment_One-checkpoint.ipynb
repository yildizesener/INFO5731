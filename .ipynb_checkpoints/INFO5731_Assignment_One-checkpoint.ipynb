{
 "cells": [
  {
   "cell_type": "markdown",
   "metadata": {
    "colab_type": "text",
    "id": "view-in-github"
   },
   "source": [
    "<a href=\"https://colab.research.google.com/github/unt-iialab/INFO5731_FALL2020/blob/master/Assignments/INFO5731_Assignment_One.ipynb\" target=\"_parent\"><img src=\"https://colab.research.google.com/assets/colab-badge.svg\" alt=\"Open In Colab\"/></a>"
   ]
  },
  {
   "cell_type": "markdown",
   "metadata": {
    "colab_type": "text",
    "id": "Ryk8D1Q4Wsrp"
   },
   "source": [
    "# **INFO5731 Assignment One**"
   ]
  },
  {
   "cell_type": "markdown",
   "metadata": {
    "colab_type": "text",
    "id": "90_NR8c5XGWc"
   },
   "source": [
    "# Question 1\n",
    "\n",
    "(20 points). Write a Python program to generate 12 random numbers between 1 and 100. Sort the list of numbers in ascending order and print it out. Sort the list of numbers in descending order and print it out. Calculate the average for the group and print it out."
   ]
  },
  {
   "cell_type": "code",
   "execution_count": 1,
   "metadata": {
    "ExecuteTime": {
     "end_time": "2020-09-01T04:50:11.770923Z",
     "start_time": "2020-09-01T04:50:11.601209Z"
    },
    "colab": {},
    "colab_type": "code",
    "id": "5QX6bJjGWXY9"
   },
   "outputs": [
    {
     "name": "stdout",
     "output_type": "stream",
     "text": [
      "12 random numbers between 1 and 100:  [45, 48, 65, 68, 68, 10, 84, 22, 37, 88, 71, 89]\n"
     ]
    }
   ],
   "source": [
    "# Your code here\n",
    "from numpy import random, array\n",
    "random.seed(0)\n",
    "\n",
    "numbers = list(random.randint(1,100,12))\n",
    "print('12 random numbers between 1 and 100: ', numbers)"
   ]
  },
  {
   "cell_type": "code",
   "execution_count": 2,
   "metadata": {
    "ExecuteTime": {
     "end_time": "2020-09-01T04:50:11.781652Z",
     "start_time": "2020-09-01T04:50:11.773851Z"
    }
   },
   "outputs": [
    {
     "name": "stdout",
     "output_type": "stream",
     "text": [
      "Numbers sorted ascending:  [10, 22, 37, 45, 48, 65, 68, 68, 71, 84, 88, 89]\n",
      "Numbers sorted descending:  [89, 88, 84, 71, 68, 68, 65, 48, 45, 37, 22, 10]\n",
      "Mean:  57.916666666666664\n"
     ]
    }
   ],
   "source": [
    "print('Numbers sorted ascending: ', sorted(numbers))\n",
    "print('Numbers sorted descending: ', sorted(numbers, reverse=True))\n",
    "print('Mean: ', array(numbers).mean())"
   ]
  },
  {
   "cell_type": "markdown",
   "metadata": {
    "colab_type": "text",
    "id": "1F_PZdH9Sh49"
   },
   "source": [
    "# Question 2\n",
    "(25 points). Write a program that will do the following string formatting tasks:\n",
    "\n",
    "(1) Ask the user to enter two sentences.\n",
    "\n",
    "(2) Make each sentence into a list. Each element in the list should correspond to a word in the sentence. For example, if the sentence is \"Alas! Am I alive? This is my first python program\", the program should print out ['Alas, '!', 'Am', 'I', 'alive, '?', 'This', 'is', 'my', 'first', 'python', 'program'].\n",
    "\n",
    "(3) Compare the two sentences. Print out a list of words that occur in both sentences.\n",
    "\n",
    "(4) Remove any punctuation from the sentence and print it back out. It should remove at least the following characters, but it can remove more: period(“.”), comma (“,”), semicolon (“;”), and colon (“:”)\n",
    "\n",
    "(5) Count the number of vowels in the sentences. Print out each vowel and the number of times it appears in the sentences, such as: a:2, e:1, i:0, etc"
   ]
  },
  {
   "cell_type": "code",
   "execution_count": 3,
   "metadata": {
    "ExecuteTime": {
     "end_time": "2020-09-01T04:50:11.804084Z",
     "start_time": "2020-09-01T04:50:11.784578Z"
    },
    "code_folding": [],
    "colab": {},
    "colab_type": "code",
    "id": "Y0oOSlsOS0cq"
   },
   "outputs": [],
   "source": [
    "# Your code here\n",
    "\n",
    "def sentence():\n",
    "    import nltk\n",
    "    from string import punctuation\n",
    "    nltk.download('punkt')\n",
    "    \n",
    "    a = input('Please enter the first sentence: ')\n",
    "    print()\n",
    "    b = input('Please enter the second sentence: ')\n",
    "    print()\n",
    "    print()\n",
    "    \n",
    "    list_a = nltk.word_tokenize(a)\n",
    "    list_b = nltk.word_tokenize(b)\n",
    "    print('Elements in the first sentence: ', list_a)\n",
    "    print('Elements in the second sentence: ', list_b)\n",
    "    print()\n",
    "    \n",
    "    common_words = [word for word in list_a if word in list_b]\n",
    "    print('Common words in both sentences: ', common_words)\n",
    "    print()\n",
    "\n",
    "    print('First sentence without punctuation: ', \" \".join([word for word in list_a if word not in punctuation]))\n",
    "    print('Second sentence without punctuation: ', \" \".join([word for word in list_b if word not in punctuation]))\n",
    "    print()\n",
    "    \n",
    "    vowels = 'aeiou'\n",
    "    s1 = a.casefold() \n",
    "    s2 = b.casefold()  \n",
    "    count1 = {}.fromkeys(vowels, 0)\n",
    "    count2 = {}.fromkeys(vowels, 0) \n",
    "    for char in s1: \n",
    "        if char in count1: \n",
    "            count1[char] += 1\n",
    "    for char in s2: \n",
    "        if char in count2: \n",
    "            count2[char] += 1\n",
    "    print('Vowels in the first sentence: ', count1)\n",
    "    print('Vowels in the second sentence: ', count2)"
   ]
  },
  {
   "cell_type": "code",
   "execution_count": 4,
   "metadata": {
    "ExecuteTime": {
     "end_time": "2020-09-01T04:50:22.951979Z",
     "start_time": "2020-09-01T04:50:11.807987Z"
    }
   },
   "outputs": [
    {
     "name": "stderr",
     "output_type": "stream",
     "text": [
      "[nltk_data] Downloading package punkt to\n",
      "[nltk_data]     /Users/yildizesener/nltk_data...\n",
      "[nltk_data]   Unzipping tokenizers/punkt.zip.\n"
     ]
    },
    {
     "name": "stdout",
     "output_type": "stream",
     "text": [
      "Please enter the first sentence: This is Yildiz\n",
      "\n",
      "Please enter the second sentence: I am Yildiz Esener\n",
      "\n",
      "\n",
      "Elements in the first sentence:  ['This', 'is', 'Yildiz']\n",
      "Elements in the second sentence:  ['I', 'am', 'Yildiz', 'Esener']\n",
      "\n",
      "Common words in both sentences:  ['Yildiz']\n",
      "\n",
      "First sentence without punctuation:  This is Yildiz\n",
      "Second sentence without punctuation:  I am Yildiz Esener\n",
      "\n",
      "Vowels in the first sentence:  {'a': 0, 'e': 0, 'i': 4, 'o': 0, 'u': 0}\n",
      "Vowels in the second sentence:  {'a': 1, 'e': 3, 'i': 3, 'o': 0, 'u': 0}\n"
     ]
    }
   ],
   "source": [
    "sentence()"
   ]
  },
  {
   "cell_type": "markdown",
   "metadata": {
    "colab_type": "text",
    "id": "CmFoI4jDS9nx"
   },
   "source": [
    "# Question 3 \n",
    "\n",
    "(15 points). The formula that describes the volume V of a sphere with radius r is the following:\n",
    "\n",
    "$ V=\\frac{4}{3}\\ast\\ \\pi\\ast\\ r^3 $\n",
    "\n",
    "Write a program to calculate the value of V when r is in the range of 1–10. Output the result in the following format:\n",
    "\n",
    "\tr\tV\n",
    "\t1\t…\n",
    "\t2\t…\n",
    "\t3\t…\n"
   ]
  },
  {
   "cell_type": "code",
   "execution_count": 7,
   "metadata": {
    "ExecuteTime": {
     "end_time": "2020-09-01T04:50:22.966610Z",
     "start_time": "2020-09-01T04:50:22.956855Z"
    },
    "colab": {},
    "colab_type": "code",
    "id": "pEyqeioAT95b"
   },
   "outputs": [],
   "source": [
    "# Your code here\n",
    "from numpy import arange\n",
    "\n",
    "def volume(r_values = arange(1, 11)):\n",
    "    from math import pi\n",
    "    from pandas import DataFrame\n",
    "       \n",
    "    return DataFrame({'r': r_values, 'V': [(4/3)*pi*(x**3) for x in r_values]})"
   ]
  },
  {
   "cell_type": "code",
   "execution_count": 8,
   "metadata": {
    "ExecuteTime": {
     "end_time": "2020-09-01T04:50:23.442587Z",
     "start_time": "2020-09-01T04:50:22.974413Z"
    },
    "colab": {},
    "colab_type": "code",
    "id": "pMCr3l8tnu0j"
   },
   "outputs": [
    {
     "data": {
      "text/html": [
       "<div>\n",
       "<style scoped>\n",
       "    .dataframe tbody tr th:only-of-type {\n",
       "        vertical-align: middle;\n",
       "    }\n",
       "\n",
       "    .dataframe tbody tr th {\n",
       "        vertical-align: top;\n",
       "    }\n",
       "\n",
       "    .dataframe thead th {\n",
       "        text-align: right;\n",
       "    }\n",
       "</style>\n",
       "<table border=\"1\" class=\"dataframe\">\n",
       "  <thead>\n",
       "    <tr style=\"text-align: right;\">\n",
       "      <th></th>\n",
       "      <th>r</th>\n",
       "      <th>V</th>\n",
       "    </tr>\n",
       "  </thead>\n",
       "  <tbody>\n",
       "    <tr>\n",
       "      <th>0</th>\n",
       "      <td>1</td>\n",
       "      <td>4.188790</td>\n",
       "    </tr>\n",
       "    <tr>\n",
       "      <th>1</th>\n",
       "      <td>2</td>\n",
       "      <td>33.510322</td>\n",
       "    </tr>\n",
       "    <tr>\n",
       "      <th>2</th>\n",
       "      <td>3</td>\n",
       "      <td>113.097336</td>\n",
       "    </tr>\n",
       "    <tr>\n",
       "      <th>3</th>\n",
       "      <td>4</td>\n",
       "      <td>268.082573</td>\n",
       "    </tr>\n",
       "    <tr>\n",
       "      <th>4</th>\n",
       "      <td>5</td>\n",
       "      <td>523.598776</td>\n",
       "    </tr>\n",
       "    <tr>\n",
       "      <th>5</th>\n",
       "      <td>6</td>\n",
       "      <td>904.778684</td>\n",
       "    </tr>\n",
       "    <tr>\n",
       "      <th>6</th>\n",
       "      <td>7</td>\n",
       "      <td>1436.755040</td>\n",
       "    </tr>\n",
       "    <tr>\n",
       "      <th>7</th>\n",
       "      <td>8</td>\n",
       "      <td>2144.660585</td>\n",
       "    </tr>\n",
       "    <tr>\n",
       "      <th>8</th>\n",
       "      <td>9</td>\n",
       "      <td>3053.628059</td>\n",
       "    </tr>\n",
       "    <tr>\n",
       "      <th>9</th>\n",
       "      <td>10</td>\n",
       "      <td>4188.790205</td>\n",
       "    </tr>\n",
       "  </tbody>\n",
       "</table>\n",
       "</div>"
      ],
      "text/plain": [
       "    r            V\n",
       "0   1     4.188790\n",
       "1   2    33.510322\n",
       "2   3   113.097336\n",
       "3   4   268.082573\n",
       "4   5   523.598776\n",
       "5   6   904.778684\n",
       "6   7  1436.755040\n",
       "7   8  2144.660585\n",
       "8   9  3053.628059\n",
       "9  10  4188.790205"
      ]
     },
     "execution_count": 8,
     "metadata": {},
     "output_type": "execute_result"
    }
   ],
   "source": [
    "volume()"
   ]
  },
  {
   "cell_type": "markdown",
   "metadata": {
    "colab_type": "text",
    "id": "z3tBE7E-Xn5X"
   },
   "source": [
    "# Question 4\n",
    "\n",
    "(40 points). In the field of Data Science, data is often formatted as a comma-delimited (CSV) file, where each line in a file corresponds to a field's value. Refer to Chapter 9 (p. 106) for more information on comma-delimited files. To answer this question, you will need to download the file [Assignment1_denton_housing.csv](https://github.com/unt-iialab/INFO5731_FALL2020/blob/master/Assignments/Assignment1_denton_housing.csv) included with this assignment. The [file Assignment1_denton_housing.csv](https://github.com/unt-iialab/INFO5731_FALL2020/blob/master/Assignments/Assignment1_denton_housing.csv) contains statistics about housing in the city of Denton from 2008 to 2014. Write a program to implement the following questions.\n",
    "\n",
    "(1) (10 pts) Calculate the difference in the number of Occupied Housing Units from year to year and print it. The difference must be calculated for the consecutive years such as 2008-2009, 2009-2010 etc. Finally, print the values in the ascending order.\n",
    "\n",
    "(2) (10 pts) For all the years, calculate the percentage of housing units which are vacant and occupied. Print the results in the following format:\n",
    "\n",
    "Year Vacant Housing Units Occupied Housing Units\n",
    "\n",
    "    2008  30%   70%                          \n",
    "\t2009 ----- -----\n",
    "\t2010 ----- -----\n",
    "    2011 ----- -----\n",
    "\t2012 ----- -----\n",
    "    2013 ----- -----\n",
    "\t2014 ----- -----\n",
    "  \n",
    "  \n",
    "\n",
    "(3) (10 pts) Calculate and print the value and years in which the highest number of housing units were vacant and occupied. Print the results in the following format:  \n",
    "\n",
    "                              Year\tValue\n",
    "\tVacant Housing Units\t  -----   -----\n",
    "\tOccupied Housing Units\t-----   -----\n",
    "\n",
    "(4) (10 pts) Calculate the harmonic mean of the total housing units and print it out. You can find the information about harmonic mean here: https://ncalculators.com/statistics/harmonic-mean-calculator.htm"
   ]
  },
  {
   "cell_type": "code",
   "execution_count": 9,
   "metadata": {
    "ExecuteTime": {
     "end_time": "2020-09-01T04:50:23.711499Z",
     "start_time": "2020-09-01T04:50:23.445511Z"
    },
    "colab": {},
    "colab_type": "code",
    "id": "lqGYuHBhcsRH"
   },
   "outputs": [],
   "source": [
    "# Your code here\n",
    "import pandas as pd\n",
    "import numpy as np\n",
    "\n",
    "df = pd.read_csv('https://raw.githubusercontent.com/unt-iialab/INFO5731_FALL2020/master/Assignments/Assignment1_denton_housing.csv')"
   ]
  },
  {
   "cell_type": "code",
   "execution_count": 10,
   "metadata": {
    "ExecuteTime": {
     "end_time": "2020-09-01T04:50:23.727103Z",
     "start_time": "2020-09-01T04:50:23.714422Z"
    }
   },
   "outputs": [
    {
     "data": {
      "text/html": [
       "<div>\n",
       "<style scoped>\n",
       "    .dataframe tbody tr th:only-of-type {\n",
       "        vertical-align: middle;\n",
       "    }\n",
       "\n",
       "    .dataframe tbody tr th {\n",
       "        vertical-align: top;\n",
       "    }\n",
       "\n",
       "    .dataframe thead th {\n",
       "        text-align: right;\n",
       "    }\n",
       "</style>\n",
       "<table border=\"1\" class=\"dataframe\">\n",
       "  <thead>\n",
       "    <tr style=\"text-align: right;\">\n",
       "      <th></th>\n",
       "      <th>year</th>\n",
       "      <th>title_field</th>\n",
       "      <th>value</th>\n",
       "    </tr>\n",
       "  </thead>\n",
       "  <tbody>\n",
       "    <tr>\n",
       "      <th>0</th>\n",
       "      <td>2014</td>\n",
       "      <td>Total Housing Units</td>\n",
       "      <td>49109</td>\n",
       "    </tr>\n",
       "    <tr>\n",
       "      <th>1</th>\n",
       "      <td>2014</td>\n",
       "      <td>Vacant Housing Units</td>\n",
       "      <td>2814</td>\n",
       "    </tr>\n",
       "    <tr>\n",
       "      <th>2</th>\n",
       "      <td>2014</td>\n",
       "      <td>Occupied Housing Units</td>\n",
       "      <td>46295</td>\n",
       "    </tr>\n",
       "    <tr>\n",
       "      <th>3</th>\n",
       "      <td>2013</td>\n",
       "      <td>Total Housing Units</td>\n",
       "      <td>47888</td>\n",
       "    </tr>\n",
       "    <tr>\n",
       "      <th>4</th>\n",
       "      <td>2013</td>\n",
       "      <td>Vacant Housing Units</td>\n",
       "      <td>4215</td>\n",
       "    </tr>\n",
       "  </tbody>\n",
       "</table>\n",
       "</div>"
      ],
      "text/plain": [
       "   year             title_field  value\n",
       "0  2014     Total Housing Units  49109\n",
       "1  2014    Vacant Housing Units   2814\n",
       "2  2014  Occupied Housing Units  46295\n",
       "3  2013     Total Housing Units  47888\n",
       "4  2013    Vacant Housing Units   4215"
      ]
     },
     "execution_count": 10,
     "metadata": {},
     "output_type": "execute_result"
    }
   ],
   "source": [
    "df.head()"
   ]
  },
  {
   "cell_type": "code",
   "execution_count": 11,
   "metadata": {
    "ExecuteTime": {
     "end_time": "2020-09-01T04:50:23.753438Z",
     "start_time": "2020-09-01T04:50:23.731003Z"
    }
   },
   "outputs": [
    {
     "data": {
      "text/html": [
       "<div>\n",
       "<style scoped>\n",
       "    .dataframe tbody tr th:only-of-type {\n",
       "        vertical-align: middle;\n",
       "    }\n",
       "\n",
       "    .dataframe tbody tr th {\n",
       "        vertical-align: top;\n",
       "    }\n",
       "\n",
       "    .dataframe thead th {\n",
       "        text-align: right;\n",
       "    }\n",
       "</style>\n",
       "<table border=\"1\" class=\"dataframe\">\n",
       "  <thead>\n",
       "    <tr style=\"text-align: right;\">\n",
       "      <th></th>\n",
       "      <th>year</th>\n",
       "      <th>title_field</th>\n",
       "      <th>value</th>\n",
       "    </tr>\n",
       "  </thead>\n",
       "  <tbody>\n",
       "    <tr>\n",
       "      <th>37</th>\n",
       "      <td>2012</td>\n",
       "      <td>Median Gross Rent</td>\n",
       "      <td>842</td>\n",
       "    </tr>\n",
       "    <tr>\n",
       "      <th>38</th>\n",
       "      <td>2011</td>\n",
       "      <td>Median Gross Rent</td>\n",
       "      <td>821</td>\n",
       "    </tr>\n",
       "    <tr>\n",
       "      <th>39</th>\n",
       "      <td>2010</td>\n",
       "      <td>Median Gross Rent</td>\n",
       "      <td>780</td>\n",
       "    </tr>\n",
       "    <tr>\n",
       "      <th>40</th>\n",
       "      <td>2009</td>\n",
       "      <td>Median Gross Rent</td>\n",
       "      <td>769</td>\n",
       "    </tr>\n",
       "    <tr>\n",
       "      <th>41</th>\n",
       "      <td>2008</td>\n",
       "      <td>Median Gross Rent</td>\n",
       "      <td>768</td>\n",
       "    </tr>\n",
       "  </tbody>\n",
       "</table>\n",
       "</div>"
      ],
      "text/plain": [
       "    year        title_field  value\n",
       "37  2012  Median Gross Rent    842\n",
       "38  2011  Median Gross Rent    821\n",
       "39  2010  Median Gross Rent    780\n",
       "40  2009  Median Gross Rent    769\n",
       "41  2008  Median Gross Rent    768"
      ]
     },
     "execution_count": 11,
     "metadata": {},
     "output_type": "execute_result"
    }
   ],
   "source": [
    "df.tail()"
   ]
  },
  {
   "cell_type": "markdown",
   "metadata": {},
   "source": [
    "## Part A"
   ]
  },
  {
   "cell_type": "code",
   "execution_count": 12,
   "metadata": {
    "ExecuteTime": {
     "end_time": "2020-09-01T04:50:23.776848Z",
     "start_time": "2020-09-01T04:50:23.758313Z"
    }
   },
   "outputs": [],
   "source": [
    "import numpy as np"
   ]
  },
  {
   "cell_type": "code",
   "execution_count": 13,
   "metadata": {
    "ExecuteTime": {
     "end_time": "2020-09-01T04:50:23.799294Z",
     "start_time": "2020-09-01T04:50:23.780746Z"
    }
   },
   "outputs": [],
   "source": [
    "df_occupied = df[df['title_field'] == 'Occupied Housing Units'].reset_index(drop=True)"
   ]
  },
  {
   "cell_type": "code",
   "execution_count": 14,
   "metadata": {
    "ExecuteTime": {
     "end_time": "2020-09-01T04:50:23.818785Z",
     "start_time": "2020-09-01T04:50:23.803181Z"
    }
   },
   "outputs": [],
   "source": [
    "df_occupied.sort_values('year', inplace=True)"
   ]
  },
  {
   "cell_type": "code",
   "execution_count": 15,
   "metadata": {
    "ExecuteTime": {
     "end_time": "2020-09-01T04:50:23.850008Z",
     "start_time": "2020-09-01T04:50:23.822688Z"
    }
   },
   "outputs": [
    {
     "data": {
      "text/html": [
       "<div>\n",
       "<style scoped>\n",
       "    .dataframe tbody tr th:only-of-type {\n",
       "        vertical-align: middle;\n",
       "    }\n",
       "\n",
       "    .dataframe tbody tr th {\n",
       "        vertical-align: top;\n",
       "    }\n",
       "\n",
       "    .dataframe thead th {\n",
       "        text-align: right;\n",
       "    }\n",
       "</style>\n",
       "<table border=\"1\" class=\"dataframe\">\n",
       "  <thead>\n",
       "    <tr style=\"text-align: right;\">\n",
       "      <th></th>\n",
       "      <th>year</th>\n",
       "      <th>title_field</th>\n",
       "      <th>value</th>\n",
       "    </tr>\n",
       "  </thead>\n",
       "  <tbody>\n",
       "    <tr>\n",
       "      <th>6</th>\n",
       "      <td>2008</td>\n",
       "      <td>Occupied Housing Units</td>\n",
       "      <td>36711</td>\n",
       "    </tr>\n",
       "    <tr>\n",
       "      <th>5</th>\n",
       "      <td>2009</td>\n",
       "      <td>Occupied Housing Units</td>\n",
       "      <td>35916</td>\n",
       "    </tr>\n",
       "    <tr>\n",
       "      <th>4</th>\n",
       "      <td>2010</td>\n",
       "      <td>Occupied Housing Units</td>\n",
       "      <td>41007</td>\n",
       "    </tr>\n",
       "    <tr>\n",
       "      <th>3</th>\n",
       "      <td>2011</td>\n",
       "      <td>Occupied Housing Units</td>\n",
       "      <td>40704</td>\n",
       "    </tr>\n",
       "    <tr>\n",
       "      <th>2</th>\n",
       "      <td>2012</td>\n",
       "      <td>Occupied Housing Units</td>\n",
       "      <td>42108</td>\n",
       "    </tr>\n",
       "    <tr>\n",
       "      <th>1</th>\n",
       "      <td>2013</td>\n",
       "      <td>Occupied Housing Units</td>\n",
       "      <td>43673</td>\n",
       "    </tr>\n",
       "    <tr>\n",
       "      <th>0</th>\n",
       "      <td>2014</td>\n",
       "      <td>Occupied Housing Units</td>\n",
       "      <td>46295</td>\n",
       "    </tr>\n",
       "  </tbody>\n",
       "</table>\n",
       "</div>"
      ],
      "text/plain": [
       "   year             title_field  value\n",
       "6  2008  Occupied Housing Units  36711\n",
       "5  2009  Occupied Housing Units  35916\n",
       "4  2010  Occupied Housing Units  41007\n",
       "3  2011  Occupied Housing Units  40704\n",
       "2  2012  Occupied Housing Units  42108\n",
       "1  2013  Occupied Housing Units  43673\n",
       "0  2014  Occupied Housing Units  46295"
      ]
     },
     "execution_count": 15,
     "metadata": {},
     "output_type": "execute_result"
    }
   ],
   "source": [
    "df_occupied"
   ]
  },
  {
   "cell_type": "code",
   "execution_count": 16,
   "metadata": {
    "ExecuteTime": {
     "end_time": "2020-09-01T04:50:23.873522Z",
     "start_time": "2020-09-01T04:50:23.855851Z"
    }
   },
   "outputs": [],
   "source": [
    "df_occupied['difference'] = df_occupied['value'].diff()"
   ]
  },
  {
   "cell_type": "code",
   "execution_count": 17,
   "metadata": {
    "ExecuteTime": {
     "end_time": "2020-09-01T04:50:23.897898Z",
     "start_time": "2020-09-01T04:50:23.876440Z"
    }
   },
   "outputs": [
    {
     "data": {
      "text/html": [
       "<div>\n",
       "<style scoped>\n",
       "    .dataframe tbody tr th:only-of-type {\n",
       "        vertical-align: middle;\n",
       "    }\n",
       "\n",
       "    .dataframe tbody tr th {\n",
       "        vertical-align: top;\n",
       "    }\n",
       "\n",
       "    .dataframe thead th {\n",
       "        text-align: right;\n",
       "    }\n",
       "</style>\n",
       "<table border=\"1\" class=\"dataframe\">\n",
       "  <thead>\n",
       "    <tr style=\"text-align: right;\">\n",
       "      <th></th>\n",
       "      <th>year</th>\n",
       "      <th>title_field</th>\n",
       "      <th>value</th>\n",
       "      <th>difference</th>\n",
       "    </tr>\n",
       "  </thead>\n",
       "  <tbody>\n",
       "    <tr>\n",
       "      <th>6</th>\n",
       "      <td>2008</td>\n",
       "      <td>Occupied Housing Units</td>\n",
       "      <td>36711</td>\n",
       "      <td>NaN</td>\n",
       "    </tr>\n",
       "    <tr>\n",
       "      <th>5</th>\n",
       "      <td>2009</td>\n",
       "      <td>Occupied Housing Units</td>\n",
       "      <td>35916</td>\n",
       "      <td>-795.0</td>\n",
       "    </tr>\n",
       "    <tr>\n",
       "      <th>4</th>\n",
       "      <td>2010</td>\n",
       "      <td>Occupied Housing Units</td>\n",
       "      <td>41007</td>\n",
       "      <td>5091.0</td>\n",
       "    </tr>\n",
       "    <tr>\n",
       "      <th>3</th>\n",
       "      <td>2011</td>\n",
       "      <td>Occupied Housing Units</td>\n",
       "      <td>40704</td>\n",
       "      <td>-303.0</td>\n",
       "    </tr>\n",
       "    <tr>\n",
       "      <th>2</th>\n",
       "      <td>2012</td>\n",
       "      <td>Occupied Housing Units</td>\n",
       "      <td>42108</td>\n",
       "      <td>1404.0</td>\n",
       "    </tr>\n",
       "    <tr>\n",
       "      <th>1</th>\n",
       "      <td>2013</td>\n",
       "      <td>Occupied Housing Units</td>\n",
       "      <td>43673</td>\n",
       "      <td>1565.0</td>\n",
       "    </tr>\n",
       "    <tr>\n",
       "      <th>0</th>\n",
       "      <td>2014</td>\n",
       "      <td>Occupied Housing Units</td>\n",
       "      <td>46295</td>\n",
       "      <td>2622.0</td>\n",
       "    </tr>\n",
       "  </tbody>\n",
       "</table>\n",
       "</div>"
      ],
      "text/plain": [
       "   year             title_field  value  difference\n",
       "6  2008  Occupied Housing Units  36711         NaN\n",
       "5  2009  Occupied Housing Units  35916      -795.0\n",
       "4  2010  Occupied Housing Units  41007      5091.0\n",
       "3  2011  Occupied Housing Units  40704      -303.0\n",
       "2  2012  Occupied Housing Units  42108      1404.0\n",
       "1  2013  Occupied Housing Units  43673      1565.0\n",
       "0  2014  Occupied Housing Units  46295      2622.0"
      ]
     },
     "execution_count": 17,
     "metadata": {},
     "output_type": "execute_result"
    }
   ],
   "source": [
    "df_occupied"
   ]
  },
  {
   "cell_type": "code",
   "execution_count": 18,
   "metadata": {
    "ExecuteTime": {
     "end_time": "2020-09-01T04:50:23.917408Z",
     "start_time": "2020-09-01T04:50:23.900824Z"
    }
   },
   "outputs": [
    {
     "name": "stdout",
     "output_type": "stream",
     "text": [
      "0    5091.0\n",
      "1    2622.0\n",
      "2    1565.0\n",
      "3    1404.0\n",
      "4    -303.0\n",
      "5    -795.0\n",
      "6       NaN\n",
      "Name: difference, dtype: float64\n"
     ]
    }
   ],
   "source": [
    "print(df_occupied['difference'].sort_values(ascending=False).reset_index(drop=True))"
   ]
  },
  {
   "cell_type": "markdown",
   "metadata": {},
   "source": [
    "## Part B"
   ]
  },
  {
   "cell_type": "code",
   "execution_count": 19,
   "metadata": {
    "ExecuteTime": {
     "end_time": "2020-09-01T04:50:23.935938Z",
     "start_time": "2020-09-01T04:50:23.920332Z"
    }
   },
   "outputs": [],
   "source": [
    "years = df['year'].values"
   ]
  },
  {
   "cell_type": "code",
   "execution_count": 20,
   "metadata": {
    "ExecuteTime": {
     "end_time": "2020-09-01T04:50:23.957395Z",
     "start_time": "2020-09-01T04:50:23.939838Z"
    }
   },
   "outputs": [],
   "source": [
    "years = np.unique(years)"
   ]
  },
  {
   "cell_type": "code",
   "execution_count": 21,
   "metadata": {
    "ExecuteTime": {
     "end_time": "2020-09-01T04:50:23.979830Z",
     "start_time": "2020-09-01T04:50:23.964222Z"
    }
   },
   "outputs": [
    {
     "data": {
      "text/plain": [
       "array([2008, 2009, 2010, 2011, 2012, 2013, 2014])"
      ]
     },
     "execution_count": 21,
     "metadata": {},
     "output_type": "execute_result"
    }
   ],
   "source": [
    "years"
   ]
  },
  {
   "cell_type": "code",
   "execution_count": 22,
   "metadata": {
    "ExecuteTime": {
     "end_time": "2020-09-01T04:50:24.033472Z",
     "start_time": "2020-09-01T04:50:23.984706Z"
    }
   },
   "outputs": [],
   "source": [
    "df_percent = pd.DataFrame({'year': [x for x in years],\n",
    "                           'total': [df['value'][(df['year'] == x) & (df['title_field'] == 'Total Housing Units')].values[0] for x in years],\n",
    "                           'occupied': [df['value'][(df['year'] == x) & (df['title_field'] == 'Occupied Housing Units')].values[0] for x in years],\n",
    "                           'vacant': [df['value'][(df['year'] == x) & (df['title_field'] == 'Vacant Housing Units')].values[0] for x in years]})"
   ]
  },
  {
   "cell_type": "code",
   "execution_count": 23,
   "metadata": {
    "ExecuteTime": {
     "end_time": "2020-09-01T04:50:24.068586Z",
     "start_time": "2020-09-01T04:50:24.047128Z"
    }
   },
   "outputs": [],
   "source": [
    "df_percent['occ_perc'] = round((df_percent['occupied']/df_percent['total'])*100,2)"
   ]
  },
  {
   "cell_type": "code",
   "execution_count": 24,
   "metadata": {
    "ExecuteTime": {
     "end_time": "2020-09-01T04:50:24.079316Z",
     "start_time": "2020-09-01T04:50:24.073463Z"
    }
   },
   "outputs": [],
   "source": [
    "df_percent['vac_perc'] = round((df_percent['vacant']/df_percent['total'])*100,2)"
   ]
  },
  {
   "cell_type": "code",
   "execution_count": 25,
   "metadata": {
    "ExecuteTime": {
     "end_time": "2020-09-01T04:50:24.112477Z",
     "start_time": "2020-09-01T04:50:24.083218Z"
    }
   },
   "outputs": [
    {
     "data": {
      "text/html": [
       "<div>\n",
       "<style scoped>\n",
       "    .dataframe tbody tr th:only-of-type {\n",
       "        vertical-align: middle;\n",
       "    }\n",
       "\n",
       "    .dataframe tbody tr th {\n",
       "        vertical-align: top;\n",
       "    }\n",
       "\n",
       "    .dataframe thead th {\n",
       "        text-align: right;\n",
       "    }\n",
       "</style>\n",
       "<table border=\"1\" class=\"dataframe\">\n",
       "  <thead>\n",
       "    <tr style=\"text-align: right;\">\n",
       "      <th></th>\n",
       "      <th>year</th>\n",
       "      <th>total</th>\n",
       "      <th>occupied</th>\n",
       "      <th>vacant</th>\n",
       "      <th>occ_perc</th>\n",
       "      <th>vac_perc</th>\n",
       "    </tr>\n",
       "  </thead>\n",
       "  <tbody>\n",
       "    <tr>\n",
       "      <th>0</th>\n",
       "      <td>2008</td>\n",
       "      <td>41194</td>\n",
       "      <td>36711</td>\n",
       "      <td>4483</td>\n",
       "      <td>89.12</td>\n",
       "      <td>10.88</td>\n",
       "    </tr>\n",
       "    <tr>\n",
       "      <th>1</th>\n",
       "      <td>2009</td>\n",
       "      <td>39499</td>\n",
       "      <td>35916</td>\n",
       "      <td>3583</td>\n",
       "      <td>90.93</td>\n",
       "      <td>9.07</td>\n",
       "    </tr>\n",
       "    <tr>\n",
       "      <th>2</th>\n",
       "      <td>2010</td>\n",
       "      <td>44642</td>\n",
       "      <td>41007</td>\n",
       "      <td>3635</td>\n",
       "      <td>91.86</td>\n",
       "      <td>8.14</td>\n",
       "    </tr>\n",
       "    <tr>\n",
       "      <th>3</th>\n",
       "      <td>2011</td>\n",
       "      <td>44917</td>\n",
       "      <td>40704</td>\n",
       "      <td>4213</td>\n",
       "      <td>90.62</td>\n",
       "      <td>9.38</td>\n",
       "    </tr>\n",
       "    <tr>\n",
       "      <th>4</th>\n",
       "      <td>2012</td>\n",
       "      <td>45121</td>\n",
       "      <td>42108</td>\n",
       "      <td>3013</td>\n",
       "      <td>93.32</td>\n",
       "      <td>6.68</td>\n",
       "    </tr>\n",
       "    <tr>\n",
       "      <th>5</th>\n",
       "      <td>2013</td>\n",
       "      <td>47888</td>\n",
       "      <td>43673</td>\n",
       "      <td>4215</td>\n",
       "      <td>91.20</td>\n",
       "      <td>8.80</td>\n",
       "    </tr>\n",
       "    <tr>\n",
       "      <th>6</th>\n",
       "      <td>2014</td>\n",
       "      <td>49109</td>\n",
       "      <td>46295</td>\n",
       "      <td>2814</td>\n",
       "      <td>94.27</td>\n",
       "      <td>5.73</td>\n",
       "    </tr>\n",
       "  </tbody>\n",
       "</table>\n",
       "</div>"
      ],
      "text/plain": [
       "   year  total  occupied  vacant  occ_perc  vac_perc\n",
       "0  2008  41194     36711    4483     89.12     10.88\n",
       "1  2009  39499     35916    3583     90.93      9.07\n",
       "2  2010  44642     41007    3635     91.86      8.14\n",
       "3  2011  44917     40704    4213     90.62      9.38\n",
       "4  2012  45121     42108    3013     93.32      6.68\n",
       "5  2013  47888     43673    4215     91.20      8.80\n",
       "6  2014  49109     46295    2814     94.27      5.73"
      ]
     },
     "execution_count": 25,
     "metadata": {},
     "output_type": "execute_result"
    }
   ],
   "source": [
    "df_percent"
   ]
  },
  {
   "cell_type": "code",
   "execution_count": 26,
   "metadata": {
    "ExecuteTime": {
     "end_time": "2020-09-01T04:50:24.141738Z",
     "start_time": "2020-09-01T04:50:24.116378Z"
    }
   },
   "outputs": [
    {
     "name": "stdout",
     "output_type": "stream",
     "text": [
      "   year  occ_perc  vac_perc\n",
      "0  2008     89.12     10.88\n",
      "1  2009     90.93      9.07\n",
      "2  2010     91.86      8.14\n",
      "3  2011     90.62      9.38\n",
      "4  2012     93.32      6.68\n",
      "5  2013     91.20      8.80\n",
      "6  2014     94.27      5.73\n"
     ]
    }
   ],
   "source": [
    "print(df_percent[['year', 'occ_perc', 'vac_perc']])"
   ]
  },
  {
   "cell_type": "code",
   "execution_count": 27,
   "metadata": {
    "ExecuteTime": {
     "end_time": "2020-09-01T04:50:24.170023Z",
     "start_time": "2020-09-01T04:50:24.144666Z"
    }
   },
   "outputs": [],
   "source": [
    "df_percent['occ_perc'] = [str(x) + '%' for x in df_percent['occ_perc']]\n",
    "df_percent['vac_perc'] = [str(x) + '%' for x in df_percent['vac_perc']]"
   ]
  },
  {
   "cell_type": "code",
   "execution_count": 28,
   "metadata": {
    "ExecuteTime": {
     "end_time": "2020-09-01T04:50:24.199284Z",
     "start_time": "2020-09-01T04:50:24.181730Z"
    }
   },
   "outputs": [
    {
     "data": {
      "text/html": [
       "<div>\n",
       "<style scoped>\n",
       "    .dataframe tbody tr th:only-of-type {\n",
       "        vertical-align: middle;\n",
       "    }\n",
       "\n",
       "    .dataframe tbody tr th {\n",
       "        vertical-align: top;\n",
       "    }\n",
       "\n",
       "    .dataframe thead th {\n",
       "        text-align: right;\n",
       "    }\n",
       "</style>\n",
       "<table border=\"1\" class=\"dataframe\">\n",
       "  <thead>\n",
       "    <tr style=\"text-align: right;\">\n",
       "      <th></th>\n",
       "      <th>year</th>\n",
       "      <th>total</th>\n",
       "      <th>occupied</th>\n",
       "      <th>vacant</th>\n",
       "      <th>occ_perc</th>\n",
       "      <th>vac_perc</th>\n",
       "    </tr>\n",
       "  </thead>\n",
       "  <tbody>\n",
       "    <tr>\n",
       "      <th>0</th>\n",
       "      <td>2008</td>\n",
       "      <td>41194</td>\n",
       "      <td>36711</td>\n",
       "      <td>4483</td>\n",
       "      <td>89.12%</td>\n",
       "      <td>10.88%</td>\n",
       "    </tr>\n",
       "    <tr>\n",
       "      <th>1</th>\n",
       "      <td>2009</td>\n",
       "      <td>39499</td>\n",
       "      <td>35916</td>\n",
       "      <td>3583</td>\n",
       "      <td>90.93%</td>\n",
       "      <td>9.07%</td>\n",
       "    </tr>\n",
       "    <tr>\n",
       "      <th>2</th>\n",
       "      <td>2010</td>\n",
       "      <td>44642</td>\n",
       "      <td>41007</td>\n",
       "      <td>3635</td>\n",
       "      <td>91.86%</td>\n",
       "      <td>8.14%</td>\n",
       "    </tr>\n",
       "    <tr>\n",
       "      <th>3</th>\n",
       "      <td>2011</td>\n",
       "      <td>44917</td>\n",
       "      <td>40704</td>\n",
       "      <td>4213</td>\n",
       "      <td>90.62%</td>\n",
       "      <td>9.38%</td>\n",
       "    </tr>\n",
       "    <tr>\n",
       "      <th>4</th>\n",
       "      <td>2012</td>\n",
       "      <td>45121</td>\n",
       "      <td>42108</td>\n",
       "      <td>3013</td>\n",
       "      <td>93.32%</td>\n",
       "      <td>6.68%</td>\n",
       "    </tr>\n",
       "    <tr>\n",
       "      <th>5</th>\n",
       "      <td>2013</td>\n",
       "      <td>47888</td>\n",
       "      <td>43673</td>\n",
       "      <td>4215</td>\n",
       "      <td>91.2%</td>\n",
       "      <td>8.8%</td>\n",
       "    </tr>\n",
       "    <tr>\n",
       "      <th>6</th>\n",
       "      <td>2014</td>\n",
       "      <td>49109</td>\n",
       "      <td>46295</td>\n",
       "      <td>2814</td>\n",
       "      <td>94.27%</td>\n",
       "      <td>5.73%</td>\n",
       "    </tr>\n",
       "  </tbody>\n",
       "</table>\n",
       "</div>"
      ],
      "text/plain": [
       "   year  total  occupied  vacant occ_perc vac_perc\n",
       "0  2008  41194     36711    4483   89.12%   10.88%\n",
       "1  2009  39499     35916    3583   90.93%    9.07%\n",
       "2  2010  44642     41007    3635   91.86%    8.14%\n",
       "3  2011  44917     40704    4213   90.62%    9.38%\n",
       "4  2012  45121     42108    3013   93.32%    6.68%\n",
       "5  2013  47888     43673    4215    91.2%     8.8%\n",
       "6  2014  49109     46295    2814   94.27%    5.73%"
      ]
     },
     "execution_count": 28,
     "metadata": {},
     "output_type": "execute_result"
    }
   ],
   "source": [
    "df_percent"
   ]
  },
  {
   "cell_type": "code",
   "execution_count": 29,
   "metadata": {
    "ExecuteTime": {
     "end_time": "2020-09-01T04:50:24.226595Z",
     "start_time": "2020-09-01T04:50:24.202210Z"
    }
   },
   "outputs": [
    {
     "name": "stdout",
     "output_type": "stream",
     "text": [
      "   year occ_perc vac_perc\n",
      "0  2008   89.12%   10.88%\n",
      "1  2009   90.93%    9.07%\n",
      "2  2010   91.86%    8.14%\n",
      "3  2011   90.62%    9.38%\n",
      "4  2012   93.32%    6.68%\n",
      "5  2013    91.2%     8.8%\n",
      "6  2014   94.27%    5.73%\n"
     ]
    }
   ],
   "source": [
    "print(df_percent[['year', 'occ_perc', 'vac_perc']])"
   ]
  },
  {
   "cell_type": "markdown",
   "metadata": {},
   "source": [
    "## Part C"
   ]
  },
  {
   "cell_type": "code",
   "execution_count": 30,
   "metadata": {
    "ExecuteTime": {
     "end_time": "2020-09-01T04:50:24.246102Z",
     "start_time": "2020-09-01T04:50:24.229521Z"
    }
   },
   "outputs": [],
   "source": [
    "vacant_max = df['value'][df['title_field'] == 'Vacant Housing Units'].values.max()\n",
    "occupied_max = df['value'][df['title_field'] == 'Occupied Housing Units'].values.max()"
   ]
  },
  {
   "cell_type": "code",
   "execution_count": 31,
   "metadata": {
    "ExecuteTime": {
     "end_time": "2020-09-01T04:50:24.266585Z",
     "start_time": "2020-09-01T04:50:24.248053Z"
    }
   },
   "outputs": [
    {
     "name": "stdout",
     "output_type": "stream",
     "text": [
      "\t\t \tYear \tValue\n",
      "Vacant Housing Units\t 2008 \t4483\n",
      "Occupied Housing Units\t 2014 \t46295\n"
     ]
    }
   ],
   "source": [
    "print('\\t'*2, '\\tYear', '\\tValue')\n",
    "print('Vacant Housing Units\\t', df['year'][(df['title_field'] == 'Vacant Housing Units') & (df['value'] == vacant_max)].values[0], '\\t'+str(vacant_max))\n",
    "print('Occupied Housing Units\\t', df['year'][(df['title_field'] == 'Occupied Housing Units') & (df['value'] == occupied_max)].values[0], '\\t'+str(occupied_max))"
   ]
  },
  {
   "cell_type": "markdown",
   "metadata": {},
   "source": [
    "## Part D"
   ]
  },
  {
   "cell_type": "code",
   "execution_count": 32,
   "metadata": {
    "ExecuteTime": {
     "end_time": "2020-09-01T04:50:24.284141Z",
     "start_time": "2020-09-01T04:50:24.269510Z"
    }
   },
   "outputs": [],
   "source": [
    "def harmonic_mean(x):\n",
    "    n = len(x)\n",
    "    sum = 0\n",
    "    for i in x:\n",
    "        sum += 1/i\n",
    "    return n/sum"
   ]
  },
  {
   "cell_type": "code",
   "execution_count": 33,
   "metadata": {
    "ExecuteTime": {
     "end_time": "2020-09-01T04:50:24.303649Z",
     "start_time": "2020-09-01T04:50:24.288043Z"
    }
   },
   "outputs": [
    {
     "name": "stdout",
     "output_type": "stream",
     "text": [
      "Harmonic Mean of Total Housing Units: 44398.28543969185\n"
     ]
    }
   ],
   "source": [
    "print('Harmonic Mean of Total Housing Units:', \n",
    "      harmonic_mean(df['value'][df['title_field'] == 'Total Housing Units'].values))"
   ]
  }
 ],
 "metadata": {
  "colab": {
   "collapsed_sections": [],
   "include_colab_link": true,
   "name": "INFO5731_Assignment_One.ipynb",
   "provenance": []
  },
  "hide_input": false,
  "kernelspec": {
   "display_name": "Python 3",
   "language": "python",
   "name": "python3"
  },
  "language_info": {
   "codemirror_mode": {
    "name": "ipython",
    "version": 3
   },
   "file_extension": ".py",
   "mimetype": "text/x-python",
   "name": "python",
   "nbconvert_exporter": "python",
   "pygments_lexer": "ipython3",
   "version": "3.7.1"
  },
  "toc": {
   "base_numbering": 1,
   "nav_menu": {},
   "number_sections": true,
   "sideBar": true,
   "skip_h1_title": false,
   "title_cell": "Table of Contents",
   "title_sidebar": "Contents",
   "toc_cell": false,
   "toc_position": {
    "height": "calc(100% - 180px)",
    "left": "10px",
    "top": "150px",
    "width": "294.4px"
   },
   "toc_section_display": true,
   "toc_window_display": true
  },
  "varInspector": {
   "cols": {
    "lenName": 16,
    "lenType": 16,
    "lenVar": 40
   },
   "kernels_config": {
    "python": {
     "delete_cmd_postfix": "",
     "delete_cmd_prefix": "del ",
     "library": "var_list.py",
     "varRefreshCmd": "print(var_dic_list())"
    },
    "r": {
     "delete_cmd_postfix": ") ",
     "delete_cmd_prefix": "rm(",
     "library": "var_list.r",
     "varRefreshCmd": "cat(var_dic_list()) "
    }
   },
   "types_to_exclude": [
    "module",
    "function",
    "builtin_function_or_method",
    "instance",
    "_Feature"
   ],
   "window_display": false
  }
 },
 "nbformat": 4,
 "nbformat_minor": 1
}
