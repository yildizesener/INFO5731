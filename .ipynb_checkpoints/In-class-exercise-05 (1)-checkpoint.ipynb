{
 "cells": [
  {
   "cell_type": "markdown",
   "metadata": {},
   "source": [
    "## The fifth In-class-exercise (9/30/2020, 20 points in total)"
   ]
  },
  {
   "attachments": {
    "image.png": {
     "image/png": "[encoded data removed]"
    }
   },
   "cell_type": "markdown",
   "metadata": {},
   "source": [
    "In exercise-03, I asked you to collected 500 textual data based on your own information needs (If you didn't collect the textual data, you should recollect for this exercise). Now we need to think about how to represent the textual data for text classification. In this exercise, you are required to select 10 types of features (10 types of features but absolutely more than 10 features) in the followings feature list, then represent the 500 texts with these features. The output should be in the following format:\n",
    "![image.png](attachment:image.png)\n",
    "\n",
    "The feature list:\n",
    "\n",
    "* (1) tf-idf features\n",
    "* (2) POS-tag features: number of adjective, adverb, auxiliary, punctuation, complementizer, coordinating conjunction, subordinating conjunction, determiner, interjection, noun, possessor, preposition, pronoun, quantifier, verb, and other. (select some of them if you use pos-tag features)\n",
    "* (3) Linguistic features:\n",
    "  * number of right-branching nodes across all constituent types\n",
    "  * number of right-branching nodes for NPs only\n",
    "  * number of left-branching nodes across all constituent types\n",
    "  * number of left-branching nodes for NPs only\n",
    "  * number of premodifiers across all constituent types\n",
    "  * number of premodifiers within NPs only\n",
    "  * number of postmodifiers across all constituent types\n",
    "  * number of postmodifiers within NPs only\n",
    "  * branching index across all constituent types, i.e. the number of right-branching nodes minus number of left-branching nodes\n",
    "  * branching index for NPs only\n",
    "  * branching weight index: number of tokens covered by right-branching nodes minus number of tokens covered by left-branching nodes across all categories\n",
    "  * branching weight index for NPs only \n",
    "  * modification index, i.e. the number of premodifiers minus the number of postmodifiers across all categories\n",
    "  * modification index for NPs only\n",
    "  * modification weight index: length in tokens of all premodifiers minus length in tokens of all postmodifiers across all categories\n",
    "  * modification weight index for NPs only\n",
    "  * coordination balance, i.e. the maximal length difference in coordinated constituents\n",
    "  \n",
    "  * density (density can be calculated using the ratio of folowing function words to content words) of determiners/quantifiers\n",
    "  * density of pronouns\n",
    "  * density of prepositions\n",
    "  * density of punctuation marks, specifically commas and semicolons\n",
    "  * density of auxiliary verbs\n",
    "  * density of conjunctions\n",
    "  * density of different pronoun types: Wh, 1st, 2nd, and 3rd person pronouns\n",
    "  \n",
    "  * maximal and average NP length\n",
    "  * maximal and average AJP length\n",
    "  * maximal and average PP length\n",
    "  * maximal and average AVP length\n",
    "  * sentence length\n",
    "\n",
    "* Other features in your mind (ie., pre-defined patterns)"
   ]
  },
  {
   "cell_type": "code",
   "execution_count": 1,
   "metadata": {
    "ExecuteTime": {
     "end_time": "2020-10-13T01:01:06.464322Z",
     "start_time": "2020-10-13T01:01:06.436158Z"
    }
   },
   "outputs": [],
   "source": [
    "# Please write your code here"
   ]
  },
  {
   "cell_type": "code",
   "execution_count": 2,
   "metadata": {
    "ExecuteTime": {
     "end_time": "2020-10-13T01:01:14.247190Z",
     "start_time": "2020-10-13T01:01:06.466350Z"
    }
   },
   "outputs": [],
   "source": [
    "from collections import Counter\n",
    "from spacy import displacy\n",
    "import scrapy\n",
    "import pandas as pd\n",
    "import numpy as np\n",
    "from nltk.corpus import stopwords\n",
    "from nltk.stem import PorterStemmer\n",
    "from textblob import Word\n",
    "import spacy\n",
    "import nltk\n",
    "# nltk.download('wordnet') # already downloaded\n",
    "# load spaCy model\n",
    "nlp = spacy.load(\"en_core_web_sm\")\n",
    "pd.set_option('max_colwidth', 60) # adjust column with of dataframe"
   ]
  },
  {
   "cell_type": "markdown",
   "metadata": {},
   "source": [
    "# Import and Clean Data"
   ]
  },
  {
   "cell_type": "code",
   "execution_count": 3,
   "metadata": {
    "ExecuteTime": {
     "end_time": "2020-10-13T01:01:14.294012Z",
     "start_time": "2020-10-13T01:01:14.247190Z"
    }
   },
   "outputs": [
    {
     "data": {
      "text/html": [
       "<div>\n",
       "<style scoped>\n",
       "    .dataframe tbody tr th:only-of-type {\n",
       "        vertical-align: middle;\n",
       "    }\n",
       "\n",
       "    .dataframe tbody tr th {\n",
       "        vertical-align: top;\n",
       "    }\n",
       "\n",
       "    .dataframe thead th {\n",
       "        text-align: right;\n",
       "    }\n",
       "</style>\n",
       "<table border=\"1\" class=\"dataframe\">\n",
       "  <thead>\n",
       "    <tr style=\"text-align: right;\">\n",
       "      <th></th>\n",
       "      <th>rating</th>\n",
       "      <th>reviews</th>\n",
       "    </tr>\n",
       "  </thead>\n",
       "  <tbody>\n",
       "    <tr>\n",
       "      <th>0</th>\n",
       "      <td>1.0 out of 5 stars</td>\n",
       "      <td>['\\n\\n\\n\\n\\n\\n\\n\\n\\n\\n  \\n  \\n    ', '\\n  I purchased th...</td>\n",
       "    </tr>\n",
       "    <tr>\n",
       "      <th>1</th>\n",
       "      <td>1.0 out of 5 stars</td>\n",
       "      <td>['\\n\\n\\n\\n\\n\\n\\n\\n\\n\\n  \\n  \\n    ', \"\\n  The item came ...</td>\n",
       "    </tr>\n",
       "    <tr>\n",
       "      <th>2</th>\n",
       "      <td>1.0 out of 5 stars</td>\n",
       "      <td>['\\n\\n\\n\\n\\n\\n\\n\\n\\n\\n  \\n  \\n    ', '\\n  It has already...</td>\n",
       "    </tr>\n",
       "    <tr>\n",
       "      <th>3</th>\n",
       "      <td>4.0 out of 5 stars</td>\n",
       "      <td>['\\n\\n\\n\\n\\n\\n\\n\\n\\n\\n  \\n  \\n    ', \"\\n  Came in evenin...</td>\n",
       "    </tr>\n",
       "    <tr>\n",
       "      <th>4</th>\n",
       "      <td>2.0 out of 5 stars</td>\n",
       "      <td>['\\n\\n\\n\\n\\n\\n\\n\\n\\n\\n  \\n  \\n    ', '\\n  This laptop wa...</td>\n",
       "    </tr>\n",
       "  </tbody>\n",
       "</table>\n",
       "</div>"
      ],
      "text/plain": [
       "               rating  \\\n",
       "0  1.0 out of 5 stars   \n",
       "1  1.0 out of 5 stars   \n",
       "2  1.0 out of 5 stars   \n",
       "3  4.0 out of 5 stars   \n",
       "4  2.0 out of 5 stars   \n",
       "\n",
       "                                                       reviews  \n",
       "0  ['\\n\\n\\n\\n\\n\\n\\n\\n\\n\\n  \\n  \\n    ', '\\n  I purchased th...  \n",
       "1  ['\\n\\n\\n\\n\\n\\n\\n\\n\\n\\n  \\n  \\n    ', \"\\n  The item came ...  \n",
       "2  ['\\n\\n\\n\\n\\n\\n\\n\\n\\n\\n  \\n  \\n    ', '\\n  It has already...  \n",
       "3  ['\\n\\n\\n\\n\\n\\n\\n\\n\\n\\n  \\n  \\n    ', \"\\n  Came in evenin...  \n",
       "4  ['\\n\\n\\n\\n\\n\\n\\n\\n\\n\\n  \\n  \\n    ', '\\n  This laptop wa...  "
      ]
     },
     "execution_count": 3,
     "metadata": {},
     "output_type": "execute_result"
    }
   ],
   "source": [
    "df = pd.read_csv('reviews.csv', header=0, names=['rating', 'reviews']) # read the data (reviews) into a data frame\n",
    "df.head()"
   ]
  },
  {
   "cell_type": "code",
   "execution_count": 4,
   "metadata": {
    "ExecuteTime": {
     "end_time": "2020-10-13T01:01:30.777214Z",
     "start_time": "2020-10-13T01:01:14.294012Z"
    }
   },
   "outputs": [
    {
     "data": {
      "text/html": [
       "<div>\n",
       "<style scoped>\n",
       "    .dataframe tbody tr th:only-of-type {\n",
       "        vertical-align: middle;\n",
       "    }\n",
       "\n",
       "    .dataframe tbody tr th {\n",
       "        vertical-align: top;\n",
       "    }\n",
       "\n",
       "    .dataframe thead th {\n",
       "        text-align: right;\n",
       "    }\n",
       "</style>\n",
       "<table border=\"1\" class=\"dataframe\">\n",
       "  <thead>\n",
       "    <tr style=\"text-align: right;\">\n",
       "      <th></th>\n",
       "      <th>rating</th>\n",
       "      <th>reviews</th>\n",
       "      <th>reviews_clean</th>\n",
       "    </tr>\n",
       "  </thead>\n",
       "  <tbody>\n",
       "    <tr>\n",
       "      <th>0</th>\n",
       "      <td>1.0 out of 5 stars</td>\n",
       "      <td>['\\n\\n\\n\\n\\n\\n\\n\\n\\n\\n  \\n  \\n    ', '\\n  I purchased th...</td>\n",
       "      <td>I purchased this laptop with upgraded RAM (32GB) and SSD...</td>\n",
       "    </tr>\n",
       "    <tr>\n",
       "      <th>1</th>\n",
       "      <td>1.0 out of 5 stars</td>\n",
       "      <td>['\\n\\n\\n\\n\\n\\n\\n\\n\\n\\n  \\n  \\n    ', \"\\n  The item came ...</td>\n",
       "      <td>The item came promptly. From the beginning the touch scr...</td>\n",
       "    </tr>\n",
       "    <tr>\n",
       "      <th>2</th>\n",
       "      <td>1.0 out of 5 stars</td>\n",
       "      <td>['\\n\\n\\n\\n\\n\\n\\n\\n\\n\\n  \\n  \\n    ', '\\n  It has already...</td>\n",
       "      <td>It has already had issues that require repair beyond the...</td>\n",
       "    </tr>\n",
       "    <tr>\n",
       "      <th>3</th>\n",
       "      <td>4.0 out of 5 stars</td>\n",
       "      <td>['\\n\\n\\n\\n\\n\\n\\n\\n\\n\\n  \\n  \\n    ', \"\\n  Came in evenin...</td>\n",
       "      <td>Came in evening around 11pm so in thankful USPS was stil...</td>\n",
       "    </tr>\n",
       "    <tr>\n",
       "      <th>4</th>\n",
       "      <td>2.0 out of 5 stars</td>\n",
       "      <td>['\\n\\n\\n\\n\\n\\n\\n\\n\\n\\n  \\n  \\n    ', '\\n  This laptop wa...</td>\n",
       "      <td>This laptop was ok for the price. Lack of USB-C is a pro...</td>\n",
       "    </tr>\n",
       "  </tbody>\n",
       "</table>\n",
       "</div>"
      ],
      "text/plain": [
       "               rating  \\\n",
       "0  1.0 out of 5 stars   \n",
       "1  1.0 out of 5 stars   \n",
       "2  1.0 out of 5 stars   \n",
       "3  4.0 out of 5 stars   \n",
       "4  2.0 out of 5 stars   \n",
       "\n",
       "                                                       reviews  \\\n",
       "0  ['\\n\\n\\n\\n\\n\\n\\n\\n\\n\\n  \\n  \\n    ', '\\n  I purchased th...   \n",
       "1  ['\\n\\n\\n\\n\\n\\n\\n\\n\\n\\n  \\n  \\n    ', \"\\n  The item came ...   \n",
       "2  ['\\n\\n\\n\\n\\n\\n\\n\\n\\n\\n  \\n  \\n    ', '\\n  It has already...   \n",
       "3  ['\\n\\n\\n\\n\\n\\n\\n\\n\\n\\n  \\n  \\n    ', \"\\n  Came in evenin...   \n",
       "4  ['\\n\\n\\n\\n\\n\\n\\n\\n\\n\\n  \\n  \\n    ', '\\n  This laptop wa...   \n",
       "\n",
       "                                                 reviews_clean  \n",
       "0  I purchased this laptop with upgraded RAM (32GB) and SSD...  \n",
       "1  The item came promptly. From the beginning the touch scr...  \n",
       "2  It has already had issues that require repair beyond the...  \n",
       "3  Came in evening around 11pm so in thankful USPS was stil...  \n",
       "4  This laptop was ok for the price. Lack of USB-C is a pro...  "
      ]
     },
     "execution_count": 4,
     "metadata": {},
     "output_type": "execute_result"
    }
   ],
   "source": [
    "# clean the comments\n",
    "df['reviews_clean'] = df['reviews'].apply(lambda x: x.replace(r\"'\", ''))\n",
    "df['reviews_clean'] = df['reviews_clean'].apply(lambda x: x.replace(r'\"', ''))\n",
    "df['reviews_clean'] = df['reviews_clean'].apply(\n",
    "    lambda x: x.replace(r'[\\n\\n\\n\\n\\n\\n\\n\\n\\n\\n  \\n  \\n    , \\n  ', ''))\n",
    "df['reviews_clean'] = df['reviews_clean'].apply(\n",
    "    lambda x: x.replace(r'\\n, \\n  \\n]', ''))\n",
    "df.head()"
   ]
  },
  {
   "cell_type": "code",
   "execution_count": 5,
   "metadata": {
    "ExecuteTime": {
     "end_time": "2020-10-13T01:01:30.824087Z",
     "start_time": "2020-10-13T01:01:30.777214Z"
    }
   },
   "outputs": [
    {
     "data": {
      "text/html": [
       "<div>\n",
       "<style scoped>\n",
       "    .dataframe tbody tr th:only-of-type {\n",
       "        vertical-align: middle;\n",
       "    }\n",
       "\n",
       "    .dataframe tbody tr th {\n",
       "        vertical-align: top;\n",
       "    }\n",
       "\n",
       "    .dataframe thead th {\n",
       "        text-align: right;\n",
       "    }\n",
       "</style>\n",
       "<table border=\"1\" class=\"dataframe\">\n",
       "  <thead>\n",
       "    <tr style=\"text-align: right;\">\n",
       "      <th></th>\n",
       "      <th>rating</th>\n",
       "      <th>reviews</th>\n",
       "      <th>reviews_clean</th>\n",
       "    </tr>\n",
       "  </thead>\n",
       "  <tbody>\n",
       "    <tr>\n",
       "      <th>0</th>\n",
       "      <td>1</td>\n",
       "      <td>['\\n\\n\\n\\n\\n\\n\\n\\n\\n\\n  \\n  \\n    ', '\\n  I purchased th...</td>\n",
       "      <td>I purchased this laptop with upgraded RAM (32GB) and SSD...</td>\n",
       "    </tr>\n",
       "    <tr>\n",
       "      <th>1</th>\n",
       "      <td>1</td>\n",
       "      <td>['\\n\\n\\n\\n\\n\\n\\n\\n\\n\\n  \\n  \\n    ', \"\\n  The item came ...</td>\n",
       "      <td>The item came promptly. From the beginning the touch scr...</td>\n",
       "    </tr>\n",
       "    <tr>\n",
       "      <th>2</th>\n",
       "      <td>1</td>\n",
       "      <td>['\\n\\n\\n\\n\\n\\n\\n\\n\\n\\n  \\n  \\n    ', '\\n  It has already...</td>\n",
       "      <td>It has already had issues that require repair beyond the...</td>\n",
       "    </tr>\n",
       "    <tr>\n",
       "      <th>3</th>\n",
       "      <td>4</td>\n",
       "      <td>['\\n\\n\\n\\n\\n\\n\\n\\n\\n\\n  \\n  \\n    ', \"\\n  Came in evenin...</td>\n",
       "      <td>Came in evening around 11pm so in thankful USPS was stil...</td>\n",
       "    </tr>\n",
       "    <tr>\n",
       "      <th>4</th>\n",
       "      <td>2</td>\n",
       "      <td>['\\n\\n\\n\\n\\n\\n\\n\\n\\n\\n  \\n  \\n    ', '\\n  This laptop wa...</td>\n",
       "      <td>This laptop was ok for the price. Lack of USB-C is a pro...</td>\n",
       "    </tr>\n",
       "  </tbody>\n",
       "</table>\n",
       "</div>"
      ],
      "text/plain": [
       "   rating                                                      reviews  \\\n",
       "0       1  ['\\n\\n\\n\\n\\n\\n\\n\\n\\n\\n  \\n  \\n    ', '\\n  I purchased th...   \n",
       "1       1  ['\\n\\n\\n\\n\\n\\n\\n\\n\\n\\n  \\n  \\n    ', \"\\n  The item came ...   \n",
       "2       1  ['\\n\\n\\n\\n\\n\\n\\n\\n\\n\\n  \\n  \\n    ', '\\n  It has already...   \n",
       "3       4  ['\\n\\n\\n\\n\\n\\n\\n\\n\\n\\n  \\n  \\n    ', \"\\n  Came in evenin...   \n",
       "4       2  ['\\n\\n\\n\\n\\n\\n\\n\\n\\n\\n  \\n  \\n    ', '\\n  This laptop wa...   \n",
       "\n",
       "                                                 reviews_clean  \n",
       "0  I purchased this laptop with upgraded RAM (32GB) and SSD...  \n",
       "1  The item came promptly. From the beginning the touch scr...  \n",
       "2  It has already had issues that require repair beyond the...  \n",
       "3  Came in evening around 11pm so in thankful USPS was stil...  \n",
       "4  This laptop was ok for the price. Lack of USB-C is a pro...  "
      ]
     },
     "execution_count": 5,
     "metadata": {},
     "output_type": "execute_result"
    }
   ],
   "source": [
    "# quantify the ratings\n",
    "df['rating'].replace(sorted(df['rating'].unique()), value=np.arange(1, 6), inplace=True)\n",
    "df.head()"
   ]
  },
  {
   "cell_type": "code",
   "execution_count": 6,
   "metadata": {
    "ExecuteTime": {
     "end_time": "2020-10-13T01:01:47.354466Z",
     "start_time": "2020-10-13T01:01:30.824087Z"
    }
   },
   "outputs": [
    {
     "data": {
      "text/html": [
       "<div>\n",
       "<style scoped>\n",
       "    .dataframe tbody tr th:only-of-type {\n",
       "        vertical-align: middle;\n",
       "    }\n",
       "\n",
       "    .dataframe tbody tr th {\n",
       "        vertical-align: top;\n",
       "    }\n",
       "\n",
       "    .dataframe thead th {\n",
       "        text-align: right;\n",
       "    }\n",
       "</style>\n",
       "<table border=\"1\" class=\"dataframe\">\n",
       "  <thead>\n",
       "    <tr style=\"text-align: right;\">\n",
       "      <th></th>\n",
       "      <th>rating</th>\n",
       "      <th>reviews_clean</th>\n",
       "    </tr>\n",
       "  </thead>\n",
       "  <tbody>\n",
       "    <tr>\n",
       "      <th>0</th>\n",
       "      <td>1</td>\n",
       "      <td>I purchased this laptop with upgraded RAM (32GB) and SSD...</td>\n",
       "    </tr>\n",
       "    <tr>\n",
       "      <th>1</th>\n",
       "      <td>1</td>\n",
       "      <td>The item came promptly. From the beginning the touch scr...</td>\n",
       "    </tr>\n",
       "    <tr>\n",
       "      <th>2</th>\n",
       "      <td>1</td>\n",
       "      <td>It has already had issues that require repair beyond the...</td>\n",
       "    </tr>\n",
       "    <tr>\n",
       "      <th>3</th>\n",
       "      <td>4</td>\n",
       "      <td>Came in evening around 11pm so in thankful USPS was stil...</td>\n",
       "    </tr>\n",
       "    <tr>\n",
       "      <th>4</th>\n",
       "      <td>2</td>\n",
       "      <td>This laptop was ok for the price. Lack of USB-C is a pro...</td>\n",
       "    </tr>\n",
       "  </tbody>\n",
       "</table>\n",
       "</div>"
      ],
      "text/plain": [
       "   rating                                                reviews_clean\n",
       "0       1  I purchased this laptop with upgraded RAM (32GB) and SSD...\n",
       "1       1  The item came promptly. From the beginning the touch scr...\n",
       "2       1  It has already had issues that require repair beyond the...\n",
       "3       4  Came in evening around 11pm so in thankful USPS was stil...\n",
       "4       2  This laptop was ok for the price. Lack of USB-C is a pro..."
      ]
     },
     "execution_count": 6,
     "metadata": {},
     "output_type": "execute_result"
    }
   ],
   "source": [
    "df_clean = df.drop('reviews', axis=1).copy()\n",
    "df_clean.head()"
   ]
  },
  {
   "cell_type": "markdown",
   "metadata": {},
   "source": [
    "# Basic NLP Transformations"
   ]
  },
  {
   "cell_type": "code",
   "execution_count": 7,
   "metadata": {
    "ExecuteTime": {
     "end_time": "2020-10-13T01:01:47.385715Z",
     "start_time": "2020-10-13T01:01:47.354466Z"
    }
   },
   "outputs": [
    {
     "data": {
      "text/html": [
       "<div>\n",
       "<style scoped>\n",
       "    .dataframe tbody tr th:only-of-type {\n",
       "        vertical-align: middle;\n",
       "    }\n",
       "\n",
       "    .dataframe tbody tr th {\n",
       "        vertical-align: top;\n",
       "    }\n",
       "\n",
       "    .dataframe thead th {\n",
       "        text-align: right;\n",
       "    }\n",
       "</style>\n",
       "<table border=\"1\" class=\"dataframe\">\n",
       "  <thead>\n",
       "    <tr style=\"text-align: right;\">\n",
       "      <th></th>\n",
       "      <th>rating</th>\n",
       "      <th>reviews_clean</th>\n",
       "    </tr>\n",
       "  </thead>\n",
       "  <tbody>\n",
       "    <tr>\n",
       "      <th>0</th>\n",
       "      <td>1</td>\n",
       "      <td>i purchased this laptop with upgraded ram (32gb) and ssd...</td>\n",
       "    </tr>\n",
       "    <tr>\n",
       "      <th>1</th>\n",
       "      <td>1</td>\n",
       "      <td>the item came promptly. from the beginning the touch scr...</td>\n",
       "    </tr>\n",
       "    <tr>\n",
       "      <th>2</th>\n",
       "      <td>1</td>\n",
       "      <td>it has already had issues that require repair beyond the...</td>\n",
       "    </tr>\n",
       "    <tr>\n",
       "      <th>3</th>\n",
       "      <td>4</td>\n",
       "      <td>came in evening around 11pm so in thankful usps was stil...</td>\n",
       "    </tr>\n",
       "    <tr>\n",
       "      <th>4</th>\n",
       "      <td>2</td>\n",
       "      <td>this laptop was ok for the price. lack of usb-c is a pro...</td>\n",
       "    </tr>\n",
       "  </tbody>\n",
       "</table>\n",
       "</div>"
      ],
      "text/plain": [
       "   rating                                                reviews_clean\n",
       "0       1  i purchased this laptop with upgraded ram (32gb) and ssd...\n",
       "1       1  the item came promptly. from the beginning the touch scr...\n",
       "2       1  it has already had issues that require repair beyond the...\n",
       "3       4  came in evening around 11pm so in thankful usps was stil...\n",
       "4       2  this laptop was ok for the price. lack of usb-c is a pro..."
      ]
     },
     "execution_count": 7,
     "metadata": {},
     "output_type": "execute_result"
    }
   ],
   "source": [
    "# Write your code here\n",
    "# lowercase the comments\n",
    "df_clean['reviews_clean'] = df_clean['reviews_clean'].apply(\n",
    "    lambda x: ' '.join([x.lower() for x in x.split()]))\n",
    "df_clean.head()"
   ]
  },
  {
   "cell_type": "code",
   "execution_count": 8,
   "metadata": {
    "ExecuteTime": {
     "end_time": "2020-10-13T01:01:47.439115Z",
     "start_time": "2020-10-13T01:01:47.385715Z"
    }
   },
   "outputs": [
    {
     "data": {
      "text/html": [
       "<div>\n",
       "<style scoped>\n",
       "    .dataframe tbody tr th:only-of-type {\n",
       "        vertical-align: middle;\n",
       "    }\n",
       "\n",
       "    .dataframe tbody tr th {\n",
       "        vertical-align: top;\n",
       "    }\n",
       "\n",
       "    .dataframe thead th {\n",
       "        text-align: right;\n",
       "    }\n",
       "</style>\n",
       "<table border=\"1\" class=\"dataframe\">\n",
       "  <thead>\n",
       "    <tr style=\"text-align: right;\">\n",
       "      <th></th>\n",
       "      <th>rating</th>\n",
       "      <th>reviews_clean</th>\n",
       "    </tr>\n",
       "  </thead>\n",
       "  <tbody>\n",
       "    <tr>\n",
       "      <th>0</th>\n",
       "      <td>1</td>\n",
       "      <td>i purchased this laptop with upgraded ram 32gb and ssd 1...</td>\n",
       "    </tr>\n",
       "    <tr>\n",
       "      <th>1</th>\n",
       "      <td>1</td>\n",
       "      <td>the item came promptly from the beginning the touch scre...</td>\n",
       "    </tr>\n",
       "    <tr>\n",
       "      <th>2</th>\n",
       "      <td>1</td>\n",
       "      <td>it has already had issues that require repair beyond the...</td>\n",
       "    </tr>\n",
       "    <tr>\n",
       "      <th>3</th>\n",
       "      <td>4</td>\n",
       "      <td>came in evening around 11pm so in thankful usps was stil...</td>\n",
       "    </tr>\n",
       "    <tr>\n",
       "      <th>4</th>\n",
       "      <td>2</td>\n",
       "      <td>this laptop was ok for the price lack of usbc is a probl...</td>\n",
       "    </tr>\n",
       "  </tbody>\n",
       "</table>\n",
       "</div>"
      ],
      "text/plain": [
       "   rating                                                reviews_clean\n",
       "0       1  i purchased this laptop with upgraded ram 32gb and ssd 1...\n",
       "1       1  the item came promptly from the beginning the touch scre...\n",
       "2       1  it has already had issues that require repair beyond the...\n",
       "3       4  came in evening around 11pm so in thankful usps was stil...\n",
       "4       2  this laptop was ok for the price lack of usbc is a probl..."
      ]
     },
     "execution_count": 8,
     "metadata": {},
     "output_type": "execute_result"
    }
   ],
   "source": [
    "# remove punctuations\n",
    "df_clean['reviews_clean'] = df_clean['reviews_clean'].str.replace('[^\\w\\s]', '')\n",
    "df_clean.head()"
   ]
  },
  {
   "cell_type": "code",
   "execution_count": 9,
   "metadata": {
    "ExecuteTime": {
     "end_time": "2020-10-13T01:01:47.485984Z",
     "start_time": "2020-10-13T01:01:47.439115Z"
    }
   },
   "outputs": [
    {
     "data": {
      "text/html": [
       "<div>\n",
       "<style scoped>\n",
       "    .dataframe tbody tr th:only-of-type {\n",
       "        vertical-align: middle;\n",
       "    }\n",
       "\n",
       "    .dataframe tbody tr th {\n",
       "        vertical-align: top;\n",
       "    }\n",
       "\n",
       "    .dataframe thead th {\n",
       "        text-align: right;\n",
       "    }\n",
       "</style>\n",
       "<table border=\"1\" class=\"dataframe\">\n",
       "  <thead>\n",
       "    <tr style=\"text-align: right;\">\n",
       "      <th></th>\n",
       "      <th>rating</th>\n",
       "      <th>reviews_clean</th>\n",
       "    </tr>\n",
       "  </thead>\n",
       "  <tbody>\n",
       "    <tr>\n",
       "      <th>0</th>\n",
       "      <td>1</td>\n",
       "      <td>i purchased this laptop with upgraded ram gb and ssd tb ...</td>\n",
       "    </tr>\n",
       "    <tr>\n",
       "      <th>1</th>\n",
       "      <td>1</td>\n",
       "      <td>the item came promptly from the beginning the touch scre...</td>\n",
       "    </tr>\n",
       "    <tr>\n",
       "      <th>2</th>\n",
       "      <td>1</td>\n",
       "      <td>it has already had issues that require repair beyond the...</td>\n",
       "    </tr>\n",
       "    <tr>\n",
       "      <th>3</th>\n",
       "      <td>4</td>\n",
       "      <td>came in evening around pm so in thankful usps was still ...</td>\n",
       "    </tr>\n",
       "    <tr>\n",
       "      <th>4</th>\n",
       "      <td>2</td>\n",
       "      <td>this laptop was ok for the price lack of usbc is a probl...</td>\n",
       "    </tr>\n",
       "  </tbody>\n",
       "</table>\n",
       "</div>"
      ],
      "text/plain": [
       "   rating                                                reviews_clean\n",
       "0       1  i purchased this laptop with upgraded ram gb and ssd tb ...\n",
       "1       1  the item came promptly from the beginning the touch scre...\n",
       "2       1  it has already had issues that require repair beyond the...\n",
       "3       4  came in evening around pm so in thankful usps was still ...\n",
       "4       2  this laptop was ok for the price lack of usbc is a probl..."
      ]
     },
     "execution_count": 9,
     "metadata": {},
     "output_type": "execute_result"
    }
   ],
   "source": [
    "# remove numbers\n",
    "numbers = '0123456789'\n",
    "df_clean['reviews_clean'] = df_clean['reviews_clean'].apply(\n",
    "    lambda x: ''.join(x for x in list(x) if x not in numbers))\n",
    "df_clean.head()"
   ]
  },
  {
   "cell_type": "code",
   "execution_count": 10,
   "metadata": {
    "ExecuteTime": {
     "end_time": "2020-10-13T01:01:47.539376Z",
     "start_time": "2020-10-13T01:01:47.485984Z"
    }
   },
   "outputs": [
    {
     "data": {
      "text/html": [
       "<div>\n",
       "<style scoped>\n",
       "    .dataframe tbody tr th:only-of-type {\n",
       "        vertical-align: middle;\n",
       "    }\n",
       "\n",
       "    .dataframe tbody tr th {\n",
       "        vertical-align: top;\n",
       "    }\n",
       "\n",
       "    .dataframe thead th {\n",
       "        text-align: right;\n",
       "    }\n",
       "</style>\n",
       "<table border=\"1\" class=\"dataframe\">\n",
       "  <thead>\n",
       "    <tr style=\"text-align: right;\">\n",
       "      <th></th>\n",
       "      <th>rating</th>\n",
       "      <th>reviews_clean</th>\n",
       "    </tr>\n",
       "  </thead>\n",
       "  <tbody>\n",
       "    <tr>\n",
       "      <th>0</th>\n",
       "      <td>1</td>\n",
       "      <td>purchased laptop upgraded ram gb ssd tb arrived near may...</td>\n",
       "    </tr>\n",
       "    <tr>\n",
       "      <th>1</th>\n",
       "      <td>1</td>\n",
       "      <td>item came promptly beginning touch screen didnt work cou...</td>\n",
       "    </tr>\n",
       "    <tr>\n",
       "      <th>2</th>\n",
       "      <td>1</td>\n",
       "      <td>already issues require repair beyond inhouse guy</td>\n",
       "    </tr>\n",
       "    <tr>\n",
       "      <th>3</th>\n",
       "      <td>4</td>\n",
       "      <td>came evening around pm thankful usps still working scrat...</td>\n",
       "    </tr>\n",
       "    <tr>\n",
       "      <th>4</th>\n",
       "      <td>2</td>\n",
       "      <td>laptop ok price lack usbc problem especially power conne...</td>\n",
       "    </tr>\n",
       "  </tbody>\n",
       "</table>\n",
       "</div>"
      ],
      "text/plain": [
       "   rating                                                reviews_clean\n",
       "0       1  purchased laptop upgraded ram gb ssd tb arrived near may...\n",
       "1       1  item came promptly beginning touch screen didnt work cou...\n",
       "2       1             already issues require repair beyond inhouse guy\n",
       "3       4  came evening around pm thankful usps still working scrat...\n",
       "4       2  laptop ok price lack usbc problem especially power conne..."
      ]
     },
     "execution_count": 10,
     "metadata": {},
     "output_type": "execute_result"
    }
   ],
   "source": [
    "# remove stopwords\n",
    "stop = stopwords.words('english')\n",
    "df_clean['reviews_clean'] = df_clean['reviews_clean'].apply(\n",
    "    lambda x: ' '.join(x for x in x.split() if x not in stop))\n",
    "df_clean.head()"
   ]
  },
  {
   "cell_type": "code",
   "execution_count": 11,
   "metadata": {
    "ExecuteTime": {
     "end_time": "2020-10-13T01:01:47.708661Z",
     "start_time": "2020-10-13T01:01:47.539376Z"
    }
   },
   "outputs": [
    {
     "data": {
      "text/html": [
       "<div>\n",
       "<style scoped>\n",
       "    .dataframe tbody tr th:only-of-type {\n",
       "        vertical-align: middle;\n",
       "    }\n",
       "\n",
       "    .dataframe tbody tr th {\n",
       "        vertical-align: top;\n",
       "    }\n",
       "\n",
       "    .dataframe thead th {\n",
       "        text-align: right;\n",
       "    }\n",
       "</style>\n",
       "<table border=\"1\" class=\"dataframe\">\n",
       "  <thead>\n",
       "    <tr style=\"text-align: right;\">\n",
       "      <th></th>\n",
       "      <th>rating</th>\n",
       "      <th>reviews_clean</th>\n",
       "    </tr>\n",
       "  </thead>\n",
       "  <tbody>\n",
       "    <tr>\n",
       "      <th>0</th>\n",
       "      <td>1</td>\n",
       "      <td>purchas laptop upgrad ram gb ssd tb arriv near may fan d...</td>\n",
       "    </tr>\n",
       "    <tr>\n",
       "      <th>1</th>\n",
       "      <td>1</td>\n",
       "      <td>item came promptli begin touch screen didnt work could l...</td>\n",
       "    </tr>\n",
       "    <tr>\n",
       "      <th>2</th>\n",
       "      <td>1</td>\n",
       "      <td>alreadi issu requir repair beyond inhous guy</td>\n",
       "    </tr>\n",
       "    <tr>\n",
       "      <th>3</th>\n",
       "      <td>4</td>\n",
       "      <td>came even around pm thank usp still work scratch outsid ...</td>\n",
       "    </tr>\n",
       "    <tr>\n",
       "      <th>4</th>\n",
       "      <td>2</td>\n",
       "      <td>laptop ok price lack usbc problem especi power connector...</td>\n",
       "    </tr>\n",
       "  </tbody>\n",
       "</table>\n",
       "</div>"
      ],
      "text/plain": [
       "   rating                                                reviews_clean\n",
       "0       1  purchas laptop upgrad ram gb ssd tb arriv near may fan d...\n",
       "1       1  item came promptli begin touch screen didnt work could l...\n",
       "2       1                 alreadi issu requir repair beyond inhous guy\n",
       "3       4  came even around pm thank usp still work scratch outsid ...\n",
       "4       2  laptop ok price lack usbc problem especi power connector..."
      ]
     },
     "execution_count": 11,
     "metadata": {},
     "output_type": "execute_result"
    }
   ],
   "source": [
    "# stemming\n",
    "st = PorterStemmer()\n",
    "df_clean['reviews_clean'] = df_clean['reviews_clean'].apply(\n",
    "    lambda x: \" \".join([st.stem(word) for word in x.split()]))\n",
    "df_clean.head()"
   ]
  },
  {
   "cell_type": "code",
   "execution_count": 12,
   "metadata": {
    "ExecuteTime": {
     "end_time": "2020-10-13T01:03:02.149594Z",
     "start_time": "2020-10-13T01:01:47.708661Z"
    }
   },
   "outputs": [
    {
     "data": {
      "text/html": [
       "<div>\n",
       "<style scoped>\n",
       "    .dataframe tbody tr th:only-of-type {\n",
       "        vertical-align: middle;\n",
       "    }\n",
       "\n",
       "    .dataframe tbody tr th {\n",
       "        vertical-align: top;\n",
       "    }\n",
       "\n",
       "    .dataframe thead th {\n",
       "        text-align: right;\n",
       "    }\n",
       "</style>\n",
       "<table border=\"1\" class=\"dataframe\">\n",
       "  <thead>\n",
       "    <tr style=\"text-align: right;\">\n",
       "      <th></th>\n",
       "      <th>rating</th>\n",
       "      <th>reviews_clean</th>\n",
       "    </tr>\n",
       "  </thead>\n",
       "  <tbody>\n",
       "    <tr>\n",
       "      <th>0</th>\n",
       "      <td>1</td>\n",
       "      <td>purchase lawton upgrade ram go sad to arrive near may fa...</td>\n",
       "    </tr>\n",
       "    <tr>\n",
       "      <th>1</th>\n",
       "      <td>1</td>\n",
       "      <td>item came promptly begin touch screen didn work could li...</td>\n",
       "    </tr>\n",
       "    <tr>\n",
       "      <th>2</th>\n",
       "      <td>1</td>\n",
       "      <td>already issue require repair beyond nous guy</td>\n",
       "    </tr>\n",
       "    <tr>\n",
       "      <th>3</th>\n",
       "      <td>4</td>\n",
       "      <td>came even around pm thank up still work scratch outside ...</td>\n",
       "    </tr>\n",
       "    <tr>\n",
       "      <th>4</th>\n",
       "      <td>2</td>\n",
       "      <td>lawton ok price lack us problem respect power connection...</td>\n",
       "    </tr>\n",
       "  </tbody>\n",
       "</table>\n",
       "</div>"
      ],
      "text/plain": [
       "   rating                                                reviews_clean\n",
       "0       1  purchase lawton upgrade ram go sad to arrive near may fa...\n",
       "1       1  item came promptly begin touch screen didn work could li...\n",
       "2       1                 already issue require repair beyond nous guy\n",
       "3       4  came even around pm thank up still work scratch outside ...\n",
       "4       2  lawton ok price lack us problem respect power connection..."
      ]
     },
     "execution_count": 12,
     "metadata": {},
     "output_type": "execute_result"
    }
   ],
   "source": [
    "# spelling correction\n",
    "from textblob import TextBlob\n",
    "df_clean['reviews_clean'] = df_clean['reviews_clean'].apply(lambda x: str(TextBlob(x).correct()))\n",
    "df_clean.head()"
   ]
  },
  {
   "cell_type": "code",
   "execution_count": 13,
   "metadata": {
    "ExecuteTime": {
     "end_time": "2020-10-13T01:03:04.020077Z",
     "start_time": "2020-10-13T01:03:02.149594Z"
    }
   },
   "outputs": [
    {
     "data": {
      "text/html": [
       "<div>\n",
       "<style scoped>\n",
       "    .dataframe tbody tr th:only-of-type {\n",
       "        vertical-align: middle;\n",
       "    }\n",
       "\n",
       "    .dataframe tbody tr th {\n",
       "        vertical-align: top;\n",
       "    }\n",
       "\n",
       "    .dataframe thead th {\n",
       "        text-align: right;\n",
       "    }\n",
       "</style>\n",
       "<table border=\"1\" class=\"dataframe\">\n",
       "  <thead>\n",
       "    <tr style=\"text-align: right;\">\n",
       "      <th></th>\n",
       "      <th>rating</th>\n",
       "      <th>reviews_clean</th>\n",
       "    </tr>\n",
       "  </thead>\n",
       "  <tbody>\n",
       "    <tr>\n",
       "      <th>0</th>\n",
       "      <td>1</td>\n",
       "      <td>purchase lawton upgrade ram go sad to arrive near may fa...</td>\n",
       "    </tr>\n",
       "    <tr>\n",
       "      <th>1</th>\n",
       "      <td>1</td>\n",
       "      <td>item came promptly begin touch screen didn work could li...</td>\n",
       "    </tr>\n",
       "    <tr>\n",
       "      <th>2</th>\n",
       "      <td>1</td>\n",
       "      <td>already issue require repair beyond nous guy</td>\n",
       "    </tr>\n",
       "    <tr>\n",
       "      <th>3</th>\n",
       "      <td>4</td>\n",
       "      <td>came even around pm thank up still work scratch outside ...</td>\n",
       "    </tr>\n",
       "    <tr>\n",
       "      <th>4</th>\n",
       "      <td>2</td>\n",
       "      <td>lawton ok price lack us problem respect power connection...</td>\n",
       "    </tr>\n",
       "  </tbody>\n",
       "</table>\n",
       "</div>"
      ],
      "text/plain": [
       "   rating                                                reviews_clean\n",
       "0       1  purchase lawton upgrade ram go sad to arrive near may fa...\n",
       "1       1  item came promptly begin touch screen didn work could li...\n",
       "2       1                 already issue require repair beyond nous guy\n",
       "3       4  came even around pm thank up still work scratch outside ...\n",
       "4       2  lawton ok price lack us problem respect power connection..."
      ]
     },
     "execution_count": 13,
     "metadata": {},
     "output_type": "execute_result"
    }
   ],
   "source": [
    "# lemmatization\n",
    "df['reviews_clean'] = df['reviews_clean'].apply(\n",
    "    lambda x: \" \".join([Word(word).lemmatize() for word in x.split()]))\n",
    "df_clean.head()"
   ]
  },
  {
   "cell_type": "markdown",
   "metadata": {},
   "source": [
    "# Tf- Idf Features"
   ]
  },
  {
   "cell_type": "code",
   "execution_count": 14,
   "metadata": {
    "ExecuteTime": {
     "end_time": "2020-10-13T01:03:04.035702Z",
     "start_time": "2020-10-13T01:03:04.020077Z"
    }
   },
   "outputs": [],
   "source": [
    "def term_frequency(string):\n",
    "    from collections import Counter\n",
    "    tf = {}\n",
    "    counts = Counter(string.split())\n",
    "    for key, value in counts.items():\n",
    "        tf[key] = round((value/len(counts.keys())), 3)\n",
    "    return tf"
   ]
  },
  {
   "cell_type": "code",
   "execution_count": 15,
   "metadata": {
    "ExecuteTime": {
     "end_time": "2020-10-13T01:03:04.104738Z",
     "start_time": "2020-10-13T01:03:04.035702Z"
    }
   },
   "outputs": [
    {
     "data": {
      "text/plain": [
       "0      {'purchase': 0.053, 'lawton': 0.07, 'upgrade': 0.018, 'r...\n",
       "1      {'item': 0.034, 'came': 0.034, 'promptly': 0.034, 'begin...\n",
       "2      {'already': 0.143, 'issue': 0.143, 'require': 0.143, 're...\n",
       "3      {'came': 0.048, 'even': 0.024, 'around': 0.024, 'pm': 0....\n",
       "4      {'lawton': 0.048, 'ok': 0.048, 'price': 0.048, 'lack': 0...\n",
       "                                  ...                             \n",
       "105                                 {'happy': 0.5, 'product': 0.5}\n",
       "106                                   {'best': 0.5, 'lawton': 0.5}\n",
       "107    {'do': 0.029, 'adapt': 0.029, 'plain': 0.029, 'tight': 0...\n",
       "108    {'second': 0.028, 'well': 0.056, 'lawton': 0.056, 'first...\n",
       "109    {'overall': 0.028, 'lawton': 0.028, 'ok': 0.028, 'dont':...\n",
       "Name: reviews_clean, Length: 110, dtype: object"
      ]
     },
     "execution_count": 15,
     "metadata": {},
     "output_type": "execute_result"
    }
   ],
   "source": [
    "df_clean['reviews_clean'].apply(term_frequency)"
   ]
  },
  {
   "cell_type": "code",
   "execution_count": 16,
   "metadata": {
    "ExecuteTime": {
     "end_time": "2020-10-13T01:03:04.120362Z",
     "start_time": "2020-10-13T01:03:04.104738Z"
    }
   },
   "outputs": [],
   "source": [
    "df_clean['tf'] = df_clean['reviews_clean'].apply(term_frequency)"
   ]
  },
  {
   "cell_type": "code",
   "execution_count": 17,
   "metadata": {
    "ExecuteTime": {
     "end_time": "2020-10-13T01:03:04.151611Z",
     "start_time": "2020-10-13T01:03:04.120362Z"
    }
   },
   "outputs": [],
   "source": [
    "def inverse_document_fequency(array):\n",
    "    from math import log\n",
    "    word_counts_by_row = []\n",
    "    for row in array:\n",
    "        d = dict.fromkeys(row.split(' '), 0)\n",
    "        word_counts_by_row.append(d)\n",
    "    for d in word_counts_by_row:\n",
    "        for word in d.keys():\n",
    "            for row in array:\n",
    "                if word in row.split(' '):\n",
    "                    v = d[word]\n",
    "                    v += 1\n",
    "                    d[word] = v\n",
    "    for d in word_counts_by_row:\n",
    "        for key, value in d.items():\n",
    "            d[key] = log(array.shape[0]/value)\n",
    "    return word_counts_by_row"
   ]
  },
  {
   "cell_type": "code",
   "execution_count": 18,
   "metadata": {
    "ExecuteTime": {
     "end_time": "2020-10-13T01:03:04.822267Z",
     "start_time": "2020-10-13T01:03:04.151611Z"
    }
   },
   "outputs": [
    {
     "data": {
      "text/plain": [
       "0      {'purchase': 2.5032557884561966, 'lawton': 0.80866006768...\n",
       "1      {'item': 3.091042453358316, 'came': 2.5032557884561966, ...\n",
       "2      {'already': 3.6018680771243066, 'issue': 2.3025850929940...\n",
       "3      {'came': 2.5032557884561966, 'even': 2.3978952727983707,...\n",
       "4      {'lawton': 0.8086600676817896, 'ok': 3.6018680771243066,...\n",
       "                                  ...                             \n",
       "105    {'happy': 2.5032557884561966, 'product': 2.0614230361771...\n",
       "106     {'best': 2.7545702167371027, 'lawton': 0.8086600676817896}\n",
       "107    {'do': 4.700480365792417, 'adapt': 3.6018680771243066, '...\n",
       "108    {'second': 3.3141860046725258, 'well': 1.333184535805942...\n",
       "109    {'overall': 3.3141860046725258, 'lawton': 0.808660067681...\n",
       "Name: idf, Length: 110, dtype: object"
      ]
     },
     "execution_count": 18,
     "metadata": {},
     "output_type": "execute_result"
    }
   ],
   "source": [
    "df_clean['idf'] = inverse_document_fequency(df_clean['reviews_clean'].values)\n",
    "df_clean['idf']"
   ]
  },
  {
   "cell_type": "code",
   "execution_count": 19,
   "metadata": {
    "ExecuteTime": {
     "end_time": "2020-10-13T01:03:04.837895Z",
     "start_time": "2020-10-13T01:03:04.822267Z"
    }
   },
   "outputs": [],
   "source": [
    "def tf_idf(array1, array2):\n",
    "    tf_idf_by_row = []\n",
    "    for d1, d2 in zip(array1, array2):\n",
    "        d = {}\n",
    "        for key in d1.keys():\n",
    "            d[key] = d1[key]*d2[key]\n",
    "        tf_idf_by_row.append(d)\n",
    "    return tf_idf_by_row"
   ]
  },
  {
   "cell_type": "code",
   "execution_count": 20,
   "metadata": {
    "ExecuteTime": {
     "end_time": "2020-10-13T01:03:04.884752Z",
     "start_time": "2020-10-13T01:03:04.837895Z"
    }
   },
   "outputs": [
    {
     "data": {
      "text/plain": [
       "0      {'purchase': 0.1326725567881784, 'lawton': 0.05660620473...\n",
       "1      {'item': 0.10509544341418275, 'came': 0.0851106968075106...\n",
       "2      {'already': 0.5150671350287758, 'issue': 0.3292696682981...\n",
       "3      {'came': 0.12015627784589744, 'even': 0.0575494865471609...\n",
       "4      {'lawton': 0.0388156832487259, 'ok': 0.17288966770196673...\n",
       "                                  ...                             \n",
       "105    {'happy': 1.2516278942280983, 'product': 1.0307115180885...\n",
       "106     {'best': 1.3772851083685513, 'lawton': 0.4043300338408948}\n",
       "107    {'do': 0.13631393060798008, 'adapt': 0.1044541742366049,...\n",
       "108    {'second': 0.09279720813083073, 'well': 0.07465833400513...\n",
       "109    {'overall': 0.09279720813083073, 'lawton': 0.02264248189...\n",
       "Name: tf_idf, Length: 110, dtype: object"
      ]
     },
     "execution_count": 20,
     "metadata": {},
     "output_type": "execute_result"
    }
   ],
   "source": [
    "df_clean['tf_idf'] = tf_idf(df_clean['tf'].values, df_clean['idf'].values)\n",
    "df_clean['tf_idf']"
   ]
  },
  {
   "cell_type": "markdown",
   "metadata": {},
   "source": [
    "# POS-tag Features"
   ]
  },
  {
   "cell_type": "code",
   "execution_count": 21,
   "metadata": {
    "ExecuteTime": {
     "end_time": "2020-10-13T01:03:04.906918Z",
     "start_time": "2020-10-13T01:03:04.891260Z"
    }
   },
   "outputs": [],
   "source": [
    "def tag_counts(review):\n",
    "    tokens = nlp(review)\n",
    "    pos = [token.pos_ for token in tokens]\n",
    "    counts = Counter(pos)\n",
    "    return counts"
   ]
  },
  {
   "cell_type": "code",
   "execution_count": 22,
   "metadata": {
    "ExecuteTime": {
     "end_time": "2020-10-13T01:03:06.373272Z",
     "start_time": "2020-10-13T01:03:04.906918Z"
    }
   },
   "outputs": [
    {
     "data": {
      "text/plain": [
       "0      {'PROPN': 13, 'VERB': 16, 'ADJ': 9, 'PART': 1, 'SCONJ': ...\n",
       "1      {'NOUN': 13, 'VERB': 10, 'ADV': 2, 'PROPN': 2, 'PART': 1...\n",
       "2             {'ADV': 1, 'NOUN': 3, 'VERB': 1, 'ADP': 1, 'ADJ': 1}\n",
       "3      {'VERB': 11, 'ADV': 6, 'ADP': 5, 'NOUN': 18, 'ADJ': 8, '...\n",
       "4      {'PROPN': 2, 'INTJ': 1, 'NOUN': 9, 'VERB': 3, 'PRON': 2,...\n",
       "                                  ...                             \n",
       "105                                          {'ADJ': 1, 'NOUN': 1}\n",
       "106                                         {'ADJ': 1, 'PROPN': 1}\n",
       "107    {'AUX': 2, 'VERB': 7, 'ADJ': 11, 'PROPN': 3, 'NOUN': 12,...\n",
       "108    {'ADJ': 9, 'PROPN': 3, 'ADV': 3, 'NUM': 2, 'NOUN': 16, '...\n",
       "109    {'ADJ': 6, 'PROPN': 10, 'AUX': 1, 'PART': 1, 'VERB': 8, ...\n",
       "Name: tags, Length: 110, dtype: object"
      ]
     },
     "execution_count": 22,
     "metadata": {},
     "output_type": "execute_result"
    }
   ],
   "source": [
    "df_clean['tags'] = df_clean['reviews_clean'].apply(tag_counts)\n",
    "df_clean['tags']"
   ]
  },
  {
   "cell_type": "markdown",
   "metadata": {},
   "source": [
    "# Linguistic features"
   ]
  },
  {
   "cell_type": "markdown",
   "metadata": {},
   "source": [
    "1. sentence length\n",
    "2. density of pronouns\n",
    "3. density of prepositions\n",
    "4. density of punctuation marks, specifically commas and semicolons\n",
    "5. density of auxiliary verbs\n",
    "6. density of conjunctions\n",
    "7. maximal and average NP length\n",
    "8. maximal and average AJP length\n",
    "9. maximal and average PP length\n",
    "10. maximal and average AVP length"
   ]
  },
  {
   "cell_type": "markdown",
   "metadata": {},
   "source": [
    "## Sentence Length"
   ]
  },
  {
   "cell_type": "code",
   "execution_count": 23,
   "metadata": {
    "ExecuteTime": {
     "end_time": "2020-10-13T01:03:06.388899Z",
     "start_time": "2020-10-13T01:03:06.373272Z"
    }
   },
   "outputs": [],
   "source": [
    "def sentence_length(row):\n",
    "    return len(row.split(' '))"
   ]
  },
  {
   "cell_type": "code",
   "execution_count": 24,
   "metadata": {
    "ExecuteTime": {
     "end_time": "2020-10-13T01:03:14.795231Z",
     "start_time": "2020-10-13T01:03:06.395426Z"
    }
   },
   "outputs": [],
   "source": [
    "df_clean['sentence_length'] = df_clean['reviews_clean'].apply(sentence_length)"
   ]
  },
  {
   "cell_type": "markdown",
   "metadata": {},
   "source": [
    "## Density of Pronouns"
   ]
  },
  {
   "cell_type": "code",
   "execution_count": 25,
   "metadata": {
    "ExecuteTime": {
     "end_time": "2020-10-13T01:03:30.748462Z",
     "start_time": "2020-10-13T01:03:14.795231Z"
    }
   },
   "outputs": [],
   "source": [
    "def density_pronoun(row):\n",
    "    return row['PRON'] + row['DET']"
   ]
  },
  {
   "cell_type": "code",
   "execution_count": 26,
   "metadata": {
    "ExecuteTime": {
     "end_time": "2020-10-13T01:03:48.043911Z",
     "start_time": "2020-10-13T01:03:30.748462Z"
    }
   },
   "outputs": [
    {
     "data": {
      "text/plain": [
       "0      0.026316\n",
       "1      0.000000\n",
       "2      0.000000\n",
       "3      0.000000\n",
       "4      0.095238\n",
       "         ...   \n",
       "105    0.000000\n",
       "106    0.000000\n",
       "107    0.000000\n",
       "108    0.000000\n",
       "109    0.000000\n",
       "Length: 110, dtype: float64"
      ]
     },
     "execution_count": 26,
     "metadata": {},
     "output_type": "execute_result"
    }
   ],
   "source": [
    "df_clean['tags'].apply(density_pronoun) / df_clean['sentence_length']"
   ]
  },
  {
   "cell_type": "code",
   "execution_count": 27,
   "metadata": {
    "ExecuteTime": {
     "end_time": "2020-10-13T01:04:05.555445Z",
     "start_time": "2020-10-13T01:03:48.043911Z"
    }
   },
   "outputs": [],
   "source": [
    "df_clean['density_pronoun'] = df_clean['tags'].apply(density_pronoun) / df_clean['sentence_length']"
   ]
  },
  {
   "cell_type": "markdown",
   "metadata": {},
   "source": [
    "## Density of Prepositions"
   ]
  },
  {
   "cell_type": "code",
   "execution_count": 28,
   "metadata": {
    "ExecuteTime": {
     "end_time": "2020-10-13T01:04:28.419100Z",
     "start_time": "2020-10-13T01:04:05.555445Z"
    }
   },
   "outputs": [],
   "source": [
    "def density_preposition(row):\n",
    "    return row['ADP']"
   ]
  },
  {
   "cell_type": "code",
   "execution_count": 29,
   "metadata": {
    "ExecuteTime": {
     "end_time": "2020-10-13T01:04:28.459351Z",
     "start_time": "2020-10-13T01:04:28.421125Z"
    }
   },
   "outputs": [
    {
     "data": {
      "text/plain": [
       "0      0.013158\n",
       "1      0.000000\n",
       "2      0.142857\n",
       "3      0.098039\n",
       "4      0.000000\n",
       "         ...   \n",
       "105    0.000000\n",
       "106    0.000000\n",
       "107    0.024390\n",
       "108    0.047619\n",
       "109    0.000000\n",
       "Length: 110, dtype: float64"
      ]
     },
     "execution_count": 29,
     "metadata": {},
     "output_type": "execute_result"
    }
   ],
   "source": [
    "df_clean['tags'].apply(density_preposition) / df_clean['sentence_length']"
   ]
  },
  {
   "cell_type": "code",
   "execution_count": 30,
   "metadata": {
    "ExecuteTime": {
     "end_time": "2020-10-13T01:04:46.915959Z",
     "start_time": "2020-10-13T01:04:28.461377Z"
    }
   },
   "outputs": [],
   "source": [
    "df_clean['density_pronoun'] = df_clean['tags'].apply(density_preposition) / df_clean['sentence_length']"
   ]
  },
  {
   "cell_type": "markdown",
   "metadata": {},
   "source": [
    "## Density of Punctuations"
   ]
  },
  {
   "cell_type": "code",
   "execution_count": 31,
   "metadata": {
    "ExecuteTime": {
     "end_time": "2020-10-13T01:05:04.216974Z",
     "start_time": "2020-10-13T01:04:46.915959Z"
    }
   },
   "outputs": [],
   "source": [
    "def density_punct(row):\n",
    "    return row['PUNCT']"
   ]
  },
  {
   "cell_type": "code",
   "execution_count": 32,
   "metadata": {
    "ExecuteTime": {
     "end_time": "2020-10-13T01:05:04.239113Z",
     "start_time": "2020-10-13T01:05:04.216974Z"
    }
   },
   "outputs": [],
   "source": [
    "# will return 0 since all punctuations are removed in the preprocessing\n",
    "df_clean['density_punct'] = df_clean['tags'].apply(density_punct) / df_clean['sentence_length']"
   ]
  },
  {
   "cell_type": "markdown",
   "metadata": {},
   "source": [
    "## Density of Auxiliary Verbs"
   ]
  },
  {
   "cell_type": "code",
   "execution_count": 33,
   "metadata": {
    "ExecuteTime": {
     "end_time": "2020-10-13T01:05:21.340918Z",
     "start_time": "2020-10-13T01:05:04.239113Z"
    }
   },
   "outputs": [],
   "source": [
    "def density_aux(row):\n",
    "    return row['VERB']"
   ]
  },
  {
   "cell_type": "code",
   "execution_count": 34,
   "metadata": {
    "ExecuteTime": {
     "end_time": "2020-10-13T01:05:21.378683Z",
     "start_time": "2020-10-13T01:05:21.340918Z"
    }
   },
   "outputs": [
    {
     "data": {
      "text/plain": [
       "0      0.210526\n",
       "1      0.344828\n",
       "2      0.142857\n",
       "3      0.215686\n",
       "4      0.142857\n",
       "         ...   \n",
       "105    0.000000\n",
       "106    0.000000\n",
       "107    0.170732\n",
       "108    0.095238\n",
       "109    0.200000\n",
       "Length: 110, dtype: float64"
      ]
     },
     "execution_count": 34,
     "metadata": {},
     "output_type": "execute_result"
    }
   ],
   "source": [
    "df_clean['tags'].apply(density_aux) / df_clean['sentence_length']"
   ]
  },
  {
   "cell_type": "code",
   "execution_count": 35,
   "metadata": {
    "ExecuteTime": {
     "end_time": "2020-10-13T01:05:38.624952Z",
     "start_time": "2020-10-13T01:05:21.378683Z"
    }
   },
   "outputs": [],
   "source": [
    "df_clean['density_aux'] = df_clean['tags'].apply(density_aux) / df_clean['sentence_length']"
   ]
  },
  {
   "cell_type": "markdown",
   "metadata": {},
   "source": [
    "## Density of Conjuctions"
   ]
  },
  {
   "cell_type": "code",
   "execution_count": 36,
   "metadata": {
    "ExecuteTime": {
     "end_time": "2020-10-13T01:05:56.546297Z",
     "start_time": "2020-10-13T01:05:38.624952Z"
    }
   },
   "outputs": [],
   "source": [
    "def density_conj(row):\n",
    "    return row['CCONJ']"
   ]
  },
  {
   "cell_type": "code",
   "execution_count": 37,
   "metadata": {
    "ExecuteTime": {
     "end_time": "2020-10-13T01:06:14.043265Z",
     "start_time": "2020-10-13T01:05:56.546297Z"
    }
   },
   "outputs": [
    {
     "data": {
      "text/plain": [
       "0      0.026316\n",
       "1      0.000000\n",
       "2      0.000000\n",
       "3      0.000000\n",
       "4      0.000000\n",
       "         ...   \n",
       "105    0.000000\n",
       "106    0.000000\n",
       "107    0.000000\n",
       "108    0.000000\n",
       "109    0.000000\n",
       "Length: 110, dtype: float64"
      ]
     },
     "execution_count": 37,
     "metadata": {},
     "output_type": "execute_result"
    }
   ],
   "source": [
    "df_clean['tags'].apply(density_conj) / df_clean['sentence_length']"
   ]
  },
  {
   "cell_type": "code",
   "execution_count": 38,
   "metadata": {
    "ExecuteTime": {
     "end_time": "2020-10-13T01:06:31.740850Z",
     "start_time": "2020-10-13T01:06:14.043265Z"
    }
   },
   "outputs": [],
   "source": [
    "df_clean['density_conj'] = df_clean['tags'].apply(density_conj) / df_clean['sentence_length']"
   ]
  },
  {
   "cell_type": "markdown",
   "metadata": {},
   "source": [
    "## Max & Average NP"
   ]
  },
  {
   "cell_type": "code",
   "execution_count": 39,
   "metadata": {
    "ExecuteTime": {
     "end_time": "2020-10-13T01:06:49.890869Z",
     "start_time": "2020-10-13T01:06:31.740850Z"
    }
   },
   "outputs": [],
   "source": [
    "def noun_phrase(row):\n",
    "    d = {}\n",
    "    chunks = []\n",
    "    doc = nlp(row)\n",
    "    for chunk in doc.noun_chunks:\n",
    "        chunks.append(chunk.text)\n",
    "    \n",
    "    length = 0\n",
    "    total = 0\n",
    "    for phrase in chunks:\n",
    "        total += len(phrase)\n",
    "        if len(phrase) >= length:\n",
    "            length = len(phrase)\n",
    "            d['max'] = length\n",
    "    if len(chunks) == 0:\n",
    "        d['avg'] = 0\n",
    "    else:\n",
    "        d['avg'] = total/len(chunks)\n",
    "    return d"
   ]
  },
  {
   "cell_type": "code",
   "execution_count": 40,
   "metadata": {
    "ExecuteTime": {
     "end_time": "2020-10-13T01:06:51.825776Z",
     "start_time": "2020-10-13T01:06:49.890869Z"
    }
   },
   "outputs": [
    {
     "data": {
      "text/plain": [
       "0                  {'max': 37, 'avg': 14.125}\n",
       "1      {'max': 22, 'avg': 12.857142857142858}\n",
       "2        {'max': 8, 'avg': 6.333333333333333}\n",
       "3      {'max': 40, 'avg': 15.727272727272727}\n",
       "4                    {'max': 35, 'avg': 20.0}\n",
       "                        ...                  \n",
       "105                  {'max': 13, 'avg': 13.0}\n",
       "106                  {'max': 11, 'avg': 11.0}\n",
       "107                 {'max': 29, 'avg': 18.25}\n",
       "108                  {'max': 30, 'avg': 13.1}\n",
       "109    {'max': 21, 'avg': 14.833333333333334}\n",
       "Name: reviews_clean, Length: 110, dtype: object"
      ]
     },
     "execution_count": 40,
     "metadata": {},
     "output_type": "execute_result"
    }
   ],
   "source": [
    "df_clean['reviews_clean'].apply(noun_phrase)"
   ]
  },
  {
   "cell_type": "code",
   "execution_count": 41,
   "metadata": {
    "ExecuteTime": {
     "end_time": "2020-10-13T01:07:09.713459Z",
     "start_time": "2020-10-13T01:06:51.825776Z"
    }
   },
   "outputs": [],
   "source": [
    "df_clean['max_avg_np'] = df_clean['reviews_clean'].apply(noun_phrase)"
   ]
  }
 ],
 "metadata": {
  "hide_input": false,
  "kernelspec": {
   "display_name": "Python 3",
   "language": "python",
   "name": "python3"
  },
  "language_info": {
   "codemirror_mode": {
    "name": "ipython",
    "version": 3
   },
   "file_extension": ".py",
   "mimetype": "text/x-python",
   "name": "python",
   "nbconvert_exporter": "python",
   "pygments_lexer": "ipython3",
   "version": "3.7.1"
  },
  "toc": {
   "base_numbering": 1,
   "nav_menu": {},
   "number_sections": true,
   "sideBar": true,
   "skip_h1_title": false,
   "title_cell": "Table of Contents",
   "title_sidebar": "Contents",
   "toc_cell": false,
   "toc_position": {},
   "toc_section_display": true,
   "toc_window_display": false
  },
  "varInspector": {
   "cols": {
    "lenName": 16,
    "lenType": 16,
    "lenVar": 40
   },
   "kernels_config": {
    "python": {
     "delete_cmd_postfix": "",
     "delete_cmd_prefix": "del ",
     "library": "var_list.py",
     "varRefreshCmd": "print(var_dic_list())"
    },
    "r": {
     "delete_cmd_postfix": ") ",
     "delete_cmd_prefix": "rm(",
     "library": "var_list.r",
     "varRefreshCmd": "cat(var_dic_list()) "
    }
   },
   "types_to_exclude": [
    "module",
    "function",
    "builtin_function_or_method",
    "instance",
    "_Feature"
   ],
   "window_display": false
  }
 },
 "nbformat": 4,
 "nbformat_minor": 2
}
