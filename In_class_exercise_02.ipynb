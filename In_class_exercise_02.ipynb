{
 "cells": [
  {
   "cell_type": "markdown",
   "metadata": {
    "colab_type": "text",
    "id": "view-in-github"
   },
   "source": [
    "<a href=\"https://colab.research.google.com/github/unt-iialab/INFO5731_Spring2020/blob/master/In_class_exercise/In_class_exercise_02.ipynb\" target=\"_parent\"><img src=\"https://colab.research.google.com/assets/colab-badge.svg\" alt=\"Open In Colab\"/></a>"
   ]
  },
  {
   "cell_type": "markdown",
   "metadata": {
    "colab_type": "text",
    "id": "oo5bsEh2eeWi"
   },
   "source": [
    "# **The second In-class-exercise (9/9/2020, 20 points in total)**\n"
   ]
  },
  {
   "cell_type": "markdown",
   "metadata": {
    "colab_type": "text",
    "id": "2sPQ58dIeqgp"
   },
   "source": [
    "(1) Write a Python program to find the duplicate elements in a given array of integers. Return -1 If there are no such elements. (4 points)"
   ]
  },
  {
   "cell_type": "code",
   "execution_count": 1,
   "metadata": {
    "ExecuteTime": {
     "end_time": "2020-09-10T04:45:57.454474Z",
     "start_time": "2020-09-10T04:45:57.436366Z"
    },
    "colab": {},
    "colab_type": "code",
    "id": "mnrvKMFTeoJR"
   },
   "outputs": [],
   "source": [
    "# write your answer here\n",
    "def duplicate_finder(arr):\n",
    "    from numpy import array, ndarray\n",
    "    from pandas import Series\n",
    "    \n",
    "    if isinstance(arr, ndarray):\n",
    "        pass\n",
    "    else:\n",
    "        arr = array(arr)\n",
    "        \n",
    "    arr = Series(arr)\n",
    "    return arr[arr.duplicated()].values"
   ]
  },
  {
   "cell_type": "code",
   "execution_count": 2,
   "metadata": {
    "ExecuteTime": {
     "end_time": "2020-09-10T04:45:58.639086Z",
     "start_time": "2020-09-10T04:45:57.456503Z"
    }
   },
   "outputs": [
    {
     "data": {
      "text/plain": [
       "array([2, 7, 1, 1])"
      ]
     },
     "execution_count": 2,
     "metadata": {},
     "output_type": "execute_result"
    }
   ],
   "source": [
    "arr = [1, 5, 7, 2, 6, 2, 3, 4, 7, 9, 1, 1]\n",
    "duplicate_finder(arr)"
   ]
  },
  {
   "cell_type": "markdown",
   "metadata": {
    "colab_type": "text",
    "id": "YYrH6n6IhZoQ"
   },
   "source": [
    "(2) Write a Python program to select all the Sundays of a specified year. (4 points)\n",
    "\n"
   ]
  },
  {
   "cell_type": "code",
   "execution_count": 3,
   "metadata": {
    "ExecuteTime": {
     "end_time": "2020-09-10T04:45:58.670335Z",
     "start_time": "2020-09-10T04:45:58.639086Z"
    },
    "colab": {},
    "colab_type": "code",
    "id": "OSfPLd23eLpX"
   },
   "outputs": [],
   "source": [
    "# write your answer here\n",
    "def all_sundays(year):\n",
    "    from datetime import datetime, timedelta\n",
    "    d = datetime(year, month=1, day=1)\n",
    "    sundays = []\n",
    "    \n",
    "    print('First day of the year:', d.strftime('%A'))\n",
    "    \n",
    "    if d.weekday() == 6:\n",
    "        sundays.append(d.strftime('%y-%m-%d'))\n",
    "    else:\n",
    "        d += timedelta(days=6 - d.weekday())\n",
    "        sundays.append(d.strftime('%y-%m-%d'))\n",
    "    \n",
    "    while d.year == year:\n",
    "        d += timedelta(days=7)\n",
    "        sundays.append(d.strftime('%y-%m-%d'))\n",
    "    \n",
    "    return sundays"
   ]
  },
  {
   "cell_type": "code",
   "execution_count": 4,
   "metadata": {
    "ExecuteTime": {
     "end_time": "2020-09-10T04:45:58.708101Z",
     "start_time": "2020-09-10T04:45:58.670335Z"
    }
   },
   "outputs": [
    {
     "name": "stdout",
     "output_type": "stream",
     "text": [
      "First day of the year: Wednesday\n"
     ]
    },
    {
     "data": {
      "text/plain": [
       "['20-01-05',\n",
       " '20-01-12',\n",
       " '20-01-19',\n",
       " '20-01-26',\n",
       " '20-02-02',\n",
       " '20-02-09',\n",
       " '20-02-16',\n",
       " '20-02-23',\n",
       " '20-03-01',\n",
       " '20-03-08',\n",
       " '20-03-15',\n",
       " '20-03-22',\n",
       " '20-03-29',\n",
       " '20-04-05',\n",
       " '20-04-12',\n",
       " '20-04-19',\n",
       " '20-04-26',\n",
       " '20-05-03',\n",
       " '20-05-10',\n",
       " '20-05-17',\n",
       " '20-05-24',\n",
       " '20-05-31',\n",
       " '20-06-07',\n",
       " '20-06-14',\n",
       " '20-06-21',\n",
       " '20-06-28',\n",
       " '20-07-05',\n",
       " '20-07-12',\n",
       " '20-07-19',\n",
       " '20-07-26',\n",
       " '20-08-02',\n",
       " '20-08-09',\n",
       " '20-08-16',\n",
       " '20-08-23',\n",
       " '20-08-30',\n",
       " '20-09-06',\n",
       " '20-09-13',\n",
       " '20-09-20',\n",
       " '20-09-27',\n",
       " '20-10-04',\n",
       " '20-10-11',\n",
       " '20-10-18',\n",
       " '20-10-25',\n",
       " '20-11-01',\n",
       " '20-11-08',\n",
       " '20-11-15',\n",
       " '20-11-22',\n",
       " '20-11-29',\n",
       " '20-12-06',\n",
       " '20-12-13',\n",
       " '20-12-20',\n",
       " '20-12-27',\n",
       " '21-01-03']"
      ]
     },
     "execution_count": 4,
     "metadata": {},
     "output_type": "execute_result"
    }
   ],
   "source": [
    "all_sundays(2020)"
   ]
  },
  {
   "cell_type": "markdown",
   "metadata": {
    "colab_type": "text",
    "id": "UIpziZ6Sjie-"
   },
   "source": [
    "(3) Python files reading and writing. Download the “[exercise_02_data _collection.zip](https://github.com/unt-iialab/INFO5731_FALL2020/blob/master/In_class_exercise/exercise_02_data_collection.zip)” to your local and un-zip it.\n",
    "\n",
    "*   Write a program to read all the txt files and save the sentences in all the files into one csv file with two columns, the first column is sentence id (txt file name+sentence line number), the second column is the sentence text content. (4 points)\n",
    "*   Remove all the punctuations from the sentences, save the processed sentences into a new column in the same csv file. (4 points)\n",
    "*   Ask the user to enter a word, return all the sentences that include this word, three kinds of information should be returned: sentence id, sentence text content, the count that user input word appear in the sentence. (4 points)\n",
    "\n"
   ]
  },
  {
   "cell_type": "code",
   "execution_count": 5,
   "metadata": {
    "ExecuteTime": {
     "end_time": "2020-09-10T04:45:58.739351Z",
     "start_time": "2020-09-10T04:45:58.708101Z"
    }
   },
   "outputs": [],
   "source": [
    "# part a\n",
    "def read_files(path):\n",
    "    import os, glob\n",
    "    import pandas as pd\n",
    "\n",
    "    df = pd.DataFrame(columns=['text_file', 'line'])\n",
    "    \n",
    "    for filename in glob.glob(os.path.join(path, '*.txt')):\n",
    "        file = os.path.basename(filename)\n",
    "        with open(filename, 'r') as f:\n",
    "            Lines = f.readlines()\n",
    "            # Strips the newline character \n",
    "            for idx, line in enumerate(Lines):\n",
    "                first_column = str(file)+str(idx)\n",
    "                second_column = line.strip()\n",
    "                df = df.append({'text_file' : first_column,\n",
    "                           'line' : second_column}, ignore_index=True)\n",
    "    return df"
   ]
  },
  {
   "cell_type": "code",
   "execution_count": 6,
   "metadata": {
    "ExecuteTime": {
     "end_time": "2020-09-10T04:46:00.876470Z",
     "start_time": "2020-09-10T04:45:58.739351Z"
    }
   },
   "outputs": [],
   "source": [
    "df = read_files('exercise_02_data_collection')"
   ]
  },
  {
   "cell_type": "code",
   "execution_count": 7,
   "metadata": {
    "ExecuteTime": {
     "end_time": "2020-09-10T04:46:00.914253Z",
     "start_time": "2020-09-10T04:46:00.876470Z"
    }
   },
   "outputs": [
    {
     "data": {
      "text/html": [
       "<div>\n",
       "<style scoped>\n",
       "    .dataframe tbody tr th:only-of-type {\n",
       "        vertical-align: middle;\n",
       "    }\n",
       "\n",
       "    .dataframe tbody tr th {\n",
       "        vertical-align: top;\n",
       "    }\n",
       "\n",
       "    .dataframe thead th {\n",
       "        text-align: right;\n",
       "    }\n",
       "</style>\n",
       "<table border=\"1\" class=\"dataframe\">\n",
       "  <thead>\n",
       "    <tr style=\"text-align: right;\">\n",
       "      <th></th>\n",
       "      <th>text_file</th>\n",
       "      <th>line</th>\n",
       "    </tr>\n",
       "  </thead>\n",
       "  <tbody>\n",
       "    <tr>\n",
       "      <th>0</th>\n",
       "      <td>ARTHROTEC.1.txt0</td>\n",
       "      <td>I feel a bit drowsy &amp; have a little blurred vi...</td>\n",
       "    </tr>\n",
       "    <tr>\n",
       "      <th>1</th>\n",
       "      <td>ARTHROTEC.1.txt1</td>\n",
       "      <td>I've been on Arthrotec 50 for over 10 years on...</td>\n",
       "    </tr>\n",
       "    <tr>\n",
       "      <th>2</th>\n",
       "      <td>ARTHROTEC.1.txt2</td>\n",
       "      <td>Due to my arthritis getting progressively wors...</td>\n",
       "    </tr>\n",
       "    <tr>\n",
       "      <th>3</th>\n",
       "      <td>ARTHROTEC.1.txt3</td>\n",
       "      <td>every day for the next month to see how I get ...</td>\n",
       "    </tr>\n",
       "    <tr>\n",
       "      <th>4</th>\n",
       "      <td>ARTHROTEC.1.txt4</td>\n",
       "      <td>So far its been very good, pains almost gone, ...</td>\n",
       "    </tr>\n",
       "    <tr>\n",
       "      <th>...</th>\n",
       "      <td>...</td>\n",
       "      <td>...</td>\n",
       "    </tr>\n",
       "    <tr>\n",
       "      <th>530</th>\n",
       "      <td>ARTHROTEC.99.txt1</td>\n",
       "      <td>almost to faint to notice.</td>\n",
       "    </tr>\n",
       "    <tr>\n",
       "      <th>531</th>\n",
       "      <td>ARTHROTEC.99.txt2</td>\n",
       "      <td>However, I also get diarrhoea at least twice a...</td>\n",
       "    </tr>\n",
       "    <tr>\n",
       "      <th>532</th>\n",
       "      <td>ARTHROTEC.99.txt3</td>\n",
       "      <td>There are no gas pains and no other symptoms, ...</td>\n",
       "    </tr>\n",
       "    <tr>\n",
       "      <th>533</th>\n",
       "      <td>ARTHROTEC.99.txt4</td>\n",
       "      <td>When I am on holiday at the coast I am pain fr...</td>\n",
       "    </tr>\n",
       "    <tr>\n",
       "      <th>534</th>\n",
       "      <td>ARTHROTEC.99.txt5</td>\n",
       "      <td>It also allows me to sleep.</td>\n",
       "    </tr>\n",
       "  </tbody>\n",
       "</table>\n",
       "<p>535 rows × 2 columns</p>\n",
       "</div>"
      ],
      "text/plain": [
       "             text_file                                               line\n",
       "0     ARTHROTEC.1.txt0  I feel a bit drowsy & have a little blurred vi...\n",
       "1     ARTHROTEC.1.txt1  I've been on Arthrotec 50 for over 10 years on...\n",
       "2     ARTHROTEC.1.txt2  Due to my arthritis getting progressively wors...\n",
       "3     ARTHROTEC.1.txt3  every day for the next month to see how I get ...\n",
       "4     ARTHROTEC.1.txt4  So far its been very good, pains almost gone, ...\n",
       "..                 ...                                                ...\n",
       "530  ARTHROTEC.99.txt1                         almost to faint to notice.\n",
       "531  ARTHROTEC.99.txt2  However, I also get diarrhoea at least twice a...\n",
       "532  ARTHROTEC.99.txt3  There are no gas pains and no other symptoms, ...\n",
       "533  ARTHROTEC.99.txt4  When I am on holiday at the coast I am pain fr...\n",
       "534  ARTHROTEC.99.txt5                        It also allows me to sleep.\n",
       "\n",
       "[535 rows x 2 columns]"
      ]
     },
     "execution_count": 7,
     "metadata": {},
     "output_type": "execute_result"
    }
   ],
   "source": [
    "df"
   ]
  },
  {
   "cell_type": "code",
   "execution_count": 8,
   "metadata": {
    "ExecuteTime": {
     "end_time": "2020-09-10T04:46:00.945489Z",
     "start_time": "2020-09-10T04:46:00.914253Z"
    },
    "scrolled": false
   },
   "outputs": [],
   "source": [
    "from string import punctuation\n",
    "no_punctuation = []\n",
    "for idx, line in enumerate(df['line'].values):\n",
    "    no_punctuation.append(\"\".join([word for word in line if word not in punctuation]))\n",
    "df['no_punctuation'] = no_punctuation"
   ]
  },
  {
   "cell_type": "code",
   "execution_count": 9,
   "metadata": {
    "ExecuteTime": {
     "end_time": "2020-09-10T04:46:00.992361Z",
     "start_time": "2020-09-10T04:46:00.945489Z"
    }
   },
   "outputs": [
    {
     "data": {
      "text/html": [
       "<div>\n",
       "<style scoped>\n",
       "    .dataframe tbody tr th:only-of-type {\n",
       "        vertical-align: middle;\n",
       "    }\n",
       "\n",
       "    .dataframe tbody tr th {\n",
       "        vertical-align: top;\n",
       "    }\n",
       "\n",
       "    .dataframe thead th {\n",
       "        text-align: right;\n",
       "    }\n",
       "</style>\n",
       "<table border=\"1\" class=\"dataframe\">\n",
       "  <thead>\n",
       "    <tr style=\"text-align: right;\">\n",
       "      <th></th>\n",
       "      <th>text_file</th>\n",
       "      <th>line</th>\n",
       "      <th>no_punctuation</th>\n",
       "    </tr>\n",
       "  </thead>\n",
       "  <tbody>\n",
       "    <tr>\n",
       "      <th>0</th>\n",
       "      <td>ARTHROTEC.1.txt0</td>\n",
       "      <td>I feel a bit drowsy &amp; have a little blurred vi...</td>\n",
       "      <td>I feel a bit drowsy  have a little blurred vis...</td>\n",
       "    </tr>\n",
       "    <tr>\n",
       "      <th>1</th>\n",
       "      <td>ARTHROTEC.1.txt1</td>\n",
       "      <td>I've been on Arthrotec 50 for over 10 years on...</td>\n",
       "      <td>Ive been on Arthrotec 50 for over 10 years on ...</td>\n",
       "    </tr>\n",
       "    <tr>\n",
       "      <th>2</th>\n",
       "      <td>ARTHROTEC.1.txt2</td>\n",
       "      <td>Due to my arthritis getting progressively wors...</td>\n",
       "      <td>Due to my arthritis getting progressively wors...</td>\n",
       "    </tr>\n",
       "    <tr>\n",
       "      <th>3</th>\n",
       "      <td>ARTHROTEC.1.txt3</td>\n",
       "      <td>every day for the next month to see how I get ...</td>\n",
       "      <td>every day for the next month to see how I get ...</td>\n",
       "    </tr>\n",
       "    <tr>\n",
       "      <th>4</th>\n",
       "      <td>ARTHROTEC.1.txt4</td>\n",
       "      <td>So far its been very good, pains almost gone, ...</td>\n",
       "      <td>So far its been very good pains almost gone bu...</td>\n",
       "    </tr>\n",
       "    <tr>\n",
       "      <th>...</th>\n",
       "      <td>...</td>\n",
       "      <td>...</td>\n",
       "      <td>...</td>\n",
       "    </tr>\n",
       "    <tr>\n",
       "      <th>530</th>\n",
       "      <td>ARTHROTEC.99.txt1</td>\n",
       "      <td>almost to faint to notice.</td>\n",
       "      <td>almost to faint to notice</td>\n",
       "    </tr>\n",
       "    <tr>\n",
       "      <th>531</th>\n",
       "      <td>ARTHROTEC.99.txt2</td>\n",
       "      <td>However, I also get diarrhoea at least twice a...</td>\n",
       "      <td>However I also get diarrhoea at least twice a day</td>\n",
       "    </tr>\n",
       "    <tr>\n",
       "      <th>532</th>\n",
       "      <td>ARTHROTEC.99.txt3</td>\n",
       "      <td>There are no gas pains and no other symptoms, ...</td>\n",
       "      <td>There are no gas pains and no other symptoms s...</td>\n",
       "    </tr>\n",
       "    <tr>\n",
       "      <th>533</th>\n",
       "      <td>ARTHROTEC.99.txt4</td>\n",
       "      <td>When I am on holiday at the coast I am pain fr...</td>\n",
       "      <td>When I am on holiday at the coast I am pain fr...</td>\n",
       "    </tr>\n",
       "    <tr>\n",
       "      <th>534</th>\n",
       "      <td>ARTHROTEC.99.txt5</td>\n",
       "      <td>It also allows me to sleep.</td>\n",
       "      <td>It also allows me to sleep</td>\n",
       "    </tr>\n",
       "  </tbody>\n",
       "</table>\n",
       "<p>535 rows × 3 columns</p>\n",
       "</div>"
      ],
      "text/plain": [
       "             text_file                                               line  \\\n",
       "0     ARTHROTEC.1.txt0  I feel a bit drowsy & have a little blurred vi...   \n",
       "1     ARTHROTEC.1.txt1  I've been on Arthrotec 50 for over 10 years on...   \n",
       "2     ARTHROTEC.1.txt2  Due to my arthritis getting progressively wors...   \n",
       "3     ARTHROTEC.1.txt3  every day for the next month to see how I get ...   \n",
       "4     ARTHROTEC.1.txt4  So far its been very good, pains almost gone, ...   \n",
       "..                 ...                                                ...   \n",
       "530  ARTHROTEC.99.txt1                         almost to faint to notice.   \n",
       "531  ARTHROTEC.99.txt2  However, I also get diarrhoea at least twice a...   \n",
       "532  ARTHROTEC.99.txt3  There are no gas pains and no other symptoms, ...   \n",
       "533  ARTHROTEC.99.txt4  When I am on holiday at the coast I am pain fr...   \n",
       "534  ARTHROTEC.99.txt5                        It also allows me to sleep.   \n",
       "\n",
       "                                        no_punctuation  \n",
       "0    I feel a bit drowsy  have a little blurred vis...  \n",
       "1    Ive been on Arthrotec 50 for over 10 years on ...  \n",
       "2    Due to my arthritis getting progressively wors...  \n",
       "3    every day for the next month to see how I get ...  \n",
       "4    So far its been very good pains almost gone bu...  \n",
       "..                                                 ...  \n",
       "530                          almost to faint to notice  \n",
       "531  However I also get diarrhoea at least twice a day  \n",
       "532  There are no gas pains and no other symptoms s...  \n",
       "533  When I am on holiday at the coast I am pain fr...  \n",
       "534                         It also allows me to sleep  \n",
       "\n",
       "[535 rows x 3 columns]"
      ]
     },
     "execution_count": 9,
     "metadata": {},
     "output_type": "execute_result"
    }
   ],
   "source": [
    "df"
   ]
  },
  {
   "cell_type": "code",
   "execution_count": 10,
   "metadata": {
    "ExecuteTime": {
     "end_time": "2020-09-10T04:46:01.014502Z",
     "start_time": "2020-09-10T04:46:00.998869Z"
    }
   },
   "outputs": [],
   "source": [
    "# part 3\n",
    "def retreive_sentence():\n",
    "    import pandas as pd\n",
    "    import nltk\n",
    "    pattern = input('Please enter a word: ')\n",
    "    \n",
    "    id_ = []\n",
    "    sentences = []\n",
    "    for idx, line in enumerate(df['line'].values):\n",
    "        words = nltk.word_tokenize(line)\n",
    "        if pattern in words:\n",
    "            sentences.append(line)\n",
    "            id_.append(idx)\n",
    "    \n",
    "    \n",
    "    counts = []\n",
    "    count = 0\n",
    "    for sentence in sentences:\n",
    "        for word in nltk.word_tokenize(sentence):\n",
    "            if word == pattern:\n",
    "                count += 1\n",
    "        counts.append(count)\n",
    "        count = 0\n",
    "    \n",
    "    return pd.DataFrame({'sentence_id' : id_,\n",
    "                         'sentence_content' : sentences,\n",
    "                         'counts' : counts})"
   ]
  },
  {
   "cell_type": "code",
   "execution_count": 11,
   "metadata": {
    "ExecuteTime": {
     "end_time": "2020-09-10T04:46:05.573357Z",
     "start_time": "2020-09-10T04:46:01.014502Z"
    }
   },
   "outputs": [
    {
     "name": "stdout",
     "output_type": "stream",
     "text": [
      "Please enter a word: have\n"
     ]
    }
   ],
   "source": [
    "df_pattern = retreive_sentence()"
   ]
  },
  {
   "cell_type": "code",
   "execution_count": 12,
   "metadata": {
    "ExecuteTime": {
     "end_time": "2020-09-10T04:46:05.604597Z",
     "start_time": "2020-09-10T04:46:05.573357Z"
    }
   },
   "outputs": [
    {
     "data": {
      "text/html": [
       "<div>\n",
       "<style scoped>\n",
       "    .dataframe tbody tr th:only-of-type {\n",
       "        vertical-align: middle;\n",
       "    }\n",
       "\n",
       "    .dataframe tbody tr th {\n",
       "        vertical-align: top;\n",
       "    }\n",
       "\n",
       "    .dataframe thead th {\n",
       "        text-align: right;\n",
       "    }\n",
       "</style>\n",
       "<table border=\"1\" class=\"dataframe\">\n",
       "  <thead>\n",
       "    <tr style=\"text-align: right;\">\n",
       "      <th></th>\n",
       "      <th>sentence_id</th>\n",
       "      <th>sentence_content</th>\n",
       "      <th>counts</th>\n",
       "    </tr>\n",
       "  </thead>\n",
       "  <tbody>\n",
       "    <tr>\n",
       "      <th>0</th>\n",
       "      <td>0</td>\n",
       "      <td>I feel a bit drowsy &amp; have a little blurred vi...</td>\n",
       "      <td>1</td>\n",
       "    </tr>\n",
       "    <tr>\n",
       "      <th>1</th>\n",
       "      <td>2</td>\n",
       "      <td>Due to my arthritis getting progressively wors...</td>\n",
       "      <td>1</td>\n",
       "    </tr>\n",
       "    <tr>\n",
       "      <th>2</th>\n",
       "      <td>4</td>\n",
       "      <td>So far its been very good, pains almost gone, ...</td>\n",
       "      <td>1</td>\n",
       "    </tr>\n",
       "    <tr>\n",
       "      <th>3</th>\n",
       "      <td>6</td>\n",
       "      <td>Brilliant, I have a new lease of life, i walk ...</td>\n",
       "      <td>1</td>\n",
       "    </tr>\n",
       "    <tr>\n",
       "      <th>4</th>\n",
       "      <td>12</td>\n",
       "      <td>been off for 1 week still have bleeding.</td>\n",
       "      <td>1</td>\n",
       "    </tr>\n",
       "    <tr>\n",
       "      <th>...</th>\n",
       "      <td>...</td>\n",
       "      <td>...</td>\n",
       "      <td>...</td>\n",
       "    </tr>\n",
       "    <tr>\n",
       "      <th>66</th>\n",
       "      <td>449</td>\n",
       "      <td>I would not recommend this drug to anyone, esp...</td>\n",
       "      <td>1</td>\n",
       "    </tr>\n",
       "    <tr>\n",
       "      <th>67</th>\n",
       "      <td>477</td>\n",
       "      <td>My urine is bloody, I have got canker sores th...</td>\n",
       "      <td>1</td>\n",
       "    </tr>\n",
       "    <tr>\n",
       "      <th>68</th>\n",
       "      <td>485</td>\n",
       "      <td>vomitting - I have to fight to not throw up I ...</td>\n",
       "      <td>1</td>\n",
       "    </tr>\n",
       "    <tr>\n",
       "      <th>69</th>\n",
       "      <td>486</td>\n",
       "      <td>I have tried and tried to take the day dose - ...</td>\n",
       "      <td>1</td>\n",
       "    </tr>\n",
       "    <tr>\n",
       "      <th>70</th>\n",
       "      <td>526</td>\n",
       "      <td>Some of the side effects haven't totally disap...</td>\n",
       "      <td>1</td>\n",
       "    </tr>\n",
       "  </tbody>\n",
       "</table>\n",
       "<p>71 rows × 3 columns</p>\n",
       "</div>"
      ],
      "text/plain": [
       "    sentence_id                                   sentence_content  counts\n",
       "0             0  I feel a bit drowsy & have a little blurred vi...       1\n",
       "1             2  Due to my arthritis getting progressively wors...       1\n",
       "2             4  So far its been very good, pains almost gone, ...       1\n",
       "3             6  Brilliant, I have a new lease of life, i walk ...       1\n",
       "4            12           been off for 1 week still have bleeding.       1\n",
       "..          ...                                                ...     ...\n",
       "66          449  I would not recommend this drug to anyone, esp...       1\n",
       "67          477  My urine is bloody, I have got canker sores th...       1\n",
       "68          485  vomitting - I have to fight to not throw up I ...       1\n",
       "69          486  I have tried and tried to take the day dose - ...       1\n",
       "70          526  Some of the side effects haven't totally disap...       1\n",
       "\n",
       "[71 rows x 3 columns]"
      ]
     },
     "execution_count": 12,
     "metadata": {},
     "output_type": "execute_result"
    }
   ],
   "source": [
    "df_pattern"
   ]
  },
  {
   "cell_type": "markdown",
   "metadata": {
    "colab_type": "text",
    "id": "-12cqmJEpZOh"
   },
   "source": [
    "(4) Install packages nltk, numpy, scipy, pandas, and sklearn on Google Colab. Write a program to test whether they are installed successfully. (3 points for extra)"
   ]
  },
  {
   "cell_type": "code",
   "execution_count": 13,
   "metadata": {
    "ExecuteTime": {
     "end_time": "2020-09-10T04:46:05.626756Z",
     "start_time": "2020-09-10T04:46:05.604597Z"
    },
    "colab": {},
    "colab_type": "code",
    "id": "f1pn1Zl2qK77"
   },
   "outputs": [],
   "source": [
    "# write your answer here\n",
    "\n",
    "\n",
    "\n"
   ]
  }
 ],
 "metadata": {
  "colab": {
   "authorship_tag": "ABX9TyO+tpE40PgxRU/8NgGfGYzw",
   "collapsed_sections": [],
   "include_colab_link": true,
   "name": "In_class_exercise_02.ipynb",
   "provenance": []
  },
  "hide_input": false,
  "kernelspec": {
   "display_name": "Python 3",
   "language": "python",
   "name": "python3"
  },
  "language_info": {
   "codemirror_mode": {
    "name": "ipython",
    "version": 3
   },
   "file_extension": ".py",
   "mimetype": "text/x-python",
   "name": "python",
   "nbconvert_exporter": "python",
   "pygments_lexer": "ipython3",
   "version": "3.8.3"
  },
  "toc": {
   "base_numbering": 1,
   "nav_menu": {},
   "number_sections": true,
   "sideBar": true,
   "skip_h1_title": false,
   "title_cell": "Table of Contents",
   "title_sidebar": "Contents",
   "toc_cell": false,
   "toc_position": {},
   "toc_section_display": true,
   "toc_window_display": false
  },
  "varInspector": {
   "cols": {
    "lenName": 16,
    "lenType": 16,
    "lenVar": 40
   },
   "kernels_config": {
    "python": {
     "delete_cmd_postfix": "",
     "delete_cmd_prefix": "del ",
     "library": "var_list.py",
     "varRefreshCmd": "print(var_dic_list())"
    },
    "r": {
     "delete_cmd_postfix": ") ",
     "delete_cmd_prefix": "rm(",
     "library": "var_list.r",
     "varRefreshCmd": "cat(var_dic_list()) "
    }
   },
   "types_to_exclude": [
    "module",
    "function",
    "builtin_function_or_method",
    "instance",
    "_Feature"
   ],
   "window_display": false
  }
 },
 "nbformat": 4,
 "nbformat_minor": 1
}
