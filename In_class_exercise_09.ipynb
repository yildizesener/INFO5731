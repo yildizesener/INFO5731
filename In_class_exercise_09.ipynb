{
 "cells": [
  {
   "cell_type": "markdown",
   "metadata": {},
   "source": [
    "# **The ninth in-class-exercise (20 points in total, 11/11/2020)**"
   ]
  },
  {
   "cell_type": "markdown",
   "metadata": {},
   "source": [
    "The purpose of the exercise is to practice different machine learning algorithms for text classification as well as the performance evaluation. In addition, you are requried to conduct *10 fold cross validation (https://scikit-learn.org/stable/modules/cross_validation.html)* in the training. \n",
    "\n",
    "The dataset can be download from here: https://github.com/unt-iialab/INFO5731_FALL2020/blob/master/In_class_exercise/exercise09_datacollection.zip. The dataset contains two files train data and test data for sentiment analysis in IMDB review, it has two categories: 1 represents positive and 0 represents negative. You need to split the training data into training and validate data (80% for training and 20% for validation, https://towardsdatascience.com/train-test-split-and-cross-validation-in-python-80b61beca4b6) and perform 10 fold cross validation while training the classifier. The final trained model was final evaluated on the test data. \n",
    "\n",
    "Algorithms:\n",
    "\n",
    "(1) MultinominalNB\n",
    "\n",
    "(2) SVM \n",
    "\n",
    "(3) KNN \n",
    "\n",
    "(4) Decision tree\n",
    "\n",
    "(5) Random Forest\n",
    "\n",
    "(6) XGBoost\n",
    "\n",
    "Evaluation measurement:\n",
    "\n",
    "(1) Accuracy\n",
    "\n",
    "(2) Recall\n",
    "\n",
    "(3) Precison \n",
    "\n",
    "(4) F-1 score"
   ]
  },
  {
   "cell_type": "code",
   "execution_count": 1,
   "metadata": {},
   "outputs": [],
   "source": [
    "try:\n",
    "    from xgboost import XGBClassifier\n",
    "except ImportError ('Installing XGBoost...'):\n",
    "    !pip install xgboost"
   ]
  },
  {
   "cell_type": "code",
   "execution_count": 2,
   "metadata": {},
   "outputs": [],
   "source": [
    "# Write your code here\n",
    "from sklearn.metrics import accuracy_score, recall_score, precision_score, f1_score\n",
    "from sklearn.naive_bayes import MultinomialNB\n",
    "from sklearn.neighbors import KNeighborsClassifier\n",
    "from sklearn.svm import SVC\n",
    "from sklearn.tree import DecisionTreeClassifier\n",
    "from sklearn.ensemble import RandomForestClassifier\n",
    "from sklearn.model_selection import train_test_split, cross_validate, StratifiedKFold\n",
    "from sklearn.feature_extraction.text import CountVectorizer\n",
    "from sklearn.pipeline import Pipeline\n",
    "import pandas as pd\n",
    "import numpy as np"
   ]
  },
  {
   "cell_type": "code",
   "execution_count": 3,
   "metadata": {},
   "outputs": [],
   "source": [
    "with open('exercise09_datacollection/stsa-train.txt') as fin:\n",
    "    data = fin.readlines()\n",
    "with open('exercise09_datacollection/stsa-test.txt') as fin:\n",
    "    data.extend(fin.readlines())"
   ]
  },
  {
   "cell_type": "code",
   "execution_count": 4,
   "metadata": {},
   "outputs": [],
   "source": [
    "target = [x[0] for x in data]\n",
    "text = [x.strip()[2:] for x in data]"
   ]
  },
  {
   "cell_type": "code",
   "execution_count": 5,
   "metadata": {},
   "outputs": [
    {
     "data": {
      "text/html": [
       "<div>\n",
       "<style scoped>\n",
       "    .dataframe tbody tr th:only-of-type {\n",
       "        vertical-align: middle;\n",
       "    }\n",
       "\n",
       "    .dataframe tbody tr th {\n",
       "        vertical-align: top;\n",
       "    }\n",
       "\n",
       "    .dataframe thead th {\n",
       "        text-align: right;\n",
       "    }\n",
       "</style>\n",
       "<table border=\"1\" class=\"dataframe\">\n",
       "  <thead>\n",
       "    <tr style=\"text-align: right;\">\n",
       "      <th></th>\n",
       "      <th>text</th>\n",
       "      <th>target</th>\n",
       "    </tr>\n",
       "  </thead>\n",
       "  <tbody>\n",
       "    <tr>\n",
       "      <th>0</th>\n",
       "      <td>a stirring , funny and finally transporting re...</td>\n",
       "      <td>1</td>\n",
       "    </tr>\n",
       "    <tr>\n",
       "      <th>1</th>\n",
       "      <td>apparently reassembled from the cutting-room f...</td>\n",
       "      <td>0</td>\n",
       "    </tr>\n",
       "    <tr>\n",
       "      <th>2</th>\n",
       "      <td>they presume their audience wo n't sit still f...</td>\n",
       "      <td>0</td>\n",
       "    </tr>\n",
       "    <tr>\n",
       "      <th>3</th>\n",
       "      <td>this is a visually stunning rumination on love...</td>\n",
       "      <td>1</td>\n",
       "    </tr>\n",
       "    <tr>\n",
       "      <th>4</th>\n",
       "      <td>jonathan parker 's bartleby should have been t...</td>\n",
       "      <td>1</td>\n",
       "    </tr>\n",
       "  </tbody>\n",
       "</table>\n",
       "</div>"
      ],
      "text/plain": [
       "                                                text target\n",
       "0  a stirring , funny and finally transporting re...      1\n",
       "1  apparently reassembled from the cutting-room f...      0\n",
       "2  they presume their audience wo n't sit still f...      0\n",
       "3  this is a visually stunning rumination on love...      1\n",
       "4  jonathan parker 's bartleby should have been t...      1"
      ]
     },
     "execution_count": 5,
     "metadata": {},
     "output_type": "execute_result"
    }
   ],
   "source": [
    "df = pd.DataFrame({'text' : text, 'target': target})\n",
    "df.head()"
   ]
  },
  {
   "cell_type": "markdown",
   "metadata": {},
   "source": [
    "# Process Text"
   ]
  },
  {
   "cell_type": "code",
   "execution_count": 6,
   "metadata": {},
   "outputs": [],
   "source": [
    "from nltk import word_tokenize\n",
    "from string import punctuation"
   ]
  },
  {
   "cell_type": "code",
   "execution_count": 7,
   "metadata": {},
   "outputs": [],
   "source": [
    "def remove_punctuation(row):\n",
    "    return [w for w in row if w not in punctuation]"
   ]
  },
  {
   "cell_type": "code",
   "execution_count": 8,
   "metadata": {},
   "outputs": [],
   "source": [
    "df.text = df.text.apply(word_tokenize)\n",
    "df.text = df.text.apply(remove_punctuation)\n",
    "df.text = df.text.apply(lambda x: [w.lower() for w in x])"
   ]
  },
  {
   "cell_type": "code",
   "execution_count": 9,
   "metadata": {},
   "outputs": [],
   "source": [
    "X = df.text.apply(lambda x: ' '.join(x)).values\n",
    "y = df.target.apply(lambda x: int(x)).values"
   ]
  },
  {
   "cell_type": "code",
   "execution_count": 10,
   "metadata": {},
   "outputs": [],
   "source": [
    "# split the training data into training and validation sets\n",
    "train_X, test_X, train_y, test_y = train_test_split(X, y,\n",
    "                                                test_size=0.2, random_state=1)"
   ]
  },
  {
   "cell_type": "markdown",
   "metadata": {},
   "source": [
    "# Cross Validation"
   ]
  },
  {
   "cell_type": "code",
   "execution_count": 11,
   "metadata": {},
   "outputs": [],
   "source": [
    "naive_bayes = MultinomialNB()\n",
    "svc = SVC()\n",
    "knn = KNeighborsClassifier()\n",
    "dt = DecisionTreeClassifier()\n",
    "rf = RandomForestClassifier()\n",
    "xgb = XGBClassifier()\n",
    "models = [naive_bayes, svc, knn, dt, rf, xgb]\n",
    "names = ['nb', 'svc', 'knn', 'dt', 'rf', 'xgb']\n",
    "estimators = []\n",
    "for name, model in zip(names, models):\n",
    "    clf = Pipeline([('vect', CountVectorizer()), (name, model)])\n",
    "    estimators.append(clf)"
   ]
  },
  {
   "cell_type": "code",
   "execution_count": 12,
   "metadata": {},
   "outputs": [],
   "source": [
    "cv = StratifiedKFold(n_splits=10, shuffle=True, random_state=1)"
   ]
  },
  {
   "cell_type": "code",
   "execution_count": 13,
   "metadata": {
    "scrolled": false
   },
   "outputs": [],
   "source": [
    "scores = {name : None for name in names}\n",
    "scoring = {'accuracy_score' : 'accuracy',\n",
    "           'precision_score' : 'precision',\n",
    "           'recall_score' : 'recall', \n",
    "           'f1_score' : 'f1'}\n",
    "for name, clf in zip(names, estimators):\n",
    "    scores[name] = cross_validate(clf, train_X, train_y, cv=cv, scoring=scoring)"
   ]
  },
  {
   "cell_type": "markdown",
   "metadata": {},
   "source": [
    "# Find the Best Performing Algorithm"
   ]
  },
  {
   "cell_type": "code",
   "execution_count": 14,
   "metadata": {},
   "outputs": [],
   "source": [
    "def get_dict():\n",
    "    return {name : None for name in names}\n",
    "accuracy_scores = get_dict()\n",
    "precision_scores = get_dict()\n",
    "recall_scores = get_dict()\n",
    "f1_scores = get_dict()\n",
    "estimator_names = list(scores.keys())\n",
    "for name in scores.keys():\n",
    "    for score, d in zip(['accuracy_score', 'precision_score',\n",
    "                         'recall_score', 'f1_score'],\n",
    "                        [accuracy_scores, precision_scores,\n",
    "                         recall_scores, f1_scores]):\n",
    "        score_name = 'test_' + score\n",
    "        d[name] = scores[name][score_name]"
   ]
  },
  {
   "cell_type": "code",
   "execution_count": 15,
   "metadata": {},
   "outputs": [],
   "source": [
    "def get_mean_scores(d):\n",
    "    return [(name, np.mean(value)) for name, value in d.items()]    "
   ]
  },
  {
   "cell_type": "code",
   "execution_count": 16,
   "metadata": {},
   "outputs": [],
   "source": [
    "accuracy_mean = get_mean_scores(accuracy_scores)\n",
    "precision_mean = get_mean_scores(precision_scores)\n",
    "recall_mean = get_mean_scores(recall_scores)\n",
    "f1_mean = get_mean_scores(f1_scores)"
   ]
  },
  {
   "cell_type": "code",
   "execution_count": 17,
   "metadata": {},
   "outputs": [],
   "source": [
    "from matplotlib import pyplot as plt"
   ]
  },
  {
   "cell_type": "code",
   "execution_count": 18,
   "metadata": {},
   "outputs": [
    {
     "data": {
      "image/png": "[encoded data removed]",
      "text/plain": [
       "<Figure size 864x576 with 4 Axes>"
      ]
     },
     "metadata": {
      "needs_background": "light"
     },
     "output_type": "display_data"
    }
   ],
   "source": [
    "fig, axes = plt.subplots(2,2)\n",
    "fig.set_size_inches(12, 8)\n",
    "axes = axes.flatten()\n",
    "for ax, t, title in zip(axes, [accuracy_mean, precision_mean, recall_mean, f1_mean],\n",
    "                 ['accuracy', 'precision', 'recall', 'f1']):\n",
    "    ax.bar(range(len(names)), [mean for _, mean in t], tick_label=names)\n",
    "    ax.set_title(title)"
   ]
  },
  {
   "cell_type": "code",
   "execution_count": 35,
   "metadata": {},
   "outputs": [],
   "source": [
    "def print_mean_scores(t, scoring_name):\n",
    "    for name, score in t:\n",
    "        print(name, 'mean', scoring_name, 'score is', score)"
   ]
  },
  {
   "cell_type": "code",
   "execution_count": 36,
   "metadata": {},
   "outputs": [
    {
     "name": "stdout",
     "output_type": "stream",
     "text": [
      "nb mean accuracy score is 0.7987723278152463\n",
      "svc mean accuracy score is 0.7532918454935622\n",
      "knn mean accuracy score is 0.5842460658082976\n",
      "dt mean accuracy score is 0.6280036787247087\n",
      "rf mean accuracy score is 0.7362712037604742\n",
      "xgb mean accuracy score is 0.7266899652564888\n",
      "+++++++++++++++++++++++++++++++++++++++++++++++++++++++++++++++++++++++++++++++\n",
      "nb mean precision score is 0.8027416942826898\n",
      "svc mean precision score is 0.7587898786798248\n",
      "knn mean precision score is 0.598329300018695\n",
      "dt mean precision score is 0.6403984723812968\n",
      "rf mean precision score is 0.7424685224073968\n",
      "xgb mean precision score is 0.7333736520687197\n",
      "+++++++++++++++++++++++++++++++++++++++++++++++++++++++++++++++++++++++++++++++\n",
      "nb mean recall score is 0.8071881770349737\n",
      "svc mean recall score is 0.7632273290003095\n",
      "knn mean recall score is 0.5815428659857628\n",
      "dt mean recall score is 0.6307822655524605\n",
      "rf mean recall score is 0.7462496131228722\n",
      "xgb mean recall score is 0.7362356855462705\n",
      "+++++++++++++++++++++++++++++++++++++++++++++++++++++++++++++++++++++++++++++++\n",
      "nb mean f1 score is 0.8046840330380496\n",
      "svc mean f1 score is 0.7607755205942147\n",
      "knn mean f1 score is 0.5897133440531871\n",
      "dt mean f1 score is 0.6354103192941511\n",
      "rf mean f1 score is 0.7441171708558187\n",
      "xgb mean f1 score is 0.7345679470576936\n",
      "+++++++++++++++++++++++++++++++++++++++++++++++++++++++++++++++++++++++++++++++\n"
     ]
    }
   ],
   "source": [
    "for t, name in zip([accuracy_mean, precision_mean, recall_mean, f1_mean], \n",
    "                   ['accuracy', 'precision', 'recall', 'f1']):\n",
    "    print_mean_scores(t, name)\n",
    "    print('+'*79)"
   ]
  },
  {
   "cell_type": "markdown",
   "metadata": {},
   "source": [
    "# Test Result"
   ]
  },
  {
   "cell_type": "markdown",
   "metadata": {},
   "source": [
    "Best performing algorithm is `MultinomialNB`"
   ]
  },
  {
   "cell_type": "code",
   "execution_count": 41,
   "metadata": {},
   "outputs": [
    {
     "name": "stdout",
     "output_type": "stream",
     "text": [
      "Test accuracy score is: 0.8078902229845626\n",
      "Test precision score is: 0.829050279329609\n",
      "Test recall score is: 0.8021621621621622\n",
      "Test F1 score is: 0.8153846153846154\n"
     ]
    }
   ],
   "source": [
    "clf = Pipeline([('vect', CountVectorizer()), ('nb', MultinomialNB())])\n",
    "clf.fit(train_X, train_y)\n",
    "predictions = clf.predict(test_X)\n",
    "print('Test accuracy score is: {}'.format(accuracy_score(test_y, predictions)))\n",
    "print('Test precision score is: {}'.format(precision_score(test_y, predictions)))\n",
    "print('Test recall score is: {}'.format(recall_score(test_y, predictions)))\n",
    "print('Test F1 score is: {}'.format(f1_score(test_y, predictions)))"
   ]
  }
 ],
 "metadata": {
  "hide_input": false,
  "kernelspec": {
   "display_name": "Python 3",
   "language": "python",
   "name": "python3"
  },
  "language_info": {
   "codemirror_mode": {
    "name": "ipython",
    "version": 3
   },
   "file_extension": ".py",
   "mimetype": "text/x-python",
   "name": "python",
   "nbconvert_exporter": "python",
   "pygments_lexer": "ipython3",
   "version": "3.7.1"
  },
  "toc": {
   "base_numbering": 1,
   "nav_menu": {},
   "number_sections": true,
   "sideBar": true,
   "skip_h1_title": false,
   "title_cell": "Table of Contents",
   "title_sidebar": "Contents",
   "toc_cell": false,
   "toc_position": {},
   "toc_section_display": true,
   "toc_window_display": false
  },
  "varInspector": {
   "cols": {
    "lenName": 16,
    "lenType": 16,
    "lenVar": 40
   },
   "kernels_config": {
    "python": {
     "delete_cmd_postfix": "",
     "delete_cmd_prefix": "del ",
     "library": "var_list.py",
     "varRefreshCmd": "print(var_dic_list())"
    },
    "r": {
     "delete_cmd_postfix": ") ",
     "delete_cmd_prefix": "rm(",
     "library": "var_list.r",
     "varRefreshCmd": "cat(var_dic_list()) "
    }
   },
   "types_to_exclude": [
    "module",
    "function",
    "builtin_function_or_method",
    "instance",
    "_Feature"
   ],
   "window_display": false
  }
 },
 "nbformat": 4,
 "nbformat_minor": 2
}
