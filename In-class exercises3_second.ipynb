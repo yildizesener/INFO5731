{
 "cells": [
  {
   "cell_type": "code",
   "execution_count": 6,
   "metadata": {},
   "outputs": [],
   "source": [
    "# Importing GetOldTweets3\n",
    "import GetOldTweets3 as got\n",
    "# Importing pandas\n",
    "import pandas as pd\n",
    "\n",
    "def get_tweets(username, top_only, start_date, end_date, max_tweets):\n",
    "   \n",
    "    # specifying tweet search criteria \n",
    "    tweetCriteria = got.manager.TweetCriteria().setUsername(username)\\\n",
    "                          .setTopTweets(top_only)\\\n",
    "                          .setSince(start_date)\\\n",
    "                          .setUntil(end_date)\\\n",
    "                          .setMaxTweets(max_tweets)\n",
    "    \n",
    "    # scraping tweets based on criteria\n",
    "    tweet = got.manager.TweetManager.getTweets(tweetCriteria)\n",
    "    \n",
    "    # creating list of tweets with the tweet attributes \n",
    "    # specified in the list comprehension\n",
    "    text_tweets = [[tw.username,\n",
    "                tw.text,\n",
    "                tw.date,\n",
    "                tw.retweets,\n",
    "                tw.favorites,\n",
    "                tw.mentions,\n",
    "                tw.hashtags] for tw in tweet]\n",
    "    \n",
    "    # creating dataframe, assigning column names to list of\n",
    "    # tweets corresponding to tweet attributes\n",
    "    df = pd.DataFrame(text_tweets, \n",
    "                      columns = ['User', 'Text','Date',\n",
    "                                 'Favorites', 'Retweets', \n",
    "                                 'Mentions', 'HashTags'])\n",
    "    \n",
    "    return df"
   ]
  },
  {
   "cell_type": "code",
   "execution_count": 5,
   "metadata": {},
   "outputs": [
    {
     "name": "stdout",
     "output_type": "stream",
     "text": [
      "An error occured during an HTTP request: HTTP Error 404: Not Found\n",
      "Try to open in browser: https://twitter.com/search?q=%20from%3Abarackobama%20since%3A2020-04-07%20until%3A2020-04-14&src=typd\n"
     ]
    },
    {
     "ename": "SystemExit",
     "evalue": "",
     "output_type": "error",
     "traceback": [
      "An exception has occurred, use %tb to see the full traceback.\n",
      "\u001b[0;31mSystemExit\u001b[0m\n"
     ]
    }
   ],
   "source": [
    "# Defining news sources I want to include\n",
    "sources = ['BarackObama']\n",
    "# getting tweets from the defined new sources, \n",
    "# only including top tweets, \n",
    "# looking at the past week with the end_date not inclusive,\n",
    "# and specifying that we want a max number of tweets = 100.\n",
    "# also sorting the tweets by date, descending.\n",
    "df = get_tweets(sources,\n",
    "                top_only = True,\n",
    "                start_date = \"2020-04-07\", \n",
    "                end_date = \"2020-04-14\",\n",
    "                max_tweets = 100).sort_values('Date', \n",
    "                                              ascending=False)\n",
    "df.head()"
   ]
  },
  {
   "cell_type": "code",
   "execution_count": null,
   "metadata": {},
   "outputs": [],
   "source": [
    "# Importing GetOldTweets3\n",
    "import GetOldTweets3 as got\n",
    "# Importing pandas\n",
    "import pandas as pd\n",
    "def get_tweets(state, startdate, enddate, maxtweet):\n",
    "    tweetCriteria = got.manager.TweetCriteria().setQuerySearch(\"#Lonely\")\\\n",
    "                                            .setSince(startdate)\\\n",
    "                                            .setUntil(enddate)\\\n",
    "                                            .setNear(state)\\\n",
    "                                            .setWithin(\"500mi\")\\\n",
    "                                            .setMaxTweets(maxtweet)\n",
    "    tweet = got.manager.TweetManager.getTweets(tweetCriteria)\n",
    "    \n",
    "    text_tweets = [[tw.username,\n",
    "                tw.text,\n",
    "                tw.date,\n",
    "                tw.retweets,\n",
    "                tw.favorites,\n",
    "                tw.mentions,\n",
    "                tw.hashtags,\n",
    "                tw.geo] for tw in tweet]\n",
    "    df_state= pd.DataFrame(text_tweets, columns = ['User', 'Text', 'Date', 'Favorites', 'Retweets', 'Mentions','Hashtags', 'Geolocation'])\n",
    "    \n",
    "    return df_state"
   ]
  },
  {
   "cell_type": "code",
   "execution_count": null,
   "metadata": {},
   "outputs": [],
   "source": [
    "df_1 = get_tweets('Texas', \"2019-07-18\", \"2020-07-20\", 1000)\n",
    "df_1.head()"
   ]
  },
  {
   "cell_type": "code",
   "execution_count": null,
   "metadata": {},
   "outputs": [],
   "source": []
  }
 ],
 "metadata": {
  "kernelspec": {
   "display_name": "Python 3",
   "language": "python",
   "name": "python3"
  },
  "language_info": {
   "codemirror_mode": {
    "name": "ipython",
    "version": 3
   },
   "file_extension": ".py",
   "mimetype": "text/x-python",
   "name": "python",
   "nbconvert_exporter": "python",
   "pygments_lexer": "ipython3",
   "version": "3.7.1"
  }
 },
 "nbformat": 4,
 "nbformat_minor": 2
}
