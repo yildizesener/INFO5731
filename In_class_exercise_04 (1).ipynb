{
 "cells": [
  {
   "cell_type": "markdown",
   "metadata": {
    "colab_type": "text",
    "id": "view-in-github"
   },
   "source": [
    "<a href=\"https://colab.research.google.com/github/unt-iialab/INFO5731_Spring2020/blob/master/In_class_exercise/In_class_exercise_04.ipynb\" target=\"_parent\"><img src=\"https://colab.research.google.com/assets/colab-badge.svg\" alt=\"Open In Colab\"/></a>"
   ]
  },
  {
   "cell_type": "markdown",
   "metadata": {
    "colab_type": "text",
    "id": "EuX00KHNeSpw"
   },
   "source": [
    "# **The fourth in-class-exercise (20 points in total)**"
   ]
  },
  {
   "cell_type": "markdown",
   "metadata": {
    "colab_type": "text",
    "id": "s-vTOb03hG1f"
   },
   "source": [
    "# 1. Text Data Preprocessing\n",
    "\n",
    "Here is a [legal case](https://github.com/unt-iialab/INFO5731_FALL2020/blob/master/In_class_exercise/01-05-1%20%20Adams%20v%20Tanner.txt) we collected from westlaw, please follow the steps we mentioned in lesson 5 to clean the data:\n",
    "\n",
    "\n",
    "\n",
    "## 1.1 Basic feature extraction using text data (4 points)\n",
    "\n",
    "*   Number of sentences\n",
    "*   Number of words\n",
    "*   Number of characters\n",
    "*   Average word length\n",
    "*   Number of stopwords\n",
    "*   Number of special characters\n",
    "*   Number of numerics\n",
    "*   Number of uppercase words\n",
    "\n",
    "## 1.2 Basic Text Pre-processing of text data (4 points)\n",
    "\n",
    "*   Lower casing\n",
    "*   Punctuation removal\n",
    "*   Stopwords removal\n",
    "*   Frequent words removal\n",
    "*   Rare words removal\n",
    "*   Spelling correction\n",
    "*   Tokenization\n",
    "*   Stemming\n",
    "*   Lemmatization\n",
    "\n",
    "## 1.3 Save all the **clean sentences** to a **csv file** (one column, each raw is a sentence) after finishing all the steps above. (4 points)\n",
    "\n",
    "\n",
    "## 1.4 Advance Text Processing (Extra credit: 4 points)\n",
    "\n",
    "*   Calculate the term frequency of all the terms.\n",
    "*   Print out top 10 1-gram, top 10 2-grams, and top 10 3-grams terms as features.\n"
   ]
  },
  {
   "cell_type": "markdown",
   "metadata": {},
   "source": [
    "## 1.1 Basic feature extraction using text data (4 points)"
   ]
  },
  {
   "cell_type": "code",
   "execution_count": 1,
   "metadata": {
    "colab": {},
    "colab_type": "code",
    "id": "vR0L3_CreM_A"
   },
   "outputs": [],
   "source": [
    "# Write your code here\n",
    "with open('/Users/yildizesener/Desktop/GitHub/INFO5731_FALL2020/In_class_exercise/01-05-1  Adams v Tanner.txt') as file:\n",
    "    text = file.read()"
   ]
  },
  {
   "cell_type": "code",
   "execution_count": 2,
   "metadata": {},
   "outputs": [
    {
     "name": "stdout",
     "output_type": "stream",
     "text": [
      "Number of sentences: 204\n"
     ]
    }
   ],
   "source": [
    "# Number of sentences\n",
    "number_of_sentences = lambda x : len(str(x).split('. '))\n",
    "print(\"Number of sentences:\", number_of_sentences(text))"
   ]
  },
  {
   "cell_type": "code",
   "execution_count": 3,
   "metadata": {},
   "outputs": [
    {
     "name": "stdout",
     "output_type": "stream",
     "text": [
      "Number of words: 3575\n"
     ]
    }
   ],
   "source": [
    "# Number of words\n",
    "number_of_words = lambda x : len(str(x).split(' '))\n",
    "print('Number of words:', number_of_words(text))"
   ]
  },
  {
   "cell_type": "code",
   "execution_count": 4,
   "metadata": {},
   "outputs": [
    {
     "name": "stdout",
     "output_type": "stream",
     "text": [
      "Number of characters (without space): 16880\n",
      "Number of charcters:  20454\n"
     ]
    }
   ],
   "source": [
    "# Number of characters\n",
    "characters_wihtout_space = [char for char in list(text) if char != ' ']\n",
    "print('Number of characters (without space):', len(characters_wihtout_space))\n",
    "print('Number of charcters: ', len(list(text)))"
   ]
  },
  {
   "cell_type": "code",
   "execution_count": 5,
   "metadata": {},
   "outputs": [
    {
     "data": {
      "text/plain": [
       "4.721678321678322"
      ]
     },
     "execution_count": 5,
     "metadata": {},
     "output_type": "execute_result"
    }
   ],
   "source": [
    "# Average word length\n",
    "def average_word_length(text):\n",
    "    total = 0\n",
    "    for word in text.split(' '):\n",
    "        total += len(word)\n",
    "    return total/number_of_words(text)\n",
    "\n",
    "average_word_length(text)"
   ]
  },
  {
   "cell_type": "code",
   "execution_count": 6,
   "metadata": {},
   "outputs": [
    {
     "name": "stderr",
     "output_type": "stream",
     "text": [
      "[nltk_data] Downloading package stopwords to\n",
      "[nltk_data]     /Users/yildizesener/nltk_data...\n",
      "[nltk_data]   Package stopwords is already up-to-date!\n"
     ]
    },
    {
     "name": "stdout",
     "output_type": "stream",
     "text": [
      "Number of stopwords: 1679\n"
     ]
    }
   ],
   "source": [
    "# Number of Stopwords\n",
    "from nltk.corpus import stopwords\n",
    "import nltk\n",
    "nltk.download('stopwords')\n",
    "print('Number of stopwords:', len([word for word in text.split() if word in stopwords.words('english')]))"
   ]
  },
  {
   "cell_type": "code",
   "execution_count": 7,
   "metadata": {},
   "outputs": [
    {
     "name": "stdout",
     "output_type": "stream",
     "text": [
      "Number of special characters: 18\n"
     ]
    }
   ],
   "source": [
    "# Number of Special Characters\n",
    "special_characters = '!@#$^&*'\n",
    "total = 0\n",
    "for s_char in special_characters:\n",
    "    count = len([word for word in text.split(' ') if word.startswith(s_char)])\n",
    "    total += count\n",
    "print('Number of special characters:', total)"
   ]
  },
  {
   "cell_type": "code",
   "execution_count": 8,
   "metadata": {},
   "outputs": [
    {
     "name": "stdout",
     "output_type": "stream",
     "text": [
      "Number of numerics: 356\n"
     ]
    }
   ],
   "source": [
    "# Number of Numberics\n",
    "number_of_numerics = len([x for x in list(text) if x.isnumeric()])\n",
    "print('Number of numerics:', number_of_numerics)"
   ]
  },
  {
   "cell_type": "code",
   "execution_count": 9,
   "metadata": {},
   "outputs": [
    {
     "name": "stdout",
     "output_type": "stream",
     "text": [
      "Number of uppercase words: 84\n"
     ]
    }
   ],
   "source": [
    "# Number of Uppercase Words\n",
    "number_of_upper = len([word for word in text.split() if word.isupper()])\n",
    "print('Number of uppercase words:', number_of_upper)"
   ]
  },
  {
   "cell_type": "markdown",
   "metadata": {},
   "source": [
    "## 1.2 Basic Text Pre-processing of text data (4 points)"
   ]
  },
  {
   "cell_type": "code",
   "execution_count": 10,
   "metadata": {},
   "outputs": [
    {
     "name": "stdout",
     "output_type": "stream",
     "text": [
      "5 ala. 740 supreme court of alabama. adams v. tanner and horton. june term, 1843. synopsis writ of error to the circuit court of sumter. west headnotes (2) [1] chattel mortgages crops a growing crop has such an existence as to be the subject-matter of a mortgage or other contract which passes an interest to vest in possession, either immediately or at a future time. 4 cases that cite this headnote [2] creditors’ remedies lien and priority under st.1821, prohibiting a levy on a crop until it has been gathered, no lien attaches in favor of a fi. fa. on a growing crop, nor does such lien attach until after the crop has been gathered. 5 cases that cite this headnote **1 this was a trial of the right of property under the statute. in november, 1840, an execution issued from the circuit court of sumter, at the suit of the plaintiff in error, requiring the sheriff of that county, to make of the goods, &c., of allen harrison and others, the sum of thirty-seven hundred and seventy-seven 80-100 dollars, besides costs. this execution was levied on thirty bales of cotton, as the property of allen harrison, which was claimed, and a bond given to try the right. an issue was made up to try the question of the liability of the cotton to the plaintiff’s execution, and submitted to a jury. on the trial, a bill of exceptions was sealed at the instance of the plaintiff. the plaintiff proved that he recovered his judgment in october, 1839; that an execution *741 was issued thereon on the 7th nov. thereafter, and that alias and pluries fieri facias’, issued regularly up to the time levy was made; that the cotton levied on was growed on the plantation of harrison, and cultivated by the hands in his service. it was proved by the claimants, by the production of a written contract, that harrison, on the twenty-second of may, 1840, in consideration that the claimants were involved, as indorsers for burton & harrison of sumter county, and were then exposed to an execution, amounting to upwards of fourteen thousand dollars, bargained and sold to the claimants all his growing crop of cotton &c., consisting of one hundred and twenty acres, &c. allen harrison promised and obliged himself to give up his crop to the use of the claimants at any time to save them from suffering as his indorsers; if the crop matured and was gathered he undertook to deliver the cotton in gainesville. the claimants came from tennessee, (where they resided) about the first of september, 1840, bringing with them three or four white laborers, and took possession of the crop and slaves, and with the latter, and white laborers, gathered the cotton, prepared it for market, and when levied on, it was in a ware-house in gainesville. the plaintiff then proved by harrison, that the claimants took possession of the crop, while he was absent, and disposed of it without his consent. it was admitted, that the contract was made in good faith. the court charged the jury, that the plaintiff had no lien by virtue of his judgment, and execution on the growing crop; that harrison had a right to convey it, without being in any manner restrained by them; that the writing adduced, was a sale of the crop, but if it was not, and the lien of the fieri facias would have attached upon it, when gathered, yet if the claimants obtained possession on the first of september, and controlled the gathering of the crop, then no lien attached, and it was not subject to the levy. attorneys and law firms r. h. smith, for the plaintiff, in error, made the following points.--1. the crop of harrison, must, in may, 1840, have been in an immature state, and it is insisted, was not the subject of a sale. 2. by the common law, a growing crop could be levied on and sold, [1 salk. rep. 361; 1 bos. & p. rep. 307; 6 east’s rep. 604, note 1; 2 johns. rep. 418, 422; 7 mass. rep. 34,] and our statue, [[[aik. dig. § 41, p. 167,] which forbids the levy of an *742 execution on a growing crop, is to receive a strict construction. it merely inhibits the levy, but the lien attaches, and a levy and sale may be made after the crop matures, and is gathered. 3. the contract does not purport to convey the growing crop, but is a mere executory agreement, requiring some act to be done by harrison, in order to invest the claimants with the right of property. [chit. on con. 112, 207; 3 johns. rep. 338, 424; 5 wend. rep. 26; 13 johns. rep. 235; 8 dowl. rep, 693;] and until this act was done, the crop, no matter by who gathered, because liable to be seized for harrison’s debts. a court of chancery would not compel a specific performance of the contract at the claimant’s instance. 4. the charge of the court is also objectionable in deciding disputed facts. w. m. murphy, with whom was w. g. jones, for the defendant--cited the act of 1821, [aik. dig. 167,] which declares it to be lawful to levy an execution on a planted crop, until it is gathered, and contended that no lien attached in favor of the plaintiff. this being the case, the defendant in execution was not restrained from making the contract which he did with the claimants. **2 the lien of an execution is destroyed by an injunction, because it takes away the right to levy it. in short, whenever the right to levy an execution is but temporarily suspended, or withdrawn, the lien is during that time lost. [[[[whipple v. foot, 2 johns. rep. 216; 3 wash. c. c. rep. 66; 4 how. rep. 130.] it is admitted that the contract between the defendant in execution, and the claimants, was in good faith, if so, the severance and removal of the cotton gave the latter a good title against all creditors of the former. opinion collier, c. j. there can be no doubt that a growing crop has such an existence as to be the subject matter of a sale, mortgage, or other contract which possess an interest to vest in possession, either immediately or at some future time. this proposition has frequently been assumed as unquestionable; the point of inquiry generally being, whether under a statute of frauds, such as the 29 chas. 2, it is a mere chattel, and transferrable by parol without writing. [chitty on con. 241-2, 332; whipple v. foot, 2 johns. rep. 422; stewart v. doughty, 9 johns. rep. 112; *743 austin v. sawyer, 9 cow. rep. 39. see also ravesies v. lee & alston, at last term.] the contract set out in the bill of exceptions, we are inclined to think evidences rather a mortgage than an absolute sale. it recites that the claimants are involved as indorsers of a mercantile firm, of which the defendant was a partner; that an execution for upwards of fourteen thousand dollars against their estate, is in the sheriff’s hands, and that a conveyance is made of the crop of cotton, corn and oats, which the grantor agrees to give up at any time to the use of the claimants, so as to prevent injury to them as indorsers. the defendant in execution might at any time have divested the interest which the contract vested in the claimants, by discharging their liability as his indorsers, or a judgment creditor might have satisfied the lien, and when the crop was gathered, have levied on, and sold it under a fieri facias. we will then consider the writing under which the claimants assert a right, as a mortgage with a power to take possession any time during the year, unless they should be relieved from their engagements as indorsers. it is not pretended that their liability has been satisfied, and it is admitted that the parties have acted with good faith, so that it is a dry question of law, whether the right of the plaintiff, or the claimants shall prevail. assuming for the present that the execution of the plaintiffs did not operate a lien upon the planted crop previous to the contract of may, 1840, we will inquire whether the defendant in execution had such an interest as could be levied on and sold. the claimants had previous to the levy of the execution taken possession of the crop, prepared the cotton for market, and removed it to a ware-house. this possession, it is insisted, was a trespass, because it was acquired in the absence of the defendant in execution, and without his consent then given. conceding the truth of the facts stated in the bill of exceptions, and we think it will not follow, that the possession of the claimants is a nullity, and that the case must be considered as if they had never interfered with the crop. the contract contains an express undertaking to give up the crop at any time the claimants might require it for their indemnity, and if they took possession of it in the absence of the grantor, (though without his consent,) if he subsequently acquiesced in it, the inference would be, if necessary, that their acts were approved by him. taking this to be clear *744 law, and it will be seen, that the defendant in execution at the time of the levy had nothing more than a mere equitable right to redeem the cotton by paying the debts indorsed by the claimants. he had no possession coupled with this equity, but only a naked equity, which it has been held cannot be reached by an ordinary execution. [perkins and elliott v. mayfield, 5 porter’s rep. 182.] **3 this brings us back to the question, whether the execution of the plaintiff was a lien on the growing crop, so as to defeat the mortgage to the claimants. it has been frequently mooted whether, at common law, corn, &c., before it is gathered, can be seized under a fieri facias. mr. dane, in remarking upon this point, says, “the american editor of bacon’s abridgment, says, ‘wheat growing in the ground is a chattel, and subject to be taken in execution; and the sheriff may suffer it to grow till harvest, and then cut and sell it; or may perhaps sell it growing, and the purchaser will then be entitled to enter, for the purpose of cutting and carrying it away.” [he cites whipple v. foot, ut supra, also poole’s case, salk. 368; 1 bos. & p. 397; 6 east, 604, n.] but whipple v. foot seems to be the only case that supports his position, that unripe wheat or corn may be taken in execution; and the same editor states that nothing can be taken in execution which cannot be sold. this position, says the learned commentator, is no doubt law. but it is unnecessary to consider how this matter stands at common law. the first section of the act of 1821, “to prevent sheriffs and other officers from levying executions in certain cases, enacts, that “it shall not be lawful for any sheriff or other officer, to levy a writ of fieri facias or other execution on the planted crop of a debtor, or person against whom an execution may issue, until the crop is gathered.” [aik. dig. 167.] now here is an express inhibition to levy an execution on a crop while it remains on, or in the ground, and until it is severed from the soil to which it owes its growth. in respect to property thus situated, will the lien of an execution attach eo instanti upon its being placed in the hands of an officer? if so, the act cited, will only have the effect of keeping the right to levy it in abeyance until the crop is gathered. the lien of an execution does, not only operate so as to prevent the debtor from disposing of the property on which it attaches, but gives to the creditor the right to have it sold to satisfy his *745 judgment. the lien and the right to levy are intimately connected, and if the latter be taken away, or suspended, the effect, at common law, is the destruction of the former. this principle is fully established by mansony and hurtell v. the president, &c. of the bank of the united states, and its assignees, and the citations contained in the opinion of the court in that case, as also in my opinion in wood v. gary, et al., both decided at the last term. that it was competent for the legislature to have made it unlawful to levy an execution on particular property, until its condition was changed, and still to give it a continuing lien, cannot be doubted; but there is nothing in the act in question to indicate that such is its intention. if the object was merely to suspend the sale, until the crop was gathered, it would have been very easy to have said so in explicit terms, but declaring as the statute does, in totidem verbis, that the execution shall not be levied, the legislature must be supposed to have meant what they have expressed. the act was induced by the doubts which existed as to what was the common law, and was intended to remove those doubts by declaring what should be the law in future. it does not create a lien or authorize a levy in a case in which the law, as it then existed, was silent. the idea that the lien attached upon the planted crop as soon as the execution was delivered to the sheriff, though the right to levy it was postponed until a severance took place, is attempted to be deduced from the last words of the section cited, viz: “until the crop is gathered.” these words cannot, upon any just principles of construction be regarded so potent as to give to an execution a retrospective effect. they do not refer to the lien, if they did they would postpone it until the crop was gathered; but it is the levy they relate to and postpone until that event takes place. **4 the right to levy an execution on a planted crop, then, being expressly taken away by the statute, the lien which is connected with and consequent upon that right, never attaches until severance. this being the case, the right of the defendant in execution to make the contract which he did, is unquestionable, and the title of the claimants, coupled as it was with the possession, was paramount to any lien which the execution could exert. the circuit judge may have mistaken the law in supposing that the contract was a sale, but if he did, an error in that respect was very immaterial, for whether a sale or mortgage, as we have *746 seen, under the facts of the case, the defendant in execution has no interest that could be seised and sold under execution. there is no assumption of any material fact in the charge; but the possession of the claimant, the time when acquired, the gathering of the crop, &c., are all referred to the determination of the jury; who are instructed, if they find them according to the evidence adduced, that no lien ever attached in favor of the plaintiff. the bona fides of the contract was conceded, so that no charge was necessary on that point, and it could not with propriety enter into the inquiry of the jury. it results from what has been said, that the judgment of the circuit court is affirmed. dissenting opinion. ormond, j. **4 the statute which presents the question before the court is, that “it shall not be lawful for any sheriff or other officer to levy a writ of fieei facias or other execution, on the planted crop of a debtor, or person against whom an execution may issue, until the crop is gathered.” [clay’s dig. 210, § 46.] i shall not enter upon the enquiry, whether, at common law, an execution could be levied upon a growing crop, though i apprehend, it would not be difficult to maintain the affirmative of the proposition. it is sufficient for my purpose, that the statute supposes such to have been the law, as it doubtless was the practice. this act must be considered in connection with the other acts upon the same subject. the policy of the state, as indicated by these statutes, is undeniably that all the property of a debtor, real and personal, to which he has a legal title, shall be subject to sale by execution, and it appears to me that it would be difficult to assign a reason for the exemption of this species of property from the claims of judgment creditors, and for giving to the defendant in execution the right to dispose of it. it appears to me, with all deference, that the argument that because the sheriff was prohibited from levying on a ““planted crop,” that therefore the execution had lost its lien, and the debtor had the right to sell it, is a non sequitur. the mischief which the statute designed to remedy was, the sacrifice which would be necessarily made by the sale of an immature crop: the statute enables the debtor to retain it until it matures, and by severing it from the soil to put it *747 in a condition to bring its value--the lien in the mean time continuing in the plaintiff in execution. **5 if further confirmation of the correctness of this view were necessary, it will be found, i think, in the language employed by the legislature. the sheriff is forbidden to levy on a “planted crop” until the crop is gathered. now, if the view taken by the majority of the court, is correct, the right secured to the plaintiff in execution, of levying on the crop after it is gathered, may be frustrated, as it was in this case, by a sale by the defendant in execution, whilst the crop is in an immature state. the construction which has been put upon the statute, involves the singular anomaly, that the legislature, for the protection of the debtor, has forbidden the plaintiff in execution to sell the property of his debtor, because it is not in a condition to bring its value, and yet permits the debtor, voluntarily, by a sale, to submit to the same sacrifice, for his own benefit. it is, in effect, a gift to the defendant in execution, of the growing crop, provided he does not gather it himself, but disposes of it in its then condition. this, i feel a thorough conviction, was not the intention of the legislature; but that it was to secure him from loss, by prohibiting a levy and sale of the crop, until it was gathered, when the temporary suspension of the right to sell, ceased. all citations 5 ala. 740, 1843 wl 284 end of document © 2019 thomson reuters. no claim to original u.s. government works. citing references (9) treatment title date type depth headnote(s) cited by 1. booker v. jones’s adm’x 55 ala. 266, 271 , ala. trover for conversion of cotton, with counts in case. appeal from the circuit court of hale. tried before the hon. m. j. saffold. dec term 1876 case — cited by 2. lehman, durr & co. v. marshall 47 ala. 362, 376 , ala. [trover for conversion of cotton.] appeal from the city court of montgomery. tried before hon. john d. cunningham. jan term 1872 case — cited by 3. bibb v. janney 45 ala. 329, 334 , ala. [garnishment; wages; waiver of exemption.] appeal from city court of montgomery. tried before hon. john d. cunningham. jan term 1871 case — cited by 4. mckenzie v. lampley 31 ala. 526, 527 , ala. [trial of right of property in cotton.] appeal from the circuit court of barbour. tried before the hon. s. d. hale. jan term 1858 case — cited by 5. evans v. lamar 21 ala. 333, 335+ , ala. error to the circuit court of autauga. tried before the hon. a. b. moore. jun term 1852 case — cited by 6. dewey v. bowman 8 cal. 145, 147 , cal. the judgment of the court below, against jacob s. cohen, should be reversed, for the following reasons: because the finding of the court was, so far as cohen was concerned,... jul term 1857 case — mentioned by 7. rees v. coats 65 ala. 256, 258 , ala. trover for conversion of three bales of cotton. appeal from the circuit court of etowah. tried before the hon. wm. l. whitlock. nov term 1880 case — mentioned by 8. edwards v. thompson 4 s.w. 913, 914 , tenn. appeal from circuit court, weakley county. may 1887 case — — 9. growing crops as subject to levy and seizure under attachment or execution 103 a.l.r. 464 generally, at common law, growing crops raised by annual planting, while still attached to the soil, are regarded as personal chattels, subject to levy and seizure under attachment... 1936 alr — — table of authorities (3) treatment referenced title type depth quoted page number mentioned 1. austin v. sawyer 9 cow. 39, n.y.sup., 1828 parol evidence is not admissible to contradict, or substantially vary, a written contract. and where a. quit-claimed land to w., on which a crop of wheat was growing, reserving the... case 2 cited 2. perkins v. mayfield 5 port. 182, ala., 1837 on writ of error to the circuit court of tuskaloosa. case 2+ mentioned 3. stewart v. doughty 9 johns. 108, n.y.sup., 1812 a. let to b. a farm for six years, and a. agreed “to render, yield and pay to a. the one half of all the wheat, rye, corn and other grain, raised on the farm in each year, in the... case 2 filings there are no filings for this citation. negative treatment there are no negative treatment results for this citation. history there are no history results for this citation.\n"
     ]
    }
   ],
   "source": [
    "# Turn all text into lowercase\n",
    "text = \" \".join(word.lower() for word in text.split())\n",
    "print(text)"
   ]
  },
  {
   "cell_type": "code",
   "execution_count": 11,
   "metadata": {
    "scrolled": true
   },
   "outputs": [
    {
     "name": "stdout",
     "output_type": "stream",
     "text": [
      "5 ala. 740 supreme court of alabama. adams v. tanner and horton. june term 1843. synopsis writ of error to the circuit court of sumter. west headnotes 2 1 chattel mortgages crops a growing crop has such an existence as to be the subjectmatter of a mortgage or other contract which passes an interest to vest in possession either immediately or at a future time. 4 cases that cite this headnote 2 creditors’ remedies lien and priority under st.1821 prohibiting a levy on a crop until it has been gathered no lien attaches in favor of a fi. fa. on a growing crop nor does such lien attach until after the crop has been gathered. 5 cases that cite this headnote 1 this was a trial of the right of property under the statute. in november 1840 an execution issued from the circuit court of sumter at the suit of the plaintiff in error requiring the sheriff of that county to make of the goods c. of allen harrison and others the sum of thirtyseven hundred and seventyseven 80100 dollars besides costs. this execution was levied on thirty bales of cotton as the property of allen harrison which was claimed and a bond given to try the right. an issue was made up to try the question of the liability of the cotton to the plaintiff’s execution and submitted to a jury. on the trial a bill of exceptions was sealed at the instance of the plaintiff. the plaintiff proved that he recovered his judgment in october 1839 that an execution 741 was issued thereon on the 7th nov. thereafter and that alias and pluries fieri facias’ issued regularly up to the time levy was made that the cotton levied on was growed on the plantation of harrison and cultivated by the hands in his service. it was proved by the claimants by the production of a written contract that harrison on the twentysecond of may 1840 in consideration that the claimants were involved as indorsers for burton  harrison of sumter county and were then exposed to an execution amounting to upwards of fourteen thousand dollars bargained and sold to the claimants all his growing crop of cotton c. consisting of one hundred and twenty acres c. allen harrison promised and obliged himself to give up his crop to the use of the claimants at any time to save them from suffering as his indorsers if the crop matured and was gathered he undertook to deliver the cotton in gainesville. the claimants came from tennessee where they resided about the first of september 1840 bringing with them three or four white laborers and took possession of the crop and slaves and with the latter and white laborers gathered the cotton prepared it for market and when levied on it was in a warehouse in gainesville. the plaintiff then proved by harrison that the claimants took possession of the crop while he was absent and disposed of it without his consent. it was admitted that the contract was made in good faith. the court charged the jury that the plaintiff had no lien by virtue of his judgment and execution on the growing crop that harrison had a right to convey it without being in any manner restrained by them that the writing adduced was a sale of the crop but if it was not and the lien of the fieri facias would have attached upon it when gathered yet if the claimants obtained possession on the first of september and controlled the gathering of the crop then no lien attached and it was not subject to the levy. attorneys and law firms r. h. smith for the plaintiff in error made the following points.1. the crop of harrison must in may 1840 have been in an immature state and it is insisted was not the subject of a sale. 2. by the common law a growing crop could be levied on and sold 1 salk. rep. 361 1 bos.  p. rep. 307 6 east’s rep. 604 note 1 2 johns. rep. 418 422 7 mass. rep. 34 and our statue aik. dig.  41 p. 167 which forbids the levy of an 742 execution on a growing crop is to receive a strict construction. it merely inhibits the levy but the lien attaches and a levy and sale may be made after the crop matures and is gathered. 3. the contract does not purport to convey the growing crop but is a mere executory agreement requiring some act to be done by harrison in order to invest the claimants with the right of property. chit. on con. 112 207 3 johns. rep. 338 424 5 wend. rep. 26 13 johns. rep. 235 8 dowl. rep 693 and until this act was done the crop no matter by who gathered because liable to be seized for harrison’s debts. a court of chancery would not compel a specific performance of the contract at the claimant’s instance. 4. the charge of the court is also objectionable in deciding disputed facts. w. m. murphy with whom was w. g. jones for the defendantcited the act of 1821 aik. dig. 167 which declares it to be lawful to levy an execution on a planted crop until it is gathered and contended that no lien attached in favor of the plaintiff. this being the case the defendant in execution was not restrained from making the contract which he did with the claimants. 2 the lien of an execution is destroyed by an injunction because it takes away the right to levy it. in short whenever the right to levy an execution is but temporarily suspended or withdrawn the lien is during that time lost. whipple v. foot 2 johns. rep. 216 3 wash. c. c. rep. 66 4 how. rep. 130. it is admitted that the contract between the defendant in execution and the claimants was in good faith if so the severance and removal of the cotton gave the latter a good title against all creditors of the former. opinion collier c. j. there can be no doubt that a growing crop has such an existence as to be the subject matter of a sale mortgage or other contract which possess an interest to vest in possession either immediately or at some future time. this proposition has frequently been assumed as unquestionable the point of inquiry generally being whether under a statute of frauds such as the 29 chas. 2 it is a mere chattel and transferrable by parol without writing. chitty on con. 2412 332 whipple v. foot 2 johns. rep. 422 stewart v. doughty 9 johns. rep. 112 743 austin v. sawyer 9 cow. rep. 39. see also ravesies v. lee  alston at last term. the contract set out in the bill of exceptions we are inclined to think evidences rather a mortgage than an absolute sale. it recites that the claimants are involved as indorsers of a mercantile firm of which the defendant was a partner that an execution for upwards of fourteen thousand dollars against their estate is in the sheriff’s hands and that a conveyance is made of the crop of cotton corn and oats which the grantor agrees to give up at any time to the use of the claimants so as to prevent injury to them as indorsers. the defendant in execution might at any time have divested the interest which the contract vested in the claimants by discharging their liability as his indorsers or a judgment creditor might have satisfied the lien and when the crop was gathered have levied on and sold it under a fieri facias. we will then consider the writing under which the claimants assert a right as a mortgage with a power to take possession any time during the year unless they should be relieved from their engagements as indorsers. it is not pretended that their liability has been satisfied and it is admitted that the parties have acted with good faith so that it is a dry question of law whether the right of the plaintiff or the claimants shall prevail. assuming for the present that the execution of the plaintiffs did not operate a lien upon the planted crop previous to the contract of may 1840 we will inquire whether the defendant in execution had such an interest as could be levied on and sold. the claimants had previous to the levy of the execution taken possession of the crop prepared the cotton for market and removed it to a warehouse. this possession it is insisted was a trespass because it was acquired in the absence of the defendant in execution and without his consent then given. conceding the truth of the facts stated in the bill of exceptions and we think it will not follow that the possession of the claimants is a nullity and that the case must be considered as if they had never interfered with the crop. the contract contains an express undertaking to give up the crop at any time the claimants might require it for their indemnity and if they took possession of it in the absence of the grantor though without his consent if he subsequently acquiesced in it the inference would be if necessary that their acts were approved by him. taking this to be clear 744 law and it will be seen that the defendant in execution at the time of the levy had nothing more than a mere equitable right to redeem the cotton by paying the debts indorsed by the claimants. he had no possession coupled with this equity but only a naked equity which it has been held cannot be reached by an ordinary execution. perkins and elliott v. mayfield 5 porter’s rep. 182. 3 this brings us back to the question whether the execution of the plaintiff was a lien on the growing crop so as to defeat the mortgage to the claimants. it has been frequently mooted whether at common law corn c. before it is gathered can be seized under a fieri facias. mr. dane in remarking upon this point says “the american editor of bacon’s abridgment says ‘wheat growing in the ground is a chattel and subject to be taken in execution and the sheriff may suffer it to grow till harvest and then cut and sell it or may perhaps sell it growing and the purchaser will then be entitled to enter for the purpose of cutting and carrying it away.” he cites whipple v. foot ut supra also poole’s case salk. 368 1 bos.  p. 397 6 east 604 n. but whipple v. foot seems to be the only case that supports his position that unripe wheat or corn may be taken in execution and the same editor states that nothing can be taken in execution which cannot be sold. this position says the learned commentator is no doubt law. but it is unnecessary to consider how this matter stands at common law. the first section of the act of 1821 “to prevent sheriffs and other officers from levying executions in certain cases enacts that “it shall not be lawful for any sheriff or other officer to levy a writ of fieri facias or other execution on the planted crop of a debtor or person against whom an execution may issue until the crop is gathered.” aik. dig. 167. now here is an express inhibition to levy an execution on a crop while it remains on or in the ground and until it is severed from the soil to which it owes its growth. in respect to property thus situated will the lien of an execution attach eo instanti upon its being placed in the hands of an officer if so the act cited will only have the effect of keeping the right to levy it in abeyance until the crop is gathered. the lien of an execution does not only operate so as to prevent the debtor from disposing of the property on which it attaches but gives to the creditor the right to have it sold to satisfy his 745 judgment. the lien and the right to levy are intimately connected and if the latter be taken away or suspended the effect at common law is the destruction of the former. this principle is fully established by mansony and hurtell v. the president c. of the bank of the united states and its assignees and the citations contained in the opinion of the court in that case as also in my opinion in wood v. gary et al. both decided at the last term. that it was competent for the legislature to have made it unlawful to levy an execution on particular property until its condition was changed and still to give it a continuing lien cannot be doubted but there is nothing in the act in question to indicate that such is its intention. if the object was merely to suspend the sale until the crop was gathered it would have been very easy to have said so in explicit terms but declaring as the statute does in totidem verbis that the execution shall not be levied the legislature must be supposed to have meant what they have expressed. the act was induced by the doubts which existed as to what was the common law and was intended to remove those doubts by declaring what should be the law in future. it does not create a lien or authorize a levy in a case in which the law as it then existed was silent. the idea that the lien attached upon the planted crop as soon as the execution was delivered to the sheriff though the right to levy it was postponed until a severance took place is attempted to be deduced from the last words of the section cited viz “until the crop is gathered.” these words cannot upon any just principles of construction be regarded so potent as to give to an execution a retrospective effect. they do not refer to the lien if they did they would postpone it until the crop was gathered but it is the levy they relate to and postpone until that event takes place. 4 the right to levy an execution on a planted crop then being expressly taken away by the statute the lien which is connected with and consequent upon that right never attaches until severance. this being the case the right of the defendant in execution to make the contract which he did is unquestionable and the title of the claimants coupled as it was with the possession was paramount to any lien which the execution could exert. the circuit judge may have mistaken the law in supposing that the contract was a sale but if he did an error in that respect was very immaterial for whether a sale or mortgage as we have 746 seen under the facts of the case the defendant in execution has no interest that could be seised and sold under execution. there is no assumption of any material fact in the charge but the possession of the claimant the time when acquired the gathering of the crop c. are all referred to the determination of the jury who are instructed if they find them according to the evidence adduced that no lien ever attached in favor of the plaintiff. the bona fides of the contract was conceded so that no charge was necessary on that point and it could not with propriety enter into the inquiry of the jury. it results from what has been said that the judgment of the circuit court is affirmed. dissenting opinion. ormond j. 4 the statute which presents the question before the court is that “it shall not be lawful for any sheriff or other officer to levy a writ of fieei facias or other execution on the planted crop of a debtor or person against whom an execution may issue until the crop is gathered.” clay’s dig. 210  46. i shall not enter upon the enquiry whether at common law an execution could be levied upon a growing crop though i apprehend it would not be difficult to maintain the affirmative of the proposition. it is sufficient for my purpose that the statute supposes such to have been the law as it doubtless was the practice. this act must be considered in connection with the other acts upon the same subject. the policy of the state as indicated by these statutes is undeniably that all the property of a debtor real and personal to which he has a legal title shall be subject to sale by execution and it appears to me that it would be difficult to assign a reason for the exemption of this species of property from the claims of judgment creditors and for giving to the defendant in execution the right to dispose of it. it appears to me with all deference that the argument that because the sheriff was prohibited from levying on a ““planted crop” that therefore the execution had lost its lien and the debtor had the right to sell it is a non sequitur. the mischief which the statute designed to remedy was the sacrifice which would be necessarily made by the sale of an immature crop the statute enables the debtor to retain it until it matures and by severing it from the soil to put it 747 in a condition to bring its valuethe lien in the mean time continuing in the plaintiff in execution. 5 if further confirmation of the correctness of this view were necessary it will be found i think in the language employed by the legislature. the sheriff is forbidden to levy on a “planted crop” until the crop is gathered. now if the view taken by the majority of the court is correct the right secured to the plaintiff in execution of levying on the crop after it is gathered may be frustrated as it was in this case by a sale by the defendant in execution whilst the crop is in an immature state. the construction which has been put upon the statute involves the singular anomaly that the legislature for the protection of the debtor has forbidden the plaintiff in execution to sell the property of his debtor because it is not in a condition to bring its value and yet permits the debtor voluntarily by a sale to submit to the same sacrifice for his own benefit. it is in effect a gift to the defendant in execution of the growing crop provided he does not gather it himself but disposes of it in its then condition. this i feel a thorough conviction was not the intention of the legislature but that it was to secure him from loss by prohibiting a levy and sale of the crop until it was gathered when the temporary suspension of the right to sell ceased. all citations 5 ala. 740 1843 wl 284 end of document © 2019 thomson reuters. no claim to original u.s. government works. citing references 9 treatment title date type depth headnotes cited by 1. booker v. jones’s adm’x 55 ala. 266 271  ala. trover for conversion of cotton with counts in case. appeal from the circuit court of hale. tried before the hon. m. j. saffold. dec term 1876 case  cited by 2. lehman durr  co. v. marshall 47 ala. 362 376  ala. trover for conversion of cotton. appeal from the city court of montgomery. tried before hon. john d. cunningham. jan term 1872 case  cited by 3. bibb v. janney 45 ala. 329 334  ala. garnishment wages waiver of exemption. appeal from city court of montgomery. tried before hon. john d. cunningham. jan term 1871 case  cited by 4. mckenzie v. lampley 31 ala. 526 527  ala. trial of right of property in cotton. appeal from the circuit court of barbour. tried before the hon. s. d. hale. jan term 1858 case  cited by 5. evans v. lamar 21 ala. 333 335  ala. error to the circuit court of autauga. tried before the hon. a. b. moore. jun term 1852 case  cited by 6. dewey v. bowman 8 cal. 145 147  cal. the judgment of the court below against jacob s. cohen should be reversed for the following reasons because the finding of the court was so far as cohen was concerned... jul term 1857 case  mentioned by 7. rees v. coats 65 ala. 256 258  ala. trover for conversion of three bales of cotton. appeal from the circuit court of etowah. tried before the hon. wm. l. whitlock. nov term 1880 case  mentioned by 8. edwards v. thompson 4 s.w. 913 914  tenn. appeal from circuit court weakley county. may 1887 case   9. growing crops as subject to levy and seizure under attachment or execution 103 a.l.r. 464 generally at common law growing crops raised by annual planting while still attached to the soil are regarded as personal chattels subject to levy and seizure under attachment... 1936 alr   table of authorities 3 treatment referenced title type depth quoted page number mentioned 1. austin v. sawyer 9 cow. 39 n.y.sup. 1828 parol evidence is not admissible to contradict or substantially vary a written contract. and where a. quitclaimed land to w. on which a crop of wheat was growing reserving the... case 2 cited 2. perkins v. mayfield 5 port. 182 ala. 1837 on writ of error to the circuit court of tuskaloosa. case 2 mentioned 3. stewart v. doughty 9 johns. 108 n.y.sup. 1812 a. let to b. a farm for six years and a. agreed “to render yield and pay to a. the one half of all the wheat rye corn and other grain raised on the farm in each year in the... case 2 filings there are no filings for this citation. negative treatment there are no negative treatment results for this citation. history there are no history results for this citation.\n"
     ]
    }
   ],
   "source": [
    "# Remove Punctuations\n",
    "punctuations = r\",:;'()[]{}!?-*—&/\\><§*&%$#@+=`~\"\n",
    "chars = [char for char in list(text) if char not in punctuations]\n",
    "text = ''.join(chars)\n",
    "print(text)"
   ]
  },
  {
   "cell_type": "code",
   "execution_count": 12,
   "metadata": {},
   "outputs": [
    {
     "name": "stderr",
     "output_type": "stream",
     "text": [
      "[nltk_data] Downloading package stopwords to\n",
      "[nltk_data]     /Users/yildizesener/nltk_data...\n",
      "[nltk_data]   Package stopwords is already up-to-date!\n"
     ]
    },
    {
     "name": "stdout",
     "output_type": "stream",
     "text": [
      "5 ala. 740 supreme court alabama. adams v. tanner horton. june term 1843. synopsis writ error circuit court sumter. west headnotes 2 1 chattel mortgages crops growing crop existence subjectmatter mortgage contract passes interest vest possession either immediately future time. 4 cases cite headnote 2 creditors’ remedies lien priority st.1821 prohibiting levy crop gathered lien attaches favor fi. fa. growing crop lien attach crop gathered. 5 cases cite headnote 1 trial right property statute. november 1840 execution issued circuit court sumter suit plaintiff error requiring sheriff county make goods c. allen harrison others sum thirtyseven hundred seventyseven 80100 dollars besides costs. execution levied thirty bales cotton property allen harrison claimed bond given try right. issue made try question liability cotton plaintiff’s execution submitted jury. trial bill exceptions sealed instance plaintiff. plaintiff proved recovered judgment october 1839 execution 741 issued thereon 7th nov. thereafter alias pluries fieri facias’ issued regularly time levy made cotton levied growed plantation harrison cultivated hands service. proved claimants production written contract harrison twentysecond may 1840 consideration claimants involved indorsers burton harrison sumter county exposed execution amounting upwards fourteen thousand dollars bargained sold claimants growing crop cotton c. consisting one hundred twenty acres c. allen harrison promised obliged give crop use claimants time save suffering indorsers crop matured gathered undertook deliver cotton gainesville. claimants came tennessee resided first september 1840 bringing three four white laborers took possession crop slaves latter white laborers gathered cotton prepared market levied warehouse gainesville. plaintiff proved harrison claimants took possession crop absent disposed without consent. admitted contract made good faith. court charged jury plaintiff lien virtue judgment execution growing crop harrison right convey without manner restrained writing adduced sale crop lien fieri facias would attached upon gathered yet claimants obtained possession first september controlled gathering crop lien attached subject levy. attorneys law firms r. h. smith plaintiff error made following points.1. crop harrison must may 1840 immature state insisted subject sale. 2. common law growing crop could levied sold 1 salk. rep. 361 1 bos. p. rep. 307 6 east’s rep. 604 note 1 2 johns. rep. 418 422 7 mass. rep. 34 statue aik. dig. 41 p. 167 forbids levy 742 execution growing crop receive strict construction. merely inhibits levy lien attaches levy sale may made crop matures gathered. 3. contract purport convey growing crop mere executory agreement requiring act done harrison order invest claimants right property. chit. con. 112 207 3 johns. rep. 338 424 5 wend. rep. 26 13 johns. rep. 235 8 dowl. rep 693 act done crop matter gathered liable seized harrison’s debts. court chancery would compel specific performance contract claimant’s instance. 4. charge court also objectionable deciding disputed facts. w. m. murphy w. g. jones defendantcited act 1821 aik. dig. 167 declares lawful levy execution planted crop gathered contended lien attached favor plaintiff. case defendant execution restrained making contract claimants. 2 lien execution destroyed injunction takes away right levy it. short whenever right levy execution temporarily suspended withdrawn lien time lost. whipple v. foot 2 johns. rep. 216 3 wash. c. c. rep. 66 4 how. rep. 130. admitted contract defendant execution claimants good faith severance removal cotton gave latter good title creditors former. opinion collier c. j. doubt growing crop existence subject matter sale mortgage contract possess interest vest possession either immediately future time. proposition frequently assumed unquestionable point inquiry generally whether statute frauds 29 chas. 2 mere chattel transferrable parol without writing. chitty con. 2412 332 whipple v. foot 2 johns. rep. 422 stewart v. doughty 9 johns. rep. 112 743 austin v. sawyer 9 cow. rep. 39. see also ravesies v. lee alston last term. contract set bill exceptions inclined think evidences rather mortgage absolute sale. recites claimants involved indorsers mercantile firm defendant partner execution upwards fourteen thousand dollars estate sheriff’s hands conveyance made crop cotton corn oats grantor agrees give time use claimants prevent injury indorsers. defendant execution might time divested interest contract vested claimants discharging liability indorsers judgment creditor might satisfied lien crop gathered levied sold fieri facias. consider writing claimants assert right mortgage power take possession time year unless relieved engagements indorsers. pretended liability satisfied admitted parties acted good faith dry question law whether right plaintiff claimants shall prevail. assuming present execution plaintiffs operate lien upon planted crop previous contract may 1840 inquire whether defendant execution interest could levied sold. claimants previous levy execution taken possession crop prepared cotton market removed warehouse. possession insisted trespass acquired absence defendant execution without consent given. conceding truth facts stated bill exceptions think follow possession claimants nullity case must considered never interfered crop. contract contains express undertaking give crop time claimants might require indemnity took possession absence grantor though without consent subsequently acquiesced inference would necessary acts approved him. taking clear 744 law seen defendant execution time levy nothing mere equitable right redeem cotton paying debts indorsed claimants. possession coupled equity naked equity held cannot reached ordinary execution. perkins elliott v. mayfield 5 porter’s rep. 182. 3 brings us back question whether execution plaintiff lien growing crop defeat mortgage claimants. frequently mooted whether common law corn c. gathered seized fieri facias. mr. dane remarking upon point says “the american editor bacon’s abridgment says ‘wheat growing ground chattel subject taken execution sheriff may suffer grow till harvest cut sell may perhaps sell growing purchaser entitled enter purpose cutting carrying away.” cites whipple v. foot ut supra also poole’s case salk. 368 1 bos. p. 397 6 east 604 n. whipple v. foot seems case supports position unripe wheat corn may taken execution editor states nothing taken execution cannot sold. position says learned commentator doubt law. unnecessary consider matter stands common law. first section act 1821 “to prevent sheriffs officers levying executions certain cases enacts “it shall lawful sheriff officer levy writ fieri facias execution planted crop debtor person execution may issue crop gathered.” aik. dig. 167. express inhibition levy execution crop remains ground severed soil owes growth. respect property thus situated lien execution attach eo instanti upon placed hands officer act cited effect keeping right levy abeyance crop gathered. lien execution operate prevent debtor disposing property attaches gives creditor right sold satisfy 745 judgment. lien right levy intimately connected latter taken away suspended effect common law destruction former. principle fully established mansony hurtell v. president c. bank united states assignees citations contained opinion court case also opinion wood v. gary et al. decided last term. competent legislature made unlawful levy execution particular property condition changed still give continuing lien cannot doubted nothing act question indicate intention. object merely suspend sale crop gathered would easy said explicit terms declaring statute totidem verbis execution shall levied legislature must supposed meant expressed. act induced doubts existed common law intended remove doubts declaring law future. create lien authorize levy case law existed silent. idea lien attached upon planted crop soon execution delivered sheriff though right levy postponed severance took place attempted deduced last words section cited viz “until crop gathered.” words cannot upon principles construction regarded potent give execution retrospective effect. refer lien would postpone crop gathered levy relate postpone event takes place. 4 right levy execution planted crop expressly taken away statute lien connected consequent upon right never attaches severance. case right defendant execution make contract unquestionable title claimants coupled possession paramount lien execution could exert. circuit judge may mistaken law supposing contract sale error respect immaterial whether sale mortgage 746 seen facts case defendant execution interest could seised sold execution. assumption material fact charge possession claimant time acquired gathering crop c. referred determination jury instructed find according evidence adduced lien ever attached favor plaintiff. bona fides contract conceded charge necessary point could propriety enter inquiry jury. results said judgment circuit court affirmed. dissenting opinion. ormond j. 4 statute presents question court “it shall lawful sheriff officer levy writ fieei facias execution planted crop debtor person execution may issue crop gathered.” clay’s dig. 210 46. shall enter upon enquiry whether common law execution could levied upon growing crop though apprehend would difficult maintain affirmative proposition. sufficient purpose statute supposes law doubtless practice. act must considered connection acts upon subject. policy state indicated statutes undeniably property debtor real personal legal title shall subject sale execution appears would difficult assign reason exemption species property claims judgment creditors giving defendant execution right dispose it. appears deference argument sheriff prohibited levying ““planted crop” therefore execution lost lien debtor right sell non sequitur. mischief statute designed remedy sacrifice would necessarily made sale immature crop statute enables debtor retain matures severing soil put 747 condition bring valuethe lien mean time continuing plaintiff execution. 5 confirmation correctness view necessary found think language employed legislature. sheriff forbidden levy “planted crop” crop gathered. view taken majority court correct right secured plaintiff execution levying crop gathered may frustrated case sale defendant execution whilst crop immature state. construction put upon statute involves singular anomaly legislature protection debtor forbidden plaintiff execution sell property debtor condition bring value yet permits debtor voluntarily sale submit sacrifice benefit. effect gift defendant execution growing crop provided gather disposes condition. feel thorough conviction intention legislature secure loss prohibiting levy sale crop gathered temporary suspension right sell ceased. citations 5 ala. 740 1843 wl 284 end document © 2019 thomson reuters. claim original u.s. government works. citing references 9 treatment title date type depth headnotes cited 1. booker v. jones’s adm’x 55 ala. 266 271 ala. trover conversion cotton counts case. appeal circuit court hale. tried hon. m. j. saffold. dec term 1876 case cited 2. lehman durr co. v. marshall 47 ala. 362 376 ala. trover conversion cotton. appeal city court montgomery. tried hon. john d. cunningham. jan term 1872 case cited 3. bibb v. janney 45 ala. 329 334 ala. garnishment wages waiver exemption. appeal city court montgomery. tried hon. john d. cunningham. jan term 1871 case cited 4. mckenzie v. lampley 31 ala. 526 527 ala. trial right property cotton. appeal circuit court barbour. tried hon. s. d. hale. jan term 1858 case cited 5. evans v. lamar 21 ala. 333 335 ala. error circuit court autauga. tried hon. a. b. moore. jun term 1852 case cited 6. dewey v. bowman 8 cal. 145 147 cal. judgment court jacob s. cohen reversed following reasons finding court far cohen concerned... jul term 1857 case mentioned 7. rees v. coats 65 ala. 256 258 ala. trover conversion three bales cotton. appeal circuit court etowah. tried hon. wm. l. whitlock. nov term 1880 case mentioned 8. edwards v. thompson 4 s.w. 913 914 tenn. appeal circuit court weakley county. may 1887 case 9. growing crops subject levy seizure attachment execution 103 a.l.r. 464 generally common law growing crops raised annual planting still attached soil regarded personal chattels subject levy seizure attachment... 1936 alr table authorities 3 treatment referenced title type depth quoted page number mentioned 1. austin v. sawyer 9 cow. 39 n.y.sup. 1828 parol evidence admissible contradict substantially vary written contract. a. quitclaimed land w. crop wheat growing reserving the... case 2 cited 2. perkins v. mayfield 5 port. 182 ala. 1837 writ error circuit court tuskaloosa. case 2 mentioned 3. stewart v. doughty 9 johns. 108 n.y.sup. 1812 a. let b. farm six years a. agreed “to render yield pay a. one half wheat rye corn grain raised farm year the... case 2 filings filings citation. negative treatment negative treatment results citation. history history results citation.\n"
     ]
    }
   ],
   "source": [
    "# Remove Stopwords\n",
    "from nltk.corpus import stopwords\n",
    "import nltk\n",
    "nltk.download('stopwords')\n",
    "words = [word for word in text.split() if word not in stopwords.words('english')]\n",
    "text = ' '.join(words)\n",
    "print(text)"
   ]
  },
  {
   "cell_type": "code",
   "execution_count": 13,
   "metadata": {
    "scrolled": true
   },
   "outputs": [
    {
     "name": "stdout",
     "output_type": "stream",
     "text": [
      "Frequent words: ['growing' 'claimants' 'case' 'court' 'right' 'v.' 'levy' 'lien' 'crop'\n",
      " 'execution']\n",
      "\n",
      "5 ala. 740 supreme alabama. adams tanner horton. june term 1843. synopsis writ error circuit sumter. west headnotes 2 1 chattel mortgages crops existence subjectmatter mortgage contract passes interest vest possession either immediately future time. 4 cases cite headnote 2 creditors’ remedies priority st.1821 prohibiting gathered attaches favor fi. fa. attach gathered. 5 cases cite headnote 1 trial property statute. november 1840 issued circuit sumter suit plaintiff error requiring sheriff county make goods c. allen harrison others sum thirtyseven hundred seventyseven 80100 dollars besides costs. levied thirty bales cotton property allen harrison claimed bond given try right. issue made try question liability cotton plaintiff’s submitted jury. trial bill exceptions sealed instance plaintiff. plaintiff proved recovered judgment october 1839 741 issued thereon 7th nov. thereafter alias pluries fieri facias’ issued regularly time made cotton levied growed plantation harrison cultivated hands service. proved production written contract harrison twentysecond may 1840 consideration involved indorsers burton harrison sumter county exposed amounting upwards fourteen thousand dollars bargained sold cotton c. consisting one hundred twenty acres c. allen harrison promised obliged give use time save suffering indorsers matured gathered undertook deliver cotton gainesville. came tennessee resided first september 1840 bringing three four white laborers took possession slaves latter white laborers gathered cotton prepared market levied warehouse gainesville. plaintiff proved harrison took possession absent disposed without consent. admitted contract made good faith. charged jury plaintiff virtue judgment harrison convey without manner restrained writing adduced sale fieri facias would attached upon gathered yet obtained possession first september controlled gathering attached subject levy. attorneys law firms r. h. smith plaintiff error made following points.1. harrison must may 1840 immature state insisted subject sale. 2. common law could levied sold 1 salk. rep. 361 1 bos. p. rep. 307 6 east’s rep. 604 note 1 2 johns. rep. 418 422 7 mass. rep. 34 statue aik. dig. 41 p. 167 forbids 742 receive strict construction. merely inhibits attaches sale may made matures gathered. 3. contract purport convey mere executory agreement requiring act done harrison order invest property. chit. con. 112 207 3 johns. rep. 338 424 5 wend. rep. 26 13 johns. rep. 235 8 dowl. rep 693 act done matter gathered liable seized harrison’s debts. chancery would compel specific performance contract claimant’s instance. 4. charge also objectionable deciding disputed facts. w. m. murphy w. g. jones defendantcited act 1821 aik. dig. 167 declares lawful planted gathered contended attached favor plaintiff. defendant restrained making contract claimants. 2 destroyed injunction takes away it. short whenever temporarily suspended withdrawn time lost. whipple foot 2 johns. rep. 216 3 wash. c. c. rep. 66 4 how. rep. 130. admitted contract defendant good faith severance removal cotton gave latter good title creditors former. opinion collier c. j. doubt existence subject matter sale mortgage contract possess interest vest possession either immediately future time. proposition frequently assumed unquestionable point inquiry generally whether statute frauds 29 chas. 2 mere chattel transferrable parol without writing. chitty con. 2412 332 whipple foot 2 johns. rep. 422 stewart doughty 9 johns. rep. 112 743 austin sawyer 9 cow. rep. 39. see also ravesies lee alston last term. contract set bill exceptions inclined think evidences rather mortgage absolute sale. recites involved indorsers mercantile firm defendant partner upwards fourteen thousand dollars estate sheriff’s hands conveyance made cotton corn oats grantor agrees give time use prevent injury indorsers. defendant might time divested interest contract vested discharging liability indorsers judgment creditor might satisfied gathered levied sold fieri facias. consider writing assert mortgage power take possession time year unless relieved engagements indorsers. pretended liability satisfied admitted parties acted good faith dry question law whether plaintiff shall prevail. assuming present plaintiffs operate upon planted previous contract may 1840 inquire whether defendant interest could levied sold. previous taken possession prepared cotton market removed warehouse. possession insisted trespass acquired absence defendant without consent given. conceding truth facts stated bill exceptions think follow possession nullity must considered never interfered crop. contract contains express undertaking give time might require indemnity took possession absence grantor though without consent subsequently acquiesced inference would necessary acts approved him. taking clear 744 law seen defendant time nothing mere equitable redeem cotton paying debts indorsed claimants. possession coupled equity naked equity held cannot reached ordinary execution. perkins elliott mayfield 5 porter’s rep. 182. 3 brings us back question whether plaintiff defeat mortgage claimants. frequently mooted whether common law corn c. gathered seized fieri facias. mr. dane remarking upon point says “the american editor bacon’s abridgment says ‘wheat ground chattel subject taken sheriff may suffer grow till harvest cut sell may perhaps sell purchaser entitled enter purpose cutting carrying away.” cites whipple foot ut supra also poole’s salk. 368 1 bos. p. 397 6 east 604 n. whipple foot seems supports position unripe wheat corn may taken editor states nothing taken cannot sold. position says learned commentator doubt law. unnecessary consider matter stands common law. first section act 1821 “to prevent sheriffs officers levying executions certain cases enacts “it shall lawful sheriff officer writ fieri facias planted debtor person may issue gathered.” aik. dig. 167. express inhibition remains ground severed soil owes growth. respect property thus situated attach eo instanti upon placed hands officer act cited effect keeping abeyance gathered. operate prevent debtor disposing property attaches gives creditor sold satisfy 745 judgment. intimately connected latter taken away suspended effect common law destruction former. principle fully established mansony hurtell president c. bank united states assignees citations contained opinion also opinion wood gary et al. decided last term. competent legislature made unlawful particular property condition changed still give continuing cannot doubted nothing act question indicate intention. object merely suspend sale gathered would easy said explicit terms declaring statute totidem verbis shall levied legislature must supposed meant expressed. act induced doubts existed common law intended remove doubts declaring law future. create authorize law existed silent. idea attached upon planted soon delivered sheriff though postponed severance took place attempted deduced last words section cited viz “until gathered.” words cannot upon principles construction regarded potent give retrospective effect. refer would postpone gathered relate postpone event takes place. 4 planted expressly taken away statute connected consequent upon never attaches severance. defendant make contract unquestionable title coupled possession paramount could exert. circuit judge may mistaken law supposing contract sale error respect immaterial whether sale mortgage 746 seen facts defendant interest could seised sold execution. assumption material fact charge possession claimant time acquired gathering c. referred determination jury instructed find according evidence adduced ever attached favor plaintiff. bona fides contract conceded charge necessary point could propriety enter inquiry jury. results said judgment circuit affirmed. dissenting opinion. ormond j. 4 statute presents question “it shall lawful sheriff officer writ fieei facias planted debtor person may issue gathered.” clay’s dig. 210 46. shall enter upon enquiry whether common law could levied upon though apprehend would difficult maintain affirmative proposition. sufficient purpose statute supposes law doubtless practice. act must considered connection acts upon subject. policy state indicated statutes undeniably property debtor real personal legal title shall subject sale appears would difficult assign reason exemption species property claims judgment creditors giving defendant dispose it. appears deference argument sheriff prohibited levying ““planted crop” therefore lost debtor sell non sequitur. mischief statute designed remedy sacrifice would necessarily made sale immature statute enables debtor retain matures severing soil put 747 condition bring valuethe mean time continuing plaintiff execution. 5 confirmation correctness view necessary found think language employed legislature. sheriff forbidden “planted crop” gathered. view taken majority correct secured plaintiff levying gathered may frustrated sale defendant whilst immature state. construction put upon statute involves singular anomaly legislature protection debtor forbidden plaintiff sell property debtor condition bring value yet permits debtor voluntarily sale submit sacrifice benefit. effect gift defendant provided gather disposes condition. feel thorough conviction intention legislature secure loss prohibiting sale gathered temporary suspension sell ceased. citations 5 ala. 740 1843 wl 284 end document © 2019 thomson reuters. claim original u.s. government works. citing references 9 treatment title date type depth headnotes cited 1. booker jones’s adm’x 55 ala. 266 271 ala. trover conversion cotton counts case. appeal circuit hale. tried hon. m. j. saffold. dec term 1876 cited 2. lehman durr co. marshall 47 ala. 362 376 ala. trover conversion cotton. appeal city montgomery. tried hon. john d. cunningham. jan term 1872 cited 3. bibb janney 45 ala. 329 334 ala. garnishment wages waiver exemption. appeal city montgomery. tried hon. john d. cunningham. jan term 1871 cited 4. mckenzie lampley 31 ala. 526 527 ala. trial property cotton. appeal circuit barbour. tried hon. s. d. hale. jan term 1858 cited 5. evans lamar 21 ala. 333 335 ala. error circuit autauga. tried hon. a. b. moore. jun term 1852 cited 6. dewey bowman 8 cal. 145 147 cal. judgment jacob s. cohen reversed following reasons finding far cohen concerned... jul term 1857 mentioned 7. rees coats 65 ala. 256 258 ala. trover conversion three bales cotton. appeal circuit etowah. tried hon. wm. l. whitlock. nov term 1880 mentioned 8. edwards thompson 4 s.w. 913 914 tenn. appeal circuit weakley county. may 1887 9. crops subject seizure attachment 103 a.l.r. 464 generally common law crops raised annual planting still attached soil regarded personal chattels subject seizure attachment... 1936 alr table authorities 3 treatment referenced title type depth quoted page number mentioned 1. austin sawyer 9 cow. 39 n.y.sup. 1828 parol evidence admissible contradict substantially vary written contract. a. quitclaimed land w. wheat reserving the... 2 cited 2. perkins mayfield 5 port. 182 ala. 1837 writ error circuit tuskaloosa. 2 mentioned 3. stewart doughty 9 johns. 108 n.y.sup. 1812 a. let b. farm six years a. agreed “to render yield pay a. one half wheat rye corn grain raised farm year the... 2 filings filings citation. negative treatment negative treatment results citation. history history results citation.\n"
     ]
    }
   ],
   "source": [
    "# Remove Frequent Words\n",
    "from collections import Counter\n",
    "from numpy import argsort, array\n",
    "words = [word for word in text.split(' ')]\n",
    "counts = Counter(words)\n",
    "idx = argsort(array(list(counts.values())))[-10:]\n",
    "freq = array(list(counts.keys()))[idx]\n",
    "not_freq = [word for word in text.split() if word not in freq]\n",
    "print('Frequent words:', freq)\n",
    "print()\n",
    "text = ' '.join(not_freq)\n",
    "print(text)"
   ]
  },
  {
   "cell_type": "code",
   "execution_count": 14,
   "metadata": {
    "scrolled": true
   },
   "outputs": [
    {
     "name": "stdout",
     "output_type": "stream",
     "text": [
      "Rare words: ['assumed' 'indemnity' 'confirmation' 'subsequently' 'acquiesced'\n",
      " 'inference' 'mean' 'valuethe' 'require' 'approved']\n",
      "\n",
      "5 ala. 740 supreme alabama. adams tanner horton. june term 1843. synopsis writ error circuit sumter. west headnotes 2 1 chattel mortgages crops existence subjectmatter mortgage contract passes interest vest possession either immediately future time. 4 cases cite headnote 2 creditors’ remedies priority st.1821 prohibiting gathered attaches favor fi. fa. attach gathered. 5 cases cite headnote 1 trial property statute. november 1840 issued circuit sumter suit plaintiff error requiring sheriff county make goods c. allen harrison others sum thirtyseven hundred seventyseven 80100 dollars besides costs. levied thirty bales cotton property allen harrison claimed bond given try right. issue made try question liability cotton plaintiff’s submitted jury. trial bill exceptions sealed instance plaintiff. plaintiff proved recovered judgment october 1839 741 issued thereon 7th nov. thereafter alias pluries fieri facias’ issued regularly time made cotton levied growed plantation harrison cultivated hands service. proved production written contract harrison twentysecond may 1840 consideration involved indorsers burton harrison sumter county exposed amounting upwards fourteen thousand dollars bargained sold cotton c. consisting one hundred twenty acres c. allen harrison promised obliged give use time save suffering indorsers matured gathered undertook deliver cotton gainesville. came tennessee resided first september 1840 bringing three four white laborers took possession slaves latter white laborers gathered cotton prepared market levied warehouse gainesville. plaintiff proved harrison took possession absent disposed without consent. admitted contract made good faith. charged jury plaintiff virtue judgment harrison convey without manner restrained writing adduced sale fieri facias would attached upon gathered yet obtained possession first september controlled gathering attached subject levy. attorneys law firms r. h. smith plaintiff error made following points.1. harrison must may 1840 immature state insisted subject sale. 2. common law could levied sold 1 salk. rep. 361 1 bos. p. rep. 307 6 east’s rep. 604 note 1 2 johns. rep. 418 422 7 mass. rep. 34 statue aik. dig. 41 p. 167 forbids 742 receive strict construction. merely inhibits attaches sale may made matures gathered. 3. contract purport convey mere executory agreement requiring act done harrison order invest property. chit. con. 112 207 3 johns. rep. 338 424 5 wend. rep. 26 13 johns. rep. 235 8 dowl. rep 693 act done matter gathered liable seized harrison’s debts. chancery would compel specific performance contract claimant’s instance. 4. charge also objectionable deciding disputed facts. w. m. murphy w. g. jones defendantcited act 1821 aik. dig. 167 declares lawful planted gathered contended attached favor plaintiff. defendant restrained making contract claimants. 2 destroyed injunction takes away it. short whenever temporarily suspended withdrawn time lost. whipple foot 2 johns. rep. 216 3 wash. c. c. rep. 66 4 how. rep. 130. admitted contract defendant good faith severance removal cotton gave latter good title creditors former. opinion collier c. j. doubt existence subject matter sale mortgage contract possess interest vest possession either immediately future time. proposition frequently assumed unquestionable point inquiry generally whether statute frauds 29 chas. 2 mere chattel transferrable parol without writing. chitty con. 2412 332 whipple foot 2 johns. rep. 422 stewart doughty 9 johns. rep. 112 743 austin sawyer 9 cow. rep. 39. see also ravesies lee alston last term. contract set bill exceptions inclined think evidences rather mortgage absolute sale. recites involved indorsers mercantile firm defendant partner upwards fourteen thousand dollars estate sheriff’s hands conveyance made cotton corn oats grantor agrees give time use prevent injury indorsers. defendant might time divested interest contract vested discharging liability indorsers judgment creditor might satisfied gathered levied sold fieri facias. consider writing assert mortgage power take possession time year unless relieved engagements indorsers. pretended liability satisfied admitted parties acted good faith dry question law whether plaintiff shall prevail. assuming present plaintiffs operate upon planted previous contract may 1840 inquire whether defendant interest could levied sold. previous taken possession prepared cotton market removed warehouse. possession insisted trespass acquired absence defendant without consent given. conceding truth facts stated bill exceptions think follow possession nullity must considered never interfered crop. contract contains express undertaking give time might require indemnity took possession absence grantor though without consent subsequently acquiesced inference would necessary acts approved him. taking clear 744 law seen defendant time nothing mere equitable redeem cotton paying debts indorsed claimants. possession coupled equity naked equity held cannot reached ordinary execution. perkins elliott mayfield 5 porter’s rep. 182. 3 brings us back question whether plaintiff defeat mortgage claimants. frequently mooted whether common law corn c. gathered seized fieri facias. mr. dane remarking upon point says “the american editor bacon’s abridgment says ‘wheat ground chattel subject taken sheriff may suffer grow till harvest cut sell may perhaps sell purchaser entitled enter purpose cutting carrying away.” cites whipple foot ut supra also poole’s salk. 368 1 bos. p. 397 6 east 604 n. whipple foot seems supports position unripe wheat corn may taken editor states nothing taken cannot sold. position says learned commentator doubt law. unnecessary consider matter stands common law. first section act 1821 “to prevent sheriffs officers levying executions certain cases enacts “it shall lawful sheriff officer writ fieri facias planted debtor person may issue gathered.” aik. dig. 167. express inhibition remains ground severed soil owes growth. respect property thus situated attach eo instanti upon placed hands officer act cited effect keeping abeyance gathered. operate prevent debtor disposing property attaches gives creditor sold satisfy 745 judgment. intimately connected latter taken away suspended effect common law destruction former. principle fully established mansony hurtell president c. bank united states assignees citations contained opinion also opinion wood gary et al. decided last term. competent legislature made unlawful particular property condition changed still give continuing cannot doubted nothing act question indicate intention. object merely suspend sale gathered would easy said explicit terms declaring statute totidem verbis shall levied legislature must supposed meant expressed. act induced doubts existed common law intended remove doubts declaring law future. create authorize law existed silent. idea attached upon planted soon delivered sheriff though postponed severance took place attempted deduced last words section cited viz “until gathered.” words cannot upon principles construction regarded potent give retrospective effect. refer would postpone gathered relate postpone event takes place. 4 planted expressly taken away statute connected consequent upon never attaches severance. defendant make contract unquestionable title coupled possession paramount could exert. circuit judge may mistaken law supposing contract sale error respect immaterial whether sale mortgage 746 seen facts defendant interest could seised sold execution. assumption material fact charge possession claimant time acquired gathering c. referred determination jury instructed find according evidence adduced ever attached favor plaintiff. bona fides contract conceded charge necessary point could propriety enter inquiry jury. results said judgment circuit affirmed. dissenting opinion. ormond j. 4 statute presents question “it shall lawful sheriff officer writ fieei facias planted debtor person may issue gathered.” clay’s dig. 210 46. shall enter upon enquiry whether common law could levied upon though apprehend would difficult maintain affirmative proposition. sufficient purpose statute supposes law doubtless practice. act must considered connection acts upon subject. policy state indicated statutes undeniably property debtor real personal legal title shall subject sale appears would difficult assign reason exemption species property claims judgment creditors giving defendant dispose it. appears deference argument sheriff prohibited levying ““planted crop” therefore lost debtor sell non sequitur. mischief statute designed remedy sacrifice would necessarily made sale immature statute enables debtor retain matures severing soil put 747 condition bring valuethe mean time continuing plaintiff execution. 5 confirmation correctness view necessary found think language employed legislature. sheriff forbidden “planted crop” gathered. view taken majority correct secured plaintiff levying gathered may frustrated sale defendant whilst immature state. construction put upon statute involves singular anomaly legislature protection debtor forbidden plaintiff sell property debtor condition bring value yet permits debtor voluntarily sale submit sacrifice benefit. effect gift defendant provided gather disposes condition. feel thorough conviction intention legislature secure loss prohibiting sale gathered temporary suspension sell ceased. citations 5 ala. 740 1843 wl 284 end document © 2019 thomson reuters. claim original u.s. government works. citing references 9 treatment title date type depth headnotes cited 1. booker jones’s adm’x 55 ala. 266 271 ala. trover conversion cotton counts case. appeal circuit hale. tried hon. m. j. saffold. dec term 1876 cited 2. lehman durr co. marshall 47 ala. 362 376 ala. trover conversion cotton. appeal city montgomery. tried hon. john d. cunningham. jan term 1872 cited 3. bibb janney 45 ala. 329 334 ala. garnishment wages waiver exemption. appeal city montgomery. tried hon. john d. cunningham. jan term 1871 cited 4. mckenzie lampley 31 ala. 526 527 ala. trial property cotton. appeal circuit barbour. tried hon. s. d. hale. jan term 1858 cited 5. evans lamar 21 ala. 333 335 ala. error circuit autauga. tried hon. a. b. moore. jun term 1852 cited 6. dewey bowman 8 cal. 145 147 cal. judgment jacob s. cohen reversed following reasons finding far cohen concerned... jul term 1857 mentioned 7. rees coats 65 ala. 256 258 ala. trover conversion three bales cotton. appeal circuit etowah. tried hon. wm. l. whitlock. nov term 1880 mentioned 8. edwards thompson 4 s.w. 913 914 tenn. appeal circuit weakley county. may 1887 9. crops subject seizure attachment 103 a.l.r. 464 generally common law crops raised annual planting still attached soil regarded personal chattels subject seizure attachment... 1936 alr table authorities 3 treatment referenced title type depth quoted page number mentioned 1. austin sawyer 9 cow. 39 n.y.sup. 1828 parol evidence admissible contradict substantially vary written contract. a. quitclaimed land w. wheat reserving the... 2 cited 2. perkins mayfield 5 port. 182 ala. 1837 writ error circuit tuskaloosa. 2 mentioned 3. stewart doughty 9 johns. 108 n.y.sup. 1812 a. let b. farm six years a. agreed “to render yield pay a. one half wheat rye corn grain raised farm year the... 2 filings filings citation. negative treatment negative treatment results citation. history history results citation.\n"
     ]
    }
   ],
   "source": [
    "# Remove Rare Words\n",
    "from collections import Counter\n",
    "from numpy import argsort, array\n",
    "words = [word for word in text.split(' ')]\n",
    "counts = Counter(words)\n",
    "idx = argsort(array(list(counts.values())))[:10]\n",
    "rare = array(list(counts.keys()))[idx]\n",
    "not_rare = [word for word in text.split() if word not in freq]\n",
    "print('Rare words:', rare)\n",
    "print()\n",
    "text = ' '.join(not_rare)\n",
    "print(text)"
   ]
  },
  {
   "cell_type": "code",
   "execution_count": 15,
   "metadata": {
    "scrolled": true
   },
   "outputs": [
    {
     "name": "stdout",
     "output_type": "stream",
     "text": [
      "5 all. 740 supreme alabama. adams manner norton. june term 1843. sycosis writ error circuit sumter. west headnotes 2 1 chattel mortgages crops existence subjectmatter mortgage contract passes interest vest possession either immediately future time. 4 cases cite headnote 2 creditors’ remedies priority st.1821 prohibiting gathered attaches favor i. a. attach gathered. 5 cases cite headnote 1 trial property statute. november 1840 issued circuit sumter suit plaintiff error requiring sheriff county make goods c. allen harrison others sum thirtyseven hundred seventyseven 80100 dollars besides costs. levied thirty bales cotton property allen harrison claimed bond given try right. issue made try question liability cotton plaintiff’s submitted jury. trial bill exceptions sealed instance plaintiff. plaintiff proved recovered judgment october 1839 741 issued thereon th nov. thereafter alias plunies fiery facial’ issued regularly time made cotton levied growled plantation harrison cultivated hands service. proved production written contract harrison twentysecond may 1840 consideration involved indorsed button harrison sumter county exposed amounting upwards fourteen thousand dollars bargained sold cotton c. consisting one hundred twenty acres c. allen harrison promised obliged give use time save suffering indorsed matured gathered undertook deliver cotton gainesville. came tennessee resided first september 1840 bringing three four white laborers took possession slaves latter white laborers gathered cotton prepared market levied warehouse gainesville. plaintiff proved harrison took possession absent disposed without consent. admitted contract made good faith. charged jury plaintiff virtue judgment harrison convey without manner restrained writing added sale fiery facial would attached upon gathered yet obtained possession first september controlled gathering attached subject levy. attorneys law firms r. h. smith plaintiff error made following points.1. harrison must may 1840 immature state insisted subject sale. 2. common law could levied sold 1 talk. rep. 361 1 boy. p. rep. 307 6 east’s rep. 604 note 1 2 john. rep. 418 422 7 mass. rep. 34 statue ask. dig. 41 p. 167 forbids 742 receive strict construction. merely inhibit attaches sale may made mature gathered. 3. contract purport convey mere executor agreement requiring act done harrison order invest property. chit. con. 112 207 3 john. rep. 338 424 5 went. rep. 26 13 john. rep. 235 8 down. rep 693 act done matter gathered liable seized harrison’s debts. chancery would compel specific performance contract claimant’s instance. 4. charge also objectionable deciding disputed facts. w. m. murphy w. g. jones defendantcited act 1821 ask. dig. 167 declares lawful planted gathered contended attached favor plaintiff. defendant restrained making contract claimants. 2 destroyed injunction takes away it. short whenever temporarily suspended withdrawn time lost. while foot 2 john. rep. 216 3 wash. c. c. rep. 66 4 how. rep. 130. admitted contract defendant good faith severance removal cotton gave latter good title creditors former. opinion soldier c. j. doubt existence subject matter sale mortgage contract possess interest vest possession either immediately future time. proposition frequently assumed unquestionable point inquiry generally whether statute frauds 29 chas. 2 mere chattel transferrable patrol without writing. chatty con. 2412 332 while foot 2 john. rep. 422 stewart doughy 9 john. rep. 112 743 austin lawyer 9 cow. rep. 39. see also reveries lee alton last term. contract set bill exceptions inclined think evidences rather mortgage absolute sale. recite involved indorsed mercantile firm defendant partner upwards fourteen thousand dollars estate sheriff’s hands conveyance made cotton corn oats grant agrees give time use prevent injury indorsed. defendant might time divested interest contract vested discharging liability indorsed judgment creditor might satisfied gathered levied sold fiery facial. consider writing assert mortgage power take possession time year unless relieved engagements indorsed. pretended liability satisfied admitted parties acted good faith dry question law whether plaintiff shall prevail. assuming present plaintiff operate upon planted previous contract may 1840 inquire whether defendant interest could levied sold. previous taken possession prepared cotton market removed warehouse. possession insisted trespass acquired absence defendant without consent given. conceding truth facts stated bill exceptions think follow possession nullify must considered never interfered crop. contract contains express undertaking give time might require indemnity took possession absence grant though without consent subsequently acquiesced inference would necessary acts approved him. taking clear 744 law seen defendant time nothing mere equitable redeem cotton paying debts indorsed claimants. possession coupled equity naked equity held cannot reached ordinary execution. persons elliott hayfield 5 porter’s rep. 182. 3 brings us back question whether plaintiff defeat mortgage claimants. frequently looted whether common law corn c. gathered seized fiery facial. mr. dane remarking upon point says “the american editor bacon’s abridgment says ‘wheat ground chattel subject taken sheriff may suffer grow till harvest cut sell may perhaps sell purchaser entitled enter purpose cutting carrying away.” cities while foot ut supra also pool’s talk. 368 1 boy. p. 397 6 east 604 n. while foot seems supports position unripe wheat corn may taken editor states nothing taken cannot sold. position says learned commentator doubt law. unnecessary consider matter stands common law. first section act 1821 “to prevent sheriff officers levying executions certain cases enacts “it shall lawful sheriff officer writ fiery facial planted debtor person may issue gathered.” ask. dig. 167. express inhibition remains ground severed soil owes growth. respect property thus situated attach to instant upon placed hands officer act cited effect keeping abeyance gathered. operate prevent debtor disposing property attaches gives creditor sold satisfy 745 judgment. intimately connected latter taken away suspended effect common law destruction former. principle fully established mason hurtell president c. bank united states assigned situations contained opinion also opinion wood mary et al. decided last term. competent legislature made unlawful particular property condition changed still give continuing cannot doubted nothing act question indicate intention. object merely suspend sale gathered would easy said explicit terms declaring statute totidem verbs shall levied legislature must supposed meant expressed. act induced doubts existed common law intended remove doubts declaring law future. create authorize law existed silent. idea attached upon planted soon delivered sheriff though postponed severance took place attempted deduced last words section cited viz “until gathered.” words cannot upon principles construction regarded potent give introspective effect. refer would postpone gathered relate postpone event takes place. 4 planted expressly taken away statute connected consequent upon never attaches severance. defendant make contract unquestionable title coupled possession paramount could exert. circuit judge may mistaken law supposing contract sale error respect material whether sale mortgage 746 seen facts defendant interest could seized sold execution. assumption material fact charge possession claimant time acquired gathering c. referred determination jury instructed find according evidence added ever attached favor plaintiff. bone sides contract conceded charge necessary point could propriety enter inquiry jury. results said judgment circuit affirmed. dissenting opinion. mormons j. 4 statute presents question “it shall lawful sheriff officer writ free facial planted debtor person may issue gathered.” clay’s dig. 210 46. shall enter upon enquiry whether common law could levied upon though apprehend would difficult maintain affirmative proposition. sufficient purpose statute supposes law doubtless practice. act must considered connection acts upon subject. policy state indicated statutes undeniably property debtor real personal legal title shall subject sale appears would difficult assign reason exemption species property claims judgment creditors giving defendant dispose it. appears deference argument sheriff prohibited levying ““planted crop” therefore lost debtor sell non sequitur. mischief statute designed remedy sacrifice would necessarily made sale immature statute enables debtor retain mature severing soil put 747 condition bring valuethe mean time continuing plaintiff execution. 5 confirmation correctness view necessary found think language employed legislature. sheriff forbidden “planted crop” gathered. view taken majority correct secured plaintiff levying gathered may frustrated sale defendant whilst immature state. construction put upon statute involves singular animal legislature protection debtor forbidden plaintiff sell property debtor condition bring value yet permits debtor voluntarily sale submit sacrifice benefit. effect gift defendant provided gather disposed condition. feel thorough conviction intention legislature secure loss prohibiting sale gathered temporary suspension sell ceased. situations 5 all. 740 1843 we 284 end document © 2019 thomson renters. claim original u.s. government works. biting references 9 treatment title date type depth headnotes cited 1. hooker jones’s am’x 55 all. 266 271 all. grover conversion cotton counts case. appeal circuit hale. tried hon. m. j. scaffold. dec term 1876 cited 2. german burr co. marshall 47 all. 362 376 all. grover conversion cotton. appeal city montgomery. tried hon. john d. cunningham. jan term 1872 cited 3. gibb manner 45 all. 329 334 all. banishment wages waiter exemption. appeal city montgomery. tried hon. john d. cunningham. jan term 1871 cited 4. mckenzie ample 31 all. 526 527 all. trial property cotton. appeal circuit harbour. tried hon. s. d. hale. jan term 1858 cited 5. evans later 21 all. 333 335 all. error circuit autauga. tried hon. a. b. moore. run term 1852 cited 6. dewey woman 8 cal. 145 147 cal. judgment jacob s. cohens reversed following reasons finding far cohens concerned... july term 1857 mentioned 7. trees coats 65 all. 256 258 all. grover conversion three bales cotton. appeal circuit etowah. tried hon. wm. l. whitlow. nov term 1880 mentioned 8. edwards thompson 4 s.w. 913 914 tenn. appeal circuit weakly county. may 1887 9. crops subject seizure attachment 103 a.l.r. 464 generally common law crops raised annual planting still attached soil regarded personal chattel subject seizure attachment... 1936 all table authorities 3 treatment reference title type depth quoted page number mentioned 1. austin lawyer 9 cow. 39 n.y.sup. 1828 patrol evidence admissible contradict substantially vary written contract. a. quitclaimed land w. wheat reserving the... 2 cited 2. persons hayfield 5 port. 182 all. 1837 writ error circuit tuskaloosa. 2 mentioned 3. stewart doughy 9 john. 108 n.y.sup. 1812 a. let b. farm six years a. agreed “to render yield pay a. one half wheat rye corn grain raised farm year the... 2 filing filing situation. negative treatment negative treatment results situation. history history results situation.\n"
     ]
    }
   ],
   "source": [
    "# Spelling Correction\n",
    "# !pip install textblob\n",
    "from textblob import TextBlob\n",
    "corrected = []\n",
    "for word in text.split(' '):\n",
    "    word = str(TextBlob(word).correct())\n",
    "    corrected.append(word)\n",
    "text = ' '.join(corrected)\n",
    "print(text)"
   ]
  },
  {
   "cell_type": "code",
   "execution_count": 16,
   "metadata": {},
   "outputs": [
    {
     "name": "stdout",
     "output_type": "stream",
     "text": [
      "['5', 'all', '740', 'supreme', 'alabama', 'adams', 'manner', 'norton', 'june', 'term', '1843', 'sycosis', 'writ', 'error', 'circuit', 'sumter', 'west', 'headnotes', '2', '1', 'chattel', 'mortgages', 'crops', 'existence', 'subjectmatter', 'mortgage', 'contract', 'passes', 'interest', 'vest', 'possession', 'either', 'immediately', 'future', 'time', '4', 'cases', 'cite', 'headnote', '2', 'creditors', '’', 'remedies', 'priority', 'st.1821', 'prohibiting', 'gathered', 'attaches', 'favor', 'i', 'a', 'attach', 'gathered', '5', 'cases', 'cite', 'headnote', '1', 'trial', 'property', 'statute', 'november', '1840', 'issued', 'circuit', 'sumter', 'suit', 'plaintiff', 'error', 'requiring', 'sheriff', 'county', 'make', 'goods', 'c', 'allen', 'harrison', 'others', 'sum', 'thirtyseven', 'hundred', 'seventyseven', '80100', 'dollars', 'besides', 'costs', 'levied', 'thirty', 'bales', 'cotton', 'property', 'allen', 'harrison', 'claimed', 'bond', 'given', 'try', 'right', 'issue', 'made', 'try', 'question', 'liability', 'cotton', 'plaintiff', '’', 's', 'submitted', 'jury', 'trial', 'bill', 'exceptions', 'sealed', 'instance', 'plaintiff', 'plaintiff', 'proved', 'recovered', 'judgment', 'october', '1839', '741', 'issued', 'thereon', 'th', 'nov', 'thereafter', 'alias', 'plunies', 'fiery', 'facial', '’', 'issued', 'regularly', 'time', 'made', 'cotton', 'levied', 'growled', 'plantation', 'harrison', 'cultivated', 'hands', 'service', 'proved', 'production', 'written', 'contract', 'harrison', 'twentysecond', 'may', '1840', 'consideration', 'involved', 'indorsed', 'button', 'harrison', 'sumter', 'county', 'exposed', 'amounting', 'upwards', 'fourteen', 'thousand', 'dollars', 'bargained', 'sold', 'cotton', 'c', 'consisting', 'one', 'hundred', 'twenty', 'acres', 'c', 'allen', 'harrison', 'promised', 'obliged', 'give', 'use', 'time', 'save', 'suffering', 'indorsed', 'matured', 'gathered', 'undertook', 'deliver', 'cotton', 'gainesville', 'came', 'tennessee', 'resided', 'first', 'september', '1840', 'bringing', 'three', 'four', 'white', 'laborers', 'took', 'possession', 'slaves', 'latter', 'white', 'laborers', 'gathered', 'cotton', 'prepared', 'market', 'levied', 'warehouse', 'gainesville', 'plaintiff', 'proved', 'harrison', 'took', 'possession', 'absent', 'disposed', 'without', 'consent', 'admitted', 'contract', 'made', 'good', 'faith', 'charged', 'jury', 'plaintiff', 'virtue', 'judgment', 'harrison', 'convey', 'without', 'manner', 'restrained', 'writing', 'added', 'sale', 'fiery', 'facial', 'would', 'attached', 'upon', 'gathered', 'yet', 'obtained', 'possession', 'first', 'september', 'controlled', 'gathering', 'attached', 'subject', 'levy', 'attorneys', 'law', 'firms', 'r', 'h', 'smith', 'plaintiff', 'error', 'made', 'following', 'points.1', 'harrison', 'must', 'may', '1840', 'immature', 'state', 'insisted', 'subject', 'sale', '2', 'common', 'law', 'could', 'levied', 'sold', '1', 'talk', 'rep', '361', '1', 'boy', 'p', 'rep', '307', '6', 'east', '’', 's', 'rep', '604', 'note', '1', '2', 'john', 'rep', '418', '422', '7', 'mass', 'rep', '34', 'statue', 'ask', 'dig', '41', 'p', '167', 'forbids', '742', 'receive', 'strict', 'construction', 'merely', 'inhibit', 'attaches', 'sale', 'may', 'made', 'mature', 'gathered', '3', 'contract', 'purport', 'convey', 'mere', 'executor', 'agreement', 'requiring', 'act', 'done', 'harrison', 'order', 'invest', 'property', 'chit', 'con', '112', '207', '3', 'john', 'rep', '338', '424', '5', 'went', 'rep', '26', '13', 'john', 'rep', '235', '8', 'down', 'rep', '693', 'act', 'done', 'matter', 'gathered', 'liable', 'seized', 'harrison', '’', 's', 'debts', 'chancery', 'would', 'compel', 'specific', 'performance', 'contract', 'claimant', '’', 's', 'instance', '4', 'charge', 'also', 'objectionable', 'deciding', 'disputed', 'facts', 'w', 'm', 'murphy', 'w', 'g', 'jones', 'defendantcited', 'act', '1821', 'ask', 'dig', '167', 'declares', 'lawful', 'planted', 'gathered', 'contended', 'attached', 'favor', 'plaintiff', 'defendant', 'restrained', 'making', 'contract', 'claimants', '2', 'destroyed', 'injunction', 'takes', 'away', 'it', 'short', 'whenever', 'temporarily', 'suspended', 'withdrawn', 'time', 'lost', 'while', 'foot', '2', 'john', 'rep', '216', '3', 'wash', 'c', 'c', 'rep', '66', '4', 'how', 'rep', '130', 'admitted', 'contract', 'defendant', 'good', 'faith', 'severance', 'removal', 'cotton', 'gave', 'latter', 'good', 'title', 'creditors', 'former', 'opinion', 'soldier', 'c', 'j', 'doubt', 'existence', 'subject', 'matter', 'sale', 'mortgage', 'contract', 'possess', 'interest', 'vest', 'possession', 'either', 'immediately', 'future', 'time', 'proposition', 'frequently', 'assumed', 'unquestionable', 'point', 'inquiry', 'generally', 'whether', 'statute', 'frauds', '29', 'chas', '2', 'mere', 'chattel', 'transferrable', 'patrol', 'without', 'writing', 'chatty', 'con', '2412', '332', 'while', 'foot', '2', 'john', 'rep', '422', 'stewart', 'doughy', '9', 'john', 'rep', '112', '743', 'austin', 'lawyer', '9', 'cow', 'rep', '39', 'see', 'also', 'reveries', 'lee', 'alton', 'last', 'term', 'contract', 'set', 'bill', 'exceptions', 'inclined', 'think', 'evidences', 'rather', 'mortgage', 'absolute', 'sale', 'recite', 'involved', 'indorsed', 'mercantile', 'firm', 'defendant', 'partner', 'upwards', 'fourteen', 'thousand', 'dollars', 'estate', 'sheriff', '’', 's', 'hands', 'conveyance', 'made', 'cotton', 'corn', 'oats', 'grant', 'agrees', 'give', 'time', 'use', 'prevent', 'injury', 'indorsed', 'defendant', 'might', 'time', 'divested', 'interest', 'contract', 'vested', 'discharging', 'liability', 'indorsed', 'judgment', 'creditor', 'might', 'satisfied', 'gathered', 'levied', 'sold', 'fiery', 'facial', 'consider', 'writing', 'assert', 'mortgage', 'power', 'take', 'possession', 'time', 'year', 'unless', 'relieved', 'engagements', 'indorsed', 'pretended', 'liability', 'satisfied', 'admitted', 'parties', 'acted', 'good', 'faith', 'dry', 'question', 'law', 'whether', 'plaintiff', 'shall', 'prevail', 'assuming', 'present', 'plaintiff', 'operate', 'upon', 'planted', 'previous', 'contract', 'may', '1840', 'inquire', 'whether', 'defendant', 'interest', 'could', 'levied', 'sold', 'previous', 'taken', 'possession', 'prepared', 'cotton', 'market', 'removed', 'warehouse', 'possession', 'insisted', 'trespass', 'acquired', 'absence', 'defendant', 'without', 'consent', 'given', 'conceding', 'truth', 'facts', 'stated', 'bill', 'exceptions', 'think', 'follow', 'possession', 'nullify', 'must', 'considered', 'never', 'interfered', 'crop', 'contract', 'contains', 'express', 'undertaking', 'give', 'time', 'might', 'require', 'indemnity', 'took', 'possession', 'absence', 'grant', 'though', 'without', 'consent', 'subsequently', 'acquiesced', 'inference', 'would', 'necessary', 'acts', 'approved', 'him', 'taking', 'clear', '744', 'law', 'seen', 'defendant', 'time', 'nothing', 'mere', 'equitable', 'redeem', 'cotton', 'paying', 'debts', 'indorsed', 'claimants', 'possession', 'coupled', 'equity', 'naked', 'equity', 'held', 'can', 'not', 'reached', 'ordinary', 'execution', 'persons', 'elliott', 'hayfield', '5', 'porter', '’', 's', 'rep', '182', '3', 'brings', 'us', 'back', 'question', 'whether', 'plaintiff', 'defeat', 'mortgage', 'claimants', 'frequently', 'looted', 'whether', 'common', 'law', 'corn', 'c', 'gathered', 'seized', 'fiery', 'facial', 'mr', 'dane', 'remarking', 'upon', 'point', 'says', '“', 'the', 'american', 'editor', 'bacon', '’', 's', 'abridgment', 'says', '‘', 'wheat', 'ground', 'chattel', 'subject', 'taken', 'sheriff', 'may', 'suffer', 'grow', 'till', 'harvest', 'cut', 'sell', 'may', 'perhaps', 'sell', 'purchaser', 'entitled', 'enter', 'purpose', 'cutting', 'carrying', 'away', '”', 'cities', 'while', 'foot', 'ut', 'supra', 'also', 'pool', '’', 's', 'talk', '368', '1', 'boy', 'p', '397', '6', 'east', '604', 'n', 'while', 'foot', 'seems', 'supports', 'position', 'unripe', 'wheat', 'corn', 'may', 'taken', 'editor', 'states', 'nothing', 'taken', 'can', 'not', 'sold', 'position', 'says', 'learned', 'commentator', 'doubt', 'law', 'unnecessary', 'consider', 'matter', 'stands', 'common', 'law', 'first', 'section', 'act', '1821', '“', 'to', 'prevent', 'sheriff', 'officers', 'levying', 'executions', 'certain', 'cases', 'enacts', '“', 'it', 'shall', 'lawful', 'sheriff', 'officer', 'writ', 'fiery', 'facial', 'planted', 'debtor', 'person', 'may', 'issue', 'gathered', '”', 'ask', 'dig', '167', 'express', 'inhibition', 'remains', 'ground', 'severed', 'soil', 'owes', 'growth', 'respect', 'property', 'thus', 'situated', 'attach', 'to', 'instant', 'upon', 'placed', 'hands', 'officer', 'act', 'cited', 'effect', 'keeping', 'abeyance', 'gathered', 'operate', 'prevent', 'debtor', 'disposing', 'property', 'attaches', 'gives', 'creditor', 'sold', 'satisfy', '745', 'judgment', 'intimately', 'connected', 'latter', 'taken', 'away', 'suspended', 'effect', 'common', 'law', 'destruction', 'former', 'principle', 'fully', 'established', 'mason', 'hurtell', 'president', 'c', 'bank', 'united', 'states', 'assigned', 'situations', 'contained', 'opinion', 'also', 'opinion', 'wood', 'mary', 'et', 'al', 'decided', 'last', 'term', 'competent', 'legislature', 'made', 'unlawful', 'particular', 'property', 'condition', 'changed', 'still', 'give', 'continuing', 'can', 'not', 'doubted', 'nothing', 'act', 'question', 'indicate', 'intention', 'object', 'merely', 'suspend', 'sale', 'gathered', 'would', 'easy', 'said', 'explicit', 'terms', 'declaring', 'statute', 'totidem', 'verbs', 'shall', 'levied', 'legislature', 'must', 'supposed', 'meant', 'expressed', 'act', 'induced', 'doubts', 'existed', 'common', 'law', 'intended', 'remove', 'doubts', 'declaring', 'law', 'future', 'create', 'authorize', 'law', 'existed', 'silent', 'idea', 'attached', 'upon', 'planted', 'soon', 'delivered', 'sheriff', 'though', 'postponed', 'severance', 'took', 'place', 'attempted', 'deduced', 'last', 'words', 'section', 'cited', 'viz', '“', 'until', 'gathered', '”', 'words', 'can', 'not', 'upon', 'principles', 'construction', 'regarded', 'potent', 'give', 'introspective', 'effect', 'refer', 'would', 'postpone', 'gathered', 'relate', 'postpone', 'event', 'takes', 'place', '4', 'planted', 'expressly', 'taken', 'away', 'statute', 'connected', 'consequent', 'upon', 'never', 'attaches', 'severance', 'defendant', 'make', 'contract', 'unquestionable', 'title', 'coupled', 'possession', 'paramount', 'could', 'exert', 'circuit', 'judge', 'may', 'mistaken', 'law', 'supposing', 'contract', 'sale', 'error', 'respect', 'material', 'whether', 'sale', 'mortgage', '746', 'seen', 'facts', 'defendant', 'interest', 'could', 'seized', 'sold', 'execution', 'assumption', 'material', 'fact', 'charge', 'possession', 'claimant', 'time', 'acquired', 'gathering', 'c', 'referred', 'determination', 'jury', 'instructed', 'find', 'according', 'evidence', 'added', 'ever', 'attached', 'favor', 'plaintiff', 'bone', 'sides', 'contract', 'conceded', 'charge', 'necessary', 'point', 'could', 'propriety', 'enter', 'inquiry', 'jury', 'results', 'said', 'judgment', 'circuit', 'affirmed', 'dissenting', 'opinion', 'mormons', 'j', '4', 'statute', 'presents', 'question', '“', 'it', 'shall', 'lawful', 'sheriff', 'officer', 'writ', 'free', 'facial', 'planted', 'debtor', 'person', 'may', 'issue', 'gathered', '”', 'clay', '’', 's', 'dig', '210', '46', 'shall', 'enter', 'upon', 'enquiry', 'whether', 'common', 'law', 'could', 'levied', 'upon', 'though', 'apprehend', 'would', 'difficult', 'maintain', 'affirmative', 'proposition', 'sufficient', 'purpose', 'statute', 'supposes', 'law', 'doubtless', 'practice', 'act', 'must', 'considered', 'connection', 'acts', 'upon', 'subject', 'policy', 'state', 'indicated', 'statutes', 'undeniably', 'property', 'debtor', 'real', 'personal', 'legal', 'title', 'shall', 'subject', 'sale', 'appears', 'would', 'difficult', 'assign', 'reason', 'exemption', 'species', 'property', 'claims', 'judgment', 'creditors', 'giving', 'defendant', 'dispose', 'it', 'appears', 'deference', 'argument', 'sheriff', 'prohibited', 'levying', '“', '“', 'planted', 'crop', '”', 'therefore', 'lost', 'debtor', 'sell', 'non', 'sequitur', 'mischief', 'statute', 'designed', 'remedy', 'sacrifice', 'would', 'necessarily', 'made', 'sale', 'immature', 'statute', 'enables', 'debtor', 'retain', 'mature', 'severing', 'soil', 'put', '747', 'condition', 'bring', 'valuethe', 'mean', 'time', 'continuing', 'plaintiff', 'execution', '5', 'confirmation', 'correctness', 'view', 'necessary', 'found', 'think', 'language', 'employed', 'legislature', 'sheriff', 'forbidden', '“', 'planted', 'crop', '”', 'gathered', 'view', 'taken', 'majority', 'correct', 'secured', 'plaintiff', 'levying', 'gathered', 'may', 'frustrated', 'sale', 'defendant', 'whilst', 'immature', 'state', 'construction', 'put', 'upon', 'statute', 'involves', 'singular', 'animal', 'legislature', 'protection', 'debtor', 'forbidden', 'plaintiff', 'sell', 'property', 'debtor', 'condition', 'bring', 'value', 'yet', 'permits', 'debtor', 'voluntarily', 'sale', 'submit', 'sacrifice', 'benefit', 'effect', 'gift', 'defendant', 'provided', 'gather', 'disposed', 'condition', 'feel', 'thorough', 'conviction', 'intention', 'legislature', 'secure', 'loss', 'prohibiting', 'sale', 'gathered', 'temporary', 'suspension', 'sell', 'ceased', 'situations', '5', 'all', '740', '1843', 'we', '284', 'end', 'document', '©', '2019', 'thomson', 'renters', 'claim', 'original', 'u.s', 'government', 'works', 'biting', 'references', '9', 'treatment', 'title', 'date', 'type', 'depth', 'headnotes', 'cited', '1', 'hooker', 'jones', '’', 's', 'am', '’', 'x', '55', 'all', '266', '271', 'all', 'grover', 'conversion', 'cotton', 'counts', 'case', 'appeal', 'circuit', 'hale', 'tried', 'hon', 'm', 'j', 'scaffold', 'dec', 'term', '1876', 'cited', '2', 'german', 'burr', 'co', 'marshall', '47', 'all', '362', '376', 'all', 'grover', 'conversion', 'cotton', 'appeal', 'city', 'montgomery', 'tried', 'hon', 'john', 'd', 'cunningham', 'jan', 'term', '1872', 'cited', '3', 'gibb', 'manner', '45', 'all', '329', '334', 'all', 'banishment', 'wages', 'waiter', 'exemption', 'appeal', 'city', 'montgomery', 'tried', 'hon', 'john', 'd', 'cunningham', 'jan', 'term', '1871', 'cited', '4', 'mckenzie', 'ample', '31', 'all', '526', '527', 'all', 'trial', 'property', 'cotton', 'appeal', 'circuit', 'harbour', 'tried', 'hon', 's', 'd', 'hale', 'jan', 'term', '1858', 'cited', '5', 'evans', 'later', '21', 'all', '333', '335', 'all', 'error', 'circuit', 'autauga', 'tried', 'hon', 'a', 'b', 'moore', 'run', 'term', '1852', 'cited', '6', 'dewey', 'woman', '8', 'cal', '145', '147', 'cal', 'judgment', 'jacob', 's', 'cohens', 'reversed', 'following', 'reasons', 'finding', 'far', 'cohens', 'concerned', 'july', 'term', '1857', 'mentioned', '7', 'trees', 'coats', '65', 'all', '256', '258', 'all', 'grover', 'conversion', 'three', 'bales', 'cotton', 'appeal', 'circuit', 'etowah', 'tried', 'hon', 'wm', 'l', 'whitlow', 'nov', 'term', '1880', 'mentioned', '8', 'edwards', 'thompson', '4', 's.w', '913', '914', 'tenn', 'appeal', 'circuit', 'weakly', 'county', 'may', '1887', '9', 'crops', 'subject', 'seizure', 'attachment', '103', 'a.l.r', '464', 'generally', 'common', 'law', 'crops', 'raised', 'annual', 'planting', 'still', 'attached', 'soil', 'regarded', 'personal', 'chattel', 'subject', 'seizure', 'attachment', '1936', 'all', 'table', 'authorities', '3', 'treatment', 'reference', 'title', 'type', 'depth', 'quoted', 'page', 'number', 'mentioned', '1', 'austin', 'lawyer', '9', 'cow', '39', 'n.y.sup', '1828', 'patrol', 'evidence', 'admissible', 'contradict', 'substantially', 'vary', 'written', 'contract', 'a', 'quitclaimed', 'land', 'w', 'wheat', 'reserving', 'the', '2', 'cited', '2', 'persons', 'hayfield', '5', 'port', '182', 'all', '1837', 'writ', 'error', 'circuit', 'tuskaloosa', '2', 'mentioned', '3', 'stewart', 'doughy', '9', 'john', '108', 'n.y.sup', '1812', 'a', 'let', 'b', 'farm', 'six', 'years', 'a', 'agreed', '“', 'to', 'render', 'yield', 'pay', 'a', 'one', 'half', 'wheat', 'rye', 'corn', 'grain', 'raised', 'farm', 'year', 'the', '2', 'filing', 'filing', 'situation', 'negative', 'treatment', 'negative', 'treatment', 'results', 'situation', 'history', 'history', 'results', 'situation']\n"
     ]
    }
   ],
   "source": [
    "# Tokenize the text\n",
    "tokens = str(TextBlob(text).words)\n",
    "print(tokens)"
   ]
  },
  {
   "cell_type": "code",
   "execution_count": 17,
   "metadata": {
    "scrolled": true
   },
   "outputs": [
    {
     "name": "stdout",
     "output_type": "stream",
     "text": [
      "5 all. 740 suprem alabama. adam manner norton. june term 1843. sycosi writ error circuit sumter. west headnot 2 1 chattel mortgag crop exist subjectmatt mortgag contract pass interest vest possess either immedi futur time. 4 case cite headnot 2 creditors’ remedi prioriti st.1821 prohibit gather attach favor i. a. attach gathered. 5 case cite headnot 1 trial properti statute. novemb 1840 issu circuit sumter suit plaintiff error requir sheriff counti make good c. allen harrison other sum thirtyseven hundr seventyseven 80100 dollar besid costs. levi thirti bale cotton properti allen harrison claim bond given tri right. issu made tri question liabil cotton plaintiff’ submit jury. trial bill except seal instanc plaintiff. plaintiff prove recov judgment octob 1839 741 issu thereon th nov. thereaft alia pluni fieri facial’ issu regularli time made cotton levi growl plantat harrison cultiv hand service. prove product written contract harrison twentysecond may 1840 consider involv indors button harrison sumter counti expos amount upward fourteen thousand dollar bargain sold cotton c. consist one hundr twenti acr c. allen harrison promis oblig give use time save suffer indors matur gather undertook deliv cotton gainesville. came tennesse resid first septemb 1840 bring three four white labor took possess slave latter white labor gather cotton prepar market levi warehous gainesville. plaintiff prove harrison took possess absent dispos without consent. admit contract made good faith. charg juri plaintiff virtu judgment harrison convey without manner restrain write ad sale fieri facial would attach upon gather yet obtain possess first septemb control gather attach subject levy. attorney law firm r. h. smith plaintiff error made follow points.1. harrison must may 1840 immatur state insist subject sale. 2. common law could levi sold 1 talk. rep. 361 1 boy. p. rep. 307 6 east’ rep. 604 note 1 2 john. rep. 418 422 7 mass. rep. 34 statu ask. dig. 41 p. 167 forbid 742 receiv strict construction. mere inhibit attach sale may made matur gathered. 3. contract purport convey mere executor agreement requir act done harrison order invest property. chit. con. 112 207 3 john. rep. 338 424 5 went. rep. 26 13 john. rep. 235 8 down. rep 693 act done matter gather liabl seiz harrison’ debts. chanceri would compel specif perform contract claimant’ instance. 4. charg also objection decid disput facts. w. m. murphi w. g. jone defendantcit act 1821 ask. dig. 167 declar law plant gather contend attach favor plaintiff. defend restrain make contract claimants. 2 destroy injunct take away it. short whenev temporarili suspend withdrawn time lost. while foot 2 john. rep. 216 3 wash. c. c. rep. 66 4 how. rep. 130. admit contract defend good faith sever remov cotton gave latter good titl creditor former. opinion soldier c. j. doubt exist subject matter sale mortgag contract possess interest vest possess either immedi futur time. proposit frequent assum unquestion point inquiri gener whether statut fraud 29 chas. 2 mere chattel transferr patrol without writing. chatti con. 2412 332 while foot 2 john. rep. 422 stewart doughi 9 john. rep. 112 743 austin lawyer 9 cow. rep. 39. see also reveri lee alton last term. contract set bill except inclin think evid rather mortgag absolut sale. recit involv indors mercantil firm defend partner upward fourteen thousand dollar estat sheriff’ hand convey made cotton corn oat grant agre give time use prevent injuri indorsed. defend might time divest interest contract vest discharg liabil indors judgment creditor might satisfi gather levi sold fieri facial. consid write assert mortgag power take possess time year unless reliev engag indorsed. pretend liabil satisfi admit parti act good faith dri question law whether plaintiff shall prevail. assum present plaintiff oper upon plant previou contract may 1840 inquir whether defend interest could levi sold. previou taken possess prepar cotton market remov warehouse. possess insist trespass acquir absenc defend without consent given. conced truth fact state bill except think follow possess nullifi must consid never interf crop. contract contain express undertak give time might requir indemn took possess absenc grant though without consent subsequ acquiesc infer would necessari act approv him. take clear 744 law seen defend time noth mere equit redeem cotton pay debt indors claimants. possess coupl equiti nake equiti held cannot reach ordinari execution. person elliott hayfield 5 porter’ rep. 182. 3 bring us back question whether plaintiff defeat mortgag claimants. frequent loot whether common law corn c. gather seiz fieri facial. mr. dane remark upon point say “the american editor bacon’ abridg say ‘wheat ground chattel subject taken sheriff may suffer grow till harvest cut sell may perhap sell purchas entitl enter purpos cut carri away.” citi while foot ut supra also pool’ talk. 368 1 boy. p. 397 6 east 604 n. while foot seem support posit unrip wheat corn may taken editor state noth taken cannot sold. posit say learn comment doubt law. unnecessari consid matter stand common law. first section act 1821 “to prevent sheriff offic levi execut certain case enact “it shall law sheriff offic writ fieri facial plant debtor person may issu gathered.” ask. dig. 167. express inhibit remain ground sever soil owe growth. respect properti thu situat attach to instant upon place hand offic act cite effect keep abey gathered. oper prevent debtor dispos properti attach give creditor sold satisfi 745 judgment. intim connect latter taken away suspend effect common law destruct former. principl fulli establish mason hurtel presid c. bank unit state assign situat contain opinion also opinion wood mari et al. decid last term. compet legislatur made unlaw particular properti condit chang still give continu cannot doubt noth act question indic intention. object mere suspend sale gather would easi said explicit term declar statut totidem verb shall levi legislatur must suppos meant expressed. act induc doubt exist common law intend remov doubt declar law future. creat author law exist silent. idea attach upon plant soon deliv sheriff though postpon sever took place attempt deduc last word section cite viz “until gathered.” word cannot upon principl construct regard potent give introspect effect. refer would postpon gather relat postpon event take place. 4 plant expressli taken away statut connect consequ upon never attach severance. defend make contract unquestion titl coupl possess paramount could exert. circuit judg may mistaken law suppos contract sale error respect materi whether sale mortgag 746 seen fact defend interest could seiz sold execution. assumpt materi fact charg possess claimant time acquir gather c. refer determin juri instruct find accord evid ad ever attach favor plaintiff. bone side contract conced charg necessari point could proprieti enter inquiri jury. result said judgment circuit affirmed. dissent opinion. mormon j. 4 statut present question “it shall law sheriff offic writ free facial plant debtor person may issu gathered.” clay’ dig. 210 46. shall enter upon enquiri whether common law could levi upon though apprehend would difficult maintain affirm proposition. suffici purpos statut suppos law doubtless practice. act must consid connect act upon subject. polici state indic statut undeni properti debtor real person legal titl shall subject sale appear would difficult assign reason exempt speci properti claim judgment creditor give defend dispos it. appear defer argument sheriff prohibit levi ““plant crop” therefor lost debtor sell non sequitur. mischief statut design remedi sacrific would necessarili made sale immatur statut enabl debtor retain matur sever soil put 747 condit bring valueth mean time continu plaintiff execution. 5 confirm correct view necessari found think languag employ legislature. sheriff forbidden “plant crop” gathered. view taken major correct secur plaintiff levi gather may frustrat sale defend whilst immatur state. construct put upon statut involv singular anim legislatur protect debtor forbidden plaintiff sell properti debtor condit bring valu yet permit debtor voluntarili sale submit sacrific benefit. effect gift defend provid gather dispos condition. feel thorough convict intent legislatur secur loss prohibit sale gather temporari suspens sell ceased. situat 5 all. 740 1843 we 284 end document © 2019 thomson renters. claim origin u.s. govern works. bite refer 9 treatment titl date type depth headnot cite 1. hooker jones’ am’x 55 all. 266 271 all. grover convers cotton count case. appeal circuit hale. tri hon. m. j. scaffold. dec term 1876 cite 2. german burr co. marshal 47 all. 362 376 all. grover convers cotton. appeal citi montgomery. tri hon. john d. cunningham. jan term 1872 cite 3. gibb manner 45 all. 329 334 all. banish wage waiter exemption. appeal citi montgomery. tri hon. john d. cunningham. jan term 1871 cite 4. mckenzi ampl 31 all. 526 527 all. trial properti cotton. appeal circuit harbour. tri hon. s. d. hale. jan term 1858 cite 5. evan later 21 all. 333 335 all. error circuit autauga. tri hon. a. b. moore. run term 1852 cite 6. dewey woman 8 cal. 145 147 cal. judgment jacob s. cohen revers follow reason find far cohen concerned... juli term 1857 mention 7. tree coat 65 all. 256 258 all. grover convers three bale cotton. appeal circuit etowah. tri hon. wm. l. whitlow. nov term 1880 mention 8. edward thompson 4 s.w. 913 914 tenn. appeal circuit weakli county. may 1887 9. crop subject seizur attach 103 a.l.r. 464 gener common law crop rais annual plant still attach soil regard person chattel subject seizur attachment... 1936 all tabl author 3 treatment refer titl type depth quot page number mention 1. austin lawyer 9 cow. 39 n.y.sup. 1828 patrol evid admiss contradict substanti vari written contract. a. quitclaim land w. wheat reserv the... 2 cite 2. person hayfield 5 port. 182 all. 1837 writ error circuit tuskaloosa. 2 mention 3. stewart doughi 9 john. 108 n.y.sup. 1812 a. let b. farm six year a. agre “to render yield pay a. one half wheat rye corn grain rais farm year the... 2 file file situation. neg treatment neg treatment result situation. histori histori result situation.\n"
     ]
    }
   ],
   "source": [
    "# Stemming\n",
    "from nltk.stem import PorterStemmer\n",
    "st = PorterStemmer()\n",
    "stems = [st.stem(word) for word in text.split()]\n",
    "text = ' '.join(stems)\n",
    "print(text)"
   ]
  },
  {
   "cell_type": "code",
   "execution_count": 18,
   "metadata": {
    "scrolled": true
   },
   "outputs": [
    {
     "name": "stdout",
     "output_type": "stream",
     "text": [
      "5 all. 740 suprem alabama. adam manner norton. june term 1843. sycosi writ error circuit sumter. west headnot 2 1 chattel mortgag crop exist subjectmatt mortgag contract pas interest vest posse either immedi futur time. 4 case cite headnot 2 creditors’ remedi prioriti st.1821 prohibit gather attach favor i. a. attach gathered. 5 case cite headnot 1 trial properti statute. novemb 1840 issu circuit sumter suit plaintiff error requir sheriff counti make good c. allen harrison other sum thirtyseven hundr seventyseven 80100 dollar besid costs. levi thirti bale cotton properti allen harrison claim bond given tri right. issu made tri question liabil cotton plaintiff’ submit jury. trial bill except seal instanc plaintiff. plaintiff prove recov judgment octob 1839 741 issu thereon th nov. thereaft alia pluni fieri facial’ issu regularli time made cotton levi growl plantat harrison cultiv hand service. prove product written contract harrison twentysecond may 1840 consider involv indors button harrison sumter counti expo amount upward fourteen thousand dollar bargain sold cotton c. consist one hundr twenti acr c. allen harrison promis oblig give use time save suffer indors matur gather undertook deliv cotton gainesville. came tennesse resid first septemb 1840 bring three four white labor took posse slave latter white labor gather cotton prepar market levi warehous gainesville. plaintiff prove harrison took posse absent dispos without consent. admit contract made good faith. charg juri plaintiff virtu judgment harrison convey without manner restrain write ad sale fieri facial would attach upon gather yet obtain posse first septemb control gather attach subject levy. attorney law firm r. h. smith plaintiff error made follow points.1. harrison must may 1840 immatur state insist subject sale. 2. common law could levi sold 1 talk. rep. 361 1 boy. p. rep. 307 6 east’ rep. 604 note 1 2 john. rep. 418 422 7 mass. rep. 34 statu ask. dig. 41 p. 167 forbid 742 receiv strict construction. mere inhibit attach sale may made matur gathered. 3. contract purport convey mere executor agreement requir act done harrison order invest property. chit. con. 112 207 3 john. rep. 338 424 5 went. rep. 26 13 john. rep. 235 8 down. rep 693 act done matter gather liabl seiz harrison’ debts. chanceri would compel specif perform contract claimant’ instance. 4. charg also objection decid disput facts. w. m. murphi w. g. jone defendantcit act 1821 ask. dig. 167 declar law plant gather contend attach favor plaintiff. defend restrain make contract claimants. 2 destroy injunct take away it. short whenev temporarili suspend withdrawn time lost. while foot 2 john. rep. 216 3 wash. c. c. rep. 66 4 how. rep. 130. admit contract defend good faith sever remov cotton gave latter good titl creditor former. opinion soldier c. j. doubt exist subject matter sale mortgag contract posse interest vest posse either immedi futur time. proposit frequent assum unquestion point inquiri gener whether statut fraud 29 chas. 2 mere chattel transferr patrol without writing. chatti con. 2412 332 while foot 2 john. rep. 422 stewart doughi 9 john. rep. 112 743 austin lawyer 9 cow. rep. 39. see also reveri lee alton last term. contract set bill except inclin think evid rather mortgag absolut sale. recit involv indors mercantil firm defend partner upward fourteen thousand dollar estat sheriff’ hand convey made cotton corn oat grant agre give time use prevent injuri indorsed. defend might time divest interest contract vest discharg liabil indors judgment creditor might satisfi gather levi sold fieri facial. consid write assert mortgag power take posse time year unless reliev engag indorsed. pretend liabil satisfi admit parti act good faith dri question law whether plaintiff shall prevail. assum present plaintiff oper upon plant previou contract may 1840 inquir whether defend interest could levi sold. previou taken posse prepar cotton market remov warehouse. posse insist trespass acquir absenc defend without consent given. conced truth fact state bill except think follow posse nullifi must consid never interf crop. contract contain express undertak give time might requir indemn took posse absenc grant though without consent subsequ acquiesc infer would necessari act approv him. take clear 744 law seen defend time noth mere equit redeem cotton pay debt indors claimants. posse coupl equiti nake equiti held cannot reach ordinari execution. person elliott hayfield 5 porter’ rep. 182. 3 bring u back question whether plaintiff defeat mortgag claimants. frequent loot whether common law corn c. gather seiz fieri facial. mr. dane remark upon point say “the american editor bacon’ abridg say ‘wheat ground chattel subject taken sheriff may suffer grow till harvest cut sell may perhap sell purchas entitl enter purpos cut carri away.” citi while foot ut supra also pool’ talk. 368 1 boy. p. 397 6 east 604 n. while foot seem support posit unrip wheat corn may taken editor state noth taken cannot sold. posit say learn comment doubt law. unnecessari consid matter stand common law. first section act 1821 “to prevent sheriff offic levi execut certain case enact “it shall law sheriff offic writ fieri facial plant debtor person may issu gathered.” ask. dig. 167. express inhibit remain ground sever soil owe growth. respect properti thu situat attach to instant upon place hand offic act cite effect keep abey gathered. oper prevent debtor dispos properti attach give creditor sold satisfi 745 judgment. intim connect latter taken away suspend effect common law destruct former. principl fulli establish mason hurtel presid c. bank unit state assign situat contain opinion also opinion wood mari et al. decid last term. compet legislatur made unlaw particular properti condit chang still give continu cannot doubt noth act question indic intention. object mere suspend sale gather would easi said explicit term declar statut totidem verb shall levi legislatur must suppos meant expressed. act induc doubt exist common law intend remov doubt declar law future. creat author law exist silent. idea attach upon plant soon deliv sheriff though postpon sever took place attempt deduc last word section cite viz “until gathered.” word cannot upon principl construct regard potent give introspect effect. refer would postpon gather relat postpon event take place. 4 plant expressli taken away statut connect consequ upon never attach severance. defend make contract unquestion titl coupl posse paramount could exert. circuit judg may mistaken law suppos contract sale error respect materi whether sale mortgag 746 seen fact defend interest could seiz sold execution. assumpt materi fact charg posse claimant time acquir gather c. refer determin juri instruct find accord evid ad ever attach favor plaintiff. bone side contract conced charg necessari point could proprieti enter inquiri jury. result said judgment circuit affirmed. dissent opinion. mormon j. 4 statut present question “it shall law sheriff offic writ free facial plant debtor person may issu gathered.” clay’ dig. 210 46. shall enter upon enquiri whether common law could levi upon though apprehend would difficult maintain affirm proposition. suffici purpos statut suppos law doubtless practice. act must consid connect act upon subject. polici state indic statut undeni properti debtor real person legal titl shall subject sale appear would difficult assign reason exempt speci properti claim judgment creditor give defend dispos it. appear defer argument sheriff prohibit levi ““plant crop” therefor lost debtor sell non sequitur. mischief statut design remedi sacrific would necessarili made sale immatur statut enabl debtor retain matur sever soil put 747 condit bring valueth mean time continu plaintiff execution. 5 confirm correct view necessari found think languag employ legislature. sheriff forbidden “plant crop” gathered. view taken major correct secur plaintiff levi gather may frustrat sale defend whilst immatur state. construct put upon statut involv singular anim legislatur protect debtor forbidden plaintiff sell properti debtor condit bring valu yet permit debtor voluntarili sale submit sacrific benefit. effect gift defend provid gather dispos condition. feel thorough convict intent legislatur secur loss prohibit sale gather temporari suspens sell ceased. situat 5 all. 740 1843 we 284 end document © 2019 thomson renters. claim origin u.s. govern works. bite refer 9 treatment titl date type depth headnot cite 1. hooker jones’ am’x 55 all. 266 271 all. grover convers cotton count case. appeal circuit hale. tri hon. m. j. scaffold. dec term 1876 cite 2. german burr co. marshal 47 all. 362 376 all. grover convers cotton. appeal citi montgomery. tri hon. john d. cunningham. jan term 1872 cite 3. gibb manner 45 all. 329 334 all. banish wage waiter exemption. appeal citi montgomery. tri hon. john d. cunningham. jan term 1871 cite 4. mckenzi ampl 31 all. 526 527 all. trial properti cotton. appeal circuit harbour. tri hon. s. d. hale. jan term 1858 cite 5. evan later 21 all. 333 335 all. error circuit autauga. tri hon. a. b. moore. run term 1852 cite 6. dewey woman 8 cal. 145 147 cal. judgment jacob s. cohen revers follow reason find far cohen concerned... juli term 1857 mention 7. tree coat 65 all. 256 258 all. grover convers three bale cotton. appeal circuit etowah. tri hon. wm. l. whitlow. nov term 1880 mention 8. edward thompson 4 s.w. 913 914 tenn. appeal circuit weakli county. may 1887 9. crop subject seizur attach 103 a.l.r. 464 gener common law crop rais annual plant still attach soil regard person chattel subject seizur attachment... 1936 all tabl author 3 treatment refer titl type depth quot page number mention 1. austin lawyer 9 cow. 39 n.y.sup. 1828 patrol evid admiss contradict substanti vari written contract. a. quitclaim land w. wheat reserv the... 2 cite 2. person hayfield 5 port. 182 all. 1837 writ error circuit tuskaloosa. 2 mention 3. stewart doughi 9 john. 108 n.y.sup. 1812 a. let b. farm six year a. agre “to render yield pay a. one half wheat rye corn grain rais farm year the... 2 file file situation. neg treatment neg treatment result situation. histori histori result situation.\n"
     ]
    }
   ],
   "source": [
    "# Lemmatization\n",
    "from textblob import Word\n",
    "import nltk\n",
    "# nltk.download('wordnet')\n",
    "lemmas = [Word(word).lemmatize() for word in text.split()]\n",
    "text = ' '.join(lemmas)\n",
    "print(text)"
   ]
  },
  {
   "cell_type": "code",
   "execution_count": 20,
   "metadata": {},
   "outputs": [
    {
     "data": {
      "text/html": [
       "<div>\n",
       "<style scoped>\n",
       "    .dataframe tbody tr th:only-of-type {\n",
       "        vertical-align: middle;\n",
       "    }\n",
       "\n",
       "    .dataframe tbody tr th {\n",
       "        vertical-align: top;\n",
       "    }\n",
       "\n",
       "    .dataframe thead th {\n",
       "        text-align: right;\n",
       "    }\n",
       "</style>\n",
       "<table border=\"1\" class=\"dataframe\">\n",
       "  <thead>\n",
       "    <tr style=\"text-align: right;\">\n",
       "      <th></th>\n",
       "      <th>Sentences</th>\n",
       "    </tr>\n",
       "  </thead>\n",
       "  <tbody>\n",
       "    <tr>\n",
       "      <th>0</th>\n",
       "      <td>5 all</td>\n",
       "    </tr>\n",
       "    <tr>\n",
       "      <th>1</th>\n",
       "      <td>740 suprem alabama</td>\n",
       "    </tr>\n",
       "    <tr>\n",
       "      <th>2</th>\n",
       "      <td>adam manner norton</td>\n",
       "    </tr>\n",
       "    <tr>\n",
       "      <th>3</th>\n",
       "      <td>june term 1843</td>\n",
       "    </tr>\n",
       "    <tr>\n",
       "      <th>4</th>\n",
       "      <td>sycosi writ error circuit sumter</td>\n",
       "    </tr>\n",
       "    <tr>\n",
       "      <th>...</th>\n",
       "      <td>...</td>\n",
       "    </tr>\n",
       "    <tr>\n",
       "      <th>242</th>\n",
       "      <td>agre “to render yield pay a</td>\n",
       "    </tr>\n",
       "    <tr>\n",
       "      <th>243</th>\n",
       "      <td>one half wheat rye corn grain rais farm year t...</td>\n",
       "    </tr>\n",
       "    <tr>\n",
       "      <th>244</th>\n",
       "      <td>2 file file situation</td>\n",
       "    </tr>\n",
       "    <tr>\n",
       "      <th>245</th>\n",
       "      <td>neg treatment neg treatment result situation</td>\n",
       "    </tr>\n",
       "    <tr>\n",
       "      <th>246</th>\n",
       "      <td>histori histori result situation.</td>\n",
       "    </tr>\n",
       "  </tbody>\n",
       "</table>\n",
       "<p>247 rows × 1 columns</p>\n",
       "</div>"
      ],
      "text/plain": [
       "                                             Sentences\n",
       "0                                                5 all\n",
       "1                                   740 suprem alabama\n",
       "2                                   adam manner norton\n",
       "3                                       june term 1843\n",
       "4                     sycosi writ error circuit sumter\n",
       "..                                                 ...\n",
       "242                        agre “to render yield pay a\n",
       "243  one half wheat rye corn grain rais farm year t...\n",
       "244                              2 file file situation\n",
       "245       neg treatment neg treatment result situation\n",
       "246                  histori histori result situation.\n",
       "\n",
       "[247 rows x 1 columns]"
      ]
     },
     "execution_count": 20,
     "metadata": {},
     "output_type": "execute_result"
    }
   ],
   "source": [
    "# Save to .csv file\n",
    "import pandas as pd\n",
    "df = pd.DataFrame({'Sentences' :text.split('. ')})\n",
    "df.to_csv('clean_text.csv')\n",
    "df"
   ]
  },
  {
   "cell_type": "code",
   "execution_count": 33,
   "metadata": {},
   "outputs": [
    {
     "data": {
      "text/html": [
       "<div>\n",
       "<style scoped>\n",
       "    .dataframe tbody tr th:only-of-type {\n",
       "        vertical-align: middle;\n",
       "    }\n",
       "\n",
       "    .dataframe tbody tr th {\n",
       "        vertical-align: top;\n",
       "    }\n",
       "\n",
       "    .dataframe thead th {\n",
       "        text-align: right;\n",
       "    }\n",
       "</style>\n",
       "<table border=\"1\" class=\"dataframe\">\n",
       "  <thead>\n",
       "    <tr style=\"text-align: right;\">\n",
       "      <th></th>\n",
       "      <th>words</th>\n",
       "      <th>tf</th>\n",
       "    </tr>\n",
       "  </thead>\n",
       "  <tbody>\n",
       "    <tr>\n",
       "      <th>0</th>\n",
       "      <td>all</td>\n",
       "      <td>3.772589</td>\n",
       "    </tr>\n",
       "    <tr>\n",
       "      <th>1</th>\n",
       "      <td>5</td>\n",
       "      <td>3.079442</td>\n",
       "    </tr>\n",
       "    <tr>\n",
       "      <th>2</th>\n",
       "      <td>740</td>\n",
       "      <td>1.693147</td>\n",
       "    </tr>\n",
       "    <tr>\n",
       "      <th>3</th>\n",
       "      <td>suprem</td>\n",
       "      <td>1.000000</td>\n",
       "    </tr>\n",
       "    <tr>\n",
       "      <th>4</th>\n",
       "      <td>alabama</td>\n",
       "      <td>1.000000</td>\n",
       "    </tr>\n",
       "    <tr>\n",
       "      <th>...</th>\n",
       "      <td>...</td>\n",
       "      <td>...</td>\n",
       "    </tr>\n",
       "    <tr>\n",
       "      <th>764</th>\n",
       "      <td>file</td>\n",
       "      <td>1.693147</td>\n",
       "    </tr>\n",
       "    <tr>\n",
       "      <th>765</th>\n",
       "      <td>situation</td>\n",
       "      <td>1.693147</td>\n",
       "    </tr>\n",
       "    <tr>\n",
       "      <th>766</th>\n",
       "      <td>neg</td>\n",
       "      <td>1.693147</td>\n",
       "    </tr>\n",
       "    <tr>\n",
       "      <th>767</th>\n",
       "      <td>histori</td>\n",
       "      <td>1.693147</td>\n",
       "    </tr>\n",
       "    <tr>\n",
       "      <th>768</th>\n",
       "      <td>situation.</td>\n",
       "      <td>1.000000</td>\n",
       "    </tr>\n",
       "  </tbody>\n",
       "</table>\n",
       "<p>769 rows × 2 columns</p>\n",
       "</div>"
      ],
      "text/plain": [
       "          words        tf\n",
       "0           all  3.772589\n",
       "1             5  3.079442\n",
       "2           740  1.693147\n",
       "3        suprem  1.000000\n",
       "4       alabama  1.000000\n",
       "..          ...       ...\n",
       "764        file  1.693147\n",
       "765   situation  1.693147\n",
       "766         neg  1.693147\n",
       "767     histori  1.693147\n",
       "768  situation.  1.000000\n",
       "\n",
       "[769 rows x 2 columns]"
      ]
     },
     "execution_count": 33,
     "metadata": {},
     "output_type": "execute_result"
    }
   ],
   "source": [
    "# Term Frequency\n",
    "import numpy as np\n",
    "tf1 = (df['Sentences'].apply(lambda x: pd.value_counts(str(x).split(\" \"))).sum(axis = 0).reset_index())\n",
    "tf1.columns = ['words','tf']\n",
    "# tf1.tf = tf1.tf/df.shape[0] # ratio of occurence diveded by the total number of sentences\n",
    "tf1.tf = np.where(tf1.tf != 0, 1+np.log(tf1.tf), 0)\n",
    "tf1"
   ]
  },
  {
   "cell_type": "code",
   "execution_count": 49,
   "metadata": {
    "scrolled": true
   },
   "outputs": [
    {
     "name": "stdout",
     "output_type": "stream",
     "text": [
      "[\"['’']\" \"['sale']\" \"['posse']\" \"['cotton']\" \"['gather']\" \"['plaintiff']\"\n",
      " \"['contract']\" \"['all']\" \"['rep']\" \"['law']\"]\n"
     ]
    }
   ],
   "source": [
    "# n-1 gram\n",
    "n1_gram = [str(n1) for n1 in (TextBlob(text).ngrams(1))]\n",
    "counts = Counter(n1_gram)\n",
    "idx = argsort(array(list(counts.values())))[-10:]\n",
    "top10_n1_gram = array(list(counts.keys()))[idx]\n",
    "print(top10_n1_gram)"
   ]
  },
  {
   "cell_type": "code",
   "execution_count": 52,
   "metadata": {},
   "outputs": [
    {
     "name": "stdout",
     "output_type": "stream",
     "text": [
      "[\"['levi', 'sold']\" \"['2', 'john']\" \"['good', 'faith']\"\n",
      " \"['appeal', 'circuit']\" \"['can', 'not']\" \"['while', 'foot']\"\n",
      " \"['fieri', 'facial']\" \"['tri', 'hon']\" \"['john', 'rep']\"\n",
      " \"['common', 'law']\"]\n"
     ]
    }
   ],
   "source": [
    "# n-2 gram\n",
    "n2_gram = [str(n2) for n2 in (TextBlob(text).ngrams(2))]\n",
    "counts = Counter(n2_gram)\n",
    "idx = argsort(array(list(counts.values())))[-10:]\n",
    "top10_n2_gram = array(list(counts.keys()))[idx]\n",
    "print(top10_n2_gram)"
   ]
  },
  {
   "cell_type": "code",
   "execution_count": 53,
   "metadata": {},
   "outputs": [
    {
     "name": "stdout",
     "output_type": "stream",
     "text": [
      "[\"['appeal', 'citi', 'montgomery']\" \"['case', 'cite', 'headnot']\"\n",
      " \"['citi', 'montgomery', 'tri']\" \"['montgomery', 'tri', 'hon']\"\n",
      " \"['tri', 'hon', 'john']\" \"['immedi', 'futur', 'time']\"\n",
      " \"['sheriff', 'offic', 'writ']\" \"['5', 'all', '740']\"\n",
      " \"['2', 'john', 'rep']\" \"['all', 'grover', 'convers']\"]\n"
     ]
    }
   ],
   "source": [
    "# n-3 gram\n",
    "n3_gram = [str(n3) for n3 in (TextBlob(text).ngrams(3))]\n",
    "counts = Counter(n3_gram)\n",
    "idx = argsort(array(list(counts.values())))[-10:]\n",
    "top10_n3_gram = array(list(counts.keys()))[idx]\n",
    "print(top10_n3_gram)"
   ]
  },
  {
   "cell_type": "markdown",
   "metadata": {
    "colab_type": "text",
    "id": "BBiC4E_kefvV"
   },
   "source": [
    "# 2. Python Regular Expression"
   ]
  },
  {
   "cell_type": "markdown",
   "metadata": {
    "colab_type": "text",
    "id": "Z1QJ-UwCenvN"
   },
   "source": [
    "## 2.1 Write a Python program to remove leading zeros from an IP address. (4 points)\n",
    "\n",
    "ip = \"260.08.094.109\""
   ]
  },
  {
   "cell_type": "code",
   "execution_count": 55,
   "metadata": {
    "colab": {},
    "colab_type": "code",
    "id": "wSv6fVhOfFmv"
   },
   "outputs": [
    {
     "name": "stdout",
     "output_type": "stream",
     "text": [
      "260.8.94.109\n"
     ]
    }
   ],
   "source": [
    "# Write your code here\n",
    "ip = \"260.08.094.109\"\n",
    "print('.'.join(part.lstrip('0') for part in ip.split('.')))"
   ]
  },
  {
   "cell_type": "markdown",
   "metadata": {
    "colab_type": "text",
    "id": "PXRjaHzrfKAy"
   },
   "source": [
    "## 2.2 Write a Python Program to extract all the years from the following sentence. (4 points)\n",
    "\n",
    "sentence = \"The 2010s were a dramatic decade, filled with ups and downs, more than 1000 stroies have happened. As the decade comes to a close, Insider took a look back at some of the biggest headline-grabbing stories, from 2010 to 2019. The result was 119 news stories that ranged from the heartwarming rescue of a Thai boys' soccer team from a flooded cave to the divisive election of President Donald Trump.\""
   ]
  },
  {
   "cell_type": "code",
   "execution_count": 72,
   "metadata": {
    "colab": {},
    "colab_type": "code",
    "id": "7xdJpDx9gjbX",
    "scrolled": false
   },
   "outputs": [
    {
     "data": {
      "text/plain": [
       "['2010', '2010', '2019']"
      ]
     },
     "execution_count": 72,
     "metadata": {},
     "output_type": "execute_result"
    }
   ],
   "source": [
    "# Write your code here\n",
    "import re\n",
    "sentence = \"The 2010s were a dramatic decade, filled with ups and downs, more than 1000 stroies have happened. As the decade comes to a close, Insider took a look back at some of the biggest headline-grabbing stories, from 2010 to 2019. The result was 119 news stories that ranged from the heartwarming rescue of a Thai boys' soccer team from a flooded cave to the divisive election of President Donald Trump.\"\n",
    "pattern = re.compile('\\d{4}')\n",
    "[year for year in re.findall(pattern, sentence) if int(year) >2000]"
   ]
  },
  {
   "cell_type": "code",
   "execution_count": null,
   "metadata": {},
   "outputs": [],
   "source": []
  }
 ],
 "metadata": {
  "colab": {
   "authorship_tag": "ABX9TyPBbHN93zlE4UST77Gx/JWu",
   "collapsed_sections": [],
   "include_colab_link": true,
   "name": "In-class-exercise-04.ipynb",
   "provenance": []
  },
  "kernelspec": {
   "display_name": "Python 3",
   "language": "python",
   "name": "python3"
  },
  "language_info": {
   "codemirror_mode": {
    "name": "ipython",
    "version": 3
   },
   "file_extension": ".py",
   "mimetype": "text/x-python",
   "name": "python",
   "nbconvert_exporter": "python",
   "pygments_lexer": "ipython3",
   "version": "3.7.1"
  }
 },
 "nbformat": 4,
 "nbformat_minor": 1
}
